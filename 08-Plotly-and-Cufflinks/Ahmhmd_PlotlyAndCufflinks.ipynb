{
 "cells": [
  {
   "cell_type": "code",
   "execution_count": 1,
   "metadata": {},
   "outputs": [],
   "source": [
    "import pandas as pd\n",
    "import numpy as np"
   ]
  },
  {
   "cell_type": "code",
   "execution_count": 2,
   "metadata": {},
   "outputs": [],
   "source": [
    "from plotly import __version__"
   ]
  },
  {
   "cell_type": "code",
   "execution_count": 3,
   "metadata": {},
   "outputs": [
    {
     "name": "stdout",
     "output_type": "stream",
     "text": [
      "4.10.0\n"
     ]
    }
   ],
   "source": [
    "print(__version__)"
   ]
  },
  {
   "cell_type": "code",
   "execution_count": 4,
   "metadata": {},
   "outputs": [],
   "source": [
    "import cufflinks as cf"
   ]
  },
  {
   "cell_type": "code",
   "execution_count": 5,
   "metadata": {},
   "outputs": [],
   "source": [
    "from plotly.offline import download_plotlyjs,init_notebook_mode,plot,iplot"
   ]
  },
  {
   "cell_type": "code",
   "execution_count": 7,
   "metadata": {},
   "outputs": [
    {
     "data": {
      "text/html": [
       "        <script type=\"text/javascript\">\n",
       "        window.PlotlyConfig = {MathJaxConfig: 'local'};\n",
       "        if (window.MathJax) {MathJax.Hub.Config({SVG: {font: \"STIX-Web\"}});}\n",
       "        if (typeof require !== 'undefined') {\n",
       "        require.undef(\"plotly\");\n",
       "        requirejs.config({\n",
       "            paths: {\n",
       "                'plotly': ['https://cdn.plot.ly/plotly-latest.min']\n",
       "            }\n",
       "        });\n",
       "        require(['plotly'], function(Plotly) {\n",
       "            window._Plotly = Plotly;\n",
       "        });\n",
       "        }\n",
       "        </script>\n",
       "        "
      ]
     },
     "metadata": {},
     "output_type": "display_data"
    }
   ],
   "source": [
    "init_notebook_mode(connected=True)"
   ]
  },
  {
   "cell_type": "code",
   "execution_count": 8,
   "metadata": {},
   "outputs": [
    {
     "data": {
      "text/html": [
       "        <script type=\"text/javascript\">\n",
       "        window.PlotlyConfig = {MathJaxConfig: 'local'};\n",
       "        if (window.MathJax) {MathJax.Hub.Config({SVG: {font: \"STIX-Web\"}});}\n",
       "        if (typeof require !== 'undefined') {\n",
       "        require.undef(\"plotly\");\n",
       "        requirejs.config({\n",
       "            paths: {\n",
       "                'plotly': ['https://cdn.plot.ly/plotly-latest.min']\n",
       "            }\n",
       "        });\n",
       "        require(['plotly'], function(Plotly) {\n",
       "            window._Plotly = Plotly;\n",
       "        });\n",
       "        }\n",
       "        </script>\n",
       "        "
      ]
     },
     "metadata": {},
     "output_type": "display_data"
    }
   ],
   "source": [
    "cf.go_offline()"
   ]
  },
  {
   "cell_type": "code",
   "execution_count": 11,
   "metadata": {},
   "outputs": [],
   "source": [
    "# Data\n",
    "df=pd.DataFrame(np.random.randn(100,4),columns='A B C D'.split())"
   ]
  },
  {
   "cell_type": "code",
   "execution_count": 12,
   "metadata": {},
   "outputs": [
    {
     "data": {
      "text/html": [
       "<div>\n",
       "<style scoped>\n",
       "    .dataframe tbody tr th:only-of-type {\n",
       "        vertical-align: middle;\n",
       "    }\n",
       "\n",
       "    .dataframe tbody tr th {\n",
       "        vertical-align: top;\n",
       "    }\n",
       "\n",
       "    .dataframe thead th {\n",
       "        text-align: right;\n",
       "    }\n",
       "</style>\n",
       "<table border=\"1\" class=\"dataframe\">\n",
       "  <thead>\n",
       "    <tr style=\"text-align: right;\">\n",
       "      <th></th>\n",
       "      <th>A</th>\n",
       "      <th>B</th>\n",
       "      <th>C</th>\n",
       "      <th>D</th>\n",
       "    </tr>\n",
       "  </thead>\n",
       "  <tbody>\n",
       "    <tr>\n",
       "      <td>0</td>\n",
       "      <td>0.581457</td>\n",
       "      <td>0.953340</td>\n",
       "      <td>0.555732</td>\n",
       "      <td>-0.685994</td>\n",
       "    </tr>\n",
       "    <tr>\n",
       "      <td>1</td>\n",
       "      <td>-0.340163</td>\n",
       "      <td>2.091723</td>\n",
       "      <td>0.182837</td>\n",
       "      <td>-0.521466</td>\n",
       "    </tr>\n",
       "    <tr>\n",
       "      <td>2</td>\n",
       "      <td>0.760823</td>\n",
       "      <td>-1.482724</td>\n",
       "      <td>-0.800965</td>\n",
       "      <td>-1.102813</td>\n",
       "    </tr>\n",
       "    <tr>\n",
       "      <td>3</td>\n",
       "      <td>0.236350</td>\n",
       "      <td>-0.745321</td>\n",
       "      <td>-0.832077</td>\n",
       "      <td>-0.131913</td>\n",
       "    </tr>\n",
       "    <tr>\n",
       "      <td>4</td>\n",
       "      <td>-0.569020</td>\n",
       "      <td>0.976147</td>\n",
       "      <td>-0.020288</td>\n",
       "      <td>-0.459402</td>\n",
       "    </tr>\n",
       "    <tr>\n",
       "      <td>...</td>\n",
       "      <td>...</td>\n",
       "      <td>...</td>\n",
       "      <td>...</td>\n",
       "      <td>...</td>\n",
       "    </tr>\n",
       "    <tr>\n",
       "      <td>95</td>\n",
       "      <td>-0.827026</td>\n",
       "      <td>1.592559</td>\n",
       "      <td>0.293910</td>\n",
       "      <td>-0.149175</td>\n",
       "    </tr>\n",
       "    <tr>\n",
       "      <td>96</td>\n",
       "      <td>1.152431</td>\n",
       "      <td>0.090743</td>\n",
       "      <td>-0.078035</td>\n",
       "      <td>-0.731659</td>\n",
       "    </tr>\n",
       "    <tr>\n",
       "      <td>97</td>\n",
       "      <td>-0.651997</td>\n",
       "      <td>1.180133</td>\n",
       "      <td>0.246695</td>\n",
       "      <td>0.452081</td>\n",
       "    </tr>\n",
       "    <tr>\n",
       "      <td>98</td>\n",
       "      <td>0.827286</td>\n",
       "      <td>-0.214703</td>\n",
       "      <td>1.473481</td>\n",
       "      <td>2.276653</td>\n",
       "    </tr>\n",
       "    <tr>\n",
       "      <td>99</td>\n",
       "      <td>0.328427</td>\n",
       "      <td>0.523377</td>\n",
       "      <td>-0.945899</td>\n",
       "      <td>0.230636</td>\n",
       "    </tr>\n",
       "  </tbody>\n",
       "</table>\n",
       "<p>100 rows × 4 columns</p>\n",
       "</div>"
      ],
      "text/plain": [
       "           A         B         C         D\n",
       "0   0.581457  0.953340  0.555732 -0.685994\n",
       "1  -0.340163  2.091723  0.182837 -0.521466\n",
       "2   0.760823 -1.482724 -0.800965 -1.102813\n",
       "3   0.236350 -0.745321 -0.832077 -0.131913\n",
       "4  -0.569020  0.976147 -0.020288 -0.459402\n",
       "..       ...       ...       ...       ...\n",
       "95 -0.827026  1.592559  0.293910 -0.149175\n",
       "96  1.152431  0.090743 -0.078035 -0.731659\n",
       "97 -0.651997  1.180133  0.246695  0.452081\n",
       "98  0.827286 -0.214703  1.473481  2.276653\n",
       "99  0.328427  0.523377 -0.945899  0.230636\n",
       "\n",
       "[100 rows x 4 columns]"
      ]
     },
     "execution_count": 12,
     "metadata": {},
     "output_type": "execute_result"
    }
   ],
   "source": [
    "df"
   ]
  },
  {
   "cell_type": "code",
   "execution_count": 10,
   "metadata": {},
   "outputs": [],
   "source": [
    "df2=pd.DataFrame({'Category':['A','B','C'],'Values':[32,43,50]})"
   ]
  },
  {
   "cell_type": "code",
   "execution_count": 11,
   "metadata": {},
   "outputs": [
    {
     "data": {
      "text/html": [
       "<div>\n",
       "<style scoped>\n",
       "    .dataframe tbody tr th:only-of-type {\n",
       "        vertical-align: middle;\n",
       "    }\n",
       "\n",
       "    .dataframe tbody tr th {\n",
       "        vertical-align: top;\n",
       "    }\n",
       "\n",
       "    .dataframe thead th {\n",
       "        text-align: right;\n",
       "    }\n",
       "</style>\n",
       "<table border=\"1\" class=\"dataframe\">\n",
       "  <thead>\n",
       "    <tr style=\"text-align: right;\">\n",
       "      <th></th>\n",
       "      <th>Category</th>\n",
       "      <th>Values</th>\n",
       "    </tr>\n",
       "  </thead>\n",
       "  <tbody>\n",
       "    <tr>\n",
       "      <td>0</td>\n",
       "      <td>A</td>\n",
       "      <td>32</td>\n",
       "    </tr>\n",
       "    <tr>\n",
       "      <td>1</td>\n",
       "      <td>B</td>\n",
       "      <td>43</td>\n",
       "    </tr>\n",
       "    <tr>\n",
       "      <td>2</td>\n",
       "      <td>C</td>\n",
       "      <td>50</td>\n",
       "    </tr>\n",
       "  </tbody>\n",
       "</table>\n",
       "</div>"
      ],
      "text/plain": [
       "  Category  Values\n",
       "0        A      32\n",
       "1        B      43\n",
       "2        C      50"
      ]
     },
     "execution_count": 11,
     "metadata": {},
     "output_type": "execute_result"
    }
   ],
   "source": [
    "df2"
   ]
  },
  {
   "cell_type": "code",
   "execution_count": 12,
   "metadata": {},
   "outputs": [],
   "source": [
    "df.plot()\n",
    "%matplotlib inline"
   ]
  },
  {
   "cell_type": "code",
   "execution_count": 13,
   "metadata": {},
   "outputs": [
    {
     "data": {
      "text/plain": [
       "<matplotlib.axes._subplots.AxesSubplot at 0xcd63e88>"
      ]
     },
     "execution_count": 13,
     "metadata": {},
     "output_type": "execute_result"
    },
    {
     "data": {
      "image/png": "[encoded data removed]",
      "text/plain": [
       "<Figure size 432x288 with 1 Axes>"
      ]
     },
     "metadata": {
      "needs_background": "light"
     },
     "output_type": "display_data"
    }
   ],
   "source": [
    "df.plot()"
   ]
  },
  {
   "cell_type": "code",
   "execution_count": 14,
   "metadata": {},
   "outputs": [
    {
     "data": {
      "application/vnd.plotly.v1+json": {
       "config": {
        "linkText": "Export to plot.ly",
        "plotlyServerURL": "https://plot.ly",
        "showLink": true
       },
       "data": [
        {
         "line": {
          "color": "rgba(255, 153, 51, 1.0)",
          "dash": "solid",
          "shape": "linear",
          "width": 1.3
         },
         "mode": "lines",
         "name": "A",
         "text": "",
         "type": "scatter",
         "x": [
          0,
          1,
          2,
          3,
          4,
          5,
          6,
          7,
          8,
          9,
          10,
          11,
          12,
          13,
          14,
          15,
          16,
          17,
          18,
          19,
          20,
          21,
          22,
          23,
          24,
          25,
          26,
          27,
          28,
          29,
          30,
          31,
          32,
          33,
          34,
          35,
          36,
          37,
          38,
          39,
          40,
          41,
          42,
          43,
          44,
          45,
          46,
          47,
          48,
          49,
          50,
          51,
          52,
          53,
          54,
          55,
          56,
          57,
          58,
          59,
          60,
          61,
          62,
          63,
          64,
          65,
          66,
          67,
          68,
          69,
          70,
          71,
          72,
          73,
          74,
          75,
          76,
          77,
          78,
          79,
          80,
          81,
          82,
          83,
          84,
          85,
          86,
          87,
          88,
          89,
          90,
          91,
          92,
          93,
          94,
          95,
          96,
          97,
          98,
          99
         ],
         "y": [
          0.5217537784129974,
          0.3309749226115375,
          -1.193876709659765,
          0.44343923119185524,
          -0.18931392017075624,
          0.173205767535824,
          0.696775738847488,
          -2.014191654816539,
          -0.3260508724875542,
          1.7018734448037018,
          -0.3578297915922514,
          0.795878744012465,
          -0.6221105875227282,
          0.1795158852025101,
          -0.5263018890301373,
          -1.6579984218119408,
          1.5734505787806656,
          0.09347039337484478,
          0.22695335836177413,
          1.74135293216879,
          0.8543457987432498,
          1.6668700893834498,
          0.21509981024768562,
          0.05147367659147075,
          0.595348020727714,
          1.3425773565713435,
          0.5056396605572587,
          0.7004964136717756,
          -0.11611198442315279,
          0.7084287321300998,
          -0.7109807917845864,
          0.243838163690604,
          -0.052769434282530246,
          0.65197584784953,
          0.15111623638211763,
          -0.45994422176644884,
          -1.6377125581004068,
          1.6353164567583425,
          -0.02110823435862904,
          0.8662866086795274,
          -0.7992112511748268,
          -1.2091767689531847,
          0.615433464445986,
          -0.6918898665437458,
          -0.22088314776555945,
          -0.36616282407008444,
          1.2391168115335351,
          -0.6051262003388084,
          -1.590191148875863,
          -0.9818480747620559,
          -0.4616387767955757,
          -0.7134294894563353,
          0.07223535070388272,
          0.057558323803864345,
          -0.43681040939791793,
          0.4689372999801223,
          1.502366134331344,
          0.7308934048604777,
          -1.8445348233596541,
          -0.023749777252913405,
          0.07027259389091652,
          0.795641143639049,
          0.14650863736209424,
          -0.289159142974127,
          -1.2748625970110754,
          -0.2774290754016461,
          0.8781245042054561,
          -0.8697236584897804,
          0.07199053776509524,
          -1.757042236586087,
          0.39716974253845905,
          0.1654662688475511,
          -0.33199426676448535,
          0.7744544397767887,
          1.1793804702730013,
          -0.9462622397360114,
          0.7557618474116468,
          -0.5317089300673019,
          0.04458895563719713,
          -0.3484351357629532,
          0.9637309052261983,
          0.5769189564311794,
          0.08063722123130981,
          0.5023295174559748,
          -0.7596996515964047,
          1.4161337913043834,
          1.9283827384775984,
          -1.6721607391450544,
          0.4553713821873685,
          -0.3971879291836942,
          0.17041840171947764,
          -1.1644496531098152,
          0.15295268302093223,
          -0.18904846215760945,
          0.2400629991205869,
          -0.010061126559507024,
          0.8658858707404796,
          1.056913755398305,
          0.862841462797941,
          0.47176134545444554
         ]
        },
        {
         "line": {
          "color": "rgba(55, 128, 191, 1.0)",
          "dash": "solid",
          "shape": "linear",
          "width": 1.3
         },
         "mode": "lines",
         "name": "B",
         "text": "",
         "type": "scatter",
         "x": [
          0,
          1,
          2,
          3,
          4,
          5,
          6,
          7,
          8,
          9,
          10,
          11,
          12,
          13,
          14,
          15,
          16,
          17,
          18,
          19,
          20,
          21,
          22,
          23,
          24,
          25,
          26,
          27,
          28,
          29,
          30,
          31,
          32,
          33,
          34,
          35,
          36,
          37,
          38,
          39,
          40,
          41,
          42,
          43,
          44,
          45,
          46,
          47,
          48,
          49,
          50,
          51,
          52,
          53,
          54,
          55,
          56,
          57,
          58,
          59,
          60,
          61,
          62,
          63,
          64,
          65,
          66,
          67,
          68,
          69,
          70,
          71,
          72,
          73,
          74,
          75,
          76,
          77,
          78,
          79,
          80,
          81,
          82,
          83,
          84,
          85,
          86,
          87,
          88,
          89,
          90,
          91,
          92,
          93,
          94,
          95,
          96,
          97,
          98,
          99
         ],
         "y": [
          -0.39261445799361727,
          0.22580367056171108,
          0.25483863748102475,
          0.9905938087654146,
          -0.3454489749148752,
          0.5862541601958202,
          0.04228997696170449,
          -1.5099138219153663,
          -1.4985134831759215,
          0.09468800407249342,
          -0.6529428511506372,
          0.11140377407013143,
          0.2986561002471471,
          -0.6958738060209194,
          1.6280048100235736,
          -1.4414780265052891,
          -1.0091162361804633,
          -0.4358346913952342,
          0.9644518693267125,
          1.339378202043062,
          -1.009276170450571,
          0.355374750343669,
          2.4613393443673854,
          1.1250694379563946,
          -0.3101218143757754,
          0.21931795568428836,
          -1.1034092566915703,
          0.34792501227665257,
          0.5640927383340527,
          2.005692956097845,
          -1.3763340171658087,
          -0.5516546832432645,
          -0.4322623433505339,
          -1.4069669300676437,
          0.9925196666613212,
          -0.3174599626785784,
          -1.402277482694772,
          1.5941004088534267,
          -0.20902468508344935,
          1.7723686071566995,
          1.0255780072645866,
          0.3611684560390772,
          -0.9876425439197813,
          2.0634227790927873,
          0.5808836005391271,
          2.085501418876228,
          -0.1669861926278503,
          2.4188376530846787,
          -1.7854249534372195,
          -2.0250332266149442,
          -0.54463884665561,
          0.990855608274131,
          -1.4367068235569664,
          -0.4429595086434903,
          0.2807870731341278,
          -1.2933742820918692,
          -0.1556993337542278,
          -1.1504599947642138,
          0.6624811468344771,
          -0.9756259309342289,
          0.8167384140483486,
          -0.5345985813863435,
          -0.27727702113759906,
          0.19310545663846124,
          -1.532902312679032,
          -0.028100975887289895,
          -1.9959810670789664,
          0.2243920084584965,
          -0.6600578441118969,
          1.3352710743039025,
          -1.398424039696386,
          0.8462771387518341,
          0.11236464635976393,
          -0.15515819132980102,
          1.3302994525696428,
          -0.5868131798941717,
          1.3234568595593719,
          0.8499332074462286,
          -0.08224166207067568,
          0.6328294865034617,
          0.06679708452559546,
          -0.23350689690678816,
          -2.7527613522856362,
          0.9548230886533037,
          -0.5190830632490822,
          -0.42926880006980395,
          0.236960866081998,
          -1.9304304156678027,
          0.5350138717457857,
          -0.6962587707076815,
          -0.1957102445287146,
          -1.3072663184338325,
          -0.10554726253657928,
          0.20192027205191437,
          -0.3790196316097984,
          -0.47639675723883623,
          -0.2596209420386043,
          1.4129214345638288,
          1.215471680596547,
          -1.0518754451458192
         ]
        },
        {
         "line": {
          "color": "rgba(50, 171, 96, 1.0)",
          "dash": "solid",
          "shape": "linear",
          "width": 1.3
         },
         "mode": "lines",
         "name": "C",
         "text": "",
         "type": "scatter",
         "x": [
          0,
          1,
          2,
          3,
          4,
          5,
          6,
          7,
          8,
          9,
          10,
          11,
          12,
          13,
          14,
          15,
          16,
          17,
          18,
          19,
          20,
          21,
          22,
          23,
          24,
          25,
          26,
          27,
          28,
          29,
          30,
          31,
          32,
          33,
          34,
          35,
          36,
          37,
          38,
          39,
          40,
          41,
          42,
          43,
          44,
          45,
          46,
          47,
          48,
          49,
          50,
          51,
          52,
          53,
          54,
          55,
          56,
          57,
          58,
          59,
          60,
          61,
          62,
          63,
          64,
          65,
          66,
          67,
          68,
          69,
          70,
          71,
          72,
          73,
          74,
          75,
          76,
          77,
          78,
          79,
          80,
          81,
          82,
          83,
          84,
          85,
          86,
          87,
          88,
          89,
          90,
          91,
          92,
          93,
          94,
          95,
          96,
          97,
          98,
          99
         ],
         "y": [
          -0.5314652877495902,
          2.2186474760330563,
          -0.6389682720126716,
          1.3793555469949645,
          0.1645065101816152,
          0.8429482043939898,
          -0.020441894851906117,
          1.0039693363469748,
          0.2644494966560863,
          -0.6277884709802357,
          0.9396227469133503,
          0.7169980627028582,
          0.23737090856245152,
          1.7462968082547403,
          -0.8154127844004201,
          -1.5939071468516273,
          0.2653426342888696,
          -2.2057132597745017,
          0.18843501983927433,
          0.2533201514329437,
          -0.481776439793337,
          1.2604071475703236,
          0.03342545347522977,
          -1.0255820892293614,
          1.049403871745054,
          -0.5449269397249219,
          0.6927506838105815,
          0.8569045690829772,
          0.6960801094805269,
          0.41228120735289325,
          -0.5347954717069701,
          0.6525900328951344,
          -0.9031621695336286,
          -0.7771738316054332,
          -0.4608559749506431,
          -1.873812720261879,
          1.451550493126228,
          -0.3464470009976206,
          1.2972655948243323,
          -1.462934082674206,
          1.5889668475082657,
          -1.1804747958493478,
          0.14736945716833635,
          -0.7217551180817706,
          0.486407896985243,
          2.5557679354654517,
          0.9266858465700915,
          1.047813987372427,
          0.46411143353768314,
          -0.7232162319933524,
          -0.6289775250999133,
          -1.1645792924981966,
          0.75643643351788,
          -0.8594027664490006,
          0.0008668968465360472,
          -1.3856077357804701,
          0.14448886537292585,
          -1.6025002278390523,
          0.9195575608631161,
          -0.17469686289299635,
          -1.367049261635498,
          -0.27590249827233715,
          -0.9119076275662321,
          1.3073348052081717,
          0.8198468187216309,
          0.6346908590004512,
          0.35686053181505784,
          0.706366878137112,
          -2.060526063616883,
          -0.5532522643764815,
          -0.04314602830520446,
          -0.30337006507846476,
          1.3711763571046398,
          0.4965487424074641,
          1.0483377991076952,
          -0.7306042704368239,
          -1.767726526012954,
          -0.22378833249331728,
          1.601121309317086,
          0.8828103257648692,
          0.1826898270480904,
          -1.5991846579476228,
          0.6064089004607497,
          0.7304265150271423,
          -1.0517525399387608,
          0.2511415655874058,
          1.2509386690441953,
          -0.5627840069345255,
          1.6852116648377633,
          -0.11024553099954161,
          -0.7630707594050132,
          0.3296679782933773,
          1.3684849781430115,
          0.27698460569843913,
          0.7056148743119981,
          -0.10728295357837499,
          -0.3259299468930852,
          -0.18231346193029901,
          -1.4556732879652434,
          -0.6220954124482995
         ]
        },
        {
         "line": {
          "color": "rgba(128, 0, 128, 1.0)",
          "dash": "solid",
          "shape": "linear",
          "width": 1.3
         },
         "mode": "lines",
         "name": "D",
         "text": "",
         "type": "scatter",
         "x": [
          0,
          1,
          2,
          3,
          4,
          5,
          6,
          7,
          8,
          9,
          10,
          11,
          12,
          13,
          14,
          15,
          16,
          17,
          18,
          19,
          20,
          21,
          22,
          23,
          24,
          25,
          26,
          27,
          28,
          29,
          30,
          31,
          32,
          33,
          34,
          35,
          36,
          37,
          38,
          39,
          40,
          41,
          42,
          43,
          44,
          45,
          46,
          47,
          48,
          49,
          50,
          51,
          52,
          53,
          54,
          55,
          56,
          57,
          58,
          59,
          60,
          61,
          62,
          63,
          64,
          65,
          66,
          67,
          68,
          69,
          70,
          71,
          72,
          73,
          74,
          75,
          76,
          77,
          78,
          79,
          80,
          81,
          82,
          83,
          84,
          85,
          86,
          87,
          88,
          89,
          90,
          91,
          92,
          93,
          94,
          95,
          96,
          97,
          98,
          99
         ],
         "y": [
          0.6778729725043644,
          1.8059030764379598,
          -0.8427894394917019,
          0.7028364071414452,
          0.825571631036336,
          1.2051120547600316,
          0.7244139364195797,
          -1.3559348657071273,
          0.308024975632527,
          1.5983724409903277,
          -0.6576379587296303,
          0.7993403925019309,
          -2.053115218099911,
          0.2646019343945171,
          0.08754753975747707,
          -1.2427612499539613,
          1.4754629908026846,
          -1.4811321630576677,
          -0.7594373064233083,
          -0.12750497178924067,
          -0.9268168563442297,
          0.5974046066257698,
          -0.24292065362520213,
          -0.9649714681828205,
          -0.8750636064485101,
          0.9197750708901921,
          -0.7480168853760317,
          -0.21328878614093316,
          -0.07067969844926104,
          -0.27659078776879303,
          -0.1539470600069913,
          -1.4364152652969937,
          0.6215680045149821,
          -0.48656860575540056,
          0.5860063525576973,
          1.9532791720799327,
          -0.3104503972645789,
          -1.3654328722807976,
          -1.849019483939876,
          -0.09336559614620331,
          0.13796389663084496,
          -2.3368087222436547,
          -0.6740237740011111,
          -0.38813886664316555,
          -1.9610870166233894,
          1.3395529043070529,
          -1.250301608200872,
          -0.9509762415784829,
          0.4956869652378916,
          -1.652979492017329,
          0.7965335618604886,
          0.15634707733563813,
          -0.19479389896442964,
          -1.227555406619242,
          -0.5148957417108884,
          0.40242052930592775,
          -0.6158801987936839,
          1.177784819208276,
          0.11262827876844117,
          -0.4843349673116165,
          0.2945782550901206,
          -0.934384920930522,
          1.3574266011483518,
          -0.7294098196699667,
          0.7694541209231814,
          -0.3072129719491864,
          -0.6898730900175366,
          0.5616101475751268,
          1.0608130901361357,
          0.3365113202896197,
          0.802895786173727,
          1.1807526832244597,
          1.4797589854368138,
          -1.6835543921364118,
          -2.3973178545282576,
          -0.07729738106454107,
          -1.4423464202587457,
          -0.8575416103465401,
          -0.39840166643721536,
          -0.06541299297405546,
          -0.07624090039277232,
          -0.24922141663777242,
          1.9727778289235816,
          -0.3232704694600576,
          -0.6814286088775799,
          0.46580194086213295,
          0.9803989561322469,
          -1.4079738707164426,
          0.8443446110505288,
          -1.5775361603642126,
          -0.4947820803002275,
          0.70008140358095,
          -0.8521409087449835,
          0.35206004338908614,
          0.11794839018660937,
          -1.8289443292834922,
          -0.4425082344438239,
          -1.220386257042587,
          -0.23203980086744277,
          1.2682405988455958
         ]
        }
       ],
       "layout": {
        "legend": {
         "bgcolor": "#F5F6F9",
         "font": {
          "color": "#4D5663"
         }
        },
        "paper_bgcolor": "#F5F6F9",
        "plot_bgcolor": "#F5F6F9",
        "template": {
         "data": {
          "bar": [
           {
            "error_x": {
             "color": "#2a3f5f"
            },
            "error_y": {
             "color": "#2a3f5f"
            },
            "marker": {
             "line": {
              "color": "#E5ECF6",
              "width": 0.5
             }
            },
            "type": "bar"
           }
          ],
          "barpolar": [
           {
            "marker": {
             "line": {
              "color": "#E5ECF6",
              "width": 0.5
             }
            },
            "type": "barpolar"
           }
          ],
          "carpet": [
           {
            "aaxis": {
             "endlinecolor": "#2a3f5f",
             "gridcolor": "white",
             "linecolor": "white",
             "minorgridcolor": "white",
             "startlinecolor": "#2a3f5f"
            },
            "baxis": {
             "endlinecolor": "#2a3f5f",
             "gridcolor": "white",
             "linecolor": "white",
             "minorgridcolor": "white",
             "startlinecolor": "#2a3f5f"
            },
            "type": "carpet"
           }
          ],
          "choropleth": [
           {
            "colorbar": {
             "outlinewidth": 0,
             "ticks": ""
            },
            "type": "choropleth"
           }
          ],
          "contour": [
           {
            "colorbar": {
             "outlinewidth": 0,
             "ticks": ""
            },
            "colorscale": [
             [
              0,
              "#0d0887"
             ],
             [
              0.1111111111111111,
              "#46039f"
             ],
             [
              0.2222222222222222,
              "#7201a8"
             ],
             [
              0.3333333333333333,
              "#9c179e"
             ],
             [
              0.4444444444444444,
              "#bd3786"
             ],
             [
              0.5555555555555556,
              "#d8576b"
             ],
             [
              0.6666666666666666,
              "#ed7953"
             ],
             [
              0.7777777777777778,
              "#fb9f3a"
             ],
             [
              0.8888888888888888,
              "#fdca26"
             ],
             [
              1,
              "#f0f921"
             ]
            ],
            "type": "contour"
           }
          ],
          "contourcarpet": [
           {
            "colorbar": {
             "outlinewidth": 0,
             "ticks": ""
            },
            "type": "contourcarpet"
           }
          ],
          "heatmap": [
           {
            "colorbar": {
             "outlinewidth": 0,
             "ticks": ""
            },
            "colorscale": [
             [
              0,
              "#0d0887"
             ],
             [
              0.1111111111111111,
              "#46039f"
             ],
             [
              0.2222222222222222,
              "#7201a8"
             ],
             [
              0.3333333333333333,
              "#9c179e"
             ],
             [
              0.4444444444444444,
              "#bd3786"
             ],
             [
              0.5555555555555556,
              "#d8576b"
             ],
             [
              0.6666666666666666,
              "#ed7953"
             ],
             [
              0.7777777777777778,
              "#fb9f3a"
             ],
             [
              0.8888888888888888,
              "#fdca26"
             ],
             [
              1,
              "#f0f921"
             ]
            ],
            "type": "heatmap"
           }
          ],
          "heatmapgl": [
           {
            "colorbar": {
             "outlinewidth": 0,
             "ticks": ""
            },
            "colorscale": [
             [
              0,
              "#0d0887"
             ],
             [
              0.1111111111111111,
              "#46039f"
             ],
             [
              0.2222222222222222,
              "#7201a8"
             ],
             [
              0.3333333333333333,
              "#9c179e"
             ],
             [
              0.4444444444444444,
              "#bd3786"
             ],
             [
              0.5555555555555556,
              "#d8576b"
             ],
             [
              0.6666666666666666,
              "#ed7953"
             ],
             [
              0.7777777777777778,
              "#fb9f3a"
             ],
             [
              0.8888888888888888,
              "#fdca26"
             ],
             [
              1,
              "#f0f921"
             ]
            ],
            "type": "heatmapgl"
           }
          ],
          "histogram": [
           {
            "marker": {
             "colorbar": {
              "outlinewidth": 0,
              "ticks": ""
             }
            },
            "type": "histogram"
           }
          ],
          "histogram2d": [
           {
            "colorbar": {
             "outlinewidth": 0,
             "ticks": ""
            },
            "colorscale": [
             [
              0,
              "#0d0887"
             ],
             [
              0.1111111111111111,
              "#46039f"
             ],
             [
              0.2222222222222222,
              "#7201a8"
             ],
             [
              0.3333333333333333,
              "#9c179e"
             ],
             [
              0.4444444444444444,
              "#bd3786"
             ],
             [
              0.5555555555555556,
              "#d8576b"
             ],
             [
              0.6666666666666666,
              "#ed7953"
             ],
             [
              0.7777777777777778,
              "#fb9f3a"
             ],
             [
              0.8888888888888888,
              "#fdca26"
             ],
             [
              1,
              "#f0f921"
             ]
            ],
            "type": "histogram2d"
           }
          ],
          "histogram2dcontour": [
           {
            "colorbar": {
             "outlinewidth": 0,
             "ticks": ""
            },
            "colorscale": [
             [
              0,
              "#0d0887"
             ],
             [
              0.1111111111111111,
              "#46039f"
             ],
             [
              0.2222222222222222,
              "#7201a8"
             ],
             [
              0.3333333333333333,
              "#9c179e"
             ],
             [
              0.4444444444444444,
              "#bd3786"
             ],
             [
              0.5555555555555556,
              "#d8576b"
             ],
             [
              0.6666666666666666,
              "#ed7953"
             ],
             [
              0.7777777777777778,
              "#fb9f3a"
             ],
             [
              0.8888888888888888,
              "#fdca26"
             ],
             [
              1,
              "#f0f921"
             ]
            ],
            "type": "histogram2dcontour"
           }
          ],
          "mesh3d": [
           {
            "colorbar": {
             "outlinewidth": 0,
             "ticks": ""
            },
            "type": "mesh3d"
           }
          ],
          "parcoords": [
           {
            "line": {
             "colorbar": {
              "outlinewidth": 0,
              "ticks": ""
             }
            },
            "type": "parcoords"
           }
          ],
          "pie": [
           {
            "automargin": true,
            "type": "pie"
           }
          ],
          "scatter": [
           {
            "marker": {
             "colorbar": {
              "outlinewidth": 0,
              "ticks": ""
             }
            },
            "type": "scatter"
           }
          ],
          "scatter3d": [
           {
            "line": {
             "colorbar": {
              "outlinewidth": 0,
              "ticks": ""
             }
            },
            "marker": {
             "colorbar": {
              "outlinewidth": 0,
              "ticks": ""
             }
            },
            "type": "scatter3d"
           }
          ],
          "scattercarpet": [
           {
            "marker": {
             "colorbar": {
              "outlinewidth": 0,
              "ticks": ""
             }
            },
            "type": "scattercarpet"
           }
          ],
          "scattergeo": [
           {
            "marker": {
             "colorbar": {
              "outlinewidth": 0,
              "ticks": ""
             }
            },
            "type": "scattergeo"
           }
          ],
          "scattergl": [
           {
            "marker": {
             "colorbar": {
              "outlinewidth": 0,
              "ticks": ""
             }
            },
            "type": "scattergl"
           }
          ],
          "scattermapbox": [
           {
            "marker": {
             "colorbar": {
              "outlinewidth": 0,
              "ticks": ""
             }
            },
            "type": "scattermapbox"
           }
          ],
          "scatterpolar": [
           {
            "marker": {
             "colorbar": {
              "outlinewidth": 0,
              "ticks": ""
             }
            },
            "type": "scatterpolar"
           }
          ],
          "scatterpolargl": [
           {
            "marker": {
             "colorbar": {
              "outlinewidth": 0,
              "ticks": ""
             }
            },
            "type": "scatterpolargl"
           }
          ],
          "scatterternary": [
           {
            "marker": {
             "colorbar": {
              "outlinewidth": 0,
              "ticks": ""
             }
            },
            "type": "scatterternary"
           }
          ],
          "surface": [
           {
            "colorbar": {
             "outlinewidth": 0,
             "ticks": ""
            },
            "colorscale": [
             [
              0,
              "#0d0887"
             ],
             [
              0.1111111111111111,
              "#46039f"
             ],
             [
              0.2222222222222222,
              "#7201a8"
             ],
             [
              0.3333333333333333,
              "#9c179e"
             ],
             [
              0.4444444444444444,
              "#bd3786"
             ],
             [
              0.5555555555555556,
              "#d8576b"
             ],
             [
              0.6666666666666666,
              "#ed7953"
             ],
             [
              0.7777777777777778,
              "#fb9f3a"
             ],
             [
              0.8888888888888888,
              "#fdca26"
             ],
             [
              1,
              "#f0f921"
             ]
            ],
            "type": "surface"
           }
          ],
          "table": [
           {
            "cells": {
             "fill": {
              "color": "#EBF0F8"
             },
             "line": {
              "color": "white"
             }
            },
            "header": {
             "fill": {
              "color": "#C8D4E3"
             },
             "line": {
              "color": "white"
             }
            },
            "type": "table"
           }
          ]
         },
         "layout": {
          "annotationdefaults": {
           "arrowcolor": "#2a3f5f",
           "arrowhead": 0,
           "arrowwidth": 1
          },
          "coloraxis": {
           "colorbar": {
            "outlinewidth": 0,
            "ticks": ""
           }
          },
          "colorscale": {
           "diverging": [
            [
             0,
             "#8e0152"
            ],
            [
             0.1,
             "#c51b7d"
            ],
            [
             0.2,
             "#de77ae"
            ],
            [
             0.3,
             "#f1b6da"
            ],
            [
             0.4,
             "#fde0ef"
            ],
            [
             0.5,
             "#f7f7f7"
            ],
            [
             0.6,
             "#e6f5d0"
            ],
            [
             0.7,
             "#b8e186"
            ],
            [
             0.8,
             "#7fbc41"
            ],
            [
             0.9,
             "#4d9221"
            ],
            [
             1,
             "#276419"
            ]
           ],
           "sequential": [
            [
             0,
             "#0d0887"
            ],
            [
             0.1111111111111111,
             "#46039f"
            ],
            [
             0.2222222222222222,
             "#7201a8"
            ],
            [
             0.3333333333333333,
             "#9c179e"
            ],
            [
             0.4444444444444444,
             "#bd3786"
            ],
            [
             0.5555555555555556,
             "#d8576b"
            ],
            [
             0.6666666666666666,
             "#ed7953"
            ],
            [
             0.7777777777777778,
             "#fb9f3a"
            ],
            [
             0.8888888888888888,
             "#fdca26"
            ],
            [
             1,
             "#f0f921"
            ]
           ],
           "sequentialminus": [
            [
             0,
             "#0d0887"
            ],
            [
             0.1111111111111111,
             "#46039f"
            ],
            [
             0.2222222222222222,
             "#7201a8"
            ],
            [
             0.3333333333333333,
             "#9c179e"
            ],
            [
             0.4444444444444444,
             "#bd3786"
            ],
            [
             0.5555555555555556,
             "#d8576b"
            ],
            [
             0.6666666666666666,
             "#ed7953"
            ],
            [
             0.7777777777777778,
             "#fb9f3a"
            ],
            [
             0.8888888888888888,
             "#fdca26"
            ],
            [
             1,
             "#f0f921"
            ]
           ]
          },
          "colorway": [
           "#636efa",
           "#EF553B",
           "#00cc96",
           "#ab63fa",
           "#FFA15A",
           "#19d3f3",
           "#FF6692",
           "#B6E880",
           "#FF97FF",
           "#FECB52"
          ],
          "font": {
           "color": "#2a3f5f"
          },
          "geo": {
           "bgcolor": "white",
           "lakecolor": "white",
           "landcolor": "#E5ECF6",
           "showlakes": true,
           "showland": true,
           "subunitcolor": "white"
          },
          "hoverlabel": {
           "align": "left"
          },
          "hovermode": "closest",
          "mapbox": {
           "style": "light"
          },
          "paper_bgcolor": "white",
          "plot_bgcolor": "#E5ECF6",
          "polar": {
           "angularaxis": {
            "gridcolor": "white",
            "linecolor": "white",
            "ticks": ""
           },
           "bgcolor": "#E5ECF6",
           "radialaxis": {
            "gridcolor": "white",
            "linecolor": "white",
            "ticks": ""
           }
          },
          "scene": {
           "xaxis": {
            "backgroundcolor": "#E5ECF6",
            "gridcolor": "white",
            "gridwidth": 2,
            "linecolor": "white",
            "showbackground": true,
            "ticks": "",
            "zerolinecolor": "white"
           },
           "yaxis": {
            "backgroundcolor": "#E5ECF6",
            "gridcolor": "white",
            "gridwidth": 2,
            "linecolor": "white",
            "showbackground": true,
            "ticks": "",
            "zerolinecolor": "white"
           },
           "zaxis": {
            "backgroundcolor": "#E5ECF6",
            "gridcolor": "white",
            "gridwidth": 2,
            "linecolor": "white",
            "showbackground": true,
            "ticks": "",
            "zerolinecolor": "white"
           }
          },
          "shapedefaults": {
           "line": {
            "color": "#2a3f5f"
           }
          },
          "ternary": {
           "aaxis": {
            "gridcolor": "white",
            "linecolor": "white",
            "ticks": ""
           },
           "baxis": {
            "gridcolor": "white",
            "linecolor": "white",
            "ticks": ""
           },
           "bgcolor": "#E5ECF6",
           "caxis": {
            "gridcolor": "white",
            "linecolor": "white",
            "ticks": ""
           }
          },
          "title": {
           "x": 0.05
          },
          "xaxis": {
           "automargin": true,
           "gridcolor": "white",
           "linecolor": "white",
           "ticks": "",
           "title": {
            "standoff": 15
           },
           "zerolinecolor": "white",
           "zerolinewidth": 2
          },
          "yaxis": {
           "automargin": true,
           "gridcolor": "white",
           "linecolor": "white",
           "ticks": "",
           "title": {
            "standoff": 15
           },
           "zerolinecolor": "white",
           "zerolinewidth": 2
          }
         }
        },
        "title": {
         "font": {
          "color": "#4D5663"
         }
        },
        "xaxis": {
         "gridcolor": "#E1E5ED",
         "showgrid": true,
         "tickfont": {
          "color": "#4D5663"
         },
         "title": {
          "font": {
           "color": "#4D5663"
          },
          "text": ""
         },
         "zerolinecolor": "#E1E5ED"
        },
        "yaxis": {
         "gridcolor": "#E1E5ED",
         "showgrid": true,
         "tickfont": {
          "color": "#4D5663"
         },
         "title": {
          "font": {
           "color": "#4D5663"
          },
          "text": ""
         },
         "zerolinecolor": "#E1E5ED"
        }
       }
      },
      "text/html": [
       "<div>                            <div id=\"cbffb218-43b8-4769-9e2e-9d245daba193\" class=\"plotly-graph-div\" style=\"height:525px; width:100%;\"></div>            <script type=\"text/javascript\">                require([\"plotly\"], function(Plotly) {                    window.PLOTLYENV=window.PLOTLYENV || {};\n",
       "                    window.PLOTLYENV.BASE_URL='https://plot.ly';                                    if (document.getElementById(\"cbffb218-43b8-4769-9e2e-9d245daba193\")) {                    Plotly.newPlot(                        \"cbffb218-43b8-4769-9e2e-9d245daba193\",                        [{\"line\": {\"color\": \"rgba(255, 153, 51, 1.0)\", \"dash\": \"solid\", \"shape\": \"linear\", \"width\": 1.3}, \"mode\": \"lines\", \"name\": \"A\", \"text\": \"\", \"type\": \"scatter\", \"x\": [0, 1, 2, 3, 4, 5, 6, 7, 8, 9, 10, 11, 12, 13, 14, 15, 16, 17, 18, 19, 20, 21, 22, 23, 24, 25, 26, 27, 28, 29, 30, 31, 32, 33, 34, 35, 36, 37, 38, 39, 40, 41, 42, 43, 44, 45, 46, 47, 48, 49, 50, 51, 52, 53, 54, 55, 56, 57, 58, 59, 60, 61, 62, 63, 64, 65, 66, 67, 68, 69, 70, 71, 72, 73, 74, 75, 76, 77, 78, 79, 80, 81, 82, 83, 84, 85, 86, 87, 88, 89, 90, 91, 92, 93, 94, 95, 96, 97, 98, 99], \"y\": [0.5217537784129974, 0.3309749226115375, -1.193876709659765, 0.44343923119185524, -0.18931392017075624, 0.173205767535824, 0.696775738847488, -2.014191654816539, -0.3260508724875542, 1.7018734448037018, -0.3578297915922514, 0.795878744012465, -0.6221105875227282, 0.1795158852025101, -0.5263018890301373, -1.6579984218119408, 1.5734505787806656, 0.09347039337484478, 0.22695335836177413, 1.74135293216879, 0.8543457987432498, 1.6668700893834498, 0.21509981024768562, 0.05147367659147075, 0.595348020727714, 1.3425773565713435, 0.5056396605572587, 0.7004964136717756, -0.11611198442315279, 0.7084287321300998, -0.7109807917845864, 0.243838163690604, -0.052769434282530246, 0.65197584784953, 0.15111623638211763, -0.45994422176644884, -1.6377125581004068, 1.6353164567583425, -0.02110823435862904, 0.8662866086795274, -0.7992112511748268, -1.2091767689531847, 0.615433464445986, -0.6918898665437458, -0.22088314776555945, -0.36616282407008444, 1.2391168115335351, -0.6051262003388084, -1.590191148875863, -0.9818480747620559, -0.4616387767955757, -0.7134294894563353, 0.07223535070388272, 0.057558323803864345, -0.43681040939791793, 0.4689372999801223, 1.502366134331344, 0.7308934048604777, -1.8445348233596541, -0.023749777252913405, 0.07027259389091652, 0.795641143639049, 0.14650863736209424, -0.289159142974127, -1.2748625970110754, -0.2774290754016461, 0.8781245042054561, -0.8697236584897804, 0.07199053776509524, -1.757042236586087, 0.39716974253845905, 0.1654662688475511, -0.33199426676448535, 0.7744544397767887, 1.1793804702730013, -0.9462622397360114, 0.7557618474116468, -0.5317089300673019, 0.04458895563719713, -0.3484351357629532, 0.9637309052261983, 0.5769189564311794, 0.08063722123130981, 0.5023295174559748, -0.7596996515964047, 1.4161337913043834, 1.9283827384775984, -1.6721607391450544, 0.4553713821873685, -0.3971879291836942, 0.17041840171947764, -1.1644496531098152, 0.15295268302093223, -0.18904846215760945, 0.2400629991205869, -0.010061126559507024, 0.8658858707404796, 1.056913755398305, 0.862841462797941, 0.47176134545444554]}, {\"line\": {\"color\": \"rgba(55, 128, 191, 1.0)\", \"dash\": \"solid\", \"shape\": \"linear\", \"width\": 1.3}, \"mode\": \"lines\", \"name\": \"B\", \"text\": \"\", \"type\": \"scatter\", \"x\": [0, 1, 2, 3, 4, 5, 6, 7, 8, 9, 10, 11, 12, 13, 14, 15, 16, 17, 18, 19, 20, 21, 22, 23, 24, 25, 26, 27, 28, 29, 30, 31, 32, 33, 34, 35, 36, 37, 38, 39, 40, 41, 42, 43, 44, 45, 46, 47, 48, 49, 50, 51, 52, 53, 54, 55, 56, 57, 58, 59, 60, 61, 62, 63, 64, 65, 66, 67, 68, 69, 70, 71, 72, 73, 74, 75, 76, 77, 78, 79, 80, 81, 82, 83, 84, 85, 86, 87, 88, 89, 90, 91, 92, 93, 94, 95, 96, 97, 98, 99], \"y\": [-0.39261445799361727, 0.22580367056171108, 0.25483863748102475, 0.9905938087654146, -0.3454489749148752, 0.5862541601958202, 0.04228997696170449, -1.5099138219153663, -1.4985134831759215, 0.09468800407249342, -0.6529428511506372, 0.11140377407013143, 0.2986561002471471, -0.6958738060209194, 1.6280048100235736, -1.4414780265052891, -1.0091162361804633, -0.4358346913952342, 0.9644518693267125, 1.339378202043062, -1.009276170450571, 0.355374750343669, 2.4613393443673854, 1.1250694379563946, -0.3101218143757754, 0.21931795568428836, -1.1034092566915703, 0.34792501227665257, 0.5640927383340527, 2.005692956097845, -1.3763340171658087, -0.5516546832432645, -0.4322623433505339, -1.4069669300676437, 0.9925196666613212, -0.3174599626785784, -1.402277482694772, 1.5941004088534267, -0.20902468508344935, 1.7723686071566995, 1.0255780072645866, 0.3611684560390772, -0.9876425439197813, 2.0634227790927873, 0.5808836005391271, 2.085501418876228, -0.1669861926278503, 2.4188376530846787, -1.7854249534372195, -2.0250332266149442, -0.54463884665561, 0.990855608274131, -1.4367068235569664, -0.4429595086434903, 0.2807870731341278, -1.2933742820918692, -0.1556993337542278, -1.1504599947642138, 0.6624811468344771, -0.9756259309342289, 0.8167384140483486, -0.5345985813863435, -0.27727702113759906, 0.19310545663846124, -1.532902312679032, -0.028100975887289895, -1.9959810670789664, 0.2243920084584965, -0.6600578441118969, 1.3352710743039025, -1.398424039696386, 0.8462771387518341, 0.11236464635976393, -0.15515819132980102, 1.3302994525696428, -0.5868131798941717, 1.3234568595593719, 0.8499332074462286, -0.08224166207067568, 0.6328294865034617, 0.06679708452559546, -0.23350689690678816, -2.7527613522856362, 0.9548230886533037, -0.5190830632490822, -0.42926880006980395, 0.236960866081998, -1.9304304156678027, 0.5350138717457857, -0.6962587707076815, -0.1957102445287146, -1.3072663184338325, -0.10554726253657928, 0.20192027205191437, -0.3790196316097984, -0.47639675723883623, -0.2596209420386043, 1.4129214345638288, 1.215471680596547, -1.0518754451458192]}, {\"line\": {\"color\": \"rgba(50, 171, 96, 1.0)\", \"dash\": \"solid\", \"shape\": \"linear\", \"width\": 1.3}, \"mode\": \"lines\", \"name\": \"C\", \"text\": \"\", \"type\": \"scatter\", \"x\": [0, 1, 2, 3, 4, 5, 6, 7, 8, 9, 10, 11, 12, 13, 14, 15, 16, 17, 18, 19, 20, 21, 22, 23, 24, 25, 26, 27, 28, 29, 30, 31, 32, 33, 34, 35, 36, 37, 38, 39, 40, 41, 42, 43, 44, 45, 46, 47, 48, 49, 50, 51, 52, 53, 54, 55, 56, 57, 58, 59, 60, 61, 62, 63, 64, 65, 66, 67, 68, 69, 70, 71, 72, 73, 74, 75, 76, 77, 78, 79, 80, 81, 82, 83, 84, 85, 86, 87, 88, 89, 90, 91, 92, 93, 94, 95, 96, 97, 98, 99], \"y\": [-0.5314652877495902, 2.2186474760330563, -0.6389682720126716, 1.3793555469949645, 0.1645065101816152, 0.8429482043939898, -0.020441894851906117, 1.0039693363469748, 0.2644494966560863, -0.6277884709802357, 0.9396227469133503, 0.7169980627028582, 0.23737090856245152, 1.7462968082547403, -0.8154127844004201, -1.5939071468516273, 0.2653426342888696, -2.2057132597745017, 0.18843501983927433, 0.2533201514329437, -0.481776439793337, 1.2604071475703236, 0.03342545347522977, -1.0255820892293614, 1.049403871745054, -0.5449269397249219, 0.6927506838105815, 0.8569045690829772, 0.6960801094805269, 0.41228120735289325, -0.5347954717069701, 0.6525900328951344, -0.9031621695336286, -0.7771738316054332, -0.4608559749506431, -1.873812720261879, 1.451550493126228, -0.3464470009976206, 1.2972655948243323, -1.462934082674206, 1.5889668475082657, -1.1804747958493478, 0.14736945716833635, -0.7217551180817706, 0.486407896985243, 2.5557679354654517, 0.9266858465700915, 1.047813987372427, 0.46411143353768314, -0.7232162319933524, -0.6289775250999133, -1.1645792924981966, 0.75643643351788, -0.8594027664490006, 0.0008668968465360472, -1.3856077357804701, 0.14448886537292585, -1.6025002278390523, 0.9195575608631161, -0.17469686289299635, -1.367049261635498, -0.27590249827233715, -0.9119076275662321, 1.3073348052081717, 0.8198468187216309, 0.6346908590004512, 0.35686053181505784, 0.706366878137112, -2.060526063616883, -0.5532522643764815, -0.04314602830520446, -0.30337006507846476, 1.3711763571046398, 0.4965487424074641, 1.0483377991076952, -0.7306042704368239, -1.767726526012954, -0.22378833249331728, 1.601121309317086, 0.8828103257648692, 0.1826898270480904, -1.5991846579476228, 0.6064089004607497, 0.7304265150271423, -1.0517525399387608, 0.2511415655874058, 1.2509386690441953, -0.5627840069345255, 1.6852116648377633, -0.11024553099954161, -0.7630707594050132, 0.3296679782933773, 1.3684849781430115, 0.27698460569843913, 0.7056148743119981, -0.10728295357837499, -0.3259299468930852, -0.18231346193029901, -1.4556732879652434, -0.6220954124482995]}, {\"line\": {\"color\": \"rgba(128, 0, 128, 1.0)\", \"dash\": \"solid\", \"shape\": \"linear\", \"width\": 1.3}, \"mode\": \"lines\", \"name\": \"D\", \"text\": \"\", \"type\": \"scatter\", \"x\": [0, 1, 2, 3, 4, 5, 6, 7, 8, 9, 10, 11, 12, 13, 14, 15, 16, 17, 18, 19, 20, 21, 22, 23, 24, 25, 26, 27, 28, 29, 30, 31, 32, 33, 34, 35, 36, 37, 38, 39, 40, 41, 42, 43, 44, 45, 46, 47, 48, 49, 50, 51, 52, 53, 54, 55, 56, 57, 58, 59, 60, 61, 62, 63, 64, 65, 66, 67, 68, 69, 70, 71, 72, 73, 74, 75, 76, 77, 78, 79, 80, 81, 82, 83, 84, 85, 86, 87, 88, 89, 90, 91, 92, 93, 94, 95, 96, 97, 98, 99], \"y\": [0.6778729725043644, 1.8059030764379598, -0.8427894394917019, 0.7028364071414452, 0.825571631036336, 1.2051120547600316, 0.7244139364195797, -1.3559348657071273, 0.308024975632527, 1.5983724409903277, -0.6576379587296303, 0.7993403925019309, -2.053115218099911, 0.2646019343945171, 0.08754753975747707, -1.2427612499539613, 1.4754629908026846, -1.4811321630576677, -0.7594373064233083, -0.12750497178924067, -0.9268168563442297, 0.5974046066257698, -0.24292065362520213, -0.9649714681828205, -0.8750636064485101, 0.9197750708901921, -0.7480168853760317, -0.21328878614093316, -0.07067969844926104, -0.27659078776879303, -0.1539470600069913, -1.4364152652969937, 0.6215680045149821, -0.48656860575540056, 0.5860063525576973, 1.9532791720799327, -0.3104503972645789, -1.3654328722807976, -1.849019483939876, -0.09336559614620331, 0.13796389663084496, -2.3368087222436547, -0.6740237740011111, -0.38813886664316555, -1.9610870166233894, 1.3395529043070529, -1.250301608200872, -0.9509762415784829, 0.4956869652378916, -1.652979492017329, 0.7965335618604886, 0.15634707733563813, -0.19479389896442964, -1.227555406619242, -0.5148957417108884, 0.40242052930592775, -0.6158801987936839, 1.177784819208276, 0.11262827876844117, -0.4843349673116165, 0.2945782550901206, -0.934384920930522, 1.3574266011483518, -0.7294098196699667, 0.7694541209231814, -0.3072129719491864, -0.6898730900175366, 0.5616101475751268, 1.0608130901361357, 0.3365113202896197, 0.802895786173727, 1.1807526832244597, 1.4797589854368138, -1.6835543921364118, -2.3973178545282576, -0.07729738106454107, -1.4423464202587457, -0.8575416103465401, -0.39840166643721536, -0.06541299297405546, -0.07624090039277232, -0.24922141663777242, 1.9727778289235816, -0.3232704694600576, -0.6814286088775799, 0.46580194086213295, 0.9803989561322469, -1.4079738707164426, 0.8443446110505288, -1.5775361603642126, -0.4947820803002275, 0.70008140358095, -0.8521409087449835, 0.35206004338908614, 0.11794839018660937, -1.8289443292834922, -0.4425082344438239, -1.220386257042587, -0.23203980086744277, 1.2682405988455958]}],                        {\"legend\": {\"bgcolor\": \"#F5F6F9\", \"font\": {\"color\": \"#4D5663\"}}, \"paper_bgcolor\": \"#F5F6F9\", \"plot_bgcolor\": \"#F5F6F9\", \"template\": {\"data\": {\"bar\": [{\"error_x\": {\"color\": \"#2a3f5f\"}, \"error_y\": {\"color\": \"#2a3f5f\"}, \"marker\": {\"line\": {\"color\": \"#E5ECF6\", \"width\": 0.5}}, \"type\": \"bar\"}], \"barpolar\": [{\"marker\": {\"line\": {\"color\": \"#E5ECF6\", \"width\": 0.5}}, \"type\": \"barpolar\"}], \"carpet\": [{\"aaxis\": {\"endlinecolor\": \"#2a3f5f\", \"gridcolor\": \"white\", \"linecolor\": \"white\", \"minorgridcolor\": \"white\", \"startlinecolor\": \"#2a3f5f\"}, \"baxis\": {\"endlinecolor\": \"#2a3f5f\", \"gridcolor\": \"white\", \"linecolor\": \"white\", \"minorgridcolor\": \"white\", \"startlinecolor\": \"#2a3f5f\"}, \"type\": \"carpet\"}], \"choropleth\": [{\"colorbar\": {\"outlinewidth\": 0, \"ticks\": \"\"}, \"type\": \"choropleth\"}], \"contour\": [{\"colorbar\": {\"outlinewidth\": 0, \"ticks\": \"\"}, \"colorscale\": [[0.0, \"#0d0887\"], [0.1111111111111111, \"#46039f\"], [0.2222222222222222, \"#7201a8\"], [0.3333333333333333, \"#9c179e\"], [0.4444444444444444, \"#bd3786\"], [0.5555555555555556, \"#d8576b\"], [0.6666666666666666, \"#ed7953\"], [0.7777777777777778, \"#fb9f3a\"], [0.8888888888888888, \"#fdca26\"], [1.0, \"#f0f921\"]], \"type\": \"contour\"}], \"contourcarpet\": [{\"colorbar\": {\"outlinewidth\": 0, \"ticks\": \"\"}, \"type\": \"contourcarpet\"}], \"heatmap\": [{\"colorbar\": {\"outlinewidth\": 0, \"ticks\": \"\"}, \"colorscale\": [[0.0, \"#0d0887\"], [0.1111111111111111, \"#46039f\"], [0.2222222222222222, \"#7201a8\"], [0.3333333333333333, \"#9c179e\"], [0.4444444444444444, \"#bd3786\"], [0.5555555555555556, \"#d8576b\"], [0.6666666666666666, \"#ed7953\"], [0.7777777777777778, \"#fb9f3a\"], [0.8888888888888888, \"#fdca26\"], [1.0, \"#f0f921\"]], \"type\": \"heatmap\"}], \"heatmapgl\": [{\"colorbar\": {\"outlinewidth\": 0, \"ticks\": \"\"}, \"colorscale\": [[0.0, \"#0d0887\"], [0.1111111111111111, \"#46039f\"], [0.2222222222222222, \"#7201a8\"], [0.3333333333333333, \"#9c179e\"], [0.4444444444444444, \"#bd3786\"], [0.5555555555555556, \"#d8576b\"], [0.6666666666666666, \"#ed7953\"], [0.7777777777777778, \"#fb9f3a\"], [0.8888888888888888, \"#fdca26\"], [1.0, \"#f0f921\"]], \"type\": \"heatmapgl\"}], \"histogram\": [{\"marker\": {\"colorbar\": {\"outlinewidth\": 0, \"ticks\": \"\"}}, \"type\": \"histogram\"}], \"histogram2d\": [{\"colorbar\": {\"outlinewidth\": 0, \"ticks\": \"\"}, \"colorscale\": [[0.0, \"#0d0887\"], [0.1111111111111111, \"#46039f\"], [0.2222222222222222, \"#7201a8\"], [0.3333333333333333, \"#9c179e\"], [0.4444444444444444, \"#bd3786\"], [0.5555555555555556, \"#d8576b\"], [0.6666666666666666, \"#ed7953\"], [0.7777777777777778, \"#fb9f3a\"], [0.8888888888888888, \"#fdca26\"], [1.0, \"#f0f921\"]], \"type\": \"histogram2d\"}], \"histogram2dcontour\": [{\"colorbar\": {\"outlinewidth\": 0, \"ticks\": \"\"}, \"colorscale\": [[0.0, \"#0d0887\"], [0.1111111111111111, \"#46039f\"], [0.2222222222222222, \"#7201a8\"], [0.3333333333333333, \"#9c179e\"], [0.4444444444444444, \"#bd3786\"], [0.5555555555555556, \"#d8576b\"], [0.6666666666666666, \"#ed7953\"], [0.7777777777777778, \"#fb9f3a\"], [0.8888888888888888, \"#fdca26\"], [1.0, \"#f0f921\"]], \"type\": \"histogram2dcontour\"}], \"mesh3d\": [{\"colorbar\": {\"outlinewidth\": 0, \"ticks\": \"\"}, \"type\": \"mesh3d\"}], \"parcoords\": [{\"line\": {\"colorbar\": {\"outlinewidth\": 0, \"ticks\": \"\"}}, \"type\": \"parcoords\"}], \"pie\": [{\"automargin\": true, \"type\": \"pie\"}], \"scatter\": [{\"marker\": {\"colorbar\": {\"outlinewidth\": 0, \"ticks\": \"\"}}, \"type\": \"scatter\"}], \"scatter3d\": [{\"line\": {\"colorbar\": {\"outlinewidth\": 0, \"ticks\": \"\"}}, \"marker\": {\"colorbar\": {\"outlinewidth\": 0, \"ticks\": \"\"}}, \"type\": \"scatter3d\"}], \"scattercarpet\": [{\"marker\": {\"colorbar\": {\"outlinewidth\": 0, \"ticks\": \"\"}}, \"type\": \"scattercarpet\"}], \"scattergeo\": [{\"marker\": {\"colorbar\": {\"outlinewidth\": 0, \"ticks\": \"\"}}, \"type\": \"scattergeo\"}], \"scattergl\": [{\"marker\": {\"colorbar\": {\"outlinewidth\": 0, \"ticks\": \"\"}}, \"type\": \"scattergl\"}], \"scattermapbox\": [{\"marker\": {\"colorbar\": {\"outlinewidth\": 0, \"ticks\": \"\"}}, \"type\": \"scattermapbox\"}], \"scatterpolar\": [{\"marker\": {\"colorbar\": {\"outlinewidth\": 0, \"ticks\": \"\"}}, \"type\": \"scatterpolar\"}], \"scatterpolargl\": [{\"marker\": {\"colorbar\": {\"outlinewidth\": 0, \"ticks\": \"\"}}, \"type\": \"scatterpolargl\"}], \"scatterternary\": [{\"marker\": {\"colorbar\": {\"outlinewidth\": 0, \"ticks\": \"\"}}, \"type\": \"scatterternary\"}], \"surface\": [{\"colorbar\": {\"outlinewidth\": 0, \"ticks\": \"\"}, \"colorscale\": [[0.0, \"#0d0887\"], [0.1111111111111111, \"#46039f\"], [0.2222222222222222, \"#7201a8\"], [0.3333333333333333, \"#9c179e\"], [0.4444444444444444, \"#bd3786\"], [0.5555555555555556, \"#d8576b\"], [0.6666666666666666, \"#ed7953\"], [0.7777777777777778, \"#fb9f3a\"], [0.8888888888888888, \"#fdca26\"], [1.0, \"#f0f921\"]], \"type\": \"surface\"}], \"table\": [{\"cells\": {\"fill\": {\"color\": \"#EBF0F8\"}, \"line\": {\"color\": \"white\"}}, \"header\": {\"fill\": {\"color\": \"#C8D4E3\"}, \"line\": {\"color\": \"white\"}}, \"type\": \"table\"}]}, \"layout\": {\"annotationdefaults\": {\"arrowcolor\": \"#2a3f5f\", \"arrowhead\": 0, \"arrowwidth\": 1}, \"coloraxis\": {\"colorbar\": {\"outlinewidth\": 0, \"ticks\": \"\"}}, \"colorscale\": {\"diverging\": [[0, \"#8e0152\"], [0.1, \"#c51b7d\"], [0.2, \"#de77ae\"], [0.3, \"#f1b6da\"], [0.4, \"#fde0ef\"], [0.5, \"#f7f7f7\"], [0.6, \"#e6f5d0\"], [0.7, \"#b8e186\"], [0.8, \"#7fbc41\"], [0.9, \"#4d9221\"], [1, \"#276419\"]], \"sequential\": [[0.0, \"#0d0887\"], [0.1111111111111111, \"#46039f\"], [0.2222222222222222, \"#7201a8\"], [0.3333333333333333, \"#9c179e\"], [0.4444444444444444, \"#bd3786\"], [0.5555555555555556, \"#d8576b\"], [0.6666666666666666, \"#ed7953\"], [0.7777777777777778, \"#fb9f3a\"], [0.8888888888888888, \"#fdca26\"], [1.0, \"#f0f921\"]], \"sequentialminus\": [[0.0, \"#0d0887\"], [0.1111111111111111, \"#46039f\"], [0.2222222222222222, \"#7201a8\"], [0.3333333333333333, \"#9c179e\"], [0.4444444444444444, \"#bd3786\"], [0.5555555555555556, \"#d8576b\"], [0.6666666666666666, \"#ed7953\"], [0.7777777777777778, \"#fb9f3a\"], [0.8888888888888888, \"#fdca26\"], [1.0, \"#f0f921\"]]}, \"colorway\": [\"#636efa\", \"#EF553B\", \"#00cc96\", \"#ab63fa\", \"#FFA15A\", \"#19d3f3\", \"#FF6692\", \"#B6E880\", \"#FF97FF\", \"#FECB52\"], \"font\": {\"color\": \"#2a3f5f\"}, \"geo\": {\"bgcolor\": \"white\", \"lakecolor\": \"white\", \"landcolor\": \"#E5ECF6\", \"showlakes\": true, \"showland\": true, \"subunitcolor\": \"white\"}, \"hoverlabel\": {\"align\": \"left\"}, \"hovermode\": \"closest\", \"mapbox\": {\"style\": \"light\"}, \"paper_bgcolor\": \"white\", \"plot_bgcolor\": \"#E5ECF6\", \"polar\": {\"angularaxis\": {\"gridcolor\": \"white\", \"linecolor\": \"white\", \"ticks\": \"\"}, \"bgcolor\": \"#E5ECF6\", \"radialaxis\": {\"gridcolor\": \"white\", \"linecolor\": \"white\", \"ticks\": \"\"}}, \"scene\": {\"xaxis\": {\"backgroundcolor\": \"#E5ECF6\", \"gridcolor\": \"white\", \"gridwidth\": 2, \"linecolor\": \"white\", \"showbackground\": true, \"ticks\": \"\", \"zerolinecolor\": \"white\"}, \"yaxis\": {\"backgroundcolor\": \"#E5ECF6\", \"gridcolor\": \"white\", \"gridwidth\": 2, \"linecolor\": \"white\", \"showbackground\": true, \"ticks\": \"\", \"zerolinecolor\": \"white\"}, \"zaxis\": {\"backgroundcolor\": \"#E5ECF6\", \"gridcolor\": \"white\", \"gridwidth\": 2, \"linecolor\": \"white\", \"showbackground\": true, \"ticks\": \"\", \"zerolinecolor\": \"white\"}}, \"shapedefaults\": {\"line\": {\"color\": \"#2a3f5f\"}}, \"ternary\": {\"aaxis\": {\"gridcolor\": \"white\", \"linecolor\": \"white\", \"ticks\": \"\"}, \"baxis\": {\"gridcolor\": \"white\", \"linecolor\": \"white\", \"ticks\": \"\"}, \"bgcolor\": \"#E5ECF6\", \"caxis\": {\"gridcolor\": \"white\", \"linecolor\": \"white\", \"ticks\": \"\"}}, \"title\": {\"x\": 0.05}, \"xaxis\": {\"automargin\": true, \"gridcolor\": \"white\", \"linecolor\": \"white\", \"ticks\": \"\", \"title\": {\"standoff\": 15}, \"zerolinecolor\": \"white\", \"zerolinewidth\": 2}, \"yaxis\": {\"automargin\": true, \"gridcolor\": \"white\", \"linecolor\": \"white\", \"ticks\": \"\", \"title\": {\"standoff\": 15}, \"zerolinecolor\": \"white\", \"zerolinewidth\": 2}}}, \"title\": {\"font\": {\"color\": \"#4D5663\"}}, \"xaxis\": {\"gridcolor\": \"#E1E5ED\", \"showgrid\": true, \"tickfont\": {\"color\": \"#4D5663\"}, \"title\": {\"font\": {\"color\": \"#4D5663\"}, \"text\": \"\"}, \"zerolinecolor\": \"#E1E5ED\"}, \"yaxis\": {\"gridcolor\": \"#E1E5ED\", \"showgrid\": true, \"tickfont\": {\"color\": \"#4D5663\"}, \"title\": {\"font\": {\"color\": \"#4D5663\"}, \"text\": \"\"}, \"zerolinecolor\": \"#E1E5ED\"}},                        {\"showLink\": true, \"linkText\": \"Export to plot.ly\", \"plotlyServerURL\": \"https://plot.ly\", \"responsive\": true}                    ).then(function(){\n",
       "                            \n",
       "var gd = document.getElementById('cbffb218-43b8-4769-9e2e-9d245daba193');\n",
       "var x = new MutationObserver(function (mutations, observer) {{\n",
       "        var display = window.getComputedStyle(gd).display;\n",
       "        if (!display || display === 'none') {{\n",
       "            console.log([gd, 'removed!']);\n",
       "            Plotly.purge(gd);\n",
       "            observer.disconnect();\n",
       "        }}\n",
       "}});\n",
       "\n",
       "// Listen for the removal of the full notebook cells\n",
       "var notebookContainer = gd.closest('#notebook-container');\n",
       "if (notebookContainer) {{\n",
       "    x.observe(notebookContainer, {childList: true});\n",
       "}}\n",
       "\n",
       "// Listen for the clearing of the current output cell\n",
       "var outputEl = gd.closest('.output');\n",
       "if (outputEl) {{\n",
       "    x.observe(outputEl, {childList: true});\n",
       "}}\n",
       "\n",
       "                        })                };                });            </script>        </div>"
      ]
     },
     "metadata": {},
     "output_type": "display_data"
    }
   ],
   "source": [
    "df.iplot()"
   ]
  },
  {
   "cell_type": "code",
   "execution_count": 15,
   "metadata": {},
   "outputs": [
    {
     "data": {
      "application/vnd.plotly.v1+json": {
       "config": {
        "linkText": "Export to plot.ly",
        "plotlyServerURL": "https://plot.ly",
        "showLink": true
       },
       "data": [
        {
         "line": {
          "color": "rgba(255, 153, 51, 1.0)",
          "dash": "solid",
          "shape": "linear",
          "width": 1.3
         },
         "marker": {
          "size": 10,
          "symbol": "circle"
         },
         "mode": "markers",
         "name": "B",
         "text": "",
         "type": "scatter",
         "x": [
          0.5217537784129974,
          0.3309749226115375,
          -1.193876709659765,
          0.44343923119185524,
          -0.18931392017075624,
          0.173205767535824,
          0.696775738847488,
          -2.014191654816539,
          -0.3260508724875542,
          1.7018734448037018,
          -0.3578297915922514,
          0.795878744012465,
          -0.6221105875227282,
          0.1795158852025101,
          -0.5263018890301373,
          -1.6579984218119408,
          1.5734505787806656,
          0.09347039337484478,
          0.22695335836177413,
          1.74135293216879,
          0.8543457987432498,
          1.6668700893834498,
          0.21509981024768562,
          0.05147367659147075,
          0.595348020727714,
          1.3425773565713435,
          0.5056396605572587,
          0.7004964136717756,
          -0.11611198442315279,
          0.7084287321300998,
          -0.7109807917845864,
          0.243838163690604,
          -0.052769434282530246,
          0.65197584784953,
          0.15111623638211763,
          -0.45994422176644884,
          -1.6377125581004068,
          1.6353164567583425,
          -0.02110823435862904,
          0.8662866086795274,
          -0.7992112511748268,
          -1.2091767689531847,
          0.615433464445986,
          -0.6918898665437458,
          -0.22088314776555945,
          -0.36616282407008444,
          1.2391168115335351,
          -0.6051262003388084,
          -1.590191148875863,
          -0.9818480747620559,
          -0.4616387767955757,
          -0.7134294894563353,
          0.07223535070388272,
          0.057558323803864345,
          -0.43681040939791793,
          0.4689372999801223,
          1.502366134331344,
          0.7308934048604777,
          -1.8445348233596541,
          -0.023749777252913405,
          0.07027259389091652,
          0.795641143639049,
          0.14650863736209424,
          -0.289159142974127,
          -1.2748625970110754,
          -0.2774290754016461,
          0.8781245042054561,
          -0.8697236584897804,
          0.07199053776509524,
          -1.757042236586087,
          0.39716974253845905,
          0.1654662688475511,
          -0.33199426676448535,
          0.7744544397767887,
          1.1793804702730013,
          -0.9462622397360114,
          0.7557618474116468,
          -0.5317089300673019,
          0.04458895563719713,
          -0.3484351357629532,
          0.9637309052261983,
          0.5769189564311794,
          0.08063722123130981,
          0.5023295174559748,
          -0.7596996515964047,
          1.4161337913043834,
          1.9283827384775984,
          -1.6721607391450544,
          0.4553713821873685,
          -0.3971879291836942,
          0.17041840171947764,
          -1.1644496531098152,
          0.15295268302093223,
          -0.18904846215760945,
          0.2400629991205869,
          -0.010061126559507024,
          0.8658858707404796,
          1.056913755398305,
          0.862841462797941,
          0.47176134545444554
         ],
         "y": [
          -0.39261445799361727,
          0.22580367056171108,
          0.25483863748102475,
          0.9905938087654146,
          -0.3454489749148752,
          0.5862541601958202,
          0.04228997696170449,
          -1.5099138219153663,
          -1.4985134831759215,
          0.09468800407249342,
          -0.6529428511506372,
          0.11140377407013143,
          0.2986561002471471,
          -0.6958738060209194,
          1.6280048100235736,
          -1.4414780265052891,
          -1.0091162361804633,
          -0.4358346913952342,
          0.9644518693267125,
          1.339378202043062,
          -1.009276170450571,
          0.355374750343669,
          2.4613393443673854,
          1.1250694379563946,
          -0.3101218143757754,
          0.21931795568428836,
          -1.1034092566915703,
          0.34792501227665257,
          0.5640927383340527,
          2.005692956097845,
          -1.3763340171658087,
          -0.5516546832432645,
          -0.4322623433505339,
          -1.4069669300676437,
          0.9925196666613212,
          -0.3174599626785784,
          -1.402277482694772,
          1.5941004088534267,
          -0.20902468508344935,
          1.7723686071566995,
          1.0255780072645866,
          0.3611684560390772,
          -0.9876425439197813,
          2.0634227790927873,
          0.5808836005391271,
          2.085501418876228,
          -0.1669861926278503,
          2.4188376530846787,
          -1.7854249534372195,
          -2.0250332266149442,
          -0.54463884665561,
          0.990855608274131,
          -1.4367068235569664,
          -0.4429595086434903,
          0.2807870731341278,
          -1.2933742820918692,
          -0.1556993337542278,
          -1.1504599947642138,
          0.6624811468344771,
          -0.9756259309342289,
          0.8167384140483486,
          -0.5345985813863435,
          -0.27727702113759906,
          0.19310545663846124,
          -1.532902312679032,
          -0.028100975887289895,
          -1.9959810670789664,
          0.2243920084584965,
          -0.6600578441118969,
          1.3352710743039025,
          -1.398424039696386,
          0.8462771387518341,
          0.11236464635976393,
          -0.15515819132980102,
          1.3302994525696428,
          -0.5868131798941717,
          1.3234568595593719,
          0.8499332074462286,
          -0.08224166207067568,
          0.6328294865034617,
          0.06679708452559546,
          -0.23350689690678816,
          -2.7527613522856362,
          0.9548230886533037,
          -0.5190830632490822,
          -0.42926880006980395,
          0.236960866081998,
          -1.9304304156678027,
          0.5350138717457857,
          -0.6962587707076815,
          -0.1957102445287146,
          -1.3072663184338325,
          -0.10554726253657928,
          0.20192027205191437,
          -0.3790196316097984,
          -0.47639675723883623,
          -0.2596209420386043,
          1.4129214345638288,
          1.215471680596547,
          -1.0518754451458192
         ]
        }
       ],
       "layout": {
        "legend": {
         "bgcolor": "#F5F6F9",
         "font": {
          "color": "#4D5663"
         }
        },
        "paper_bgcolor": "#F5F6F9",
        "plot_bgcolor": "#F5F6F9",
        "template": {
         "data": {
          "bar": [
           {
            "error_x": {
             "color": "#2a3f5f"
            },
            "error_y": {
             "color": "#2a3f5f"
            },
            "marker": {
             "line": {
              "color": "#E5ECF6",
              "width": 0.5
             }
            },
            "type": "bar"
           }
          ],
          "barpolar": [
           {
            "marker": {
             "line": {
              "color": "#E5ECF6",
              "width": 0.5
             }
            },
            "type": "barpolar"
           }
          ],
          "carpet": [
           {
            "aaxis": {
             "endlinecolor": "#2a3f5f",
             "gridcolor": "white",
             "linecolor": "white",
             "minorgridcolor": "white",
             "startlinecolor": "#2a3f5f"
            },
            "baxis": {
             "endlinecolor": "#2a3f5f",
             "gridcolor": "white",
             "linecolor": "white",
             "minorgridcolor": "white",
             "startlinecolor": "#2a3f5f"
            },
            "type": "carpet"
           }
          ],
          "choropleth": [
           {
            "colorbar": {
             "outlinewidth": 0,
             "ticks": ""
            },
            "type": "choropleth"
           }
          ],
          "contour": [
           {
            "colorbar": {
             "outlinewidth": 0,
             "ticks": ""
            },
            "colorscale": [
             [
              0,
              "#0d0887"
             ],
             [
              0.1111111111111111,
              "#46039f"
             ],
             [
              0.2222222222222222,
              "#7201a8"
             ],
             [
              0.3333333333333333,
              "#9c179e"
             ],
             [
              0.4444444444444444,
              "#bd3786"
             ],
             [
              0.5555555555555556,
              "#d8576b"
             ],
             [
              0.6666666666666666,
              "#ed7953"
             ],
             [
              0.7777777777777778,
              "#fb9f3a"
             ],
             [
              0.8888888888888888,
              "#fdca26"
             ],
             [
              1,
              "#f0f921"
             ]
            ],
            "type": "contour"
           }
          ],
          "contourcarpet": [
           {
            "colorbar": {
             "outlinewidth": 0,
             "ticks": ""
            },
            "type": "contourcarpet"
           }
          ],
          "heatmap": [
           {
            "colorbar": {
             "outlinewidth": 0,
             "ticks": ""
            },
            "colorscale": [
             [
              0,
              "#0d0887"
             ],
             [
              0.1111111111111111,
              "#46039f"
             ],
             [
              0.2222222222222222,
              "#7201a8"
             ],
             [
              0.3333333333333333,
              "#9c179e"
             ],
             [
              0.4444444444444444,
              "#bd3786"
             ],
             [
              0.5555555555555556,
              "#d8576b"
             ],
             [
              0.6666666666666666,
              "#ed7953"
             ],
             [
              0.7777777777777778,
              "#fb9f3a"
             ],
             [
              0.8888888888888888,
              "#fdca26"
             ],
             [
              1,
              "#f0f921"
             ]
            ],
            "type": "heatmap"
           }
          ],
          "heatmapgl": [
           {
            "colorbar": {
             "outlinewidth": 0,
             "ticks": ""
            },
            "colorscale": [
             [
              0,
              "#0d0887"
             ],
             [
              0.1111111111111111,
              "#46039f"
             ],
             [
              0.2222222222222222,
              "#7201a8"
             ],
             [
              0.3333333333333333,
              "#9c179e"
             ],
             [
              0.4444444444444444,
              "#bd3786"
             ],
             [
              0.5555555555555556,
              "#d8576b"
             ],
             [
              0.6666666666666666,
              "#ed7953"
             ],
             [
              0.7777777777777778,
              "#fb9f3a"
             ],
             [
              0.8888888888888888,
              "#fdca26"
             ],
             [
              1,
              "#f0f921"
             ]
            ],
            "type": "heatmapgl"
           }
          ],
          "histogram": [
           {
            "marker": {
             "colorbar": {
              "outlinewidth": 0,
              "ticks": ""
             }
            },
            "type": "histogram"
           }
          ],
          "histogram2d": [
           {
            "colorbar": {
             "outlinewidth": 0,
             "ticks": ""
            },
            "colorscale": [
             [
              0,
              "#0d0887"
             ],
             [
              0.1111111111111111,
              "#46039f"
             ],
             [
              0.2222222222222222,
              "#7201a8"
             ],
             [
              0.3333333333333333,
              "#9c179e"
             ],
             [
              0.4444444444444444,
              "#bd3786"
             ],
             [
              0.5555555555555556,
              "#d8576b"
             ],
             [
              0.6666666666666666,
              "#ed7953"
             ],
             [
              0.7777777777777778,
              "#fb9f3a"
             ],
             [
              0.8888888888888888,
              "#fdca26"
             ],
             [
              1,
              "#f0f921"
             ]
            ],
            "type": "histogram2d"
           }
          ],
          "histogram2dcontour": [
           {
            "colorbar": {
             "outlinewidth": 0,
             "ticks": ""
            },
            "colorscale": [
             [
              0,
              "#0d0887"
             ],
             [
              0.1111111111111111,
              "#46039f"
             ],
             [
              0.2222222222222222,
              "#7201a8"
             ],
             [
              0.3333333333333333,
              "#9c179e"
             ],
             [
              0.4444444444444444,
              "#bd3786"
             ],
             [
              0.5555555555555556,
              "#d8576b"
             ],
             [
              0.6666666666666666,
              "#ed7953"
             ],
             [
              0.7777777777777778,
              "#fb9f3a"
             ],
             [
              0.8888888888888888,
              "#fdca26"
             ],
             [
              1,
              "#f0f921"
             ]
            ],
            "type": "histogram2dcontour"
           }
          ],
          "mesh3d": [
           {
            "colorbar": {
             "outlinewidth": 0,
             "ticks": ""
            },
            "type": "mesh3d"
           }
          ],
          "parcoords": [
           {
            "line": {
             "colorbar": {
              "outlinewidth": 0,
              "ticks": ""
             }
            },
            "type": "parcoords"
           }
          ],
          "pie": [
           {
            "automargin": true,
            "type": "pie"
           }
          ],
          "scatter": [
           {
            "marker": {
             "colorbar": {
              "outlinewidth": 0,
              "ticks": ""
             }
            },
            "type": "scatter"
           }
          ],
          "scatter3d": [
           {
            "line": {
             "colorbar": {
              "outlinewidth": 0,
              "ticks": ""
             }
            },
            "marker": {
             "colorbar": {
              "outlinewidth": 0,
              "ticks": ""
             }
            },
            "type": "scatter3d"
           }
          ],
          "scattercarpet": [
           {
            "marker": {
             "colorbar": {
              "outlinewidth": 0,
              "ticks": ""
             }
            },
            "type": "scattercarpet"
           }
          ],
          "scattergeo": [
           {
            "marker": {
             "colorbar": {
              "outlinewidth": 0,
              "ticks": ""
             }
            },
            "type": "scattergeo"
           }
          ],
          "scattergl": [
           {
            "marker": {
             "colorbar": {
              "outlinewidth": 0,
              "ticks": ""
             }
            },
            "type": "scattergl"
           }
          ],
          "scattermapbox": [
           {
            "marker": {
             "colorbar": {
              "outlinewidth": 0,
              "ticks": ""
             }
            },
            "type": "scattermapbox"
           }
          ],
          "scatterpolar": [
           {
            "marker": {
             "colorbar": {
              "outlinewidth": 0,
              "ticks": ""
             }
            },
            "type": "scatterpolar"
           }
          ],
          "scatterpolargl": [
           {
            "marker": {
             "colorbar": {
              "outlinewidth": 0,
              "ticks": ""
             }
            },
            "type": "scatterpolargl"
           }
          ],
          "scatterternary": [
           {
            "marker": {
             "colorbar": {
              "outlinewidth": 0,
              "ticks": ""
             }
            },
            "type": "scatterternary"
           }
          ],
          "surface": [
           {
            "colorbar": {
             "outlinewidth": 0,
             "ticks": ""
            },
            "colorscale": [
             [
              0,
              "#0d0887"
             ],
             [
              0.1111111111111111,
              "#46039f"
             ],
             [
              0.2222222222222222,
              "#7201a8"
             ],
             [
              0.3333333333333333,
              "#9c179e"
             ],
             [
              0.4444444444444444,
              "#bd3786"
             ],
             [
              0.5555555555555556,
              "#d8576b"
             ],
             [
              0.6666666666666666,
              "#ed7953"
             ],
             [
              0.7777777777777778,
              "#fb9f3a"
             ],
             [
              0.8888888888888888,
              "#fdca26"
             ],
             [
              1,
              "#f0f921"
             ]
            ],
            "type": "surface"
           }
          ],
          "table": [
           {
            "cells": {
             "fill": {
              "color": "#EBF0F8"
             },
             "line": {
              "color": "white"
             }
            },
            "header": {
             "fill": {
              "color": "#C8D4E3"
             },
             "line": {
              "color": "white"
             }
            },
            "type": "table"
           }
          ]
         },
         "layout": {
          "annotationdefaults": {
           "arrowcolor": "#2a3f5f",
           "arrowhead": 0,
           "arrowwidth": 1
          },
          "coloraxis": {
           "colorbar": {
            "outlinewidth": 0,
            "ticks": ""
           }
          },
          "colorscale": {
           "diverging": [
            [
             0,
             "#8e0152"
            ],
            [
             0.1,
             "#c51b7d"
            ],
            [
             0.2,
             "#de77ae"
            ],
            [
             0.3,
             "#f1b6da"
            ],
            [
             0.4,
             "#fde0ef"
            ],
            [
             0.5,
             "#f7f7f7"
            ],
            [
             0.6,
             "#e6f5d0"
            ],
            [
             0.7,
             "#b8e186"
            ],
            [
             0.8,
             "#7fbc41"
            ],
            [
             0.9,
             "#4d9221"
            ],
            [
             1,
             "#276419"
            ]
           ],
           "sequential": [
            [
             0,
             "#0d0887"
            ],
            [
             0.1111111111111111,
             "#46039f"
            ],
            [
             0.2222222222222222,
             "#7201a8"
            ],
            [
             0.3333333333333333,
             "#9c179e"
            ],
            [
             0.4444444444444444,
             "#bd3786"
            ],
            [
             0.5555555555555556,
             "#d8576b"
            ],
            [
             0.6666666666666666,
             "#ed7953"
            ],
            [
             0.7777777777777778,
             "#fb9f3a"
            ],
            [
             0.8888888888888888,
             "#fdca26"
            ],
            [
             1,
             "#f0f921"
            ]
           ],
           "sequentialminus": [
            [
             0,
             "#0d0887"
            ],
            [
             0.1111111111111111,
             "#46039f"
            ],
            [
             0.2222222222222222,
             "#7201a8"
            ],
            [
             0.3333333333333333,
             "#9c179e"
            ],
            [
             0.4444444444444444,
             "#bd3786"
            ],
            [
             0.5555555555555556,
             "#d8576b"
            ],
            [
             0.6666666666666666,
             "#ed7953"
            ],
            [
             0.7777777777777778,
             "#fb9f3a"
            ],
            [
             0.8888888888888888,
             "#fdca26"
            ],
            [
             1,
             "#f0f921"
            ]
           ]
          },
          "colorway": [
           "#636efa",
           "#EF553B",
           "#00cc96",
           "#ab63fa",
           "#FFA15A",
           "#19d3f3",
           "#FF6692",
           "#B6E880",
           "#FF97FF",
           "#FECB52"
          ],
          "font": {
           "color": "#2a3f5f"
          },
          "geo": {
           "bgcolor": "white",
           "lakecolor": "white",
           "landcolor": "#E5ECF6",
           "showlakes": true,
           "showland": true,
           "subunitcolor": "white"
          },
          "hoverlabel": {
           "align": "left"
          },
          "hovermode": "closest",
          "mapbox": {
           "style": "light"
          },
          "paper_bgcolor": "white",
          "plot_bgcolor": "#E5ECF6",
          "polar": {
           "angularaxis": {
            "gridcolor": "white",
            "linecolor": "white",
            "ticks": ""
           },
           "bgcolor": "#E5ECF6",
           "radialaxis": {
            "gridcolor": "white",
            "linecolor": "white",
            "ticks": ""
           }
          },
          "scene": {
           "xaxis": {
            "backgroundcolor": "#E5ECF6",
            "gridcolor": "white",
            "gridwidth": 2,
            "linecolor": "white",
            "showbackground": true,
            "ticks": "",
            "zerolinecolor": "white"
           },
           "yaxis": {
            "backgroundcolor": "#E5ECF6",
            "gridcolor": "white",
            "gridwidth": 2,
            "linecolor": "white",
            "showbackground": true,
            "ticks": "",
            "zerolinecolor": "white"
           },
           "zaxis": {
            "backgroundcolor": "#E5ECF6",
            "gridcolor": "white",
            "gridwidth": 2,
            "linecolor": "white",
            "showbackground": true,
            "ticks": "",
            "zerolinecolor": "white"
           }
          },
          "shapedefaults": {
           "line": {
            "color": "#2a3f5f"
           }
          },
          "ternary": {
           "aaxis": {
            "gridcolor": "white",
            "linecolor": "white",
            "ticks": ""
           },
           "baxis": {
            "gridcolor": "white",
            "linecolor": "white",
            "ticks": ""
           },
           "bgcolor": "#E5ECF6",
           "caxis": {
            "gridcolor": "white",
            "linecolor": "white",
            "ticks": ""
           }
          },
          "title": {
           "x": 0.05
          },
          "xaxis": {
           "automargin": true,
           "gridcolor": "white",
           "linecolor": "white",
           "ticks": "",
           "title": {
            "standoff": 15
           },
           "zerolinecolor": "white",
           "zerolinewidth": 2
          },
          "yaxis": {
           "automargin": true,
           "gridcolor": "white",
           "linecolor": "white",
           "ticks": "",
           "title": {
            "standoff": 15
           },
           "zerolinecolor": "white",
           "zerolinewidth": 2
          }
         }
        },
        "title": {
         "font": {
          "color": "#4D5663"
         }
        },
        "xaxis": {
         "gridcolor": "#E1E5ED",
         "showgrid": true,
         "tickfont": {
          "color": "#4D5663"
         },
         "title": {
          "font": {
           "color": "#4D5663"
          },
          "text": ""
         },
         "zerolinecolor": "#E1E5ED"
        },
        "yaxis": {
         "gridcolor": "#E1E5ED",
         "showgrid": true,
         "tickfont": {
          "color": "#4D5663"
         },
         "title": {
          "font": {
           "color": "#4D5663"
          },
          "text": ""
         },
         "zerolinecolor": "#E1E5ED"
        }
       }
      },
      "text/html": [
       "<div>                            <div id=\"eba1b686-20c3-4581-bbe0-47d53ece03b0\" class=\"plotly-graph-div\" style=\"height:525px; width:100%;\"></div>            <script type=\"text/javascript\">                require([\"plotly\"], function(Plotly) {                    window.PLOTLYENV=window.PLOTLYENV || {};\n",
       "                    window.PLOTLYENV.BASE_URL='https://plot.ly';                                    if (document.getElementById(\"eba1b686-20c3-4581-bbe0-47d53ece03b0\")) {                    Plotly.newPlot(                        \"eba1b686-20c3-4581-bbe0-47d53ece03b0\",                        [{\"line\": {\"color\": \"rgba(255, 153, 51, 1.0)\", \"dash\": \"solid\", \"shape\": \"linear\", \"width\": 1.3}, \"marker\": {\"size\": 10, \"symbol\": \"circle\"}, \"mode\": \"markers\", \"name\": \"B\", \"text\": \"\", \"type\": \"scatter\", \"x\": [0.5217537784129974, 0.3309749226115375, -1.193876709659765, 0.44343923119185524, -0.18931392017075624, 0.173205767535824, 0.696775738847488, -2.014191654816539, -0.3260508724875542, 1.7018734448037018, -0.3578297915922514, 0.795878744012465, -0.6221105875227282, 0.1795158852025101, -0.5263018890301373, -1.6579984218119408, 1.5734505787806656, 0.09347039337484478, 0.22695335836177413, 1.74135293216879, 0.8543457987432498, 1.6668700893834498, 0.21509981024768562, 0.05147367659147075, 0.595348020727714, 1.3425773565713435, 0.5056396605572587, 0.7004964136717756, -0.11611198442315279, 0.7084287321300998, -0.7109807917845864, 0.243838163690604, -0.052769434282530246, 0.65197584784953, 0.15111623638211763, -0.45994422176644884, -1.6377125581004068, 1.6353164567583425, -0.02110823435862904, 0.8662866086795274, -0.7992112511748268, -1.2091767689531847, 0.615433464445986, -0.6918898665437458, -0.22088314776555945, -0.36616282407008444, 1.2391168115335351, -0.6051262003388084, -1.590191148875863, -0.9818480747620559, -0.4616387767955757, -0.7134294894563353, 0.07223535070388272, 0.057558323803864345, -0.43681040939791793, 0.4689372999801223, 1.502366134331344, 0.7308934048604777, -1.8445348233596541, -0.023749777252913405, 0.07027259389091652, 0.795641143639049, 0.14650863736209424, -0.289159142974127, -1.2748625970110754, -0.2774290754016461, 0.8781245042054561, -0.8697236584897804, 0.07199053776509524, -1.757042236586087, 0.39716974253845905, 0.1654662688475511, -0.33199426676448535, 0.7744544397767887, 1.1793804702730013, -0.9462622397360114, 0.7557618474116468, -0.5317089300673019, 0.04458895563719713, -0.3484351357629532, 0.9637309052261983, 0.5769189564311794, 0.08063722123130981, 0.5023295174559748, -0.7596996515964047, 1.4161337913043834, 1.9283827384775984, -1.6721607391450544, 0.4553713821873685, -0.3971879291836942, 0.17041840171947764, -1.1644496531098152, 0.15295268302093223, -0.18904846215760945, 0.2400629991205869, -0.010061126559507024, 0.8658858707404796, 1.056913755398305, 0.862841462797941, 0.47176134545444554], \"y\": [-0.39261445799361727, 0.22580367056171108, 0.25483863748102475, 0.9905938087654146, -0.3454489749148752, 0.5862541601958202, 0.04228997696170449, -1.5099138219153663, -1.4985134831759215, 0.09468800407249342, -0.6529428511506372, 0.11140377407013143, 0.2986561002471471, -0.6958738060209194, 1.6280048100235736, -1.4414780265052891, -1.0091162361804633, -0.4358346913952342, 0.9644518693267125, 1.339378202043062, -1.009276170450571, 0.355374750343669, 2.4613393443673854, 1.1250694379563946, -0.3101218143757754, 0.21931795568428836, -1.1034092566915703, 0.34792501227665257, 0.5640927383340527, 2.005692956097845, -1.3763340171658087, -0.5516546832432645, -0.4322623433505339, -1.4069669300676437, 0.9925196666613212, -0.3174599626785784, -1.402277482694772, 1.5941004088534267, -0.20902468508344935, 1.7723686071566995, 1.0255780072645866, 0.3611684560390772, -0.9876425439197813, 2.0634227790927873, 0.5808836005391271, 2.085501418876228, -0.1669861926278503, 2.4188376530846787, -1.7854249534372195, -2.0250332266149442, -0.54463884665561, 0.990855608274131, -1.4367068235569664, -0.4429595086434903, 0.2807870731341278, -1.2933742820918692, -0.1556993337542278, -1.1504599947642138, 0.6624811468344771, -0.9756259309342289, 0.8167384140483486, -0.5345985813863435, -0.27727702113759906, 0.19310545663846124, -1.532902312679032, -0.028100975887289895, -1.9959810670789664, 0.2243920084584965, -0.6600578441118969, 1.3352710743039025, -1.398424039696386, 0.8462771387518341, 0.11236464635976393, -0.15515819132980102, 1.3302994525696428, -0.5868131798941717, 1.3234568595593719, 0.8499332074462286, -0.08224166207067568, 0.6328294865034617, 0.06679708452559546, -0.23350689690678816, -2.7527613522856362, 0.9548230886533037, -0.5190830632490822, -0.42926880006980395, 0.236960866081998, -1.9304304156678027, 0.5350138717457857, -0.6962587707076815, -0.1957102445287146, -1.3072663184338325, -0.10554726253657928, 0.20192027205191437, -0.3790196316097984, -0.47639675723883623, -0.2596209420386043, 1.4129214345638288, 1.215471680596547, -1.0518754451458192]}],                        {\"legend\": {\"bgcolor\": \"#F5F6F9\", \"font\": {\"color\": \"#4D5663\"}}, \"paper_bgcolor\": \"#F5F6F9\", \"plot_bgcolor\": \"#F5F6F9\", \"template\": {\"data\": {\"bar\": [{\"error_x\": {\"color\": \"#2a3f5f\"}, \"error_y\": {\"color\": \"#2a3f5f\"}, \"marker\": {\"line\": {\"color\": \"#E5ECF6\", \"width\": 0.5}}, \"type\": \"bar\"}], \"barpolar\": [{\"marker\": {\"line\": {\"color\": \"#E5ECF6\", \"width\": 0.5}}, \"type\": \"barpolar\"}], \"carpet\": [{\"aaxis\": {\"endlinecolor\": \"#2a3f5f\", \"gridcolor\": \"white\", \"linecolor\": \"white\", \"minorgridcolor\": \"white\", \"startlinecolor\": \"#2a3f5f\"}, \"baxis\": {\"endlinecolor\": \"#2a3f5f\", \"gridcolor\": \"white\", \"linecolor\": \"white\", \"minorgridcolor\": \"white\", \"startlinecolor\": \"#2a3f5f\"}, \"type\": \"carpet\"}], \"choropleth\": [{\"colorbar\": {\"outlinewidth\": 0, \"ticks\": \"\"}, \"type\": \"choropleth\"}], \"contour\": [{\"colorbar\": {\"outlinewidth\": 0, \"ticks\": \"\"}, \"colorscale\": [[0.0, \"#0d0887\"], [0.1111111111111111, \"#46039f\"], [0.2222222222222222, \"#7201a8\"], [0.3333333333333333, \"#9c179e\"], [0.4444444444444444, \"#bd3786\"], [0.5555555555555556, \"#d8576b\"], [0.6666666666666666, \"#ed7953\"], [0.7777777777777778, \"#fb9f3a\"], [0.8888888888888888, \"#fdca26\"], [1.0, \"#f0f921\"]], \"type\": \"contour\"}], \"contourcarpet\": [{\"colorbar\": {\"outlinewidth\": 0, \"ticks\": \"\"}, \"type\": \"contourcarpet\"}], \"heatmap\": [{\"colorbar\": {\"outlinewidth\": 0, \"ticks\": \"\"}, \"colorscale\": [[0.0, \"#0d0887\"], [0.1111111111111111, \"#46039f\"], [0.2222222222222222, \"#7201a8\"], [0.3333333333333333, \"#9c179e\"], [0.4444444444444444, \"#bd3786\"], [0.5555555555555556, \"#d8576b\"], [0.6666666666666666, \"#ed7953\"], [0.7777777777777778, \"#fb9f3a\"], [0.8888888888888888, \"#fdca26\"], [1.0, \"#f0f921\"]], \"type\": \"heatmap\"}], \"heatmapgl\": [{\"colorbar\": {\"outlinewidth\": 0, \"ticks\": \"\"}, \"colorscale\": [[0.0, \"#0d0887\"], [0.1111111111111111, \"#46039f\"], [0.2222222222222222, \"#7201a8\"], [0.3333333333333333, \"#9c179e\"], [0.4444444444444444, \"#bd3786\"], [0.5555555555555556, \"#d8576b\"], [0.6666666666666666, \"#ed7953\"], [0.7777777777777778, \"#fb9f3a\"], [0.8888888888888888, \"#fdca26\"], [1.0, \"#f0f921\"]], \"type\": \"heatmapgl\"}], \"histogram\": [{\"marker\": {\"colorbar\": {\"outlinewidth\": 0, \"ticks\": \"\"}}, \"type\": \"histogram\"}], \"histogram2d\": [{\"colorbar\": {\"outlinewidth\": 0, \"ticks\": \"\"}, \"colorscale\": [[0.0, \"#0d0887\"], [0.1111111111111111, \"#46039f\"], [0.2222222222222222, \"#7201a8\"], [0.3333333333333333, \"#9c179e\"], [0.4444444444444444, \"#bd3786\"], [0.5555555555555556, \"#d8576b\"], [0.6666666666666666, \"#ed7953\"], [0.7777777777777778, \"#fb9f3a\"], [0.8888888888888888, \"#fdca26\"], [1.0, \"#f0f921\"]], \"type\": \"histogram2d\"}], \"histogram2dcontour\": [{\"colorbar\": {\"outlinewidth\": 0, \"ticks\": \"\"}, \"colorscale\": [[0.0, \"#0d0887\"], [0.1111111111111111, \"#46039f\"], [0.2222222222222222, \"#7201a8\"], [0.3333333333333333, \"#9c179e\"], [0.4444444444444444, \"#bd3786\"], [0.5555555555555556, \"#d8576b\"], [0.6666666666666666, \"#ed7953\"], [0.7777777777777778, \"#fb9f3a\"], [0.8888888888888888, \"#fdca26\"], [1.0, \"#f0f921\"]], \"type\": \"histogram2dcontour\"}], \"mesh3d\": [{\"colorbar\": {\"outlinewidth\": 0, \"ticks\": \"\"}, \"type\": \"mesh3d\"}], \"parcoords\": [{\"line\": {\"colorbar\": {\"outlinewidth\": 0, \"ticks\": \"\"}}, \"type\": \"parcoords\"}], \"pie\": [{\"automargin\": true, \"type\": \"pie\"}], \"scatter\": [{\"marker\": {\"colorbar\": {\"outlinewidth\": 0, \"ticks\": \"\"}}, \"type\": \"scatter\"}], \"scatter3d\": [{\"line\": {\"colorbar\": {\"outlinewidth\": 0, \"ticks\": \"\"}}, \"marker\": {\"colorbar\": {\"outlinewidth\": 0, \"ticks\": \"\"}}, \"type\": \"scatter3d\"}], \"scattercarpet\": [{\"marker\": {\"colorbar\": {\"outlinewidth\": 0, \"ticks\": \"\"}}, \"type\": \"scattercarpet\"}], \"scattergeo\": [{\"marker\": {\"colorbar\": {\"outlinewidth\": 0, \"ticks\": \"\"}}, \"type\": \"scattergeo\"}], \"scattergl\": [{\"marker\": {\"colorbar\": {\"outlinewidth\": 0, \"ticks\": \"\"}}, \"type\": \"scattergl\"}], \"scattermapbox\": [{\"marker\": {\"colorbar\": {\"outlinewidth\": 0, \"ticks\": \"\"}}, \"type\": \"scattermapbox\"}], \"scatterpolar\": [{\"marker\": {\"colorbar\": {\"outlinewidth\": 0, \"ticks\": \"\"}}, \"type\": \"scatterpolar\"}], \"scatterpolargl\": [{\"marker\": {\"colorbar\": {\"outlinewidth\": 0, \"ticks\": \"\"}}, \"type\": \"scatterpolargl\"}], \"scatterternary\": [{\"marker\": {\"colorbar\": {\"outlinewidth\": 0, \"ticks\": \"\"}}, \"type\": \"scatterternary\"}], \"surface\": [{\"colorbar\": {\"outlinewidth\": 0, \"ticks\": \"\"}, \"colorscale\": [[0.0, \"#0d0887\"], [0.1111111111111111, \"#46039f\"], [0.2222222222222222, \"#7201a8\"], [0.3333333333333333, \"#9c179e\"], [0.4444444444444444, \"#bd3786\"], [0.5555555555555556, \"#d8576b\"], [0.6666666666666666, \"#ed7953\"], [0.7777777777777778, \"#fb9f3a\"], [0.8888888888888888, \"#fdca26\"], [1.0, \"#f0f921\"]], \"type\": \"surface\"}], \"table\": [{\"cells\": {\"fill\": {\"color\": \"#EBF0F8\"}, \"line\": {\"color\": \"white\"}}, \"header\": {\"fill\": {\"color\": \"#C8D4E3\"}, \"line\": {\"color\": \"white\"}}, \"type\": \"table\"}]}, \"layout\": {\"annotationdefaults\": {\"arrowcolor\": \"#2a3f5f\", \"arrowhead\": 0, \"arrowwidth\": 1}, \"coloraxis\": {\"colorbar\": {\"outlinewidth\": 0, \"ticks\": \"\"}}, \"colorscale\": {\"diverging\": [[0, \"#8e0152\"], [0.1, \"#c51b7d\"], [0.2, \"#de77ae\"], [0.3, \"#f1b6da\"], [0.4, \"#fde0ef\"], [0.5, \"#f7f7f7\"], [0.6, \"#e6f5d0\"], [0.7, \"#b8e186\"], [0.8, \"#7fbc41\"], [0.9, \"#4d9221\"], [1, \"#276419\"]], \"sequential\": [[0.0, \"#0d0887\"], [0.1111111111111111, \"#46039f\"], [0.2222222222222222, \"#7201a8\"], [0.3333333333333333, \"#9c179e\"], [0.4444444444444444, \"#bd3786\"], [0.5555555555555556, \"#d8576b\"], [0.6666666666666666, \"#ed7953\"], [0.7777777777777778, \"#fb9f3a\"], [0.8888888888888888, \"#fdca26\"], [1.0, \"#f0f921\"]], \"sequentialminus\": [[0.0, \"#0d0887\"], [0.1111111111111111, \"#46039f\"], [0.2222222222222222, \"#7201a8\"], [0.3333333333333333, \"#9c179e\"], [0.4444444444444444, \"#bd3786\"], [0.5555555555555556, \"#d8576b\"], [0.6666666666666666, \"#ed7953\"], [0.7777777777777778, \"#fb9f3a\"], [0.8888888888888888, \"#fdca26\"], [1.0, \"#f0f921\"]]}, \"colorway\": [\"#636efa\", \"#EF553B\", \"#00cc96\", \"#ab63fa\", \"#FFA15A\", \"#19d3f3\", \"#FF6692\", \"#B6E880\", \"#FF97FF\", \"#FECB52\"], \"font\": {\"color\": \"#2a3f5f\"}, \"geo\": {\"bgcolor\": \"white\", \"lakecolor\": \"white\", \"landcolor\": \"#E5ECF6\", \"showlakes\": true, \"showland\": true, \"subunitcolor\": \"white\"}, \"hoverlabel\": {\"align\": \"left\"}, \"hovermode\": \"closest\", \"mapbox\": {\"style\": \"light\"}, \"paper_bgcolor\": \"white\", \"plot_bgcolor\": \"#E5ECF6\", \"polar\": {\"angularaxis\": {\"gridcolor\": \"white\", \"linecolor\": \"white\", \"ticks\": \"\"}, \"bgcolor\": \"#E5ECF6\", \"radialaxis\": {\"gridcolor\": \"white\", \"linecolor\": \"white\", \"ticks\": \"\"}}, \"scene\": {\"xaxis\": {\"backgroundcolor\": \"#E5ECF6\", \"gridcolor\": \"white\", \"gridwidth\": 2, \"linecolor\": \"white\", \"showbackground\": true, \"ticks\": \"\", \"zerolinecolor\": \"white\"}, \"yaxis\": {\"backgroundcolor\": \"#E5ECF6\", \"gridcolor\": \"white\", \"gridwidth\": 2, \"linecolor\": \"white\", \"showbackground\": true, \"ticks\": \"\", \"zerolinecolor\": \"white\"}, \"zaxis\": {\"backgroundcolor\": \"#E5ECF6\", \"gridcolor\": \"white\", \"gridwidth\": 2, \"linecolor\": \"white\", \"showbackground\": true, \"ticks\": \"\", \"zerolinecolor\": \"white\"}}, \"shapedefaults\": {\"line\": {\"color\": \"#2a3f5f\"}}, \"ternary\": {\"aaxis\": {\"gridcolor\": \"white\", \"linecolor\": \"white\", \"ticks\": \"\"}, \"baxis\": {\"gridcolor\": \"white\", \"linecolor\": \"white\", \"ticks\": \"\"}, \"bgcolor\": \"#E5ECF6\", \"caxis\": {\"gridcolor\": \"white\", \"linecolor\": \"white\", \"ticks\": \"\"}}, \"title\": {\"x\": 0.05}, \"xaxis\": {\"automargin\": true, \"gridcolor\": \"white\", \"linecolor\": \"white\", \"ticks\": \"\", \"title\": {\"standoff\": 15}, \"zerolinecolor\": \"white\", \"zerolinewidth\": 2}, \"yaxis\": {\"automargin\": true, \"gridcolor\": \"white\", \"linecolor\": \"white\", \"ticks\": \"\", \"title\": {\"standoff\": 15}, \"zerolinecolor\": \"white\", \"zerolinewidth\": 2}}}, \"title\": {\"font\": {\"color\": \"#4D5663\"}}, \"xaxis\": {\"gridcolor\": \"#E1E5ED\", \"showgrid\": true, \"tickfont\": {\"color\": \"#4D5663\"}, \"title\": {\"font\": {\"color\": \"#4D5663\"}, \"text\": \"\"}, \"zerolinecolor\": \"#E1E5ED\"}, \"yaxis\": {\"gridcolor\": \"#E1E5ED\", \"showgrid\": true, \"tickfont\": {\"color\": \"#4D5663\"}, \"title\": {\"font\": {\"color\": \"#4D5663\"}, \"text\": \"\"}, \"zerolinecolor\": \"#E1E5ED\"}},                        {\"showLink\": true, \"linkText\": \"Export to plot.ly\", \"plotlyServerURL\": \"https://plot.ly\", \"responsive\": true}                    ).then(function(){\n",
       "                            \n",
       "var gd = document.getElementById('eba1b686-20c3-4581-bbe0-47d53ece03b0');\n",
       "var x = new MutationObserver(function (mutations, observer) {{\n",
       "        var display = window.getComputedStyle(gd).display;\n",
       "        if (!display || display === 'none') {{\n",
       "            console.log([gd, 'removed!']);\n",
       "            Plotly.purge(gd);\n",
       "            observer.disconnect();\n",
       "        }}\n",
       "}});\n",
       "\n",
       "// Listen for the removal of the full notebook cells\n",
       "var notebookContainer = gd.closest('#notebook-container');\n",
       "if (notebookContainer) {{\n",
       "    x.observe(notebookContainer, {childList: true});\n",
       "}}\n",
       "\n",
       "// Listen for the clearing of the current output cell\n",
       "var outputEl = gd.closest('.output');\n",
       "if (outputEl) {{\n",
       "    x.observe(outputEl, {childList: true});\n",
       "}}\n",
       "\n",
       "                        })                };                });            </script>        </div>"
      ]
     },
     "metadata": {},
     "output_type": "display_data"
    }
   ],
   "source": [
    "df.iplot(kind='scatter',x='A',y='B',mode='markers',size=10)"
   ]
  },
  {
   "cell_type": "code",
   "execution_count": 16,
   "metadata": {},
   "outputs": [
    {
     "data": {
      "application/vnd.plotly.v1+json": {
       "config": {
        "linkText": "Export to plot.ly",
        "plotlyServerURL": "https://plot.ly",
        "showLink": true
       },
       "data": [
        {
         "marker": {
          "color": "rgba(255, 153, 51, 0.6)",
          "line": {
           "color": "rgba(255, 153, 51, 1.0)",
           "width": 1
          }
         },
         "name": "Values",
         "orientation": "v",
         "text": "",
         "type": "bar",
         "x": [
          "A",
          "B",
          "C"
         ],
         "y": [
          32,
          43,
          50
         ]
        }
       ],
       "layout": {
        "legend": {
         "bgcolor": "#F5F6F9",
         "font": {
          "color": "#4D5663"
         }
        },
        "paper_bgcolor": "#F5F6F9",
        "plot_bgcolor": "#F5F6F9",
        "template": {
         "data": {
          "bar": [
           {
            "error_x": {
             "color": "#2a3f5f"
            },
            "error_y": {
             "color": "#2a3f5f"
            },
            "marker": {
             "line": {
              "color": "#E5ECF6",
              "width": 0.5
             }
            },
            "type": "bar"
           }
          ],
          "barpolar": [
           {
            "marker": {
             "line": {
              "color": "#E5ECF6",
              "width": 0.5
             }
            },
            "type": "barpolar"
           }
          ],
          "carpet": [
           {
            "aaxis": {
             "endlinecolor": "#2a3f5f",
             "gridcolor": "white",
             "linecolor": "white",
             "minorgridcolor": "white",
             "startlinecolor": "#2a3f5f"
            },
            "baxis": {
             "endlinecolor": "#2a3f5f",
             "gridcolor": "white",
             "linecolor": "white",
             "minorgridcolor": "white",
             "startlinecolor": "#2a3f5f"
            },
            "type": "carpet"
           }
          ],
          "choropleth": [
           {
            "colorbar": {
             "outlinewidth": 0,
             "ticks": ""
            },
            "type": "choropleth"
           }
          ],
          "contour": [
           {
            "colorbar": {
             "outlinewidth": 0,
             "ticks": ""
            },
            "colorscale": [
             [
              0,
              "#0d0887"
             ],
             [
              0.1111111111111111,
              "#46039f"
             ],
             [
              0.2222222222222222,
              "#7201a8"
             ],
             [
              0.3333333333333333,
              "#9c179e"
             ],
             [
              0.4444444444444444,
              "#bd3786"
             ],
             [
              0.5555555555555556,
              "#d8576b"
             ],
             [
              0.6666666666666666,
              "#ed7953"
             ],
             [
              0.7777777777777778,
              "#fb9f3a"
             ],
             [
              0.8888888888888888,
              "#fdca26"
             ],
             [
              1,
              "#f0f921"
             ]
            ],
            "type": "contour"
           }
          ],
          "contourcarpet": [
           {
            "colorbar": {
             "outlinewidth": 0,
             "ticks": ""
            },
            "type": "contourcarpet"
           }
          ],
          "heatmap": [
           {
            "colorbar": {
             "outlinewidth": 0,
             "ticks": ""
            },
            "colorscale": [
             [
              0,
              "#0d0887"
             ],
             [
              0.1111111111111111,
              "#46039f"
             ],
             [
              0.2222222222222222,
              "#7201a8"
             ],
             [
              0.3333333333333333,
              "#9c179e"
             ],
             [
              0.4444444444444444,
              "#bd3786"
             ],
             [
              0.5555555555555556,
              "#d8576b"
             ],
             [
              0.6666666666666666,
              "#ed7953"
             ],
             [
              0.7777777777777778,
              "#fb9f3a"
             ],
             [
              0.8888888888888888,
              "#fdca26"
             ],
             [
              1,
              "#f0f921"
             ]
            ],
            "type": "heatmap"
           }
          ],
          "heatmapgl": [
           {
            "colorbar": {
             "outlinewidth": 0,
             "ticks": ""
            },
            "colorscale": [
             [
              0,
              "#0d0887"
             ],
             [
              0.1111111111111111,
              "#46039f"
             ],
             [
              0.2222222222222222,
              "#7201a8"
             ],
             [
              0.3333333333333333,
              "#9c179e"
             ],
             [
              0.4444444444444444,
              "#bd3786"
             ],
             [
              0.5555555555555556,
              "#d8576b"
             ],
             [
              0.6666666666666666,
              "#ed7953"
             ],
             [
              0.7777777777777778,
              "#fb9f3a"
             ],
             [
              0.8888888888888888,
              "#fdca26"
             ],
             [
              1,
              "#f0f921"
             ]
            ],
            "type": "heatmapgl"
           }
          ],
          "histogram": [
           {
            "marker": {
             "colorbar": {
              "outlinewidth": 0,
              "ticks": ""
             }
            },
            "type": "histogram"
           }
          ],
          "histogram2d": [
           {
            "colorbar": {
             "outlinewidth": 0,
             "ticks": ""
            },
            "colorscale": [
             [
              0,
              "#0d0887"
             ],
             [
              0.1111111111111111,
              "#46039f"
             ],
             [
              0.2222222222222222,
              "#7201a8"
             ],
             [
              0.3333333333333333,
              "#9c179e"
             ],
             [
              0.4444444444444444,
              "#bd3786"
             ],
             [
              0.5555555555555556,
              "#d8576b"
             ],
             [
              0.6666666666666666,
              "#ed7953"
             ],
             [
              0.7777777777777778,
              "#fb9f3a"
             ],
             [
              0.8888888888888888,
              "#fdca26"
             ],
             [
              1,
              "#f0f921"
             ]
            ],
            "type": "histogram2d"
           }
          ],
          "histogram2dcontour": [
           {
            "colorbar": {
             "outlinewidth": 0,
             "ticks": ""
            },
            "colorscale": [
             [
              0,
              "#0d0887"
             ],
             [
              0.1111111111111111,
              "#46039f"
             ],
             [
              0.2222222222222222,
              "#7201a8"
             ],
             [
              0.3333333333333333,
              "#9c179e"
             ],
             [
              0.4444444444444444,
              "#bd3786"
             ],
             [
              0.5555555555555556,
              "#d8576b"
             ],
             [
              0.6666666666666666,
              "#ed7953"
             ],
             [
              0.7777777777777778,
              "#fb9f3a"
             ],
             [
              0.8888888888888888,
              "#fdca26"
             ],
             [
              1,
              "#f0f921"
             ]
            ],
            "type": "histogram2dcontour"
           }
          ],
          "mesh3d": [
           {
            "colorbar": {
             "outlinewidth": 0,
             "ticks": ""
            },
            "type": "mesh3d"
           }
          ],
          "parcoords": [
           {
            "line": {
             "colorbar": {
              "outlinewidth": 0,
              "ticks": ""
             }
            },
            "type": "parcoords"
           }
          ],
          "pie": [
           {
            "automargin": true,
            "type": "pie"
           }
          ],
          "scatter": [
           {
            "marker": {
             "colorbar": {
              "outlinewidth": 0,
              "ticks": ""
             }
            },
            "type": "scatter"
           }
          ],
          "scatter3d": [
           {
            "line": {
             "colorbar": {
              "outlinewidth": 0,
              "ticks": ""
             }
            },
            "marker": {
             "colorbar": {
              "outlinewidth": 0,
              "ticks": ""
             }
            },
            "type": "scatter3d"
           }
          ],
          "scattercarpet": [
           {
            "marker": {
             "colorbar": {
              "outlinewidth": 0,
              "ticks": ""
             }
            },
            "type": "scattercarpet"
           }
          ],
          "scattergeo": [
           {
            "marker": {
             "colorbar": {
              "outlinewidth": 0,
              "ticks": ""
             }
            },
            "type": "scattergeo"
           }
          ],
          "scattergl": [
           {
            "marker": {
             "colorbar": {
              "outlinewidth": 0,
              "ticks": ""
             }
            },
            "type": "scattergl"
           }
          ],
          "scattermapbox": [
           {
            "marker": {
             "colorbar": {
              "outlinewidth": 0,
              "ticks": ""
             }
            },
            "type": "scattermapbox"
           }
          ],
          "scatterpolar": [
           {
            "marker": {
             "colorbar": {
              "outlinewidth": 0,
              "ticks": ""
             }
            },
            "type": "scatterpolar"
           }
          ],
          "scatterpolargl": [
           {
            "marker": {
             "colorbar": {
              "outlinewidth": 0,
              "ticks": ""
             }
            },
            "type": "scatterpolargl"
           }
          ],
          "scatterternary": [
           {
            "marker": {
             "colorbar": {
              "outlinewidth": 0,
              "ticks": ""
             }
            },
            "type": "scatterternary"
           }
          ],
          "surface": [
           {
            "colorbar": {
             "outlinewidth": 0,
             "ticks": ""
            },
            "colorscale": [
             [
              0,
              "#0d0887"
             ],
             [
              0.1111111111111111,
              "#46039f"
             ],
             [
              0.2222222222222222,
              "#7201a8"
             ],
             [
              0.3333333333333333,
              "#9c179e"
             ],
             [
              0.4444444444444444,
              "#bd3786"
             ],
             [
              0.5555555555555556,
              "#d8576b"
             ],
             [
              0.6666666666666666,
              "#ed7953"
             ],
             [
              0.7777777777777778,
              "#fb9f3a"
             ],
             [
              0.8888888888888888,
              "#fdca26"
             ],
             [
              1,
              "#f0f921"
             ]
            ],
            "type": "surface"
           }
          ],
          "table": [
           {
            "cells": {
             "fill": {
              "color": "#EBF0F8"
             },
             "line": {
              "color": "white"
             }
            },
            "header": {
             "fill": {
              "color": "#C8D4E3"
             },
             "line": {
              "color": "white"
             }
            },
            "type": "table"
           }
          ]
         },
         "layout": {
          "annotationdefaults": {
           "arrowcolor": "#2a3f5f",
           "arrowhead": 0,
           "arrowwidth": 1
          },
          "coloraxis": {
           "colorbar": {
            "outlinewidth": 0,
            "ticks": ""
           }
          },
          "colorscale": {
           "diverging": [
            [
             0,
             "#8e0152"
            ],
            [
             0.1,
             "#c51b7d"
            ],
            [
             0.2,
             "#de77ae"
            ],
            [
             0.3,
             "#f1b6da"
            ],
            [
             0.4,
             "#fde0ef"
            ],
            [
             0.5,
             "#f7f7f7"
            ],
            [
             0.6,
             "#e6f5d0"
            ],
            [
             0.7,
             "#b8e186"
            ],
            [
             0.8,
             "#7fbc41"
            ],
            [
             0.9,
             "#4d9221"
            ],
            [
             1,
             "#276419"
            ]
           ],
           "sequential": [
            [
             0,
             "#0d0887"
            ],
            [
             0.1111111111111111,
             "#46039f"
            ],
            [
             0.2222222222222222,
             "#7201a8"
            ],
            [
             0.3333333333333333,
             "#9c179e"
            ],
            [
             0.4444444444444444,
             "#bd3786"
            ],
            [
             0.5555555555555556,
             "#d8576b"
            ],
            [
             0.6666666666666666,
             "#ed7953"
            ],
            [
             0.7777777777777778,
             "#fb9f3a"
            ],
            [
             0.8888888888888888,
             "#fdca26"
            ],
            [
             1,
             "#f0f921"
            ]
           ],
           "sequentialminus": [
            [
             0,
             "#0d0887"
            ],
            [
             0.1111111111111111,
             "#46039f"
            ],
            [
             0.2222222222222222,
             "#7201a8"
            ],
            [
             0.3333333333333333,
             "#9c179e"
            ],
            [
             0.4444444444444444,
             "#bd3786"
            ],
            [
             0.5555555555555556,
             "#d8576b"
            ],
            [
             0.6666666666666666,
             "#ed7953"
            ],
            [
             0.7777777777777778,
             "#fb9f3a"
            ],
            [
             0.8888888888888888,
             "#fdca26"
            ],
            [
             1,
             "#f0f921"
            ]
           ]
          },
          "colorway": [
           "#636efa",
           "#EF553B",
           "#00cc96",
           "#ab63fa",
           "#FFA15A",
           "#19d3f3",
           "#FF6692",
           "#B6E880",
           "#FF97FF",
           "#FECB52"
          ],
          "font": {
           "color": "#2a3f5f"
          },
          "geo": {
           "bgcolor": "white",
           "lakecolor": "white",
           "landcolor": "#E5ECF6",
           "showlakes": true,
           "showland": true,
           "subunitcolor": "white"
          },
          "hoverlabel": {
           "align": "left"
          },
          "hovermode": "closest",
          "mapbox": {
           "style": "light"
          },
          "paper_bgcolor": "white",
          "plot_bgcolor": "#E5ECF6",
          "polar": {
           "angularaxis": {
            "gridcolor": "white",
            "linecolor": "white",
            "ticks": ""
           },
           "bgcolor": "#E5ECF6",
           "radialaxis": {
            "gridcolor": "white",
            "linecolor": "white",
            "ticks": ""
           }
          },
          "scene": {
           "xaxis": {
            "backgroundcolor": "#E5ECF6",
            "gridcolor": "white",
            "gridwidth": 2,
            "linecolor": "white",
            "showbackground": true,
            "ticks": "",
            "zerolinecolor": "white"
           },
           "yaxis": {
            "backgroundcolor": "#E5ECF6",
            "gridcolor": "white",
            "gridwidth": 2,
            "linecolor": "white",
            "showbackground": true,
            "ticks": "",
            "zerolinecolor": "white"
           },
           "zaxis": {
            "backgroundcolor": "#E5ECF6",
            "gridcolor": "white",
            "gridwidth": 2,
            "linecolor": "white",
            "showbackground": true,
            "ticks": "",
            "zerolinecolor": "white"
           }
          },
          "shapedefaults": {
           "line": {
            "color": "#2a3f5f"
           }
          },
          "ternary": {
           "aaxis": {
            "gridcolor": "white",
            "linecolor": "white",
            "ticks": ""
           },
           "baxis": {
            "gridcolor": "white",
            "linecolor": "white",
            "ticks": ""
           },
           "bgcolor": "#E5ECF6",
           "caxis": {
            "gridcolor": "white",
            "linecolor": "white",
            "ticks": ""
           }
          },
          "title": {
           "x": 0.05
          },
          "xaxis": {
           "automargin": true,
           "gridcolor": "white",
           "linecolor": "white",
           "ticks": "",
           "title": {
            "standoff": 15
           },
           "zerolinecolor": "white",
           "zerolinewidth": 2
          },
          "yaxis": {
           "automargin": true,
           "gridcolor": "white",
           "linecolor": "white",
           "ticks": "",
           "title": {
            "standoff": 15
           },
           "zerolinecolor": "white",
           "zerolinewidth": 2
          }
         }
        },
        "title": {
         "font": {
          "color": "#4D5663"
         }
        },
        "xaxis": {
         "gridcolor": "#E1E5ED",
         "showgrid": true,
         "tickfont": {
          "color": "#4D5663"
         },
         "title": {
          "font": {
           "color": "#4D5663"
          },
          "text": ""
         },
         "zerolinecolor": "#E1E5ED"
        },
        "yaxis": {
         "gridcolor": "#E1E5ED",
         "showgrid": true,
         "tickfont": {
          "color": "#4D5663"
         },
         "title": {
          "font": {
           "color": "#4D5663"
          },
          "text": ""
         },
         "zerolinecolor": "#E1E5ED"
        }
       }
      },
      "text/html": [
       "<div>                            <div id=\"68de02a5-2fff-4e85-8a15-9d32d35dbd07\" class=\"plotly-graph-div\" style=\"height:525px; width:100%;\"></div>            <script type=\"text/javascript\">                require([\"plotly\"], function(Plotly) {                    window.PLOTLYENV=window.PLOTLYENV || {};\n",
       "                    window.PLOTLYENV.BASE_URL='https://plot.ly';                                    if (document.getElementById(\"68de02a5-2fff-4e85-8a15-9d32d35dbd07\")) {                    Plotly.newPlot(                        \"68de02a5-2fff-4e85-8a15-9d32d35dbd07\",                        [{\"marker\": {\"color\": \"rgba(255, 153, 51, 0.6)\", \"line\": {\"color\": \"rgba(255, 153, 51, 1.0)\", \"width\": 1}}, \"name\": \"Values\", \"orientation\": \"v\", \"text\": \"\", \"type\": \"bar\", \"x\": [\"A\", \"B\", \"C\"], \"y\": [32, 43, 50]}],                        {\"legend\": {\"bgcolor\": \"#F5F6F9\", \"font\": {\"color\": \"#4D5663\"}}, \"paper_bgcolor\": \"#F5F6F9\", \"plot_bgcolor\": \"#F5F6F9\", \"template\": {\"data\": {\"bar\": [{\"error_x\": {\"color\": \"#2a3f5f\"}, \"error_y\": {\"color\": \"#2a3f5f\"}, \"marker\": {\"line\": {\"color\": \"#E5ECF6\", \"width\": 0.5}}, \"type\": \"bar\"}], \"barpolar\": [{\"marker\": {\"line\": {\"color\": \"#E5ECF6\", \"width\": 0.5}}, \"type\": \"barpolar\"}], \"carpet\": [{\"aaxis\": {\"endlinecolor\": \"#2a3f5f\", \"gridcolor\": \"white\", \"linecolor\": \"white\", \"minorgridcolor\": \"white\", \"startlinecolor\": \"#2a3f5f\"}, \"baxis\": {\"endlinecolor\": \"#2a3f5f\", \"gridcolor\": \"white\", \"linecolor\": \"white\", \"minorgridcolor\": \"white\", \"startlinecolor\": \"#2a3f5f\"}, \"type\": \"carpet\"}], \"choropleth\": [{\"colorbar\": {\"outlinewidth\": 0, \"ticks\": \"\"}, \"type\": \"choropleth\"}], \"contour\": [{\"colorbar\": {\"outlinewidth\": 0, \"ticks\": \"\"}, \"colorscale\": [[0.0, \"#0d0887\"], [0.1111111111111111, \"#46039f\"], [0.2222222222222222, \"#7201a8\"], [0.3333333333333333, \"#9c179e\"], [0.4444444444444444, \"#bd3786\"], [0.5555555555555556, \"#d8576b\"], [0.6666666666666666, \"#ed7953\"], [0.7777777777777778, \"#fb9f3a\"], [0.8888888888888888, \"#fdca26\"], [1.0, \"#f0f921\"]], \"type\": \"contour\"}], \"contourcarpet\": [{\"colorbar\": {\"outlinewidth\": 0, \"ticks\": \"\"}, \"type\": \"contourcarpet\"}], \"heatmap\": [{\"colorbar\": {\"outlinewidth\": 0, \"ticks\": \"\"}, \"colorscale\": [[0.0, \"#0d0887\"], [0.1111111111111111, \"#46039f\"], [0.2222222222222222, \"#7201a8\"], [0.3333333333333333, \"#9c179e\"], [0.4444444444444444, \"#bd3786\"], [0.5555555555555556, \"#d8576b\"], [0.6666666666666666, \"#ed7953\"], [0.7777777777777778, \"#fb9f3a\"], [0.8888888888888888, \"#fdca26\"], [1.0, \"#f0f921\"]], \"type\": \"heatmap\"}], \"heatmapgl\": [{\"colorbar\": {\"outlinewidth\": 0, \"ticks\": \"\"}, \"colorscale\": [[0.0, \"#0d0887\"], [0.1111111111111111, \"#46039f\"], [0.2222222222222222, \"#7201a8\"], [0.3333333333333333, \"#9c179e\"], [0.4444444444444444, \"#bd3786\"], [0.5555555555555556, \"#d8576b\"], [0.6666666666666666, \"#ed7953\"], [0.7777777777777778, \"#fb9f3a\"], [0.8888888888888888, \"#fdca26\"], [1.0, \"#f0f921\"]], \"type\": \"heatmapgl\"}], \"histogram\": [{\"marker\": {\"colorbar\": {\"outlinewidth\": 0, \"ticks\": \"\"}}, \"type\": \"histogram\"}], \"histogram2d\": [{\"colorbar\": {\"outlinewidth\": 0, \"ticks\": \"\"}, \"colorscale\": [[0.0, \"#0d0887\"], [0.1111111111111111, \"#46039f\"], [0.2222222222222222, \"#7201a8\"], [0.3333333333333333, \"#9c179e\"], [0.4444444444444444, \"#bd3786\"], [0.5555555555555556, \"#d8576b\"], [0.6666666666666666, \"#ed7953\"], [0.7777777777777778, \"#fb9f3a\"], [0.8888888888888888, \"#fdca26\"], [1.0, \"#f0f921\"]], \"type\": \"histogram2d\"}], \"histogram2dcontour\": [{\"colorbar\": {\"outlinewidth\": 0, \"ticks\": \"\"}, \"colorscale\": [[0.0, \"#0d0887\"], [0.1111111111111111, \"#46039f\"], [0.2222222222222222, \"#7201a8\"], [0.3333333333333333, \"#9c179e\"], [0.4444444444444444, \"#bd3786\"], [0.5555555555555556, \"#d8576b\"], [0.6666666666666666, \"#ed7953\"], [0.7777777777777778, \"#fb9f3a\"], [0.8888888888888888, \"#fdca26\"], [1.0, \"#f0f921\"]], \"type\": \"histogram2dcontour\"}], \"mesh3d\": [{\"colorbar\": {\"outlinewidth\": 0, \"ticks\": \"\"}, \"type\": \"mesh3d\"}], \"parcoords\": [{\"line\": {\"colorbar\": {\"outlinewidth\": 0, \"ticks\": \"\"}}, \"type\": \"parcoords\"}], \"pie\": [{\"automargin\": true, \"type\": \"pie\"}], \"scatter\": [{\"marker\": {\"colorbar\": {\"outlinewidth\": 0, \"ticks\": \"\"}}, \"type\": \"scatter\"}], \"scatter3d\": [{\"line\": {\"colorbar\": {\"outlinewidth\": 0, \"ticks\": \"\"}}, \"marker\": {\"colorbar\": {\"outlinewidth\": 0, \"ticks\": \"\"}}, \"type\": \"scatter3d\"}], \"scattercarpet\": [{\"marker\": {\"colorbar\": {\"outlinewidth\": 0, \"ticks\": \"\"}}, \"type\": \"scattercarpet\"}], \"scattergeo\": [{\"marker\": {\"colorbar\": {\"outlinewidth\": 0, \"ticks\": \"\"}}, \"type\": \"scattergeo\"}], \"scattergl\": [{\"marker\": {\"colorbar\": {\"outlinewidth\": 0, \"ticks\": \"\"}}, \"type\": \"scattergl\"}], \"scattermapbox\": [{\"marker\": {\"colorbar\": {\"outlinewidth\": 0, \"ticks\": \"\"}}, \"type\": \"scattermapbox\"}], \"scatterpolar\": [{\"marker\": {\"colorbar\": {\"outlinewidth\": 0, \"ticks\": \"\"}}, \"type\": \"scatterpolar\"}], \"scatterpolargl\": [{\"marker\": {\"colorbar\": {\"outlinewidth\": 0, \"ticks\": \"\"}}, \"type\": \"scatterpolargl\"}], \"scatterternary\": [{\"marker\": {\"colorbar\": {\"outlinewidth\": 0, \"ticks\": \"\"}}, \"type\": \"scatterternary\"}], \"surface\": [{\"colorbar\": {\"outlinewidth\": 0, \"ticks\": \"\"}, \"colorscale\": [[0.0, \"#0d0887\"], [0.1111111111111111, \"#46039f\"], [0.2222222222222222, \"#7201a8\"], [0.3333333333333333, \"#9c179e\"], [0.4444444444444444, \"#bd3786\"], [0.5555555555555556, \"#d8576b\"], [0.6666666666666666, \"#ed7953\"], [0.7777777777777778, \"#fb9f3a\"], [0.8888888888888888, \"#fdca26\"], [1.0, \"#f0f921\"]], \"type\": \"surface\"}], \"table\": [{\"cells\": {\"fill\": {\"color\": \"#EBF0F8\"}, \"line\": {\"color\": \"white\"}}, \"header\": {\"fill\": {\"color\": \"#C8D4E3\"}, \"line\": {\"color\": \"white\"}}, \"type\": \"table\"}]}, \"layout\": {\"annotationdefaults\": {\"arrowcolor\": \"#2a3f5f\", \"arrowhead\": 0, \"arrowwidth\": 1}, \"coloraxis\": {\"colorbar\": {\"outlinewidth\": 0, \"ticks\": \"\"}}, \"colorscale\": {\"diverging\": [[0, \"#8e0152\"], [0.1, \"#c51b7d\"], [0.2, \"#de77ae\"], [0.3, \"#f1b6da\"], [0.4, \"#fde0ef\"], [0.5, \"#f7f7f7\"], [0.6, \"#e6f5d0\"], [0.7, \"#b8e186\"], [0.8, \"#7fbc41\"], [0.9, \"#4d9221\"], [1, \"#276419\"]], \"sequential\": [[0.0, \"#0d0887\"], [0.1111111111111111, \"#46039f\"], [0.2222222222222222, \"#7201a8\"], [0.3333333333333333, \"#9c179e\"], [0.4444444444444444, \"#bd3786\"], [0.5555555555555556, \"#d8576b\"], [0.6666666666666666, \"#ed7953\"], [0.7777777777777778, \"#fb9f3a\"], [0.8888888888888888, \"#fdca26\"], [1.0, \"#f0f921\"]], \"sequentialminus\": [[0.0, \"#0d0887\"], [0.1111111111111111, \"#46039f\"], [0.2222222222222222, \"#7201a8\"], [0.3333333333333333, \"#9c179e\"], [0.4444444444444444, \"#bd3786\"], [0.5555555555555556, \"#d8576b\"], [0.6666666666666666, \"#ed7953\"], [0.7777777777777778, \"#fb9f3a\"], [0.8888888888888888, \"#fdca26\"], [1.0, \"#f0f921\"]]}, \"colorway\": [\"#636efa\", \"#EF553B\", \"#00cc96\", \"#ab63fa\", \"#FFA15A\", \"#19d3f3\", \"#FF6692\", \"#B6E880\", \"#FF97FF\", \"#FECB52\"], \"font\": {\"color\": \"#2a3f5f\"}, \"geo\": {\"bgcolor\": \"white\", \"lakecolor\": \"white\", \"landcolor\": \"#E5ECF6\", \"showlakes\": true, \"showland\": true, \"subunitcolor\": \"white\"}, \"hoverlabel\": {\"align\": \"left\"}, \"hovermode\": \"closest\", \"mapbox\": {\"style\": \"light\"}, \"paper_bgcolor\": \"white\", \"plot_bgcolor\": \"#E5ECF6\", \"polar\": {\"angularaxis\": {\"gridcolor\": \"white\", \"linecolor\": \"white\", \"ticks\": \"\"}, \"bgcolor\": \"#E5ECF6\", \"radialaxis\": {\"gridcolor\": \"white\", \"linecolor\": \"white\", \"ticks\": \"\"}}, \"scene\": {\"xaxis\": {\"backgroundcolor\": \"#E5ECF6\", \"gridcolor\": \"white\", \"gridwidth\": 2, \"linecolor\": \"white\", \"showbackground\": true, \"ticks\": \"\", \"zerolinecolor\": \"white\"}, \"yaxis\": {\"backgroundcolor\": \"#E5ECF6\", \"gridcolor\": \"white\", \"gridwidth\": 2, \"linecolor\": \"white\", \"showbackground\": true, \"ticks\": \"\", \"zerolinecolor\": \"white\"}, \"zaxis\": {\"backgroundcolor\": \"#E5ECF6\", \"gridcolor\": \"white\", \"gridwidth\": 2, \"linecolor\": \"white\", \"showbackground\": true, \"ticks\": \"\", \"zerolinecolor\": \"white\"}}, \"shapedefaults\": {\"line\": {\"color\": \"#2a3f5f\"}}, \"ternary\": {\"aaxis\": {\"gridcolor\": \"white\", \"linecolor\": \"white\", \"ticks\": \"\"}, \"baxis\": {\"gridcolor\": \"white\", \"linecolor\": \"white\", \"ticks\": \"\"}, \"bgcolor\": \"#E5ECF6\", \"caxis\": {\"gridcolor\": \"white\", \"linecolor\": \"white\", \"ticks\": \"\"}}, \"title\": {\"x\": 0.05}, \"xaxis\": {\"automargin\": true, \"gridcolor\": \"white\", \"linecolor\": \"white\", \"ticks\": \"\", \"title\": {\"standoff\": 15}, \"zerolinecolor\": \"white\", \"zerolinewidth\": 2}, \"yaxis\": {\"automargin\": true, \"gridcolor\": \"white\", \"linecolor\": \"white\", \"ticks\": \"\", \"title\": {\"standoff\": 15}, \"zerolinecolor\": \"white\", \"zerolinewidth\": 2}}}, \"title\": {\"font\": {\"color\": \"#4D5663\"}}, \"xaxis\": {\"gridcolor\": \"#E1E5ED\", \"showgrid\": true, \"tickfont\": {\"color\": \"#4D5663\"}, \"title\": {\"font\": {\"color\": \"#4D5663\"}, \"text\": \"\"}, \"zerolinecolor\": \"#E1E5ED\"}, \"yaxis\": {\"gridcolor\": \"#E1E5ED\", \"showgrid\": true, \"tickfont\": {\"color\": \"#4D5663\"}, \"title\": {\"font\": {\"color\": \"#4D5663\"}, \"text\": \"\"}, \"zerolinecolor\": \"#E1E5ED\"}},                        {\"showLink\": true, \"linkText\": \"Export to plot.ly\", \"plotlyServerURL\": \"https://plot.ly\", \"responsive\": true}                    ).then(function(){\n",
       "                            \n",
       "var gd = document.getElementById('68de02a5-2fff-4e85-8a15-9d32d35dbd07');\n",
       "var x = new MutationObserver(function (mutations, observer) {{\n",
       "        var display = window.getComputedStyle(gd).display;\n",
       "        if (!display || display === 'none') {{\n",
       "            console.log([gd, 'removed!']);\n",
       "            Plotly.purge(gd);\n",
       "            observer.disconnect();\n",
       "        }}\n",
       "}});\n",
       "\n",
       "// Listen for the removal of the full notebook cells\n",
       "var notebookContainer = gd.closest('#notebook-container');\n",
       "if (notebookContainer) {{\n",
       "    x.observe(notebookContainer, {childList: true});\n",
       "}}\n",
       "\n",
       "// Listen for the clearing of the current output cell\n",
       "var outputEl = gd.closest('.output');\n",
       "if (outputEl) {{\n",
       "    x.observe(outputEl, {childList: true});\n",
       "}}\n",
       "\n",
       "                        })                };                });            </script>        </div>"
      ]
     },
     "metadata": {},
     "output_type": "display_data"
    }
   ],
   "source": [
    "df2.iplot(kind='bar',x='Category',y='Values')"
   ]
  },
  {
   "cell_type": "code",
   "execution_count": 17,
   "metadata": {},
   "outputs": [
    {
     "data": {
      "text/html": [
       "<div>\n",
       "<style scoped>\n",
       "    .dataframe tbody tr th:only-of-type {\n",
       "        vertical-align: middle;\n",
       "    }\n",
       "\n",
       "    .dataframe tbody tr th {\n",
       "        vertical-align: top;\n",
       "    }\n",
       "\n",
       "    .dataframe thead th {\n",
       "        text-align: right;\n",
       "    }\n",
       "</style>\n",
       "<table border=\"1\" class=\"dataframe\">\n",
       "  <thead>\n",
       "    <tr style=\"text-align: right;\">\n",
       "      <th></th>\n",
       "      <th>A</th>\n",
       "      <th>B</th>\n",
       "      <th>C</th>\n",
       "      <th>D</th>\n",
       "    </tr>\n",
       "  </thead>\n",
       "  <tbody>\n",
       "    <tr>\n",
       "      <td>0</td>\n",
       "      <td>0.521754</td>\n",
       "      <td>-0.392614</td>\n",
       "      <td>-0.531465</td>\n",
       "      <td>0.677873</td>\n",
       "    </tr>\n",
       "    <tr>\n",
       "      <td>1</td>\n",
       "      <td>0.330975</td>\n",
       "      <td>0.225804</td>\n",
       "      <td>2.218647</td>\n",
       "      <td>1.805903</td>\n",
       "    </tr>\n",
       "    <tr>\n",
       "      <td>2</td>\n",
       "      <td>-1.193877</td>\n",
       "      <td>0.254839</td>\n",
       "      <td>-0.638968</td>\n",
       "      <td>-0.842789</td>\n",
       "    </tr>\n",
       "    <tr>\n",
       "      <td>3</td>\n",
       "      <td>0.443439</td>\n",
       "      <td>0.990594</td>\n",
       "      <td>1.379356</td>\n",
       "      <td>0.702836</td>\n",
       "    </tr>\n",
       "    <tr>\n",
       "      <td>4</td>\n",
       "      <td>-0.189314</td>\n",
       "      <td>-0.345449</td>\n",
       "      <td>0.164507</td>\n",
       "      <td>0.825572</td>\n",
       "    </tr>\n",
       "    <tr>\n",
       "      <td>...</td>\n",
       "      <td>...</td>\n",
       "      <td>...</td>\n",
       "      <td>...</td>\n",
       "      <td>...</td>\n",
       "    </tr>\n",
       "    <tr>\n",
       "      <td>95</td>\n",
       "      <td>-0.010061</td>\n",
       "      <td>-0.476397</td>\n",
       "      <td>-0.107283</td>\n",
       "      <td>-1.828944</td>\n",
       "    </tr>\n",
       "    <tr>\n",
       "      <td>96</td>\n",
       "      <td>0.865886</td>\n",
       "      <td>-0.259621</td>\n",
       "      <td>-0.325930</td>\n",
       "      <td>-0.442508</td>\n",
       "    </tr>\n",
       "    <tr>\n",
       "      <td>97</td>\n",
       "      <td>1.056914</td>\n",
       "      <td>1.412921</td>\n",
       "      <td>-0.182313</td>\n",
       "      <td>-1.220386</td>\n",
       "    </tr>\n",
       "    <tr>\n",
       "      <td>98</td>\n",
       "      <td>0.862841</td>\n",
       "      <td>1.215472</td>\n",
       "      <td>-1.455673</td>\n",
       "      <td>-0.232040</td>\n",
       "    </tr>\n",
       "    <tr>\n",
       "      <td>99</td>\n",
       "      <td>0.471761</td>\n",
       "      <td>-1.051875</td>\n",
       "      <td>-0.622095</td>\n",
       "      <td>1.268241</td>\n",
       "    </tr>\n",
       "  </tbody>\n",
       "</table>\n",
       "<p>100 rows × 4 columns</p>\n",
       "</div>"
      ],
      "text/plain": [
       "           A         B         C         D\n",
       "0   0.521754 -0.392614 -0.531465  0.677873\n",
       "1   0.330975  0.225804  2.218647  1.805903\n",
       "2  -1.193877  0.254839 -0.638968 -0.842789\n",
       "3   0.443439  0.990594  1.379356  0.702836\n",
       "4  -0.189314 -0.345449  0.164507  0.825572\n",
       "..       ...       ...       ...       ...\n",
       "95 -0.010061 -0.476397 -0.107283 -1.828944\n",
       "96  0.865886 -0.259621 -0.325930 -0.442508\n",
       "97  1.056914  1.412921 -0.182313 -1.220386\n",
       "98  0.862841  1.215472 -1.455673 -0.232040\n",
       "99  0.471761 -1.051875 -0.622095  1.268241\n",
       "\n",
       "[100 rows x 4 columns]"
      ]
     },
     "execution_count": 17,
     "metadata": {},
     "output_type": "execute_result"
    }
   ],
   "source": [
    "df"
   ]
  },
  {
   "cell_type": "code",
   "execution_count": 19,
   "metadata": {},
   "outputs": [
    {
     "data": {
      "application/vnd.plotly.v1+json": {
       "config": {
        "linkText": "Export to plot.ly",
        "plotlyServerURL": "https://plot.ly",
        "showLink": true
       },
       "data": [
        {
         "marker": {
          "color": "rgba(255, 153, 51, 0.6)",
          "line": {
           "color": "rgba(255, 153, 51, 1.0)",
           "width": 1
          }
         },
         "name": "None",
         "orientation": "v",
         "text": "",
         "type": "bar",
         "x": [
          "A",
          "B",
          "C",
          "D"
         ],
         "y": [
          100,
          100,
          100,
          100
         ]
        }
       ],
       "layout": {
        "legend": {
         "bgcolor": "#F5F6F9",
         "font": {
          "color": "#4D5663"
         }
        },
        "paper_bgcolor": "#F5F6F9",
        "plot_bgcolor": "#F5F6F9",
        "template": {
         "data": {
          "bar": [
           {
            "error_x": {
             "color": "#2a3f5f"
            },
            "error_y": {
             "color": "#2a3f5f"
            },
            "marker": {
             "line": {
              "color": "#E5ECF6",
              "width": 0.5
             }
            },
            "type": "bar"
           }
          ],
          "barpolar": [
           {
            "marker": {
             "line": {
              "color": "#E5ECF6",
              "width": 0.5
             }
            },
            "type": "barpolar"
           }
          ],
          "carpet": [
           {
            "aaxis": {
             "endlinecolor": "#2a3f5f",
             "gridcolor": "white",
             "linecolor": "white",
             "minorgridcolor": "white",
             "startlinecolor": "#2a3f5f"
            },
            "baxis": {
             "endlinecolor": "#2a3f5f",
             "gridcolor": "white",
             "linecolor": "white",
             "minorgridcolor": "white",
             "startlinecolor": "#2a3f5f"
            },
            "type": "carpet"
           }
          ],
          "choropleth": [
           {
            "colorbar": {
             "outlinewidth": 0,
             "ticks": ""
            },
            "type": "choropleth"
           }
          ],
          "contour": [
           {
            "colorbar": {
             "outlinewidth": 0,
             "ticks": ""
            },
            "colorscale": [
             [
              0,
              "#0d0887"
             ],
             [
              0.1111111111111111,
              "#46039f"
             ],
             [
              0.2222222222222222,
              "#7201a8"
             ],
             [
              0.3333333333333333,
              "#9c179e"
             ],
             [
              0.4444444444444444,
              "#bd3786"
             ],
             [
              0.5555555555555556,
              "#d8576b"
             ],
             [
              0.6666666666666666,
              "#ed7953"
             ],
             [
              0.7777777777777778,
              "#fb9f3a"
             ],
             [
              0.8888888888888888,
              "#fdca26"
             ],
             [
              1,
              "#f0f921"
             ]
            ],
            "type": "contour"
           }
          ],
          "contourcarpet": [
           {
            "colorbar": {
             "outlinewidth": 0,
             "ticks": ""
            },
            "type": "contourcarpet"
           }
          ],
          "heatmap": [
           {
            "colorbar": {
             "outlinewidth": 0,
             "ticks": ""
            },
            "colorscale": [
             [
              0,
              "#0d0887"
             ],
             [
              0.1111111111111111,
              "#46039f"
             ],
             [
              0.2222222222222222,
              "#7201a8"
             ],
             [
              0.3333333333333333,
              "#9c179e"
             ],
             [
              0.4444444444444444,
              "#bd3786"
             ],
             [
              0.5555555555555556,
              "#d8576b"
             ],
             [
              0.6666666666666666,
              "#ed7953"
             ],
             [
              0.7777777777777778,
              "#fb9f3a"
             ],
             [
              0.8888888888888888,
              "#fdca26"
             ],
             [
              1,
              "#f0f921"
             ]
            ],
            "type": "heatmap"
           }
          ],
          "heatmapgl": [
           {
            "colorbar": {
             "outlinewidth": 0,
             "ticks": ""
            },
            "colorscale": [
             [
              0,
              "#0d0887"
             ],
             [
              0.1111111111111111,
              "#46039f"
             ],
             [
              0.2222222222222222,
              "#7201a8"
             ],
             [
              0.3333333333333333,
              "#9c179e"
             ],
             [
              0.4444444444444444,
              "#bd3786"
             ],
             [
              0.5555555555555556,
              "#d8576b"
             ],
             [
              0.6666666666666666,
              "#ed7953"
             ],
             [
              0.7777777777777778,
              "#fb9f3a"
             ],
             [
              0.8888888888888888,
              "#fdca26"
             ],
             [
              1,
              "#f0f921"
             ]
            ],
            "type": "heatmapgl"
           }
          ],
          "histogram": [
           {
            "marker": {
             "colorbar": {
              "outlinewidth": 0,
              "ticks": ""
             }
            },
            "type": "histogram"
           }
          ],
          "histogram2d": [
           {
            "colorbar": {
             "outlinewidth": 0,
             "ticks": ""
            },
            "colorscale": [
             [
              0,
              "#0d0887"
             ],
             [
              0.1111111111111111,
              "#46039f"
             ],
             [
              0.2222222222222222,
              "#7201a8"
             ],
             [
              0.3333333333333333,
              "#9c179e"
             ],
             [
              0.4444444444444444,
              "#bd3786"
             ],
             [
              0.5555555555555556,
              "#d8576b"
             ],
             [
              0.6666666666666666,
              "#ed7953"
             ],
             [
              0.7777777777777778,
              "#fb9f3a"
             ],
             [
              0.8888888888888888,
              "#fdca26"
             ],
             [
              1,
              "#f0f921"
             ]
            ],
            "type": "histogram2d"
           }
          ],
          "histogram2dcontour": [
           {
            "colorbar": {
             "outlinewidth": 0,
             "ticks": ""
            },
            "colorscale": [
             [
              0,
              "#0d0887"
             ],
             [
              0.1111111111111111,
              "#46039f"
             ],
             [
              0.2222222222222222,
              "#7201a8"
             ],
             [
              0.3333333333333333,
              "#9c179e"
             ],
             [
              0.4444444444444444,
              "#bd3786"
             ],
             [
              0.5555555555555556,
              "#d8576b"
             ],
             [
              0.6666666666666666,
              "#ed7953"
             ],
             [
              0.7777777777777778,
              "#fb9f3a"
             ],
             [
              0.8888888888888888,
              "#fdca26"
             ],
             [
              1,
              "#f0f921"
             ]
            ],
            "type": "histogram2dcontour"
           }
          ],
          "mesh3d": [
           {
            "colorbar": {
             "outlinewidth": 0,
             "ticks": ""
            },
            "type": "mesh3d"
           }
          ],
          "parcoords": [
           {
            "line": {
             "colorbar": {
              "outlinewidth": 0,
              "ticks": ""
             }
            },
            "type": "parcoords"
           }
          ],
          "pie": [
           {
            "automargin": true,
            "type": "pie"
           }
          ],
          "scatter": [
           {
            "marker": {
             "colorbar": {
              "outlinewidth": 0,
              "ticks": ""
             }
            },
            "type": "scatter"
           }
          ],
          "scatter3d": [
           {
            "line": {
             "colorbar": {
              "outlinewidth": 0,
              "ticks": ""
             }
            },
            "marker": {
             "colorbar": {
              "outlinewidth": 0,
              "ticks": ""
             }
            },
            "type": "scatter3d"
           }
          ],
          "scattercarpet": [
           {
            "marker": {
             "colorbar": {
              "outlinewidth": 0,
              "ticks": ""
             }
            },
            "type": "scattercarpet"
           }
          ],
          "scattergeo": [
           {
            "marker": {
             "colorbar": {
              "outlinewidth": 0,
              "ticks": ""
             }
            },
            "type": "scattergeo"
           }
          ],
          "scattergl": [
           {
            "marker": {
             "colorbar": {
              "outlinewidth": 0,
              "ticks": ""
             }
            },
            "type": "scattergl"
           }
          ],
          "scattermapbox": [
           {
            "marker": {
             "colorbar": {
              "outlinewidth": 0,
              "ticks": ""
             }
            },
            "type": "scattermapbox"
           }
          ],
          "scatterpolar": [
           {
            "marker": {
             "colorbar": {
              "outlinewidth": 0,
              "ticks": ""
             }
            },
            "type": "scatterpolar"
           }
          ],
          "scatterpolargl": [
           {
            "marker": {
             "colorbar": {
              "outlinewidth": 0,
              "ticks": ""
             }
            },
            "type": "scatterpolargl"
           }
          ],
          "scatterternary": [
           {
            "marker": {
             "colorbar": {
              "outlinewidth": 0,
              "ticks": ""
             }
            },
            "type": "scatterternary"
           }
          ],
          "surface": [
           {
            "colorbar": {
             "outlinewidth": 0,
             "ticks": ""
            },
            "colorscale": [
             [
              0,
              "#0d0887"
             ],
             [
              0.1111111111111111,
              "#46039f"
             ],
             [
              0.2222222222222222,
              "#7201a8"
             ],
             [
              0.3333333333333333,
              "#9c179e"
             ],
             [
              0.4444444444444444,
              "#bd3786"
             ],
             [
              0.5555555555555556,
              "#d8576b"
             ],
             [
              0.6666666666666666,
              "#ed7953"
             ],
             [
              0.7777777777777778,
              "#fb9f3a"
             ],
             [
              0.8888888888888888,
              "#fdca26"
             ],
             [
              1,
              "#f0f921"
             ]
            ],
            "type": "surface"
           }
          ],
          "table": [
           {
            "cells": {
             "fill": {
              "color": "#EBF0F8"
             },
             "line": {
              "color": "white"
             }
            },
            "header": {
             "fill": {
              "color": "#C8D4E3"
             },
             "line": {
              "color": "white"
             }
            },
            "type": "table"
           }
          ]
         },
         "layout": {
          "annotationdefaults": {
           "arrowcolor": "#2a3f5f",
           "arrowhead": 0,
           "arrowwidth": 1
          },
          "coloraxis": {
           "colorbar": {
            "outlinewidth": 0,
            "ticks": ""
           }
          },
          "colorscale": {
           "diverging": [
            [
             0,
             "#8e0152"
            ],
            [
             0.1,
             "#c51b7d"
            ],
            [
             0.2,
             "#de77ae"
            ],
            [
             0.3,
             "#f1b6da"
            ],
            [
             0.4,
             "#fde0ef"
            ],
            [
             0.5,
             "#f7f7f7"
            ],
            [
             0.6,
             "#e6f5d0"
            ],
            [
             0.7,
             "#b8e186"
            ],
            [
             0.8,
             "#7fbc41"
            ],
            [
             0.9,
             "#4d9221"
            ],
            [
             1,
             "#276419"
            ]
           ],
           "sequential": [
            [
             0,
             "#0d0887"
            ],
            [
             0.1111111111111111,
             "#46039f"
            ],
            [
             0.2222222222222222,
             "#7201a8"
            ],
            [
             0.3333333333333333,
             "#9c179e"
            ],
            [
             0.4444444444444444,
             "#bd3786"
            ],
            [
             0.5555555555555556,
             "#d8576b"
            ],
            [
             0.6666666666666666,
             "#ed7953"
            ],
            [
             0.7777777777777778,
             "#fb9f3a"
            ],
            [
             0.8888888888888888,
             "#fdca26"
            ],
            [
             1,
             "#f0f921"
            ]
           ],
           "sequentialminus": [
            [
             0,
             "#0d0887"
            ],
            [
             0.1111111111111111,
             "#46039f"
            ],
            [
             0.2222222222222222,
             "#7201a8"
            ],
            [
             0.3333333333333333,
             "#9c179e"
            ],
            [
             0.4444444444444444,
             "#bd3786"
            ],
            [
             0.5555555555555556,
             "#d8576b"
            ],
            [
             0.6666666666666666,
             "#ed7953"
            ],
            [
             0.7777777777777778,
             "#fb9f3a"
            ],
            [
             0.8888888888888888,
             "#fdca26"
            ],
            [
             1,
             "#f0f921"
            ]
           ]
          },
          "colorway": [
           "#636efa",
           "#EF553B",
           "#00cc96",
           "#ab63fa",
           "#FFA15A",
           "#19d3f3",
           "#FF6692",
           "#B6E880",
           "#FF97FF",
           "#FECB52"
          ],
          "font": {
           "color": "#2a3f5f"
          },
          "geo": {
           "bgcolor": "white",
           "lakecolor": "white",
           "landcolor": "#E5ECF6",
           "showlakes": true,
           "showland": true,
           "subunitcolor": "white"
          },
          "hoverlabel": {
           "align": "left"
          },
          "hovermode": "closest",
          "mapbox": {
           "style": "light"
          },
          "paper_bgcolor": "white",
          "plot_bgcolor": "#E5ECF6",
          "polar": {
           "angularaxis": {
            "gridcolor": "white",
            "linecolor": "white",
            "ticks": ""
           },
           "bgcolor": "#E5ECF6",
           "radialaxis": {
            "gridcolor": "white",
            "linecolor": "white",
            "ticks": ""
           }
          },
          "scene": {
           "xaxis": {
            "backgroundcolor": "#E5ECF6",
            "gridcolor": "white",
            "gridwidth": 2,
            "linecolor": "white",
            "showbackground": true,
            "ticks": "",
            "zerolinecolor": "white"
           },
           "yaxis": {
            "backgroundcolor": "#E5ECF6",
            "gridcolor": "white",
            "gridwidth": 2,
            "linecolor": "white",
            "showbackground": true,
            "ticks": "",
            "zerolinecolor": "white"
           },
           "zaxis": {
            "backgroundcolor": "#E5ECF6",
            "gridcolor": "white",
            "gridwidth": 2,
            "linecolor": "white",
            "showbackground": true,
            "ticks": "",
            "zerolinecolor": "white"
           }
          },
          "shapedefaults": {
           "line": {
            "color": "#2a3f5f"
           }
          },
          "ternary": {
           "aaxis": {
            "gridcolor": "white",
            "linecolor": "white",
            "ticks": ""
           },
           "baxis": {
            "gridcolor": "white",
            "linecolor": "white",
            "ticks": ""
           },
           "bgcolor": "#E5ECF6",
           "caxis": {
            "gridcolor": "white",
            "linecolor": "white",
            "ticks": ""
           }
          },
          "title": {
           "x": 0.05
          },
          "xaxis": {
           "automargin": true,
           "gridcolor": "white",
           "linecolor": "white",
           "ticks": "",
           "title": {
            "standoff": 15
           },
           "zerolinecolor": "white",
           "zerolinewidth": 2
          },
          "yaxis": {
           "automargin": true,
           "gridcolor": "white",
           "linecolor": "white",
           "ticks": "",
           "title": {
            "standoff": 15
           },
           "zerolinecolor": "white",
           "zerolinewidth": 2
          }
         }
        },
        "title": {
         "font": {
          "color": "#4D5663"
         }
        },
        "xaxis": {
         "gridcolor": "#E1E5ED",
         "showgrid": true,
         "tickfont": {
          "color": "#4D5663"
         },
         "title": {
          "font": {
           "color": "#4D5663"
          },
          "text": ""
         },
         "zerolinecolor": "#E1E5ED"
        },
        "yaxis": {
         "gridcolor": "#E1E5ED",
         "showgrid": true,
         "tickfont": {
          "color": "#4D5663"
         },
         "title": {
          "font": {
           "color": "#4D5663"
          },
          "text": ""
         },
         "zerolinecolor": "#E1E5ED"
        }
       }
      },
      "text/html": [
       "<div>                            <div id=\"98953225-0967-4da3-a2d0-aaca3a505bae\" class=\"plotly-graph-div\" style=\"height:525px; width:100%;\"></div>            <script type=\"text/javascript\">                require([\"plotly\"], function(Plotly) {                    window.PLOTLYENV=window.PLOTLYENV || {};\n",
       "                    window.PLOTLYENV.BASE_URL='https://plot.ly';                                    if (document.getElementById(\"98953225-0967-4da3-a2d0-aaca3a505bae\")) {                    Plotly.newPlot(                        \"98953225-0967-4da3-a2d0-aaca3a505bae\",                        [{\"marker\": {\"color\": \"rgba(255, 153, 51, 0.6)\", \"line\": {\"color\": \"rgba(255, 153, 51, 1.0)\", \"width\": 1}}, \"name\": \"None\", \"orientation\": \"v\", \"text\": \"\", \"type\": \"bar\", \"x\": [\"A\", \"B\", \"C\", \"D\"], \"y\": [100, 100, 100, 100]}],                        {\"legend\": {\"bgcolor\": \"#F5F6F9\", \"font\": {\"color\": \"#4D5663\"}}, \"paper_bgcolor\": \"#F5F6F9\", \"plot_bgcolor\": \"#F5F6F9\", \"template\": {\"data\": {\"bar\": [{\"error_x\": {\"color\": \"#2a3f5f\"}, \"error_y\": {\"color\": \"#2a3f5f\"}, \"marker\": {\"line\": {\"color\": \"#E5ECF6\", \"width\": 0.5}}, \"type\": \"bar\"}], \"barpolar\": [{\"marker\": {\"line\": {\"color\": \"#E5ECF6\", \"width\": 0.5}}, \"type\": \"barpolar\"}], \"carpet\": [{\"aaxis\": {\"endlinecolor\": \"#2a3f5f\", \"gridcolor\": \"white\", \"linecolor\": \"white\", \"minorgridcolor\": \"white\", \"startlinecolor\": \"#2a3f5f\"}, \"baxis\": {\"endlinecolor\": \"#2a3f5f\", \"gridcolor\": \"white\", \"linecolor\": \"white\", \"minorgridcolor\": \"white\", \"startlinecolor\": \"#2a3f5f\"}, \"type\": \"carpet\"}], \"choropleth\": [{\"colorbar\": {\"outlinewidth\": 0, \"ticks\": \"\"}, \"type\": \"choropleth\"}], \"contour\": [{\"colorbar\": {\"outlinewidth\": 0, \"ticks\": \"\"}, \"colorscale\": [[0.0, \"#0d0887\"], [0.1111111111111111, \"#46039f\"], [0.2222222222222222, \"#7201a8\"], [0.3333333333333333, \"#9c179e\"], [0.4444444444444444, \"#bd3786\"], [0.5555555555555556, \"#d8576b\"], [0.6666666666666666, \"#ed7953\"], [0.7777777777777778, \"#fb9f3a\"], [0.8888888888888888, \"#fdca26\"], [1.0, \"#f0f921\"]], \"type\": \"contour\"}], \"contourcarpet\": [{\"colorbar\": {\"outlinewidth\": 0, \"ticks\": \"\"}, \"type\": \"contourcarpet\"}], \"heatmap\": [{\"colorbar\": {\"outlinewidth\": 0, \"ticks\": \"\"}, \"colorscale\": [[0.0, \"#0d0887\"], [0.1111111111111111, \"#46039f\"], [0.2222222222222222, \"#7201a8\"], [0.3333333333333333, \"#9c179e\"], [0.4444444444444444, \"#bd3786\"], [0.5555555555555556, \"#d8576b\"], [0.6666666666666666, \"#ed7953\"], [0.7777777777777778, \"#fb9f3a\"], [0.8888888888888888, \"#fdca26\"], [1.0, \"#f0f921\"]], \"type\": \"heatmap\"}], \"heatmapgl\": [{\"colorbar\": {\"outlinewidth\": 0, \"ticks\": \"\"}, \"colorscale\": [[0.0, \"#0d0887\"], [0.1111111111111111, \"#46039f\"], [0.2222222222222222, \"#7201a8\"], [0.3333333333333333, \"#9c179e\"], [0.4444444444444444, \"#bd3786\"], [0.5555555555555556, \"#d8576b\"], [0.6666666666666666, \"#ed7953\"], [0.7777777777777778, \"#fb9f3a\"], [0.8888888888888888, \"#fdca26\"], [1.0, \"#f0f921\"]], \"type\": \"heatmapgl\"}], \"histogram\": [{\"marker\": {\"colorbar\": {\"outlinewidth\": 0, \"ticks\": \"\"}}, \"type\": \"histogram\"}], \"histogram2d\": [{\"colorbar\": {\"outlinewidth\": 0, \"ticks\": \"\"}, \"colorscale\": [[0.0, \"#0d0887\"], [0.1111111111111111, \"#46039f\"], [0.2222222222222222, \"#7201a8\"], [0.3333333333333333, \"#9c179e\"], [0.4444444444444444, \"#bd3786\"], [0.5555555555555556, \"#d8576b\"], [0.6666666666666666, \"#ed7953\"], [0.7777777777777778, \"#fb9f3a\"], [0.8888888888888888, \"#fdca26\"], [1.0, \"#f0f921\"]], \"type\": \"histogram2d\"}], \"histogram2dcontour\": [{\"colorbar\": {\"outlinewidth\": 0, \"ticks\": \"\"}, \"colorscale\": [[0.0, \"#0d0887\"], [0.1111111111111111, \"#46039f\"], [0.2222222222222222, \"#7201a8\"], [0.3333333333333333, \"#9c179e\"], [0.4444444444444444, \"#bd3786\"], [0.5555555555555556, \"#d8576b\"], [0.6666666666666666, \"#ed7953\"], [0.7777777777777778, \"#fb9f3a\"], [0.8888888888888888, \"#fdca26\"], [1.0, \"#f0f921\"]], \"type\": \"histogram2dcontour\"}], \"mesh3d\": [{\"colorbar\": {\"outlinewidth\": 0, \"ticks\": \"\"}, \"type\": \"mesh3d\"}], \"parcoords\": [{\"line\": {\"colorbar\": {\"outlinewidth\": 0, \"ticks\": \"\"}}, \"type\": \"parcoords\"}], \"pie\": [{\"automargin\": true, \"type\": \"pie\"}], \"scatter\": [{\"marker\": {\"colorbar\": {\"outlinewidth\": 0, \"ticks\": \"\"}}, \"type\": \"scatter\"}], \"scatter3d\": [{\"line\": {\"colorbar\": {\"outlinewidth\": 0, \"ticks\": \"\"}}, \"marker\": {\"colorbar\": {\"outlinewidth\": 0, \"ticks\": \"\"}}, \"type\": \"scatter3d\"}], \"scattercarpet\": [{\"marker\": {\"colorbar\": {\"outlinewidth\": 0, \"ticks\": \"\"}}, \"type\": \"scattercarpet\"}], \"scattergeo\": [{\"marker\": {\"colorbar\": {\"outlinewidth\": 0, \"ticks\": \"\"}}, \"type\": \"scattergeo\"}], \"scattergl\": [{\"marker\": {\"colorbar\": {\"outlinewidth\": 0, \"ticks\": \"\"}}, \"type\": \"scattergl\"}], \"scattermapbox\": [{\"marker\": {\"colorbar\": {\"outlinewidth\": 0, \"ticks\": \"\"}}, \"type\": \"scattermapbox\"}], \"scatterpolar\": [{\"marker\": {\"colorbar\": {\"outlinewidth\": 0, \"ticks\": \"\"}}, \"type\": \"scatterpolar\"}], \"scatterpolargl\": [{\"marker\": {\"colorbar\": {\"outlinewidth\": 0, \"ticks\": \"\"}}, \"type\": \"scatterpolargl\"}], \"scatterternary\": [{\"marker\": {\"colorbar\": {\"outlinewidth\": 0, \"ticks\": \"\"}}, \"type\": \"scatterternary\"}], \"surface\": [{\"colorbar\": {\"outlinewidth\": 0, \"ticks\": \"\"}, \"colorscale\": [[0.0, \"#0d0887\"], [0.1111111111111111, \"#46039f\"], [0.2222222222222222, \"#7201a8\"], [0.3333333333333333, \"#9c179e\"], [0.4444444444444444, \"#bd3786\"], [0.5555555555555556, \"#d8576b\"], [0.6666666666666666, \"#ed7953\"], [0.7777777777777778, \"#fb9f3a\"], [0.8888888888888888, \"#fdca26\"], [1.0, \"#f0f921\"]], \"type\": \"surface\"}], \"table\": [{\"cells\": {\"fill\": {\"color\": \"#EBF0F8\"}, \"line\": {\"color\": \"white\"}}, \"header\": {\"fill\": {\"color\": \"#C8D4E3\"}, \"line\": {\"color\": \"white\"}}, \"type\": \"table\"}]}, \"layout\": {\"annotationdefaults\": {\"arrowcolor\": \"#2a3f5f\", \"arrowhead\": 0, \"arrowwidth\": 1}, \"coloraxis\": {\"colorbar\": {\"outlinewidth\": 0, \"ticks\": \"\"}}, \"colorscale\": {\"diverging\": [[0, \"#8e0152\"], [0.1, \"#c51b7d\"], [0.2, \"#de77ae\"], [0.3, \"#f1b6da\"], [0.4, \"#fde0ef\"], [0.5, \"#f7f7f7\"], [0.6, \"#e6f5d0\"], [0.7, \"#b8e186\"], [0.8, \"#7fbc41\"], [0.9, \"#4d9221\"], [1, \"#276419\"]], \"sequential\": [[0.0, \"#0d0887\"], [0.1111111111111111, \"#46039f\"], [0.2222222222222222, \"#7201a8\"], [0.3333333333333333, \"#9c179e\"], [0.4444444444444444, \"#bd3786\"], [0.5555555555555556, \"#d8576b\"], [0.6666666666666666, \"#ed7953\"], [0.7777777777777778, \"#fb9f3a\"], [0.8888888888888888, \"#fdca26\"], [1.0, \"#f0f921\"]], \"sequentialminus\": [[0.0, \"#0d0887\"], [0.1111111111111111, \"#46039f\"], [0.2222222222222222, \"#7201a8\"], [0.3333333333333333, \"#9c179e\"], [0.4444444444444444, \"#bd3786\"], [0.5555555555555556, \"#d8576b\"], [0.6666666666666666, \"#ed7953\"], [0.7777777777777778, \"#fb9f3a\"], [0.8888888888888888, \"#fdca26\"], [1.0, \"#f0f921\"]]}, \"colorway\": [\"#636efa\", \"#EF553B\", \"#00cc96\", \"#ab63fa\", \"#FFA15A\", \"#19d3f3\", \"#FF6692\", \"#B6E880\", \"#FF97FF\", \"#FECB52\"], \"font\": {\"color\": \"#2a3f5f\"}, \"geo\": {\"bgcolor\": \"white\", \"lakecolor\": \"white\", \"landcolor\": \"#E5ECF6\", \"showlakes\": true, \"showland\": true, \"subunitcolor\": \"white\"}, \"hoverlabel\": {\"align\": \"left\"}, \"hovermode\": \"closest\", \"mapbox\": {\"style\": \"light\"}, \"paper_bgcolor\": \"white\", \"plot_bgcolor\": \"#E5ECF6\", \"polar\": {\"angularaxis\": {\"gridcolor\": \"white\", \"linecolor\": \"white\", \"ticks\": \"\"}, \"bgcolor\": \"#E5ECF6\", \"radialaxis\": {\"gridcolor\": \"white\", \"linecolor\": \"white\", \"ticks\": \"\"}}, \"scene\": {\"xaxis\": {\"backgroundcolor\": \"#E5ECF6\", \"gridcolor\": \"white\", \"gridwidth\": 2, \"linecolor\": \"white\", \"showbackground\": true, \"ticks\": \"\", \"zerolinecolor\": \"white\"}, \"yaxis\": {\"backgroundcolor\": \"#E5ECF6\", \"gridcolor\": \"white\", \"gridwidth\": 2, \"linecolor\": \"white\", \"showbackground\": true, \"ticks\": \"\", \"zerolinecolor\": \"white\"}, \"zaxis\": {\"backgroundcolor\": \"#E5ECF6\", \"gridcolor\": \"white\", \"gridwidth\": 2, \"linecolor\": \"white\", \"showbackground\": true, \"ticks\": \"\", \"zerolinecolor\": \"white\"}}, \"shapedefaults\": {\"line\": {\"color\": \"#2a3f5f\"}}, \"ternary\": {\"aaxis\": {\"gridcolor\": \"white\", \"linecolor\": \"white\", \"ticks\": \"\"}, \"baxis\": {\"gridcolor\": \"white\", \"linecolor\": \"white\", \"ticks\": \"\"}, \"bgcolor\": \"#E5ECF6\", \"caxis\": {\"gridcolor\": \"white\", \"linecolor\": \"white\", \"ticks\": \"\"}}, \"title\": {\"x\": 0.05}, \"xaxis\": {\"automargin\": true, \"gridcolor\": \"white\", \"linecolor\": \"white\", \"ticks\": \"\", \"title\": {\"standoff\": 15}, \"zerolinecolor\": \"white\", \"zerolinewidth\": 2}, \"yaxis\": {\"automargin\": true, \"gridcolor\": \"white\", \"linecolor\": \"white\", \"ticks\": \"\", \"title\": {\"standoff\": 15}, \"zerolinecolor\": \"white\", \"zerolinewidth\": 2}}}, \"title\": {\"font\": {\"color\": \"#4D5663\"}}, \"xaxis\": {\"gridcolor\": \"#E1E5ED\", \"showgrid\": true, \"tickfont\": {\"color\": \"#4D5663\"}, \"title\": {\"font\": {\"color\": \"#4D5663\"}, \"text\": \"\"}, \"zerolinecolor\": \"#E1E5ED\"}, \"yaxis\": {\"gridcolor\": \"#E1E5ED\", \"showgrid\": true, \"tickfont\": {\"color\": \"#4D5663\"}, \"title\": {\"font\": {\"color\": \"#4D5663\"}, \"text\": \"\"}, \"zerolinecolor\": \"#E1E5ED\"}},                        {\"showLink\": true, \"linkText\": \"Export to plot.ly\", \"plotlyServerURL\": \"https://plot.ly\", \"responsive\": true}                    ).then(function(){\n",
       "                            \n",
       "var gd = document.getElementById('98953225-0967-4da3-a2d0-aaca3a505bae');\n",
       "var x = new MutationObserver(function (mutations, observer) {{\n",
       "        var display = window.getComputedStyle(gd).display;\n",
       "        if (!display || display === 'none') {{\n",
       "            console.log([gd, 'removed!']);\n",
       "            Plotly.purge(gd);\n",
       "            observer.disconnect();\n",
       "        }}\n",
       "}});\n",
       "\n",
       "// Listen for the removal of the full notebook cells\n",
       "var notebookContainer = gd.closest('#notebook-container');\n",
       "if (notebookContainer) {{\n",
       "    x.observe(notebookContainer, {childList: true});\n",
       "}}\n",
       "\n",
       "// Listen for the clearing of the current output cell\n",
       "var outputEl = gd.closest('.output');\n",
       "if (outputEl) {{\n",
       "    x.observe(outputEl, {childList: true});\n",
       "}}\n",
       "\n",
       "                        })                };                });            </script>        </div>"
      ]
     },
     "metadata": {},
     "output_type": "display_data"
    }
   ],
   "source": [
    "df.count().iplot(kind='bar')"
   ]
  },
  {
   "cell_type": "code",
   "execution_count": 20,
   "metadata": {},
   "outputs": [
    {
     "data": {
      "application/vnd.plotly.v1+json": {
       "config": {
        "linkText": "Export to plot.ly",
        "plotlyServerURL": "https://plot.ly",
        "showLink": true
       },
       "data": [
        {
         "boxpoints": false,
         "line": {
          "width": 1.3
         },
         "marker": {
          "color": "rgba(255, 153, 51, 1.0)"
         },
         "name": "A",
         "orientation": "v",
         "type": "box",
         "y": [
          0.5217537784129974,
          0.3309749226115375,
          -1.193876709659765,
          0.44343923119185524,
          -0.18931392017075624,
          0.173205767535824,
          0.696775738847488,
          -2.014191654816539,
          -0.3260508724875542,
          1.7018734448037018,
          -0.3578297915922514,
          0.795878744012465,
          -0.6221105875227282,
          0.1795158852025101,
          -0.5263018890301373,
          -1.6579984218119408,
          1.5734505787806656,
          0.09347039337484478,
          0.22695335836177413,
          1.74135293216879,
          0.8543457987432498,
          1.6668700893834498,
          0.21509981024768562,
          0.05147367659147075,
          0.595348020727714,
          1.3425773565713435,
          0.5056396605572587,
          0.7004964136717756,
          -0.11611198442315279,
          0.7084287321300998,
          -0.7109807917845864,
          0.243838163690604,
          -0.052769434282530246,
          0.65197584784953,
          0.15111623638211763,
          -0.45994422176644884,
          -1.6377125581004068,
          1.6353164567583425,
          -0.02110823435862904,
          0.8662866086795274,
          -0.7992112511748268,
          -1.2091767689531847,
          0.615433464445986,
          -0.6918898665437458,
          -0.22088314776555945,
          -0.36616282407008444,
          1.2391168115335351,
          -0.6051262003388084,
          -1.590191148875863,
          -0.9818480747620559,
          -0.4616387767955757,
          -0.7134294894563353,
          0.07223535070388272,
          0.057558323803864345,
          -0.43681040939791793,
          0.4689372999801223,
          1.502366134331344,
          0.7308934048604777,
          -1.8445348233596541,
          -0.023749777252913405,
          0.07027259389091652,
          0.795641143639049,
          0.14650863736209424,
          -0.289159142974127,
          -1.2748625970110754,
          -0.2774290754016461,
          0.8781245042054561,
          -0.8697236584897804,
          0.07199053776509524,
          -1.757042236586087,
          0.39716974253845905,
          0.1654662688475511,
          -0.33199426676448535,
          0.7744544397767887,
          1.1793804702730013,
          -0.9462622397360114,
          0.7557618474116468,
          -0.5317089300673019,
          0.04458895563719713,
          -0.3484351357629532,
          0.9637309052261983,
          0.5769189564311794,
          0.08063722123130981,
          0.5023295174559748,
          -0.7596996515964047,
          1.4161337913043834,
          1.9283827384775984,
          -1.6721607391450544,
          0.4553713821873685,
          -0.3971879291836942,
          0.17041840171947764,
          -1.1644496531098152,
          0.15295268302093223,
          -0.18904846215760945,
          0.2400629991205869,
          -0.010061126559507024,
          0.8658858707404796,
          1.056913755398305,
          0.862841462797941,
          0.47176134545444554
         ]
        },
        {
         "boxpoints": false,
         "line": {
          "width": 1.3
         },
         "marker": {
          "color": "rgba(55, 128, 191, 1.0)"
         },
         "name": "B",
         "orientation": "v",
         "type": "box",
         "y": [
          -0.39261445799361727,
          0.22580367056171108,
          0.25483863748102475,
          0.9905938087654146,
          -0.3454489749148752,
          0.5862541601958202,
          0.04228997696170449,
          -1.5099138219153663,
          -1.4985134831759215,
          0.09468800407249342,
          -0.6529428511506372,
          0.11140377407013143,
          0.2986561002471471,
          -0.6958738060209194,
          1.6280048100235736,
          -1.4414780265052891,
          -1.0091162361804633,
          -0.4358346913952342,
          0.9644518693267125,
          1.339378202043062,
          -1.009276170450571,
          0.355374750343669,
          2.4613393443673854,
          1.1250694379563946,
          -0.3101218143757754,
          0.21931795568428836,
          -1.1034092566915703,
          0.34792501227665257,
          0.5640927383340527,
          2.005692956097845,
          -1.3763340171658087,
          -0.5516546832432645,
          -0.4322623433505339,
          -1.4069669300676437,
          0.9925196666613212,
          -0.3174599626785784,
          -1.402277482694772,
          1.5941004088534267,
          -0.20902468508344935,
          1.7723686071566995,
          1.0255780072645866,
          0.3611684560390772,
          -0.9876425439197813,
          2.0634227790927873,
          0.5808836005391271,
          2.085501418876228,
          -0.1669861926278503,
          2.4188376530846787,
          -1.7854249534372195,
          -2.0250332266149442,
          -0.54463884665561,
          0.990855608274131,
          -1.4367068235569664,
          -0.4429595086434903,
          0.2807870731341278,
          -1.2933742820918692,
          -0.1556993337542278,
          -1.1504599947642138,
          0.6624811468344771,
          -0.9756259309342289,
          0.8167384140483486,
          -0.5345985813863435,
          -0.27727702113759906,
          0.19310545663846124,
          -1.532902312679032,
          -0.028100975887289895,
          -1.9959810670789664,
          0.2243920084584965,
          -0.6600578441118969,
          1.3352710743039025,
          -1.398424039696386,
          0.8462771387518341,
          0.11236464635976393,
          -0.15515819132980102,
          1.3302994525696428,
          -0.5868131798941717,
          1.3234568595593719,
          0.8499332074462286,
          -0.08224166207067568,
          0.6328294865034617,
          0.06679708452559546,
          -0.23350689690678816,
          -2.7527613522856362,
          0.9548230886533037,
          -0.5190830632490822,
          -0.42926880006980395,
          0.236960866081998,
          -1.9304304156678027,
          0.5350138717457857,
          -0.6962587707076815,
          -0.1957102445287146,
          -1.3072663184338325,
          -0.10554726253657928,
          0.20192027205191437,
          -0.3790196316097984,
          -0.47639675723883623,
          -0.2596209420386043,
          1.4129214345638288,
          1.215471680596547,
          -1.0518754451458192
         ]
        },
        {
         "boxpoints": false,
         "line": {
          "width": 1.3
         },
         "marker": {
          "color": "rgba(50, 171, 96, 1.0)"
         },
         "name": "C",
         "orientation": "v",
         "type": "box",
         "y": [
          -0.5314652877495902,
          2.2186474760330563,
          -0.6389682720126716,
          1.3793555469949645,
          0.1645065101816152,
          0.8429482043939898,
          -0.020441894851906117,
          1.0039693363469748,
          0.2644494966560863,
          -0.6277884709802357,
          0.9396227469133503,
          0.7169980627028582,
          0.23737090856245152,
          1.7462968082547403,
          -0.8154127844004201,
          -1.5939071468516273,
          0.2653426342888696,
          -2.2057132597745017,
          0.18843501983927433,
          0.2533201514329437,
          -0.481776439793337,
          1.2604071475703236,
          0.03342545347522977,
          -1.0255820892293614,
          1.049403871745054,
          -0.5449269397249219,
          0.6927506838105815,
          0.8569045690829772,
          0.6960801094805269,
          0.41228120735289325,
          -0.5347954717069701,
          0.6525900328951344,
          -0.9031621695336286,
          -0.7771738316054332,
          -0.4608559749506431,
          -1.873812720261879,
          1.451550493126228,
          -0.3464470009976206,
          1.2972655948243323,
          -1.462934082674206,
          1.5889668475082657,
          -1.1804747958493478,
          0.14736945716833635,
          -0.7217551180817706,
          0.486407896985243,
          2.5557679354654517,
          0.9266858465700915,
          1.047813987372427,
          0.46411143353768314,
          -0.7232162319933524,
          -0.6289775250999133,
          -1.1645792924981966,
          0.75643643351788,
          -0.8594027664490006,
          0.0008668968465360472,
          -1.3856077357804701,
          0.14448886537292585,
          -1.6025002278390523,
          0.9195575608631161,
          -0.17469686289299635,
          -1.367049261635498,
          -0.27590249827233715,
          -0.9119076275662321,
          1.3073348052081717,
          0.8198468187216309,
          0.6346908590004512,
          0.35686053181505784,
          0.706366878137112,
          -2.060526063616883,
          -0.5532522643764815,
          -0.04314602830520446,
          -0.30337006507846476,
          1.3711763571046398,
          0.4965487424074641,
          1.0483377991076952,
          -0.7306042704368239,
          -1.767726526012954,
          -0.22378833249331728,
          1.601121309317086,
          0.8828103257648692,
          0.1826898270480904,
          -1.5991846579476228,
          0.6064089004607497,
          0.7304265150271423,
          -1.0517525399387608,
          0.2511415655874058,
          1.2509386690441953,
          -0.5627840069345255,
          1.6852116648377633,
          -0.11024553099954161,
          -0.7630707594050132,
          0.3296679782933773,
          1.3684849781430115,
          0.27698460569843913,
          0.7056148743119981,
          -0.10728295357837499,
          -0.3259299468930852,
          -0.18231346193029901,
          -1.4556732879652434,
          -0.6220954124482995
         ]
        },
        {
         "boxpoints": false,
         "line": {
          "width": 1.3
         },
         "marker": {
          "color": "rgba(128, 0, 128, 1.0)"
         },
         "name": "D",
         "orientation": "v",
         "type": "box",
         "y": [
          0.6778729725043644,
          1.8059030764379598,
          -0.8427894394917019,
          0.7028364071414452,
          0.825571631036336,
          1.2051120547600316,
          0.7244139364195797,
          -1.3559348657071273,
          0.308024975632527,
          1.5983724409903277,
          -0.6576379587296303,
          0.7993403925019309,
          -2.053115218099911,
          0.2646019343945171,
          0.08754753975747707,
          -1.2427612499539613,
          1.4754629908026846,
          -1.4811321630576677,
          -0.7594373064233083,
          -0.12750497178924067,
          -0.9268168563442297,
          0.5974046066257698,
          -0.24292065362520213,
          -0.9649714681828205,
          -0.8750636064485101,
          0.9197750708901921,
          -0.7480168853760317,
          -0.21328878614093316,
          -0.07067969844926104,
          -0.27659078776879303,
          -0.1539470600069913,
          -1.4364152652969937,
          0.6215680045149821,
          -0.48656860575540056,
          0.5860063525576973,
          1.9532791720799327,
          -0.3104503972645789,
          -1.3654328722807976,
          -1.849019483939876,
          -0.09336559614620331,
          0.13796389663084496,
          -2.3368087222436547,
          -0.6740237740011111,
          -0.38813886664316555,
          -1.9610870166233894,
          1.3395529043070529,
          -1.250301608200872,
          -0.9509762415784829,
          0.4956869652378916,
          -1.652979492017329,
          0.7965335618604886,
          0.15634707733563813,
          -0.19479389896442964,
          -1.227555406619242,
          -0.5148957417108884,
          0.40242052930592775,
          -0.6158801987936839,
          1.177784819208276,
          0.11262827876844117,
          -0.4843349673116165,
          0.2945782550901206,
          -0.934384920930522,
          1.3574266011483518,
          -0.7294098196699667,
          0.7694541209231814,
          -0.3072129719491864,
          -0.6898730900175366,
          0.5616101475751268,
          1.0608130901361357,
          0.3365113202896197,
          0.802895786173727,
          1.1807526832244597,
          1.4797589854368138,
          -1.6835543921364118,
          -2.3973178545282576,
          -0.07729738106454107,
          -1.4423464202587457,
          -0.8575416103465401,
          -0.39840166643721536,
          -0.06541299297405546,
          -0.07624090039277232,
          -0.24922141663777242,
          1.9727778289235816,
          -0.3232704694600576,
          -0.6814286088775799,
          0.46580194086213295,
          0.9803989561322469,
          -1.4079738707164426,
          0.8443446110505288,
          -1.5775361603642126,
          -0.4947820803002275,
          0.70008140358095,
          -0.8521409087449835,
          0.35206004338908614,
          0.11794839018660937,
          -1.8289443292834922,
          -0.4425082344438239,
          -1.220386257042587,
          -0.23203980086744277,
          1.2682405988455958
         ]
        }
       ],
       "layout": {
        "legend": {
         "bgcolor": "#F5F6F9",
         "font": {
          "color": "#4D5663"
         }
        },
        "paper_bgcolor": "#F5F6F9",
        "plot_bgcolor": "#F5F6F9",
        "template": {
         "data": {
          "bar": [
           {
            "error_x": {
             "color": "#2a3f5f"
            },
            "error_y": {
             "color": "#2a3f5f"
            },
            "marker": {
             "line": {
              "color": "#E5ECF6",
              "width": 0.5
             }
            },
            "type": "bar"
           }
          ],
          "barpolar": [
           {
            "marker": {
             "line": {
              "color": "#E5ECF6",
              "width": 0.5
             }
            },
            "type": "barpolar"
           }
          ],
          "carpet": [
           {
            "aaxis": {
             "endlinecolor": "#2a3f5f",
             "gridcolor": "white",
             "linecolor": "white",
             "minorgridcolor": "white",
             "startlinecolor": "#2a3f5f"
            },
            "baxis": {
             "endlinecolor": "#2a3f5f",
             "gridcolor": "white",
             "linecolor": "white",
             "minorgridcolor": "white",
             "startlinecolor": "#2a3f5f"
            },
            "type": "carpet"
           }
          ],
          "choropleth": [
           {
            "colorbar": {
             "outlinewidth": 0,
             "ticks": ""
            },
            "type": "choropleth"
           }
          ],
          "contour": [
           {
            "colorbar": {
             "outlinewidth": 0,
             "ticks": ""
            },
            "colorscale": [
             [
              0,
              "#0d0887"
             ],
             [
              0.1111111111111111,
              "#46039f"
             ],
             [
              0.2222222222222222,
              "#7201a8"
             ],
             [
              0.3333333333333333,
              "#9c179e"
             ],
             [
              0.4444444444444444,
              "#bd3786"
             ],
             [
              0.5555555555555556,
              "#d8576b"
             ],
             [
              0.6666666666666666,
              "#ed7953"
             ],
             [
              0.7777777777777778,
              "#fb9f3a"
             ],
             [
              0.8888888888888888,
              "#fdca26"
             ],
             [
              1,
              "#f0f921"
             ]
            ],
            "type": "contour"
           }
          ],
          "contourcarpet": [
           {
            "colorbar": {
             "outlinewidth": 0,
             "ticks": ""
            },
            "type": "contourcarpet"
           }
          ],
          "heatmap": [
           {
            "colorbar": {
             "outlinewidth": 0,
             "ticks": ""
            },
            "colorscale": [
             [
              0,
              "#0d0887"
             ],
             [
              0.1111111111111111,
              "#46039f"
             ],
             [
              0.2222222222222222,
              "#7201a8"
             ],
             [
              0.3333333333333333,
              "#9c179e"
             ],
             [
              0.4444444444444444,
              "#bd3786"
             ],
             [
              0.5555555555555556,
              "#d8576b"
             ],
             [
              0.6666666666666666,
              "#ed7953"
             ],
             [
              0.7777777777777778,
              "#fb9f3a"
             ],
             [
              0.8888888888888888,
              "#fdca26"
             ],
             [
              1,
              "#f0f921"
             ]
            ],
            "type": "heatmap"
           }
          ],
          "heatmapgl": [
           {
            "colorbar": {
             "outlinewidth": 0,
             "ticks": ""
            },
            "colorscale": [
             [
              0,
              "#0d0887"
             ],
             [
              0.1111111111111111,
              "#46039f"
             ],
             [
              0.2222222222222222,
              "#7201a8"
             ],
             [
              0.3333333333333333,
              "#9c179e"
             ],
             [
              0.4444444444444444,
              "#bd3786"
             ],
             [
              0.5555555555555556,
              "#d8576b"
             ],
             [
              0.6666666666666666,
              "#ed7953"
             ],
             [
              0.7777777777777778,
              "#fb9f3a"
             ],
             [
              0.8888888888888888,
              "#fdca26"
             ],
             [
              1,
              "#f0f921"
             ]
            ],
            "type": "heatmapgl"
           }
          ],
          "histogram": [
           {
            "marker": {
             "colorbar": {
              "outlinewidth": 0,
              "ticks": ""
             }
            },
            "type": "histogram"
           }
          ],
          "histogram2d": [
           {
            "colorbar": {
             "outlinewidth": 0,
             "ticks": ""
            },
            "colorscale": [
             [
              0,
              "#0d0887"
             ],
             [
              0.1111111111111111,
              "#46039f"
             ],
             [
              0.2222222222222222,
              "#7201a8"
             ],
             [
              0.3333333333333333,
              "#9c179e"
             ],
             [
              0.4444444444444444,
              "#bd3786"
             ],
             [
              0.5555555555555556,
              "#d8576b"
             ],
             [
              0.6666666666666666,
              "#ed7953"
             ],
             [
              0.7777777777777778,
              "#fb9f3a"
             ],
             [
              0.8888888888888888,
              "#fdca26"
             ],
             [
              1,
              "#f0f921"
             ]
            ],
            "type": "histogram2d"
           }
          ],
          "histogram2dcontour": [
           {
            "colorbar": {
             "outlinewidth": 0,
             "ticks": ""
            },
            "colorscale": [
             [
              0,
              "#0d0887"
             ],
             [
              0.1111111111111111,
              "#46039f"
             ],
             [
              0.2222222222222222,
              "#7201a8"
             ],
             [
              0.3333333333333333,
              "#9c179e"
             ],
             [
              0.4444444444444444,
              "#bd3786"
             ],
             [
              0.5555555555555556,
              "#d8576b"
             ],
             [
              0.6666666666666666,
              "#ed7953"
             ],
             [
              0.7777777777777778,
              "#fb9f3a"
             ],
             [
              0.8888888888888888,
              "#fdca26"
             ],
             [
              1,
              "#f0f921"
             ]
            ],
            "type": "histogram2dcontour"
           }
          ],
          "mesh3d": [
           {
            "colorbar": {
             "outlinewidth": 0,
             "ticks": ""
            },
            "type": "mesh3d"
           }
          ],
          "parcoords": [
           {
            "line": {
             "colorbar": {
              "outlinewidth": 0,
              "ticks": ""
             }
            },
            "type": "parcoords"
           }
          ],
          "pie": [
           {
            "automargin": true,
            "type": "pie"
           }
          ],
          "scatter": [
           {
            "marker": {
             "colorbar": {
              "outlinewidth": 0,
              "ticks": ""
             }
            },
            "type": "scatter"
           }
          ],
          "scatter3d": [
           {
            "line": {
             "colorbar": {
              "outlinewidth": 0,
              "ticks": ""
             }
            },
            "marker": {
             "colorbar": {
              "outlinewidth": 0,
              "ticks": ""
             }
            },
            "type": "scatter3d"
           }
          ],
          "scattercarpet": [
           {
            "marker": {
             "colorbar": {
              "outlinewidth": 0,
              "ticks": ""
             }
            },
            "type": "scattercarpet"
           }
          ],
          "scattergeo": [
           {
            "marker": {
             "colorbar": {
              "outlinewidth": 0,
              "ticks": ""
             }
            },
            "type": "scattergeo"
           }
          ],
          "scattergl": [
           {
            "marker": {
             "colorbar": {
              "outlinewidth": 0,
              "ticks": ""
             }
            },
            "type": "scattergl"
           }
          ],
          "scattermapbox": [
           {
            "marker": {
             "colorbar": {
              "outlinewidth": 0,
              "ticks": ""
             }
            },
            "type": "scattermapbox"
           }
          ],
          "scatterpolar": [
           {
            "marker": {
             "colorbar": {
              "outlinewidth": 0,
              "ticks": ""
             }
            },
            "type": "scatterpolar"
           }
          ],
          "scatterpolargl": [
           {
            "marker": {
             "colorbar": {
              "outlinewidth": 0,
              "ticks": ""
             }
            },
            "type": "scatterpolargl"
           }
          ],
          "scatterternary": [
           {
            "marker": {
             "colorbar": {
              "outlinewidth": 0,
              "ticks": ""
             }
            },
            "type": "scatterternary"
           }
          ],
          "surface": [
           {
            "colorbar": {
             "outlinewidth": 0,
             "ticks": ""
            },
            "colorscale": [
             [
              0,
              "#0d0887"
             ],
             [
              0.1111111111111111,
              "#46039f"
             ],
             [
              0.2222222222222222,
              "#7201a8"
             ],
             [
              0.3333333333333333,
              "#9c179e"
             ],
             [
              0.4444444444444444,
              "#bd3786"
             ],
             [
              0.5555555555555556,
              "#d8576b"
             ],
             [
              0.6666666666666666,
              "#ed7953"
             ],
             [
              0.7777777777777778,
              "#fb9f3a"
             ],
             [
              0.8888888888888888,
              "#fdca26"
             ],
             [
              1,
              "#f0f921"
             ]
            ],
            "type": "surface"
           }
          ],
          "table": [
           {
            "cells": {
             "fill": {
              "color": "#EBF0F8"
             },
             "line": {
              "color": "white"
             }
            },
            "header": {
             "fill": {
              "color": "#C8D4E3"
             },
             "line": {
              "color": "white"
             }
            },
            "type": "table"
           }
          ]
         },
         "layout": {
          "annotationdefaults": {
           "arrowcolor": "#2a3f5f",
           "arrowhead": 0,
           "arrowwidth": 1
          },
          "coloraxis": {
           "colorbar": {
            "outlinewidth": 0,
            "ticks": ""
           }
          },
          "colorscale": {
           "diverging": [
            [
             0,
             "#8e0152"
            ],
            [
             0.1,
             "#c51b7d"
            ],
            [
             0.2,
             "#de77ae"
            ],
            [
             0.3,
             "#f1b6da"
            ],
            [
             0.4,
             "#fde0ef"
            ],
            [
             0.5,
             "#f7f7f7"
            ],
            [
             0.6,
             "#e6f5d0"
            ],
            [
             0.7,
             "#b8e186"
            ],
            [
             0.8,
             "#7fbc41"
            ],
            [
             0.9,
             "#4d9221"
            ],
            [
             1,
             "#276419"
            ]
           ],
           "sequential": [
            [
             0,
             "#0d0887"
            ],
            [
             0.1111111111111111,
             "#46039f"
            ],
            [
             0.2222222222222222,
             "#7201a8"
            ],
            [
             0.3333333333333333,
             "#9c179e"
            ],
            [
             0.4444444444444444,
             "#bd3786"
            ],
            [
             0.5555555555555556,
             "#d8576b"
            ],
            [
             0.6666666666666666,
             "#ed7953"
            ],
            [
             0.7777777777777778,
             "#fb9f3a"
            ],
            [
             0.8888888888888888,
             "#fdca26"
            ],
            [
             1,
             "#f0f921"
            ]
           ],
           "sequentialminus": [
            [
             0,
             "#0d0887"
            ],
            [
             0.1111111111111111,
             "#46039f"
            ],
            [
             0.2222222222222222,
             "#7201a8"
            ],
            [
             0.3333333333333333,
             "#9c179e"
            ],
            [
             0.4444444444444444,
             "#bd3786"
            ],
            [
             0.5555555555555556,
             "#d8576b"
            ],
            [
             0.6666666666666666,
             "#ed7953"
            ],
            [
             0.7777777777777778,
             "#fb9f3a"
            ],
            [
             0.8888888888888888,
             "#fdca26"
            ],
            [
             1,
             "#f0f921"
            ]
           ]
          },
          "colorway": [
           "#636efa",
           "#EF553B",
           "#00cc96",
           "#ab63fa",
           "#FFA15A",
           "#19d3f3",
           "#FF6692",
           "#B6E880",
           "#FF97FF",
           "#FECB52"
          ],
          "font": {
           "color": "#2a3f5f"
          },
          "geo": {
           "bgcolor": "white",
           "lakecolor": "white",
           "landcolor": "#E5ECF6",
           "showlakes": true,
           "showland": true,
           "subunitcolor": "white"
          },
          "hoverlabel": {
           "align": "left"
          },
          "hovermode": "closest",
          "mapbox": {
           "style": "light"
          },
          "paper_bgcolor": "white",
          "plot_bgcolor": "#E5ECF6",
          "polar": {
           "angularaxis": {
            "gridcolor": "white",
            "linecolor": "white",
            "ticks": ""
           },
           "bgcolor": "#E5ECF6",
           "radialaxis": {
            "gridcolor": "white",
            "linecolor": "white",
            "ticks": ""
           }
          },
          "scene": {
           "xaxis": {
            "backgroundcolor": "#E5ECF6",
            "gridcolor": "white",
            "gridwidth": 2,
            "linecolor": "white",
            "showbackground": true,
            "ticks": "",
            "zerolinecolor": "white"
           },
           "yaxis": {
            "backgroundcolor": "#E5ECF6",
            "gridcolor": "white",
            "gridwidth": 2,
            "linecolor": "white",
            "showbackground": true,
            "ticks": "",
            "zerolinecolor": "white"
           },
           "zaxis": {
            "backgroundcolor": "#E5ECF6",
            "gridcolor": "white",
            "gridwidth": 2,
            "linecolor": "white",
            "showbackground": true,
            "ticks": "",
            "zerolinecolor": "white"
           }
          },
          "shapedefaults": {
           "line": {
            "color": "#2a3f5f"
           }
          },
          "ternary": {
           "aaxis": {
            "gridcolor": "white",
            "linecolor": "white",
            "ticks": ""
           },
           "baxis": {
            "gridcolor": "white",
            "linecolor": "white",
            "ticks": ""
           },
           "bgcolor": "#E5ECF6",
           "caxis": {
            "gridcolor": "white",
            "linecolor": "white",
            "ticks": ""
           }
          },
          "title": {
           "x": 0.05
          },
          "xaxis": {
           "automargin": true,
           "gridcolor": "white",
           "linecolor": "white",
           "ticks": "",
           "title": {
            "standoff": 15
           },
           "zerolinecolor": "white",
           "zerolinewidth": 2
          },
          "yaxis": {
           "automargin": true,
           "gridcolor": "white",
           "linecolor": "white",
           "ticks": "",
           "title": {
            "standoff": 15
           },
           "zerolinecolor": "white",
           "zerolinewidth": 2
          }
         }
        },
        "title": {
         "font": {
          "color": "#4D5663"
         }
        },
        "xaxis": {
         "gridcolor": "#E1E5ED",
         "showgrid": true,
         "tickfont": {
          "color": "#4D5663"
         },
         "title": {
          "font": {
           "color": "#4D5663"
          },
          "text": ""
         },
         "zerolinecolor": "#E1E5ED"
        },
        "yaxis": {
         "gridcolor": "#E1E5ED",
         "showgrid": true,
         "tickfont": {
          "color": "#4D5663"
         },
         "title": {
          "font": {
           "color": "#4D5663"
          },
          "text": ""
         },
         "zerolinecolor": "#E1E5ED"
        }
       }
      },
      "text/html": [
       "<div>                            <div id=\"d92dfbbd-7c3d-4e78-a085-3dfd4458ff63\" class=\"plotly-graph-div\" style=\"height:525px; width:100%;\"></div>            <script type=\"text/javascript\">                require([\"plotly\"], function(Plotly) {                    window.PLOTLYENV=window.PLOTLYENV || {};\n",
       "                    window.PLOTLYENV.BASE_URL='https://plot.ly';                                    if (document.getElementById(\"d92dfbbd-7c3d-4e78-a085-3dfd4458ff63\")) {                    Plotly.newPlot(                        \"d92dfbbd-7c3d-4e78-a085-3dfd4458ff63\",                        [{\"boxpoints\": false, \"line\": {\"width\": 1.3}, \"marker\": {\"color\": \"rgba(255, 153, 51, 1.0)\"}, \"name\": \"A\", \"orientation\": \"v\", \"type\": \"box\", \"y\": [0.5217537784129974, 0.3309749226115375, -1.193876709659765, 0.44343923119185524, -0.18931392017075624, 0.173205767535824, 0.696775738847488, -2.014191654816539, -0.3260508724875542, 1.7018734448037018, -0.3578297915922514, 0.795878744012465, -0.6221105875227282, 0.1795158852025101, -0.5263018890301373, -1.6579984218119408, 1.5734505787806656, 0.09347039337484478, 0.22695335836177413, 1.74135293216879, 0.8543457987432498, 1.6668700893834498, 0.21509981024768562, 0.05147367659147075, 0.595348020727714, 1.3425773565713435, 0.5056396605572587, 0.7004964136717756, -0.11611198442315279, 0.7084287321300998, -0.7109807917845864, 0.243838163690604, -0.052769434282530246, 0.65197584784953, 0.15111623638211763, -0.45994422176644884, -1.6377125581004068, 1.6353164567583425, -0.02110823435862904, 0.8662866086795274, -0.7992112511748268, -1.2091767689531847, 0.615433464445986, -0.6918898665437458, -0.22088314776555945, -0.36616282407008444, 1.2391168115335351, -0.6051262003388084, -1.590191148875863, -0.9818480747620559, -0.4616387767955757, -0.7134294894563353, 0.07223535070388272, 0.057558323803864345, -0.43681040939791793, 0.4689372999801223, 1.502366134331344, 0.7308934048604777, -1.8445348233596541, -0.023749777252913405, 0.07027259389091652, 0.795641143639049, 0.14650863736209424, -0.289159142974127, -1.2748625970110754, -0.2774290754016461, 0.8781245042054561, -0.8697236584897804, 0.07199053776509524, -1.757042236586087, 0.39716974253845905, 0.1654662688475511, -0.33199426676448535, 0.7744544397767887, 1.1793804702730013, -0.9462622397360114, 0.7557618474116468, -0.5317089300673019, 0.04458895563719713, -0.3484351357629532, 0.9637309052261983, 0.5769189564311794, 0.08063722123130981, 0.5023295174559748, -0.7596996515964047, 1.4161337913043834, 1.9283827384775984, -1.6721607391450544, 0.4553713821873685, -0.3971879291836942, 0.17041840171947764, -1.1644496531098152, 0.15295268302093223, -0.18904846215760945, 0.2400629991205869, -0.010061126559507024, 0.8658858707404796, 1.056913755398305, 0.862841462797941, 0.47176134545444554]}, {\"boxpoints\": false, \"line\": {\"width\": 1.3}, \"marker\": {\"color\": \"rgba(55, 128, 191, 1.0)\"}, \"name\": \"B\", \"orientation\": \"v\", \"type\": \"box\", \"y\": [-0.39261445799361727, 0.22580367056171108, 0.25483863748102475, 0.9905938087654146, -0.3454489749148752, 0.5862541601958202, 0.04228997696170449, -1.5099138219153663, -1.4985134831759215, 0.09468800407249342, -0.6529428511506372, 0.11140377407013143, 0.2986561002471471, -0.6958738060209194, 1.6280048100235736, -1.4414780265052891, -1.0091162361804633, -0.4358346913952342, 0.9644518693267125, 1.339378202043062, -1.009276170450571, 0.355374750343669, 2.4613393443673854, 1.1250694379563946, -0.3101218143757754, 0.21931795568428836, -1.1034092566915703, 0.34792501227665257, 0.5640927383340527, 2.005692956097845, -1.3763340171658087, -0.5516546832432645, -0.4322623433505339, -1.4069669300676437, 0.9925196666613212, -0.3174599626785784, -1.402277482694772, 1.5941004088534267, -0.20902468508344935, 1.7723686071566995, 1.0255780072645866, 0.3611684560390772, -0.9876425439197813, 2.0634227790927873, 0.5808836005391271, 2.085501418876228, -0.1669861926278503, 2.4188376530846787, -1.7854249534372195, -2.0250332266149442, -0.54463884665561, 0.990855608274131, -1.4367068235569664, -0.4429595086434903, 0.2807870731341278, -1.2933742820918692, -0.1556993337542278, -1.1504599947642138, 0.6624811468344771, -0.9756259309342289, 0.8167384140483486, -0.5345985813863435, -0.27727702113759906, 0.19310545663846124, -1.532902312679032, -0.028100975887289895, -1.9959810670789664, 0.2243920084584965, -0.6600578441118969, 1.3352710743039025, -1.398424039696386, 0.8462771387518341, 0.11236464635976393, -0.15515819132980102, 1.3302994525696428, -0.5868131798941717, 1.3234568595593719, 0.8499332074462286, -0.08224166207067568, 0.6328294865034617, 0.06679708452559546, -0.23350689690678816, -2.7527613522856362, 0.9548230886533037, -0.5190830632490822, -0.42926880006980395, 0.236960866081998, -1.9304304156678027, 0.5350138717457857, -0.6962587707076815, -0.1957102445287146, -1.3072663184338325, -0.10554726253657928, 0.20192027205191437, -0.3790196316097984, -0.47639675723883623, -0.2596209420386043, 1.4129214345638288, 1.215471680596547, -1.0518754451458192]}, {\"boxpoints\": false, \"line\": {\"width\": 1.3}, \"marker\": {\"color\": \"rgba(50, 171, 96, 1.0)\"}, \"name\": \"C\", \"orientation\": \"v\", \"type\": \"box\", \"y\": [-0.5314652877495902, 2.2186474760330563, -0.6389682720126716, 1.3793555469949645, 0.1645065101816152, 0.8429482043939898, -0.020441894851906117, 1.0039693363469748, 0.2644494966560863, -0.6277884709802357, 0.9396227469133503, 0.7169980627028582, 0.23737090856245152, 1.7462968082547403, -0.8154127844004201, -1.5939071468516273, 0.2653426342888696, -2.2057132597745017, 0.18843501983927433, 0.2533201514329437, -0.481776439793337, 1.2604071475703236, 0.03342545347522977, -1.0255820892293614, 1.049403871745054, -0.5449269397249219, 0.6927506838105815, 0.8569045690829772, 0.6960801094805269, 0.41228120735289325, -0.5347954717069701, 0.6525900328951344, -0.9031621695336286, -0.7771738316054332, -0.4608559749506431, -1.873812720261879, 1.451550493126228, -0.3464470009976206, 1.2972655948243323, -1.462934082674206, 1.5889668475082657, -1.1804747958493478, 0.14736945716833635, -0.7217551180817706, 0.486407896985243, 2.5557679354654517, 0.9266858465700915, 1.047813987372427, 0.46411143353768314, -0.7232162319933524, -0.6289775250999133, -1.1645792924981966, 0.75643643351788, -0.8594027664490006, 0.0008668968465360472, -1.3856077357804701, 0.14448886537292585, -1.6025002278390523, 0.9195575608631161, -0.17469686289299635, -1.367049261635498, -0.27590249827233715, -0.9119076275662321, 1.3073348052081717, 0.8198468187216309, 0.6346908590004512, 0.35686053181505784, 0.706366878137112, -2.060526063616883, -0.5532522643764815, -0.04314602830520446, -0.30337006507846476, 1.3711763571046398, 0.4965487424074641, 1.0483377991076952, -0.7306042704368239, -1.767726526012954, -0.22378833249331728, 1.601121309317086, 0.8828103257648692, 0.1826898270480904, -1.5991846579476228, 0.6064089004607497, 0.7304265150271423, -1.0517525399387608, 0.2511415655874058, 1.2509386690441953, -0.5627840069345255, 1.6852116648377633, -0.11024553099954161, -0.7630707594050132, 0.3296679782933773, 1.3684849781430115, 0.27698460569843913, 0.7056148743119981, -0.10728295357837499, -0.3259299468930852, -0.18231346193029901, -1.4556732879652434, -0.6220954124482995]}, {\"boxpoints\": false, \"line\": {\"width\": 1.3}, \"marker\": {\"color\": \"rgba(128, 0, 128, 1.0)\"}, \"name\": \"D\", \"orientation\": \"v\", \"type\": \"box\", \"y\": [0.6778729725043644, 1.8059030764379598, -0.8427894394917019, 0.7028364071414452, 0.825571631036336, 1.2051120547600316, 0.7244139364195797, -1.3559348657071273, 0.308024975632527, 1.5983724409903277, -0.6576379587296303, 0.7993403925019309, -2.053115218099911, 0.2646019343945171, 0.08754753975747707, -1.2427612499539613, 1.4754629908026846, -1.4811321630576677, -0.7594373064233083, -0.12750497178924067, -0.9268168563442297, 0.5974046066257698, -0.24292065362520213, -0.9649714681828205, -0.8750636064485101, 0.9197750708901921, -0.7480168853760317, -0.21328878614093316, -0.07067969844926104, -0.27659078776879303, -0.1539470600069913, -1.4364152652969937, 0.6215680045149821, -0.48656860575540056, 0.5860063525576973, 1.9532791720799327, -0.3104503972645789, -1.3654328722807976, -1.849019483939876, -0.09336559614620331, 0.13796389663084496, -2.3368087222436547, -0.6740237740011111, -0.38813886664316555, -1.9610870166233894, 1.3395529043070529, -1.250301608200872, -0.9509762415784829, 0.4956869652378916, -1.652979492017329, 0.7965335618604886, 0.15634707733563813, -0.19479389896442964, -1.227555406619242, -0.5148957417108884, 0.40242052930592775, -0.6158801987936839, 1.177784819208276, 0.11262827876844117, -0.4843349673116165, 0.2945782550901206, -0.934384920930522, 1.3574266011483518, -0.7294098196699667, 0.7694541209231814, -0.3072129719491864, -0.6898730900175366, 0.5616101475751268, 1.0608130901361357, 0.3365113202896197, 0.802895786173727, 1.1807526832244597, 1.4797589854368138, -1.6835543921364118, -2.3973178545282576, -0.07729738106454107, -1.4423464202587457, -0.8575416103465401, -0.39840166643721536, -0.06541299297405546, -0.07624090039277232, -0.24922141663777242, 1.9727778289235816, -0.3232704694600576, -0.6814286088775799, 0.46580194086213295, 0.9803989561322469, -1.4079738707164426, 0.8443446110505288, -1.5775361603642126, -0.4947820803002275, 0.70008140358095, -0.8521409087449835, 0.35206004338908614, 0.11794839018660937, -1.8289443292834922, -0.4425082344438239, -1.220386257042587, -0.23203980086744277, 1.2682405988455958]}],                        {\"legend\": {\"bgcolor\": \"#F5F6F9\", \"font\": {\"color\": \"#4D5663\"}}, \"paper_bgcolor\": \"#F5F6F9\", \"plot_bgcolor\": \"#F5F6F9\", \"template\": {\"data\": {\"bar\": [{\"error_x\": {\"color\": \"#2a3f5f\"}, \"error_y\": {\"color\": \"#2a3f5f\"}, \"marker\": {\"line\": {\"color\": \"#E5ECF6\", \"width\": 0.5}}, \"type\": \"bar\"}], \"barpolar\": [{\"marker\": {\"line\": {\"color\": \"#E5ECF6\", \"width\": 0.5}}, \"type\": \"barpolar\"}], \"carpet\": [{\"aaxis\": {\"endlinecolor\": \"#2a3f5f\", \"gridcolor\": \"white\", \"linecolor\": \"white\", \"minorgridcolor\": \"white\", \"startlinecolor\": \"#2a3f5f\"}, \"baxis\": {\"endlinecolor\": \"#2a3f5f\", \"gridcolor\": \"white\", \"linecolor\": \"white\", \"minorgridcolor\": \"white\", \"startlinecolor\": \"#2a3f5f\"}, \"type\": \"carpet\"}], \"choropleth\": [{\"colorbar\": {\"outlinewidth\": 0, \"ticks\": \"\"}, \"type\": \"choropleth\"}], \"contour\": [{\"colorbar\": {\"outlinewidth\": 0, \"ticks\": \"\"}, \"colorscale\": [[0.0, \"#0d0887\"], [0.1111111111111111, \"#46039f\"], [0.2222222222222222, \"#7201a8\"], [0.3333333333333333, \"#9c179e\"], [0.4444444444444444, \"#bd3786\"], [0.5555555555555556, \"#d8576b\"], [0.6666666666666666, \"#ed7953\"], [0.7777777777777778, \"#fb9f3a\"], [0.8888888888888888, \"#fdca26\"], [1.0, \"#f0f921\"]], \"type\": \"contour\"}], \"contourcarpet\": [{\"colorbar\": {\"outlinewidth\": 0, \"ticks\": \"\"}, \"type\": \"contourcarpet\"}], \"heatmap\": [{\"colorbar\": {\"outlinewidth\": 0, \"ticks\": \"\"}, \"colorscale\": [[0.0, \"#0d0887\"], [0.1111111111111111, \"#46039f\"], [0.2222222222222222, \"#7201a8\"], [0.3333333333333333, \"#9c179e\"], [0.4444444444444444, \"#bd3786\"], [0.5555555555555556, \"#d8576b\"], [0.6666666666666666, \"#ed7953\"], [0.7777777777777778, \"#fb9f3a\"], [0.8888888888888888, \"#fdca26\"], [1.0, \"#f0f921\"]], \"type\": \"heatmap\"}], \"heatmapgl\": [{\"colorbar\": {\"outlinewidth\": 0, \"ticks\": \"\"}, \"colorscale\": [[0.0, \"#0d0887\"], [0.1111111111111111, \"#46039f\"], [0.2222222222222222, \"#7201a8\"], [0.3333333333333333, \"#9c179e\"], [0.4444444444444444, \"#bd3786\"], [0.5555555555555556, \"#d8576b\"], [0.6666666666666666, \"#ed7953\"], [0.7777777777777778, \"#fb9f3a\"], [0.8888888888888888, \"#fdca26\"], [1.0, \"#f0f921\"]], \"type\": \"heatmapgl\"}], \"histogram\": [{\"marker\": {\"colorbar\": {\"outlinewidth\": 0, \"ticks\": \"\"}}, \"type\": \"histogram\"}], \"histogram2d\": [{\"colorbar\": {\"outlinewidth\": 0, \"ticks\": \"\"}, \"colorscale\": [[0.0, \"#0d0887\"], [0.1111111111111111, \"#46039f\"], [0.2222222222222222, \"#7201a8\"], [0.3333333333333333, \"#9c179e\"], [0.4444444444444444, \"#bd3786\"], [0.5555555555555556, \"#d8576b\"], [0.6666666666666666, \"#ed7953\"], [0.7777777777777778, \"#fb9f3a\"], [0.8888888888888888, \"#fdca26\"], [1.0, \"#f0f921\"]], \"type\": \"histogram2d\"}], \"histogram2dcontour\": [{\"colorbar\": {\"outlinewidth\": 0, \"ticks\": \"\"}, \"colorscale\": [[0.0, \"#0d0887\"], [0.1111111111111111, \"#46039f\"], [0.2222222222222222, \"#7201a8\"], [0.3333333333333333, \"#9c179e\"], [0.4444444444444444, \"#bd3786\"], [0.5555555555555556, \"#d8576b\"], [0.6666666666666666, \"#ed7953\"], [0.7777777777777778, \"#fb9f3a\"], [0.8888888888888888, \"#fdca26\"], [1.0, \"#f0f921\"]], \"type\": \"histogram2dcontour\"}], \"mesh3d\": [{\"colorbar\": {\"outlinewidth\": 0, \"ticks\": \"\"}, \"type\": \"mesh3d\"}], \"parcoords\": [{\"line\": {\"colorbar\": {\"outlinewidth\": 0, \"ticks\": \"\"}}, \"type\": \"parcoords\"}], \"pie\": [{\"automargin\": true, \"type\": \"pie\"}], \"scatter\": [{\"marker\": {\"colorbar\": {\"outlinewidth\": 0, \"ticks\": \"\"}}, \"type\": \"scatter\"}], \"scatter3d\": [{\"line\": {\"colorbar\": {\"outlinewidth\": 0, \"ticks\": \"\"}}, \"marker\": {\"colorbar\": {\"outlinewidth\": 0, \"ticks\": \"\"}}, \"type\": \"scatter3d\"}], \"scattercarpet\": [{\"marker\": {\"colorbar\": {\"outlinewidth\": 0, \"ticks\": \"\"}}, \"type\": \"scattercarpet\"}], \"scattergeo\": [{\"marker\": {\"colorbar\": {\"outlinewidth\": 0, \"ticks\": \"\"}}, \"type\": \"scattergeo\"}], \"scattergl\": [{\"marker\": {\"colorbar\": {\"outlinewidth\": 0, \"ticks\": \"\"}}, \"type\": \"scattergl\"}], \"scattermapbox\": [{\"marker\": {\"colorbar\": {\"outlinewidth\": 0, \"ticks\": \"\"}}, \"type\": \"scattermapbox\"}], \"scatterpolar\": [{\"marker\": {\"colorbar\": {\"outlinewidth\": 0, \"ticks\": \"\"}}, \"type\": \"scatterpolar\"}], \"scatterpolargl\": [{\"marker\": {\"colorbar\": {\"outlinewidth\": 0, \"ticks\": \"\"}}, \"type\": \"scatterpolargl\"}], \"scatterternary\": [{\"marker\": {\"colorbar\": {\"outlinewidth\": 0, \"ticks\": \"\"}}, \"type\": \"scatterternary\"}], \"surface\": [{\"colorbar\": {\"outlinewidth\": 0, \"ticks\": \"\"}, \"colorscale\": [[0.0, \"#0d0887\"], [0.1111111111111111, \"#46039f\"], [0.2222222222222222, \"#7201a8\"], [0.3333333333333333, \"#9c179e\"], [0.4444444444444444, \"#bd3786\"], [0.5555555555555556, \"#d8576b\"], [0.6666666666666666, \"#ed7953\"], [0.7777777777777778, \"#fb9f3a\"], [0.8888888888888888, \"#fdca26\"], [1.0, \"#f0f921\"]], \"type\": \"surface\"}], \"table\": [{\"cells\": {\"fill\": {\"color\": \"#EBF0F8\"}, \"line\": {\"color\": \"white\"}}, \"header\": {\"fill\": {\"color\": \"#C8D4E3\"}, \"line\": {\"color\": \"white\"}}, \"type\": \"table\"}]}, \"layout\": {\"annotationdefaults\": {\"arrowcolor\": \"#2a3f5f\", \"arrowhead\": 0, \"arrowwidth\": 1}, \"coloraxis\": {\"colorbar\": {\"outlinewidth\": 0, \"ticks\": \"\"}}, \"colorscale\": {\"diverging\": [[0, \"#8e0152\"], [0.1, \"#c51b7d\"], [0.2, \"#de77ae\"], [0.3, \"#f1b6da\"], [0.4, \"#fde0ef\"], [0.5, \"#f7f7f7\"], [0.6, \"#e6f5d0\"], [0.7, \"#b8e186\"], [0.8, \"#7fbc41\"], [0.9, \"#4d9221\"], [1, \"#276419\"]], \"sequential\": [[0.0, \"#0d0887\"], [0.1111111111111111, \"#46039f\"], [0.2222222222222222, \"#7201a8\"], [0.3333333333333333, \"#9c179e\"], [0.4444444444444444, \"#bd3786\"], [0.5555555555555556, \"#d8576b\"], [0.6666666666666666, \"#ed7953\"], [0.7777777777777778, \"#fb9f3a\"], [0.8888888888888888, \"#fdca26\"], [1.0, \"#f0f921\"]], \"sequentialminus\": [[0.0, \"#0d0887\"], [0.1111111111111111, \"#46039f\"], [0.2222222222222222, \"#7201a8\"], [0.3333333333333333, \"#9c179e\"], [0.4444444444444444, \"#bd3786\"], [0.5555555555555556, \"#d8576b\"], [0.6666666666666666, \"#ed7953\"], [0.7777777777777778, \"#fb9f3a\"], [0.8888888888888888, \"#fdca26\"], [1.0, \"#f0f921\"]]}, \"colorway\": [\"#636efa\", \"#EF553B\", \"#00cc96\", \"#ab63fa\", \"#FFA15A\", \"#19d3f3\", \"#FF6692\", \"#B6E880\", \"#FF97FF\", \"#FECB52\"], \"font\": {\"color\": \"#2a3f5f\"}, \"geo\": {\"bgcolor\": \"white\", \"lakecolor\": \"white\", \"landcolor\": \"#E5ECF6\", \"showlakes\": true, \"showland\": true, \"subunitcolor\": \"white\"}, \"hoverlabel\": {\"align\": \"left\"}, \"hovermode\": \"closest\", \"mapbox\": {\"style\": \"light\"}, \"paper_bgcolor\": \"white\", \"plot_bgcolor\": \"#E5ECF6\", \"polar\": {\"angularaxis\": {\"gridcolor\": \"white\", \"linecolor\": \"white\", \"ticks\": \"\"}, \"bgcolor\": \"#E5ECF6\", \"radialaxis\": {\"gridcolor\": \"white\", \"linecolor\": \"white\", \"ticks\": \"\"}}, \"scene\": {\"xaxis\": {\"backgroundcolor\": \"#E5ECF6\", \"gridcolor\": \"white\", \"gridwidth\": 2, \"linecolor\": \"white\", \"showbackground\": true, \"ticks\": \"\", \"zerolinecolor\": \"white\"}, \"yaxis\": {\"backgroundcolor\": \"#E5ECF6\", \"gridcolor\": \"white\", \"gridwidth\": 2, \"linecolor\": \"white\", \"showbackground\": true, \"ticks\": \"\", \"zerolinecolor\": \"white\"}, \"zaxis\": {\"backgroundcolor\": \"#E5ECF6\", \"gridcolor\": \"white\", \"gridwidth\": 2, \"linecolor\": \"white\", \"showbackground\": true, \"ticks\": \"\", \"zerolinecolor\": \"white\"}}, \"shapedefaults\": {\"line\": {\"color\": \"#2a3f5f\"}}, \"ternary\": {\"aaxis\": {\"gridcolor\": \"white\", \"linecolor\": \"white\", \"ticks\": \"\"}, \"baxis\": {\"gridcolor\": \"white\", \"linecolor\": \"white\", \"ticks\": \"\"}, \"bgcolor\": \"#E5ECF6\", \"caxis\": {\"gridcolor\": \"white\", \"linecolor\": \"white\", \"ticks\": \"\"}}, \"title\": {\"x\": 0.05}, \"xaxis\": {\"automargin\": true, \"gridcolor\": \"white\", \"linecolor\": \"white\", \"ticks\": \"\", \"title\": {\"standoff\": 15}, \"zerolinecolor\": \"white\", \"zerolinewidth\": 2}, \"yaxis\": {\"automargin\": true, \"gridcolor\": \"white\", \"linecolor\": \"white\", \"ticks\": \"\", \"title\": {\"standoff\": 15}, \"zerolinecolor\": \"white\", \"zerolinewidth\": 2}}}, \"title\": {\"font\": {\"color\": \"#4D5663\"}}, \"xaxis\": {\"gridcolor\": \"#E1E5ED\", \"showgrid\": true, \"tickfont\": {\"color\": \"#4D5663\"}, \"title\": {\"font\": {\"color\": \"#4D5663\"}, \"text\": \"\"}, \"zerolinecolor\": \"#E1E5ED\"}, \"yaxis\": {\"gridcolor\": \"#E1E5ED\", \"showgrid\": true, \"tickfont\": {\"color\": \"#4D5663\"}, \"title\": {\"font\": {\"color\": \"#4D5663\"}, \"text\": \"\"}, \"zerolinecolor\": \"#E1E5ED\"}},                        {\"showLink\": true, \"linkText\": \"Export to plot.ly\", \"plotlyServerURL\": \"https://plot.ly\", \"responsive\": true}                    ).then(function(){\n",
       "                            \n",
       "var gd = document.getElementById('d92dfbbd-7c3d-4e78-a085-3dfd4458ff63');\n",
       "var x = new MutationObserver(function (mutations, observer) {{\n",
       "        var display = window.getComputedStyle(gd).display;\n",
       "        if (!display || display === 'none') {{\n",
       "            console.log([gd, 'removed!']);\n",
       "            Plotly.purge(gd);\n",
       "            observer.disconnect();\n",
       "        }}\n",
       "}});\n",
       "\n",
       "// Listen for the removal of the full notebook cells\n",
       "var notebookContainer = gd.closest('#notebook-container');\n",
       "if (notebookContainer) {{\n",
       "    x.observe(notebookContainer, {childList: true});\n",
       "}}\n",
       "\n",
       "// Listen for the clearing of the current output cell\n",
       "var outputEl = gd.closest('.output');\n",
       "if (outputEl) {{\n",
       "    x.observe(outputEl, {childList: true});\n",
       "}}\n",
       "\n",
       "                        })                };                });            </script>        </div>"
      ]
     },
     "metadata": {},
     "output_type": "display_data"
    }
   ],
   "source": [
    "df.iplot(kind='box')"
   ]
  },
  {
   "cell_type": "code",
   "execution_count": 26,
   "metadata": {},
   "outputs": [],
   "source": [
    "df3=pd.DataFrame({'x':[1,2,3,4,5],'y':[10,20,30,20,10],'z':[5,4,3,2,1]})"
   ]
  },
  {
   "cell_type": "code",
   "execution_count": 24,
   "metadata": {},
   "outputs": [
    {
     "data": {
      "text/html": [
       "<div>\n",
       "<style scoped>\n",
       "    .dataframe tbody tr th:only-of-type {\n",
       "        vertical-align: middle;\n",
       "    }\n",
       "\n",
       "    .dataframe tbody tr th {\n",
       "        vertical-align: top;\n",
       "    }\n",
       "\n",
       "    .dataframe thead th {\n",
       "        text-align: right;\n",
       "    }\n",
       "</style>\n",
       "<table border=\"1\" class=\"dataframe\">\n",
       "  <thead>\n",
       "    <tr style=\"text-align: right;\">\n",
       "      <th></th>\n",
       "      <th>x</th>\n",
       "      <th>y</th>\n",
       "      <th>z</th>\n",
       "    </tr>\n",
       "  </thead>\n",
       "  <tbody>\n",
       "    <tr>\n",
       "      <td>0</td>\n",
       "      <td>1</td>\n",
       "      <td>10</td>\n",
       "      <td>500</td>\n",
       "    </tr>\n",
       "    <tr>\n",
       "      <td>1</td>\n",
       "      <td>2</td>\n",
       "      <td>20</td>\n",
       "      <td>400</td>\n",
       "    </tr>\n",
       "    <tr>\n",
       "      <td>2</td>\n",
       "      <td>3</td>\n",
       "      <td>30</td>\n",
       "      <td>300</td>\n",
       "    </tr>\n",
       "    <tr>\n",
       "      <td>3</td>\n",
       "      <td>4</td>\n",
       "      <td>20</td>\n",
       "      <td>200</td>\n",
       "    </tr>\n",
       "    <tr>\n",
       "      <td>4</td>\n",
       "      <td>5</td>\n",
       "      <td>10</td>\n",
       "      <td>100</td>\n",
       "    </tr>\n",
       "  </tbody>\n",
       "</table>\n",
       "</div>"
      ],
      "text/plain": [
       "   x   y    z\n",
       "0  1  10  500\n",
       "1  2  20  400\n",
       "2  3  30  300\n",
       "3  4  20  200\n",
       "4  5  10  100"
      ]
     },
     "execution_count": 24,
     "metadata": {},
     "output_type": "execute_result"
    }
   ],
   "source": [
    "df3"
   ]
  },
  {
   "cell_type": "code",
   "execution_count": 29,
   "metadata": {},
   "outputs": [
    {
     "data": {
      "application/vnd.plotly.v1+json": {
       "config": {
        "linkText": "Export to plot.ly",
        "plotlyServerURL": "https://plot.ly",
        "showLink": true
       },
       "data": [
        {
         "colorscale": [
          [
           0,
           "rgb(165,0,38)"
          ],
          [
           0.1,
           "rgb(215,48,39)"
          ],
          [
           0.2,
           "rgb(244,109,67)"
          ],
          [
           0.3,
           "rgb(253,174,97)"
          ],
          [
           0.4,
           "rgb(254,224,144)"
          ],
          [
           0.5,
           "rgb(255,255,191)"
          ],
          [
           0.6,
           "rgb(224,243,248)"
          ],
          [
           0.7,
           "rgb(171,217,233)"
          ],
          [
           0.8,
           "rgb(116,173,209)"
          ],
          [
           0.9,
           "rgb(69,117,180)"
          ],
          [
           1,
           "rgb(49,54,149)"
          ]
         ],
         "type": "surface",
         "x": [
          0,
          1,
          2,
          3,
          4
         ],
         "y": [
          "x",
          "y",
          "z"
         ],
         "z": [
          [
           1,
           2,
           3,
           4,
           5
          ],
          [
           10,
           20,
           30,
           20,
           10
          ],
          [
           5,
           4,
           3,
           2,
           1
          ]
         ]
        }
       ],
       "layout": {
        "legend": {
         "bgcolor": "#F5F6F9",
         "font": {
          "color": "#4D5663"
         }
        },
        "paper_bgcolor": "#F5F6F9",
        "plot_bgcolor": "#F5F6F9",
        "template": {
         "data": {
          "bar": [
           {
            "error_x": {
             "color": "#2a3f5f"
            },
            "error_y": {
             "color": "#2a3f5f"
            },
            "marker": {
             "line": {
              "color": "#E5ECF6",
              "width": 0.5
             }
            },
            "type": "bar"
           }
          ],
          "barpolar": [
           {
            "marker": {
             "line": {
              "color": "#E5ECF6",
              "width": 0.5
             }
            },
            "type": "barpolar"
           }
          ],
          "carpet": [
           {
            "aaxis": {
             "endlinecolor": "#2a3f5f",
             "gridcolor": "white",
             "linecolor": "white",
             "minorgridcolor": "white",
             "startlinecolor": "#2a3f5f"
            },
            "baxis": {
             "endlinecolor": "#2a3f5f",
             "gridcolor": "white",
             "linecolor": "white",
             "minorgridcolor": "white",
             "startlinecolor": "#2a3f5f"
            },
            "type": "carpet"
           }
          ],
          "choropleth": [
           {
            "colorbar": {
             "outlinewidth": 0,
             "ticks": ""
            },
            "type": "choropleth"
           }
          ],
          "contour": [
           {
            "colorbar": {
             "outlinewidth": 0,
             "ticks": ""
            },
            "colorscale": [
             [
              0,
              "#0d0887"
             ],
             [
              0.1111111111111111,
              "#46039f"
             ],
             [
              0.2222222222222222,
              "#7201a8"
             ],
             [
              0.3333333333333333,
              "#9c179e"
             ],
             [
              0.4444444444444444,
              "#bd3786"
             ],
             [
              0.5555555555555556,
              "#d8576b"
             ],
             [
              0.6666666666666666,
              "#ed7953"
             ],
             [
              0.7777777777777778,
              "#fb9f3a"
             ],
             [
              0.8888888888888888,
              "#fdca26"
             ],
             [
              1,
              "#f0f921"
             ]
            ],
            "type": "contour"
           }
          ],
          "contourcarpet": [
           {
            "colorbar": {
             "outlinewidth": 0,
             "ticks": ""
            },
            "type": "contourcarpet"
           }
          ],
          "heatmap": [
           {
            "colorbar": {
             "outlinewidth": 0,
             "ticks": ""
            },
            "colorscale": [
             [
              0,
              "#0d0887"
             ],
             [
              0.1111111111111111,
              "#46039f"
             ],
             [
              0.2222222222222222,
              "#7201a8"
             ],
             [
              0.3333333333333333,
              "#9c179e"
             ],
             [
              0.4444444444444444,
              "#bd3786"
             ],
             [
              0.5555555555555556,
              "#d8576b"
             ],
             [
              0.6666666666666666,
              "#ed7953"
             ],
             [
              0.7777777777777778,
              "#fb9f3a"
             ],
             [
              0.8888888888888888,
              "#fdca26"
             ],
             [
              1,
              "#f0f921"
             ]
            ],
            "type": "heatmap"
           }
          ],
          "heatmapgl": [
           {
            "colorbar": {
             "outlinewidth": 0,
             "ticks": ""
            },
            "colorscale": [
             [
              0,
              "#0d0887"
             ],
             [
              0.1111111111111111,
              "#46039f"
             ],
             [
              0.2222222222222222,
              "#7201a8"
             ],
             [
              0.3333333333333333,
              "#9c179e"
             ],
             [
              0.4444444444444444,
              "#bd3786"
             ],
             [
              0.5555555555555556,
              "#d8576b"
             ],
             [
              0.6666666666666666,
              "#ed7953"
             ],
             [
              0.7777777777777778,
              "#fb9f3a"
             ],
             [
              0.8888888888888888,
              "#fdca26"
             ],
             [
              1,
              "#f0f921"
             ]
            ],
            "type": "heatmapgl"
           }
          ],
          "histogram": [
           {
            "marker": {
             "colorbar": {
              "outlinewidth": 0,
              "ticks": ""
             }
            },
            "type": "histogram"
           }
          ],
          "histogram2d": [
           {
            "colorbar": {
             "outlinewidth": 0,
             "ticks": ""
            },
            "colorscale": [
             [
              0,
              "#0d0887"
             ],
             [
              0.1111111111111111,
              "#46039f"
             ],
             [
              0.2222222222222222,
              "#7201a8"
             ],
             [
              0.3333333333333333,
              "#9c179e"
             ],
             [
              0.4444444444444444,
              "#bd3786"
             ],
             [
              0.5555555555555556,
              "#d8576b"
             ],
             [
              0.6666666666666666,
              "#ed7953"
             ],
             [
              0.7777777777777778,
              "#fb9f3a"
             ],
             [
              0.8888888888888888,
              "#fdca26"
             ],
             [
              1,
              "#f0f921"
             ]
            ],
            "type": "histogram2d"
           }
          ],
          "histogram2dcontour": [
           {
            "colorbar": {
             "outlinewidth": 0,
             "ticks": ""
            },
            "colorscale": [
             [
              0,
              "#0d0887"
             ],
             [
              0.1111111111111111,
              "#46039f"
             ],
             [
              0.2222222222222222,
              "#7201a8"
             ],
             [
              0.3333333333333333,
              "#9c179e"
             ],
             [
              0.4444444444444444,
              "#bd3786"
             ],
             [
              0.5555555555555556,
              "#d8576b"
             ],
             [
              0.6666666666666666,
              "#ed7953"
             ],
             [
              0.7777777777777778,
              "#fb9f3a"
             ],
             [
              0.8888888888888888,
              "#fdca26"
             ],
             [
              1,
              "#f0f921"
             ]
            ],
            "type": "histogram2dcontour"
           }
          ],
          "mesh3d": [
           {
            "colorbar": {
             "outlinewidth": 0,
             "ticks": ""
            },
            "type": "mesh3d"
           }
          ],
          "parcoords": [
           {
            "line": {
             "colorbar": {
              "outlinewidth": 0,
              "ticks": ""
             }
            },
            "type": "parcoords"
           }
          ],
          "pie": [
           {
            "automargin": true,
            "type": "pie"
           }
          ],
          "scatter": [
           {
            "marker": {
             "colorbar": {
              "outlinewidth": 0,
              "ticks": ""
             }
            },
            "type": "scatter"
           }
          ],
          "scatter3d": [
           {
            "line": {
             "colorbar": {
              "outlinewidth": 0,
              "ticks": ""
             }
            },
            "marker": {
             "colorbar": {
              "outlinewidth": 0,
              "ticks": ""
             }
            },
            "type": "scatter3d"
           }
          ],
          "scattercarpet": [
           {
            "marker": {
             "colorbar": {
              "outlinewidth": 0,
              "ticks": ""
             }
            },
            "type": "scattercarpet"
           }
          ],
          "scattergeo": [
           {
            "marker": {
             "colorbar": {
              "outlinewidth": 0,
              "ticks": ""
             }
            },
            "type": "scattergeo"
           }
          ],
          "scattergl": [
           {
            "marker": {
             "colorbar": {
              "outlinewidth": 0,
              "ticks": ""
             }
            },
            "type": "scattergl"
           }
          ],
          "scattermapbox": [
           {
            "marker": {
             "colorbar": {
              "outlinewidth": 0,
              "ticks": ""
             }
            },
            "type": "scattermapbox"
           }
          ],
          "scatterpolar": [
           {
            "marker": {
             "colorbar": {
              "outlinewidth": 0,
              "ticks": ""
             }
            },
            "type": "scatterpolar"
           }
          ],
          "scatterpolargl": [
           {
            "marker": {
             "colorbar": {
              "outlinewidth": 0,
              "ticks": ""
             }
            },
            "type": "scatterpolargl"
           }
          ],
          "scatterternary": [
           {
            "marker": {
             "colorbar": {
              "outlinewidth": 0,
              "ticks": ""
             }
            },
            "type": "scatterternary"
           }
          ],
          "surface": [
           {
            "colorbar": {
             "outlinewidth": 0,
             "ticks": ""
            },
            "colorscale": [
             [
              0,
              "#0d0887"
             ],
             [
              0.1111111111111111,
              "#46039f"
             ],
             [
              0.2222222222222222,
              "#7201a8"
             ],
             [
              0.3333333333333333,
              "#9c179e"
             ],
             [
              0.4444444444444444,
              "#bd3786"
             ],
             [
              0.5555555555555556,
              "#d8576b"
             ],
             [
              0.6666666666666666,
              "#ed7953"
             ],
             [
              0.7777777777777778,
              "#fb9f3a"
             ],
             [
              0.8888888888888888,
              "#fdca26"
             ],
             [
              1,
              "#f0f921"
             ]
            ],
            "type": "surface"
           }
          ],
          "table": [
           {
            "cells": {
             "fill": {
              "color": "#EBF0F8"
             },
             "line": {
              "color": "white"
             }
            },
            "header": {
             "fill": {
              "color": "#C8D4E3"
             },
             "line": {
              "color": "white"
             }
            },
            "type": "table"
           }
          ]
         },
         "layout": {
          "annotationdefaults": {
           "arrowcolor": "#2a3f5f",
           "arrowhead": 0,
           "arrowwidth": 1
          },
          "coloraxis": {
           "colorbar": {
            "outlinewidth": 0,
            "ticks": ""
           }
          },
          "colorscale": {
           "diverging": [
            [
             0,
             "#8e0152"
            ],
            [
             0.1,
             "#c51b7d"
            ],
            [
             0.2,
             "#de77ae"
            ],
            [
             0.3,
             "#f1b6da"
            ],
            [
             0.4,
             "#fde0ef"
            ],
            [
             0.5,
             "#f7f7f7"
            ],
            [
             0.6,
             "#e6f5d0"
            ],
            [
             0.7,
             "#b8e186"
            ],
            [
             0.8,
             "#7fbc41"
            ],
            [
             0.9,
             "#4d9221"
            ],
            [
             1,
             "#276419"
            ]
           ],
           "sequential": [
            [
             0,
             "#0d0887"
            ],
            [
             0.1111111111111111,
             "#46039f"
            ],
            [
             0.2222222222222222,
             "#7201a8"
            ],
            [
             0.3333333333333333,
             "#9c179e"
            ],
            [
             0.4444444444444444,
             "#bd3786"
            ],
            [
             0.5555555555555556,
             "#d8576b"
            ],
            [
             0.6666666666666666,
             "#ed7953"
            ],
            [
             0.7777777777777778,
             "#fb9f3a"
            ],
            [
             0.8888888888888888,
             "#fdca26"
            ],
            [
             1,
             "#f0f921"
            ]
           ],
           "sequentialminus": [
            [
             0,
             "#0d0887"
            ],
            [
             0.1111111111111111,
             "#46039f"
            ],
            [
             0.2222222222222222,
             "#7201a8"
            ],
            [
             0.3333333333333333,
             "#9c179e"
            ],
            [
             0.4444444444444444,
             "#bd3786"
            ],
            [
             0.5555555555555556,
             "#d8576b"
            ],
            [
             0.6666666666666666,
             "#ed7953"
            ],
            [
             0.7777777777777778,
             "#fb9f3a"
            ],
            [
             0.8888888888888888,
             "#fdca26"
            ],
            [
             1,
             "#f0f921"
            ]
           ]
          },
          "colorway": [
           "#636efa",
           "#EF553B",
           "#00cc96",
           "#ab63fa",
           "#FFA15A",
           "#19d3f3",
           "#FF6692",
           "#B6E880",
           "#FF97FF",
           "#FECB52"
          ],
          "font": {
           "color": "#2a3f5f"
          },
          "geo": {
           "bgcolor": "white",
           "lakecolor": "white",
           "landcolor": "#E5ECF6",
           "showlakes": true,
           "showland": true,
           "subunitcolor": "white"
          },
          "hoverlabel": {
           "align": "left"
          },
          "hovermode": "closest",
          "mapbox": {
           "style": "light"
          },
          "paper_bgcolor": "white",
          "plot_bgcolor": "#E5ECF6",
          "polar": {
           "angularaxis": {
            "gridcolor": "white",
            "linecolor": "white",
            "ticks": ""
           },
           "bgcolor": "#E5ECF6",
           "radialaxis": {
            "gridcolor": "white",
            "linecolor": "white",
            "ticks": ""
           }
          },
          "scene": {
           "xaxis": {
            "backgroundcolor": "#E5ECF6",
            "gridcolor": "white",
            "gridwidth": 2,
            "linecolor": "white",
            "showbackground": true,
            "ticks": "",
            "zerolinecolor": "white"
           },
           "yaxis": {
            "backgroundcolor": "#E5ECF6",
            "gridcolor": "white",
            "gridwidth": 2,
            "linecolor": "white",
            "showbackground": true,
            "ticks": "",
            "zerolinecolor": "white"
           },
           "zaxis": {
            "backgroundcolor": "#E5ECF6",
            "gridcolor": "white",
            "gridwidth": 2,
            "linecolor": "white",
            "showbackground": true,
            "ticks": "",
            "zerolinecolor": "white"
           }
          },
          "shapedefaults": {
           "line": {
            "color": "#2a3f5f"
           }
          },
          "ternary": {
           "aaxis": {
            "gridcolor": "white",
            "linecolor": "white",
            "ticks": ""
           },
           "baxis": {
            "gridcolor": "white",
            "linecolor": "white",
            "ticks": ""
           },
           "bgcolor": "#E5ECF6",
           "caxis": {
            "gridcolor": "white",
            "linecolor": "white",
            "ticks": ""
           }
          },
          "title": {
           "x": 0.05
          },
          "xaxis": {
           "automargin": true,
           "gridcolor": "white",
           "linecolor": "white",
           "ticks": "",
           "title": {
            "standoff": 15
           },
           "zerolinecolor": "white",
           "zerolinewidth": 2
          },
          "yaxis": {
           "automargin": true,
           "gridcolor": "white",
           "linecolor": "white",
           "ticks": "",
           "title": {
            "standoff": 15
           },
           "zerolinecolor": "white",
           "zerolinewidth": 2
          }
         }
        },
        "title": {
         "font": {
          "color": "#4D5663"
         }
        },
        "xaxis": {
         "gridcolor": "#E1E5ED",
         "showgrid": true,
         "tickfont": {
          "color": "#4D5663"
         },
         "title": {
          "font": {
           "color": "#4D5663"
          },
          "text": ""
         },
         "zerolinecolor": "#E1E5ED"
        },
        "yaxis": {
         "gridcolor": "#E1E5ED",
         "showgrid": true,
         "tickfont": {
          "color": "#4D5663"
         },
         "title": {
          "font": {
           "color": "#4D5663"
          },
          "text": ""
         },
         "zerolinecolor": "#E1E5ED"
        }
       }
      },
      "text/html": [
       "<div>                            <div id=\"fa315e8a-60c7-4b69-b31d-694887285f17\" class=\"plotly-graph-div\" style=\"height:525px; width:100%;\"></div>            <script type=\"text/javascript\">                require([\"plotly\"], function(Plotly) {                    window.PLOTLYENV=window.PLOTLYENV || {};\n",
       "                    window.PLOTLYENV.BASE_URL='https://plot.ly';                                    if (document.getElementById(\"fa315e8a-60c7-4b69-b31d-694887285f17\")) {                    Plotly.newPlot(                        \"fa315e8a-60c7-4b69-b31d-694887285f17\",                        [{\"colorscale\": [[0.0, \"rgb(165,0,38)\"], [0.1, \"rgb(215,48,39)\"], [0.2, \"rgb(244,109,67)\"], [0.3, \"rgb(253,174,97)\"], [0.4, \"rgb(254,224,144)\"], [0.5, \"rgb(255,255,191)\"], [0.6, \"rgb(224,243,248)\"], [0.7, \"rgb(171,217,233)\"], [0.8, \"rgb(116,173,209)\"], [0.9, \"rgb(69,117,180)\"], [1.0, \"rgb(49,54,149)\"]], \"type\": \"surface\", \"x\": [0, 1, 2, 3, 4], \"y\": [\"x\", \"y\", \"z\"], \"z\": [[1, 2, 3, 4, 5], [10, 20, 30, 20, 10], [5, 4, 3, 2, 1]]}],                        {\"legend\": {\"bgcolor\": \"#F5F6F9\", \"font\": {\"color\": \"#4D5663\"}}, \"paper_bgcolor\": \"#F5F6F9\", \"plot_bgcolor\": \"#F5F6F9\", \"template\": {\"data\": {\"bar\": [{\"error_x\": {\"color\": \"#2a3f5f\"}, \"error_y\": {\"color\": \"#2a3f5f\"}, \"marker\": {\"line\": {\"color\": \"#E5ECF6\", \"width\": 0.5}}, \"type\": \"bar\"}], \"barpolar\": [{\"marker\": {\"line\": {\"color\": \"#E5ECF6\", \"width\": 0.5}}, \"type\": \"barpolar\"}], \"carpet\": [{\"aaxis\": {\"endlinecolor\": \"#2a3f5f\", \"gridcolor\": \"white\", \"linecolor\": \"white\", \"minorgridcolor\": \"white\", \"startlinecolor\": \"#2a3f5f\"}, \"baxis\": {\"endlinecolor\": \"#2a3f5f\", \"gridcolor\": \"white\", \"linecolor\": \"white\", \"minorgridcolor\": \"white\", \"startlinecolor\": \"#2a3f5f\"}, \"type\": \"carpet\"}], \"choropleth\": [{\"colorbar\": {\"outlinewidth\": 0, \"ticks\": \"\"}, \"type\": \"choropleth\"}], \"contour\": [{\"colorbar\": {\"outlinewidth\": 0, \"ticks\": \"\"}, \"colorscale\": [[0.0, \"#0d0887\"], [0.1111111111111111, \"#46039f\"], [0.2222222222222222, \"#7201a8\"], [0.3333333333333333, \"#9c179e\"], [0.4444444444444444, \"#bd3786\"], [0.5555555555555556, \"#d8576b\"], [0.6666666666666666, \"#ed7953\"], [0.7777777777777778, \"#fb9f3a\"], [0.8888888888888888, \"#fdca26\"], [1.0, \"#f0f921\"]], \"type\": \"contour\"}], \"contourcarpet\": [{\"colorbar\": {\"outlinewidth\": 0, \"ticks\": \"\"}, \"type\": \"contourcarpet\"}], \"heatmap\": [{\"colorbar\": {\"outlinewidth\": 0, \"ticks\": \"\"}, \"colorscale\": [[0.0, \"#0d0887\"], [0.1111111111111111, \"#46039f\"], [0.2222222222222222, \"#7201a8\"], [0.3333333333333333, \"#9c179e\"], [0.4444444444444444, \"#bd3786\"], [0.5555555555555556, \"#d8576b\"], [0.6666666666666666, \"#ed7953\"], [0.7777777777777778, \"#fb9f3a\"], [0.8888888888888888, \"#fdca26\"], [1.0, \"#f0f921\"]], \"type\": \"heatmap\"}], \"heatmapgl\": [{\"colorbar\": {\"outlinewidth\": 0, \"ticks\": \"\"}, \"colorscale\": [[0.0, \"#0d0887\"], [0.1111111111111111, \"#46039f\"], [0.2222222222222222, \"#7201a8\"], [0.3333333333333333, \"#9c179e\"], [0.4444444444444444, \"#bd3786\"], [0.5555555555555556, \"#d8576b\"], [0.6666666666666666, \"#ed7953\"], [0.7777777777777778, \"#fb9f3a\"], [0.8888888888888888, \"#fdca26\"], [1.0, \"#f0f921\"]], \"type\": \"heatmapgl\"}], \"histogram\": [{\"marker\": {\"colorbar\": {\"outlinewidth\": 0, \"ticks\": \"\"}}, \"type\": \"histogram\"}], \"histogram2d\": [{\"colorbar\": {\"outlinewidth\": 0, \"ticks\": \"\"}, \"colorscale\": [[0.0, \"#0d0887\"], [0.1111111111111111, \"#46039f\"], [0.2222222222222222, \"#7201a8\"], [0.3333333333333333, \"#9c179e\"], [0.4444444444444444, \"#bd3786\"], [0.5555555555555556, \"#d8576b\"], [0.6666666666666666, \"#ed7953\"], [0.7777777777777778, \"#fb9f3a\"], [0.8888888888888888, \"#fdca26\"], [1.0, \"#f0f921\"]], \"type\": \"histogram2d\"}], \"histogram2dcontour\": [{\"colorbar\": {\"outlinewidth\": 0, \"ticks\": \"\"}, \"colorscale\": [[0.0, \"#0d0887\"], [0.1111111111111111, \"#46039f\"], [0.2222222222222222, \"#7201a8\"], [0.3333333333333333, \"#9c179e\"], [0.4444444444444444, \"#bd3786\"], [0.5555555555555556, \"#d8576b\"], [0.6666666666666666, \"#ed7953\"], [0.7777777777777778, \"#fb9f3a\"], [0.8888888888888888, \"#fdca26\"], [1.0, \"#f0f921\"]], \"type\": \"histogram2dcontour\"}], \"mesh3d\": [{\"colorbar\": {\"outlinewidth\": 0, \"ticks\": \"\"}, \"type\": \"mesh3d\"}], \"parcoords\": [{\"line\": {\"colorbar\": {\"outlinewidth\": 0, \"ticks\": \"\"}}, \"type\": \"parcoords\"}], \"pie\": [{\"automargin\": true, \"type\": \"pie\"}], \"scatter\": [{\"marker\": {\"colorbar\": {\"outlinewidth\": 0, \"ticks\": \"\"}}, \"type\": \"scatter\"}], \"scatter3d\": [{\"line\": {\"colorbar\": {\"outlinewidth\": 0, \"ticks\": \"\"}}, \"marker\": {\"colorbar\": {\"outlinewidth\": 0, \"ticks\": \"\"}}, \"type\": \"scatter3d\"}], \"scattercarpet\": [{\"marker\": {\"colorbar\": {\"outlinewidth\": 0, \"ticks\": \"\"}}, \"type\": \"scattercarpet\"}], \"scattergeo\": [{\"marker\": {\"colorbar\": {\"outlinewidth\": 0, \"ticks\": \"\"}}, \"type\": \"scattergeo\"}], \"scattergl\": [{\"marker\": {\"colorbar\": {\"outlinewidth\": 0, \"ticks\": \"\"}}, \"type\": \"scattergl\"}], \"scattermapbox\": [{\"marker\": {\"colorbar\": {\"outlinewidth\": 0, \"ticks\": \"\"}}, \"type\": \"scattermapbox\"}], \"scatterpolar\": [{\"marker\": {\"colorbar\": {\"outlinewidth\": 0, \"ticks\": \"\"}}, \"type\": \"scatterpolar\"}], \"scatterpolargl\": [{\"marker\": {\"colorbar\": {\"outlinewidth\": 0, \"ticks\": \"\"}}, \"type\": \"scatterpolargl\"}], \"scatterternary\": [{\"marker\": {\"colorbar\": {\"outlinewidth\": 0, \"ticks\": \"\"}}, \"type\": \"scatterternary\"}], \"surface\": [{\"colorbar\": {\"outlinewidth\": 0, \"ticks\": \"\"}, \"colorscale\": [[0.0, \"#0d0887\"], [0.1111111111111111, \"#46039f\"], [0.2222222222222222, \"#7201a8\"], [0.3333333333333333, \"#9c179e\"], [0.4444444444444444, \"#bd3786\"], [0.5555555555555556, \"#d8576b\"], [0.6666666666666666, \"#ed7953\"], [0.7777777777777778, \"#fb9f3a\"], [0.8888888888888888, \"#fdca26\"], [1.0, \"#f0f921\"]], \"type\": \"surface\"}], \"table\": [{\"cells\": {\"fill\": {\"color\": \"#EBF0F8\"}, \"line\": {\"color\": \"white\"}}, \"header\": {\"fill\": {\"color\": \"#C8D4E3\"}, \"line\": {\"color\": \"white\"}}, \"type\": \"table\"}]}, \"layout\": {\"annotationdefaults\": {\"arrowcolor\": \"#2a3f5f\", \"arrowhead\": 0, \"arrowwidth\": 1}, \"coloraxis\": {\"colorbar\": {\"outlinewidth\": 0, \"ticks\": \"\"}}, \"colorscale\": {\"diverging\": [[0, \"#8e0152\"], [0.1, \"#c51b7d\"], [0.2, \"#de77ae\"], [0.3, \"#f1b6da\"], [0.4, \"#fde0ef\"], [0.5, \"#f7f7f7\"], [0.6, \"#e6f5d0\"], [0.7, \"#b8e186\"], [0.8, \"#7fbc41\"], [0.9, \"#4d9221\"], [1, \"#276419\"]], \"sequential\": [[0.0, \"#0d0887\"], [0.1111111111111111, \"#46039f\"], [0.2222222222222222, \"#7201a8\"], [0.3333333333333333, \"#9c179e\"], [0.4444444444444444, \"#bd3786\"], [0.5555555555555556, \"#d8576b\"], [0.6666666666666666, \"#ed7953\"], [0.7777777777777778, \"#fb9f3a\"], [0.8888888888888888, \"#fdca26\"], [1.0, \"#f0f921\"]], \"sequentialminus\": [[0.0, \"#0d0887\"], [0.1111111111111111, \"#46039f\"], [0.2222222222222222, \"#7201a8\"], [0.3333333333333333, \"#9c179e\"], [0.4444444444444444, \"#bd3786\"], [0.5555555555555556, \"#d8576b\"], [0.6666666666666666, \"#ed7953\"], [0.7777777777777778, \"#fb9f3a\"], [0.8888888888888888, \"#fdca26\"], [1.0, \"#f0f921\"]]}, \"colorway\": [\"#636efa\", \"#EF553B\", \"#00cc96\", \"#ab63fa\", \"#FFA15A\", \"#19d3f3\", \"#FF6692\", \"#B6E880\", \"#FF97FF\", \"#FECB52\"], \"font\": {\"color\": \"#2a3f5f\"}, \"geo\": {\"bgcolor\": \"white\", \"lakecolor\": \"white\", \"landcolor\": \"#E5ECF6\", \"showlakes\": true, \"showland\": true, \"subunitcolor\": \"white\"}, \"hoverlabel\": {\"align\": \"left\"}, \"hovermode\": \"closest\", \"mapbox\": {\"style\": \"light\"}, \"paper_bgcolor\": \"white\", \"plot_bgcolor\": \"#E5ECF6\", \"polar\": {\"angularaxis\": {\"gridcolor\": \"white\", \"linecolor\": \"white\", \"ticks\": \"\"}, \"bgcolor\": \"#E5ECF6\", \"radialaxis\": {\"gridcolor\": \"white\", \"linecolor\": \"white\", \"ticks\": \"\"}}, \"scene\": {\"xaxis\": {\"backgroundcolor\": \"#E5ECF6\", \"gridcolor\": \"white\", \"gridwidth\": 2, \"linecolor\": \"white\", \"showbackground\": true, \"ticks\": \"\", \"zerolinecolor\": \"white\"}, \"yaxis\": {\"backgroundcolor\": \"#E5ECF6\", \"gridcolor\": \"white\", \"gridwidth\": 2, \"linecolor\": \"white\", \"showbackground\": true, \"ticks\": \"\", \"zerolinecolor\": \"white\"}, \"zaxis\": {\"backgroundcolor\": \"#E5ECF6\", \"gridcolor\": \"white\", \"gridwidth\": 2, \"linecolor\": \"white\", \"showbackground\": true, \"ticks\": \"\", \"zerolinecolor\": \"white\"}}, \"shapedefaults\": {\"line\": {\"color\": \"#2a3f5f\"}}, \"ternary\": {\"aaxis\": {\"gridcolor\": \"white\", \"linecolor\": \"white\", \"ticks\": \"\"}, \"baxis\": {\"gridcolor\": \"white\", \"linecolor\": \"white\", \"ticks\": \"\"}, \"bgcolor\": \"#E5ECF6\", \"caxis\": {\"gridcolor\": \"white\", \"linecolor\": \"white\", \"ticks\": \"\"}}, \"title\": {\"x\": 0.05}, \"xaxis\": {\"automargin\": true, \"gridcolor\": \"white\", \"linecolor\": \"white\", \"ticks\": \"\", \"title\": {\"standoff\": 15}, \"zerolinecolor\": \"white\", \"zerolinewidth\": 2}, \"yaxis\": {\"automargin\": true, \"gridcolor\": \"white\", \"linecolor\": \"white\", \"ticks\": \"\", \"title\": {\"standoff\": 15}, \"zerolinecolor\": \"white\", \"zerolinewidth\": 2}}}, \"title\": {\"font\": {\"color\": \"#4D5663\"}}, \"xaxis\": {\"gridcolor\": \"#E1E5ED\", \"showgrid\": true, \"tickfont\": {\"color\": \"#4D5663\"}, \"title\": {\"font\": {\"color\": \"#4D5663\"}, \"text\": \"\"}, \"zerolinecolor\": \"#E1E5ED\"}, \"yaxis\": {\"gridcolor\": \"#E1E5ED\", \"showgrid\": true, \"tickfont\": {\"color\": \"#4D5663\"}, \"title\": {\"font\": {\"color\": \"#4D5663\"}, \"text\": \"\"}, \"zerolinecolor\": \"#E1E5ED\"}},                        {\"showLink\": true, \"linkText\": \"Export to plot.ly\", \"plotlyServerURL\": \"https://plot.ly\", \"responsive\": true}                    ).then(function(){\n",
       "                            \n",
       "var gd = document.getElementById('fa315e8a-60c7-4b69-b31d-694887285f17');\n",
       "var x = new MutationObserver(function (mutations, observer) {{\n",
       "        var display = window.getComputedStyle(gd).display;\n",
       "        if (!display || display === 'none') {{\n",
       "            console.log([gd, 'removed!']);\n",
       "            Plotly.purge(gd);\n",
       "            observer.disconnect();\n",
       "        }}\n",
       "}});\n",
       "\n",
       "// Listen for the removal of the full notebook cells\n",
       "var notebookContainer = gd.closest('#notebook-container');\n",
       "if (notebookContainer) {{\n",
       "    x.observe(notebookContainer, {childList: true});\n",
       "}}\n",
       "\n",
       "// Listen for the clearing of the current output cell\n",
       "var outputEl = gd.closest('.output');\n",
       "if (outputEl) {{\n",
       "    x.observe(outputEl, {childList: true});\n",
       "}}\n",
       "\n",
       "                        })                };                });            </script>        </div>"
      ]
     },
     "metadata": {},
     "output_type": "display_data"
    }
   ],
   "source": [
    "df3.iplot(kind='surface',colorscale='rdylbu')"
   ]
  },
  {
   "cell_type": "code",
   "execution_count": 30,
   "metadata": {},
   "outputs": [
    {
     "data": {
      "application/vnd.plotly.v1+json": {
       "config": {
        "linkText": "Export to plot.ly",
        "plotlyServerURL": "https://plot.ly",
        "showLink": true
       },
       "data": [
        {
         "histfunc": "count",
         "histnorm": "",
         "marker": {
          "color": "rgba(255, 153, 51, 1.0)",
          "line": {
           "color": "#4D5663",
           "width": 1.3
          }
         },
         "name": "A",
         "nbinsx": 30,
         "opacity": 0.8,
         "orientation": "v",
         "type": "histogram",
         "x": [
          0.5217537784129974,
          0.3309749226115375,
          -1.193876709659765,
          0.44343923119185524,
          -0.18931392017075624,
          0.173205767535824,
          0.696775738847488,
          -2.014191654816539,
          -0.3260508724875542,
          1.7018734448037018,
          -0.3578297915922514,
          0.795878744012465,
          -0.6221105875227282,
          0.1795158852025101,
          -0.5263018890301373,
          -1.6579984218119408,
          1.5734505787806656,
          0.09347039337484478,
          0.22695335836177413,
          1.74135293216879,
          0.8543457987432498,
          1.6668700893834498,
          0.21509981024768562,
          0.05147367659147075,
          0.595348020727714,
          1.3425773565713435,
          0.5056396605572587,
          0.7004964136717756,
          -0.11611198442315279,
          0.7084287321300998,
          -0.7109807917845864,
          0.243838163690604,
          -0.052769434282530246,
          0.65197584784953,
          0.15111623638211763,
          -0.45994422176644884,
          -1.6377125581004068,
          1.6353164567583425,
          -0.02110823435862904,
          0.8662866086795274,
          -0.7992112511748268,
          -1.2091767689531847,
          0.615433464445986,
          -0.6918898665437458,
          -0.22088314776555945,
          -0.36616282407008444,
          1.2391168115335351,
          -0.6051262003388084,
          -1.590191148875863,
          -0.9818480747620559,
          -0.4616387767955757,
          -0.7134294894563353,
          0.07223535070388272,
          0.057558323803864345,
          -0.43681040939791793,
          0.4689372999801223,
          1.502366134331344,
          0.7308934048604777,
          -1.8445348233596541,
          -0.023749777252913405,
          0.07027259389091652,
          0.795641143639049,
          0.14650863736209424,
          -0.289159142974127,
          -1.2748625970110754,
          -0.2774290754016461,
          0.8781245042054561,
          -0.8697236584897804,
          0.07199053776509524,
          -1.757042236586087,
          0.39716974253845905,
          0.1654662688475511,
          -0.33199426676448535,
          0.7744544397767887,
          1.1793804702730013,
          -0.9462622397360114,
          0.7557618474116468,
          -0.5317089300673019,
          0.04458895563719713,
          -0.3484351357629532,
          0.9637309052261983,
          0.5769189564311794,
          0.08063722123130981,
          0.5023295174559748,
          -0.7596996515964047,
          1.4161337913043834,
          1.9283827384775984,
          -1.6721607391450544,
          0.4553713821873685,
          -0.3971879291836942,
          0.17041840171947764,
          -1.1644496531098152,
          0.15295268302093223,
          -0.18904846215760945,
          0.2400629991205869,
          -0.010061126559507024,
          0.8658858707404796,
          1.056913755398305,
          0.862841462797941,
          0.47176134545444554
         ]
        }
       ],
       "layout": {
        "barmode": "overlay",
        "legend": {
         "bgcolor": "#F5F6F9",
         "font": {
          "color": "#4D5663"
         }
        },
        "paper_bgcolor": "#F5F6F9",
        "plot_bgcolor": "#F5F6F9",
        "template": {
         "data": {
          "bar": [
           {
            "error_x": {
             "color": "#2a3f5f"
            },
            "error_y": {
             "color": "#2a3f5f"
            },
            "marker": {
             "line": {
              "color": "#E5ECF6",
              "width": 0.5
             }
            },
            "type": "bar"
           }
          ],
          "barpolar": [
           {
            "marker": {
             "line": {
              "color": "#E5ECF6",
              "width": 0.5
             }
            },
            "type": "barpolar"
           }
          ],
          "carpet": [
           {
            "aaxis": {
             "endlinecolor": "#2a3f5f",
             "gridcolor": "white",
             "linecolor": "white",
             "minorgridcolor": "white",
             "startlinecolor": "#2a3f5f"
            },
            "baxis": {
             "endlinecolor": "#2a3f5f",
             "gridcolor": "white",
             "linecolor": "white",
             "minorgridcolor": "white",
             "startlinecolor": "#2a3f5f"
            },
            "type": "carpet"
           }
          ],
          "choropleth": [
           {
            "colorbar": {
             "outlinewidth": 0,
             "ticks": ""
            },
            "type": "choropleth"
           }
          ],
          "contour": [
           {
            "colorbar": {
             "outlinewidth": 0,
             "ticks": ""
            },
            "colorscale": [
             [
              0,
              "#0d0887"
             ],
             [
              0.1111111111111111,
              "#46039f"
             ],
             [
              0.2222222222222222,
              "#7201a8"
             ],
             [
              0.3333333333333333,
              "#9c179e"
             ],
             [
              0.4444444444444444,
              "#bd3786"
             ],
             [
              0.5555555555555556,
              "#d8576b"
             ],
             [
              0.6666666666666666,
              "#ed7953"
             ],
             [
              0.7777777777777778,
              "#fb9f3a"
             ],
             [
              0.8888888888888888,
              "#fdca26"
             ],
             [
              1,
              "#f0f921"
             ]
            ],
            "type": "contour"
           }
          ],
          "contourcarpet": [
           {
            "colorbar": {
             "outlinewidth": 0,
             "ticks": ""
            },
            "type": "contourcarpet"
           }
          ],
          "heatmap": [
           {
            "colorbar": {
             "outlinewidth": 0,
             "ticks": ""
            },
            "colorscale": [
             [
              0,
              "#0d0887"
             ],
             [
              0.1111111111111111,
              "#46039f"
             ],
             [
              0.2222222222222222,
              "#7201a8"
             ],
             [
              0.3333333333333333,
              "#9c179e"
             ],
             [
              0.4444444444444444,
              "#bd3786"
             ],
             [
              0.5555555555555556,
              "#d8576b"
             ],
             [
              0.6666666666666666,
              "#ed7953"
             ],
             [
              0.7777777777777778,
              "#fb9f3a"
             ],
             [
              0.8888888888888888,
              "#fdca26"
             ],
             [
              1,
              "#f0f921"
             ]
            ],
            "type": "heatmap"
           }
          ],
          "heatmapgl": [
           {
            "colorbar": {
             "outlinewidth": 0,
             "ticks": ""
            },
            "colorscale": [
             [
              0,
              "#0d0887"
             ],
             [
              0.1111111111111111,
              "#46039f"
             ],
             [
              0.2222222222222222,
              "#7201a8"
             ],
             [
              0.3333333333333333,
              "#9c179e"
             ],
             [
              0.4444444444444444,
              "#bd3786"
             ],
             [
              0.5555555555555556,
              "#d8576b"
             ],
             [
              0.6666666666666666,
              "#ed7953"
             ],
             [
              0.7777777777777778,
              "#fb9f3a"
             ],
             [
              0.8888888888888888,
              "#fdca26"
             ],
             [
              1,
              "#f0f921"
             ]
            ],
            "type": "heatmapgl"
           }
          ],
          "histogram": [
           {
            "marker": {
             "colorbar": {
              "outlinewidth": 0,
              "ticks": ""
             }
            },
            "type": "histogram"
           }
          ],
          "histogram2d": [
           {
            "colorbar": {
             "outlinewidth": 0,
             "ticks": ""
            },
            "colorscale": [
             [
              0,
              "#0d0887"
             ],
             [
              0.1111111111111111,
              "#46039f"
             ],
             [
              0.2222222222222222,
              "#7201a8"
             ],
             [
              0.3333333333333333,
              "#9c179e"
             ],
             [
              0.4444444444444444,
              "#bd3786"
             ],
             [
              0.5555555555555556,
              "#d8576b"
             ],
             [
              0.6666666666666666,
              "#ed7953"
             ],
             [
              0.7777777777777778,
              "#fb9f3a"
             ],
             [
              0.8888888888888888,
              "#fdca26"
             ],
             [
              1,
              "#f0f921"
             ]
            ],
            "type": "histogram2d"
           }
          ],
          "histogram2dcontour": [
           {
            "colorbar": {
             "outlinewidth": 0,
             "ticks": ""
            },
            "colorscale": [
             [
              0,
              "#0d0887"
             ],
             [
              0.1111111111111111,
              "#46039f"
             ],
             [
              0.2222222222222222,
              "#7201a8"
             ],
             [
              0.3333333333333333,
              "#9c179e"
             ],
             [
              0.4444444444444444,
              "#bd3786"
             ],
             [
              0.5555555555555556,
              "#d8576b"
             ],
             [
              0.6666666666666666,
              "#ed7953"
             ],
             [
              0.7777777777777778,
              "#fb9f3a"
             ],
             [
              0.8888888888888888,
              "#fdca26"
             ],
             [
              1,
              "#f0f921"
             ]
            ],
            "type": "histogram2dcontour"
           }
          ],
          "mesh3d": [
           {
            "colorbar": {
             "outlinewidth": 0,
             "ticks": ""
            },
            "type": "mesh3d"
           }
          ],
          "parcoords": [
           {
            "line": {
             "colorbar": {
              "outlinewidth": 0,
              "ticks": ""
             }
            },
            "type": "parcoords"
           }
          ],
          "pie": [
           {
            "automargin": true,
            "type": "pie"
           }
          ],
          "scatter": [
           {
            "marker": {
             "colorbar": {
              "outlinewidth": 0,
              "ticks": ""
             }
            },
            "type": "scatter"
           }
          ],
          "scatter3d": [
           {
            "line": {
             "colorbar": {
              "outlinewidth": 0,
              "ticks": ""
             }
            },
            "marker": {
             "colorbar": {
              "outlinewidth": 0,
              "ticks": ""
             }
            },
            "type": "scatter3d"
           }
          ],
          "scattercarpet": [
           {
            "marker": {
             "colorbar": {
              "outlinewidth": 0,
              "ticks": ""
             }
            },
            "type": "scattercarpet"
           }
          ],
          "scattergeo": [
           {
            "marker": {
             "colorbar": {
              "outlinewidth": 0,
              "ticks": ""
             }
            },
            "type": "scattergeo"
           }
          ],
          "scattergl": [
           {
            "marker": {
             "colorbar": {
              "outlinewidth": 0,
              "ticks": ""
             }
            },
            "type": "scattergl"
           }
          ],
          "scattermapbox": [
           {
            "marker": {
             "colorbar": {
              "outlinewidth": 0,
              "ticks": ""
             }
            },
            "type": "scattermapbox"
           }
          ],
          "scatterpolar": [
           {
            "marker": {
             "colorbar": {
              "outlinewidth": 0,
              "ticks": ""
             }
            },
            "type": "scatterpolar"
           }
          ],
          "scatterpolargl": [
           {
            "marker": {
             "colorbar": {
              "outlinewidth": 0,
              "ticks": ""
             }
            },
            "type": "scatterpolargl"
           }
          ],
          "scatterternary": [
           {
            "marker": {
             "colorbar": {
              "outlinewidth": 0,
              "ticks": ""
             }
            },
            "type": "scatterternary"
           }
          ],
          "surface": [
           {
            "colorbar": {
             "outlinewidth": 0,
             "ticks": ""
            },
            "colorscale": [
             [
              0,
              "#0d0887"
             ],
             [
              0.1111111111111111,
              "#46039f"
             ],
             [
              0.2222222222222222,
              "#7201a8"
             ],
             [
              0.3333333333333333,
              "#9c179e"
             ],
             [
              0.4444444444444444,
              "#bd3786"
             ],
             [
              0.5555555555555556,
              "#d8576b"
             ],
             [
              0.6666666666666666,
              "#ed7953"
             ],
             [
              0.7777777777777778,
              "#fb9f3a"
             ],
             [
              0.8888888888888888,
              "#fdca26"
             ],
             [
              1,
              "#f0f921"
             ]
            ],
            "type": "surface"
           }
          ],
          "table": [
           {
            "cells": {
             "fill": {
              "color": "#EBF0F8"
             },
             "line": {
              "color": "white"
             }
            },
            "header": {
             "fill": {
              "color": "#C8D4E3"
             },
             "line": {
              "color": "white"
             }
            },
            "type": "table"
           }
          ]
         },
         "layout": {
          "annotationdefaults": {
           "arrowcolor": "#2a3f5f",
           "arrowhead": 0,
           "arrowwidth": 1
          },
          "coloraxis": {
           "colorbar": {
            "outlinewidth": 0,
            "ticks": ""
           }
          },
          "colorscale": {
           "diverging": [
            [
             0,
             "#8e0152"
            ],
            [
             0.1,
             "#c51b7d"
            ],
            [
             0.2,
             "#de77ae"
            ],
            [
             0.3,
             "#f1b6da"
            ],
            [
             0.4,
             "#fde0ef"
            ],
            [
             0.5,
             "#f7f7f7"
            ],
            [
             0.6,
             "#e6f5d0"
            ],
            [
             0.7,
             "#b8e186"
            ],
            [
             0.8,
             "#7fbc41"
            ],
            [
             0.9,
             "#4d9221"
            ],
            [
             1,
             "#276419"
            ]
           ],
           "sequential": [
            [
             0,
             "#0d0887"
            ],
            [
             0.1111111111111111,
             "#46039f"
            ],
            [
             0.2222222222222222,
             "#7201a8"
            ],
            [
             0.3333333333333333,
             "#9c179e"
            ],
            [
             0.4444444444444444,
             "#bd3786"
            ],
            [
             0.5555555555555556,
             "#d8576b"
            ],
            [
             0.6666666666666666,
             "#ed7953"
            ],
            [
             0.7777777777777778,
             "#fb9f3a"
            ],
            [
             0.8888888888888888,
             "#fdca26"
            ],
            [
             1,
             "#f0f921"
            ]
           ],
           "sequentialminus": [
            [
             0,
             "#0d0887"
            ],
            [
             0.1111111111111111,
             "#46039f"
            ],
            [
             0.2222222222222222,
             "#7201a8"
            ],
            [
             0.3333333333333333,
             "#9c179e"
            ],
            [
             0.4444444444444444,
             "#bd3786"
            ],
            [
             0.5555555555555556,
             "#d8576b"
            ],
            [
             0.6666666666666666,
             "#ed7953"
            ],
            [
             0.7777777777777778,
             "#fb9f3a"
            ],
            [
             0.8888888888888888,
             "#fdca26"
            ],
            [
             1,
             "#f0f921"
            ]
           ]
          },
          "colorway": [
           "#636efa",
           "#EF553B",
           "#00cc96",
           "#ab63fa",
           "#FFA15A",
           "#19d3f3",
           "#FF6692",
           "#B6E880",
           "#FF97FF",
           "#FECB52"
          ],
          "font": {
           "color": "#2a3f5f"
          },
          "geo": {
           "bgcolor": "white",
           "lakecolor": "white",
           "landcolor": "#E5ECF6",
           "showlakes": true,
           "showland": true,
           "subunitcolor": "white"
          },
          "hoverlabel": {
           "align": "left"
          },
          "hovermode": "closest",
          "mapbox": {
           "style": "light"
          },
          "paper_bgcolor": "white",
          "plot_bgcolor": "#E5ECF6",
          "polar": {
           "angularaxis": {
            "gridcolor": "white",
            "linecolor": "white",
            "ticks": ""
           },
           "bgcolor": "#E5ECF6",
           "radialaxis": {
            "gridcolor": "white",
            "linecolor": "white",
            "ticks": ""
           }
          },
          "scene": {
           "xaxis": {
            "backgroundcolor": "#E5ECF6",
            "gridcolor": "white",
            "gridwidth": 2,
            "linecolor": "white",
            "showbackground": true,
            "ticks": "",
            "zerolinecolor": "white"
           },
           "yaxis": {
            "backgroundcolor": "#E5ECF6",
            "gridcolor": "white",
            "gridwidth": 2,
            "linecolor": "white",
            "showbackground": true,
            "ticks": "",
            "zerolinecolor": "white"
           },
           "zaxis": {
            "backgroundcolor": "#E5ECF6",
            "gridcolor": "white",
            "gridwidth": 2,
            "linecolor": "white",
            "showbackground": true,
            "ticks": "",
            "zerolinecolor": "white"
           }
          },
          "shapedefaults": {
           "line": {
            "color": "#2a3f5f"
           }
          },
          "ternary": {
           "aaxis": {
            "gridcolor": "white",
            "linecolor": "white",
            "ticks": ""
           },
           "baxis": {
            "gridcolor": "white",
            "linecolor": "white",
            "ticks": ""
           },
           "bgcolor": "#E5ECF6",
           "caxis": {
            "gridcolor": "white",
            "linecolor": "white",
            "ticks": ""
           }
          },
          "title": {
           "x": 0.05
          },
          "xaxis": {
           "automargin": true,
           "gridcolor": "white",
           "linecolor": "white",
           "ticks": "",
           "title": {
            "standoff": 15
           },
           "zerolinecolor": "white",
           "zerolinewidth": 2
          },
          "yaxis": {
           "automargin": true,
           "gridcolor": "white",
           "linecolor": "white",
           "ticks": "",
           "title": {
            "standoff": 15
           },
           "zerolinecolor": "white",
           "zerolinewidth": 2
          }
         }
        },
        "title": {
         "font": {
          "color": "#4D5663"
         }
        },
        "xaxis": {
         "gridcolor": "#E1E5ED",
         "showgrid": true,
         "tickfont": {
          "color": "#4D5663"
         },
         "title": {
          "font": {
           "color": "#4D5663"
          },
          "text": ""
         },
         "zerolinecolor": "#E1E5ED"
        },
        "yaxis": {
         "gridcolor": "#E1E5ED",
         "showgrid": true,
         "tickfont": {
          "color": "#4D5663"
         },
         "title": {
          "font": {
           "color": "#4D5663"
          },
          "text": ""
         },
         "zerolinecolor": "#E1E5ED"
        }
       }
      },
      "text/html": [
       "<div>                            <div id=\"4fa0e63e-320a-42ac-80f2-5d87cdd1bea8\" class=\"plotly-graph-div\" style=\"height:525px; width:100%;\"></div>            <script type=\"text/javascript\">                require([\"plotly\"], function(Plotly) {                    window.PLOTLYENV=window.PLOTLYENV || {};\n",
       "                    window.PLOTLYENV.BASE_URL='https://plot.ly';                                    if (document.getElementById(\"4fa0e63e-320a-42ac-80f2-5d87cdd1bea8\")) {                    Plotly.newPlot(                        \"4fa0e63e-320a-42ac-80f2-5d87cdd1bea8\",                        [{\"histfunc\": \"count\", \"histnorm\": \"\", \"marker\": {\"color\": \"rgba(255, 153, 51, 1.0)\", \"line\": {\"color\": \"#4D5663\", \"width\": 1.3}}, \"name\": \"A\", \"nbinsx\": 30, \"opacity\": 0.8, \"orientation\": \"v\", \"type\": \"histogram\", \"x\": [0.5217537784129974, 0.3309749226115375, -1.193876709659765, 0.44343923119185524, -0.18931392017075624, 0.173205767535824, 0.696775738847488, -2.014191654816539, -0.3260508724875542, 1.7018734448037018, -0.3578297915922514, 0.795878744012465, -0.6221105875227282, 0.1795158852025101, -0.5263018890301373, -1.6579984218119408, 1.5734505787806656, 0.09347039337484478, 0.22695335836177413, 1.74135293216879, 0.8543457987432498, 1.6668700893834498, 0.21509981024768562, 0.05147367659147075, 0.595348020727714, 1.3425773565713435, 0.5056396605572587, 0.7004964136717756, -0.11611198442315279, 0.7084287321300998, -0.7109807917845864, 0.243838163690604, -0.052769434282530246, 0.65197584784953, 0.15111623638211763, -0.45994422176644884, -1.6377125581004068, 1.6353164567583425, -0.02110823435862904, 0.8662866086795274, -0.7992112511748268, -1.2091767689531847, 0.615433464445986, -0.6918898665437458, -0.22088314776555945, -0.36616282407008444, 1.2391168115335351, -0.6051262003388084, -1.590191148875863, -0.9818480747620559, -0.4616387767955757, -0.7134294894563353, 0.07223535070388272, 0.057558323803864345, -0.43681040939791793, 0.4689372999801223, 1.502366134331344, 0.7308934048604777, -1.8445348233596541, -0.023749777252913405, 0.07027259389091652, 0.795641143639049, 0.14650863736209424, -0.289159142974127, -1.2748625970110754, -0.2774290754016461, 0.8781245042054561, -0.8697236584897804, 0.07199053776509524, -1.757042236586087, 0.39716974253845905, 0.1654662688475511, -0.33199426676448535, 0.7744544397767887, 1.1793804702730013, -0.9462622397360114, 0.7557618474116468, -0.5317089300673019, 0.04458895563719713, -0.3484351357629532, 0.9637309052261983, 0.5769189564311794, 0.08063722123130981, 0.5023295174559748, -0.7596996515964047, 1.4161337913043834, 1.9283827384775984, -1.6721607391450544, 0.4553713821873685, -0.3971879291836942, 0.17041840171947764, -1.1644496531098152, 0.15295268302093223, -0.18904846215760945, 0.2400629991205869, -0.010061126559507024, 0.8658858707404796, 1.056913755398305, 0.862841462797941, 0.47176134545444554]}],                        {\"barmode\": \"overlay\", \"legend\": {\"bgcolor\": \"#F5F6F9\", \"font\": {\"color\": \"#4D5663\"}}, \"paper_bgcolor\": \"#F5F6F9\", \"plot_bgcolor\": \"#F5F6F9\", \"template\": {\"data\": {\"bar\": [{\"error_x\": {\"color\": \"#2a3f5f\"}, \"error_y\": {\"color\": \"#2a3f5f\"}, \"marker\": {\"line\": {\"color\": \"#E5ECF6\", \"width\": 0.5}}, \"type\": \"bar\"}], \"barpolar\": [{\"marker\": {\"line\": {\"color\": \"#E5ECF6\", \"width\": 0.5}}, \"type\": \"barpolar\"}], \"carpet\": [{\"aaxis\": {\"endlinecolor\": \"#2a3f5f\", \"gridcolor\": \"white\", \"linecolor\": \"white\", \"minorgridcolor\": \"white\", \"startlinecolor\": \"#2a3f5f\"}, \"baxis\": {\"endlinecolor\": \"#2a3f5f\", \"gridcolor\": \"white\", \"linecolor\": \"white\", \"minorgridcolor\": \"white\", \"startlinecolor\": \"#2a3f5f\"}, \"type\": \"carpet\"}], \"choropleth\": [{\"colorbar\": {\"outlinewidth\": 0, \"ticks\": \"\"}, \"type\": \"choropleth\"}], \"contour\": [{\"colorbar\": {\"outlinewidth\": 0, \"ticks\": \"\"}, \"colorscale\": [[0.0, \"#0d0887\"], [0.1111111111111111, \"#46039f\"], [0.2222222222222222, \"#7201a8\"], [0.3333333333333333, \"#9c179e\"], [0.4444444444444444, \"#bd3786\"], [0.5555555555555556, \"#d8576b\"], [0.6666666666666666, \"#ed7953\"], [0.7777777777777778, \"#fb9f3a\"], [0.8888888888888888, \"#fdca26\"], [1.0, \"#f0f921\"]], \"type\": \"contour\"}], \"contourcarpet\": [{\"colorbar\": {\"outlinewidth\": 0, \"ticks\": \"\"}, \"type\": \"contourcarpet\"}], \"heatmap\": [{\"colorbar\": {\"outlinewidth\": 0, \"ticks\": \"\"}, \"colorscale\": [[0.0, \"#0d0887\"], [0.1111111111111111, \"#46039f\"], [0.2222222222222222, \"#7201a8\"], [0.3333333333333333, \"#9c179e\"], [0.4444444444444444, \"#bd3786\"], [0.5555555555555556, \"#d8576b\"], [0.6666666666666666, \"#ed7953\"], [0.7777777777777778, \"#fb9f3a\"], [0.8888888888888888, \"#fdca26\"], [1.0, \"#f0f921\"]], \"type\": \"heatmap\"}], \"heatmapgl\": [{\"colorbar\": {\"outlinewidth\": 0, \"ticks\": \"\"}, \"colorscale\": [[0.0, \"#0d0887\"], [0.1111111111111111, \"#46039f\"], [0.2222222222222222, \"#7201a8\"], [0.3333333333333333, \"#9c179e\"], [0.4444444444444444, \"#bd3786\"], [0.5555555555555556, \"#d8576b\"], [0.6666666666666666, \"#ed7953\"], [0.7777777777777778, \"#fb9f3a\"], [0.8888888888888888, \"#fdca26\"], [1.0, \"#f0f921\"]], \"type\": \"heatmapgl\"}], \"histogram\": [{\"marker\": {\"colorbar\": {\"outlinewidth\": 0, \"ticks\": \"\"}}, \"type\": \"histogram\"}], \"histogram2d\": [{\"colorbar\": {\"outlinewidth\": 0, \"ticks\": \"\"}, \"colorscale\": [[0.0, \"#0d0887\"], [0.1111111111111111, \"#46039f\"], [0.2222222222222222, \"#7201a8\"], [0.3333333333333333, \"#9c179e\"], [0.4444444444444444, \"#bd3786\"], [0.5555555555555556, \"#d8576b\"], [0.6666666666666666, \"#ed7953\"], [0.7777777777777778, \"#fb9f3a\"], [0.8888888888888888, \"#fdca26\"], [1.0, \"#f0f921\"]], \"type\": \"histogram2d\"}], \"histogram2dcontour\": [{\"colorbar\": {\"outlinewidth\": 0, \"ticks\": \"\"}, \"colorscale\": [[0.0, \"#0d0887\"], [0.1111111111111111, \"#46039f\"], [0.2222222222222222, \"#7201a8\"], [0.3333333333333333, \"#9c179e\"], [0.4444444444444444, \"#bd3786\"], [0.5555555555555556, \"#d8576b\"], [0.6666666666666666, \"#ed7953\"], [0.7777777777777778, \"#fb9f3a\"], [0.8888888888888888, \"#fdca26\"], [1.0, \"#f0f921\"]], \"type\": \"histogram2dcontour\"}], \"mesh3d\": [{\"colorbar\": {\"outlinewidth\": 0, \"ticks\": \"\"}, \"type\": \"mesh3d\"}], \"parcoords\": [{\"line\": {\"colorbar\": {\"outlinewidth\": 0, \"ticks\": \"\"}}, \"type\": \"parcoords\"}], \"pie\": [{\"automargin\": true, \"type\": \"pie\"}], \"scatter\": [{\"marker\": {\"colorbar\": {\"outlinewidth\": 0, \"ticks\": \"\"}}, \"type\": \"scatter\"}], \"scatter3d\": [{\"line\": {\"colorbar\": {\"outlinewidth\": 0, \"ticks\": \"\"}}, \"marker\": {\"colorbar\": {\"outlinewidth\": 0, \"ticks\": \"\"}}, \"type\": \"scatter3d\"}], \"scattercarpet\": [{\"marker\": {\"colorbar\": {\"outlinewidth\": 0, \"ticks\": \"\"}}, \"type\": \"scattercarpet\"}], \"scattergeo\": [{\"marker\": {\"colorbar\": {\"outlinewidth\": 0, \"ticks\": \"\"}}, \"type\": \"scattergeo\"}], \"scattergl\": [{\"marker\": {\"colorbar\": {\"outlinewidth\": 0, \"ticks\": \"\"}}, \"type\": \"scattergl\"}], \"scattermapbox\": [{\"marker\": {\"colorbar\": {\"outlinewidth\": 0, \"ticks\": \"\"}}, \"type\": \"scattermapbox\"}], \"scatterpolar\": [{\"marker\": {\"colorbar\": {\"outlinewidth\": 0, \"ticks\": \"\"}}, \"type\": \"scatterpolar\"}], \"scatterpolargl\": [{\"marker\": {\"colorbar\": {\"outlinewidth\": 0, \"ticks\": \"\"}}, \"type\": \"scatterpolargl\"}], \"scatterternary\": [{\"marker\": {\"colorbar\": {\"outlinewidth\": 0, \"ticks\": \"\"}}, \"type\": \"scatterternary\"}], \"surface\": [{\"colorbar\": {\"outlinewidth\": 0, \"ticks\": \"\"}, \"colorscale\": [[0.0, \"#0d0887\"], [0.1111111111111111, \"#46039f\"], [0.2222222222222222, \"#7201a8\"], [0.3333333333333333, \"#9c179e\"], [0.4444444444444444, \"#bd3786\"], [0.5555555555555556, \"#d8576b\"], [0.6666666666666666, \"#ed7953\"], [0.7777777777777778, \"#fb9f3a\"], [0.8888888888888888, \"#fdca26\"], [1.0, \"#f0f921\"]], \"type\": \"surface\"}], \"table\": [{\"cells\": {\"fill\": {\"color\": \"#EBF0F8\"}, \"line\": {\"color\": \"white\"}}, \"header\": {\"fill\": {\"color\": \"#C8D4E3\"}, \"line\": {\"color\": \"white\"}}, \"type\": \"table\"}]}, \"layout\": {\"annotationdefaults\": {\"arrowcolor\": \"#2a3f5f\", \"arrowhead\": 0, \"arrowwidth\": 1}, \"coloraxis\": {\"colorbar\": {\"outlinewidth\": 0, \"ticks\": \"\"}}, \"colorscale\": {\"diverging\": [[0, \"#8e0152\"], [0.1, \"#c51b7d\"], [0.2, \"#de77ae\"], [0.3, \"#f1b6da\"], [0.4, \"#fde0ef\"], [0.5, \"#f7f7f7\"], [0.6, \"#e6f5d0\"], [0.7, \"#b8e186\"], [0.8, \"#7fbc41\"], [0.9, \"#4d9221\"], [1, \"#276419\"]], \"sequential\": [[0.0, \"#0d0887\"], [0.1111111111111111, \"#46039f\"], [0.2222222222222222, \"#7201a8\"], [0.3333333333333333, \"#9c179e\"], [0.4444444444444444, \"#bd3786\"], [0.5555555555555556, \"#d8576b\"], [0.6666666666666666, \"#ed7953\"], [0.7777777777777778, \"#fb9f3a\"], [0.8888888888888888, \"#fdca26\"], [1.0, \"#f0f921\"]], \"sequentialminus\": [[0.0, \"#0d0887\"], [0.1111111111111111, \"#46039f\"], [0.2222222222222222, \"#7201a8\"], [0.3333333333333333, \"#9c179e\"], [0.4444444444444444, \"#bd3786\"], [0.5555555555555556, \"#d8576b\"], [0.6666666666666666, \"#ed7953\"], [0.7777777777777778, \"#fb9f3a\"], [0.8888888888888888, \"#fdca26\"], [1.0, \"#f0f921\"]]}, \"colorway\": [\"#636efa\", \"#EF553B\", \"#00cc96\", \"#ab63fa\", \"#FFA15A\", \"#19d3f3\", \"#FF6692\", \"#B6E880\", \"#FF97FF\", \"#FECB52\"], \"font\": {\"color\": \"#2a3f5f\"}, \"geo\": {\"bgcolor\": \"white\", \"lakecolor\": \"white\", \"landcolor\": \"#E5ECF6\", \"showlakes\": true, \"showland\": true, \"subunitcolor\": \"white\"}, \"hoverlabel\": {\"align\": \"left\"}, \"hovermode\": \"closest\", \"mapbox\": {\"style\": \"light\"}, \"paper_bgcolor\": \"white\", \"plot_bgcolor\": \"#E5ECF6\", \"polar\": {\"angularaxis\": {\"gridcolor\": \"white\", \"linecolor\": \"white\", \"ticks\": \"\"}, \"bgcolor\": \"#E5ECF6\", \"radialaxis\": {\"gridcolor\": \"white\", \"linecolor\": \"white\", \"ticks\": \"\"}}, \"scene\": {\"xaxis\": {\"backgroundcolor\": \"#E5ECF6\", \"gridcolor\": \"white\", \"gridwidth\": 2, \"linecolor\": \"white\", \"showbackground\": true, \"ticks\": \"\", \"zerolinecolor\": \"white\"}, \"yaxis\": {\"backgroundcolor\": \"#E5ECF6\", \"gridcolor\": \"white\", \"gridwidth\": 2, \"linecolor\": \"white\", \"showbackground\": true, \"ticks\": \"\", \"zerolinecolor\": \"white\"}, \"zaxis\": {\"backgroundcolor\": \"#E5ECF6\", \"gridcolor\": \"white\", \"gridwidth\": 2, \"linecolor\": \"white\", \"showbackground\": true, \"ticks\": \"\", \"zerolinecolor\": \"white\"}}, \"shapedefaults\": {\"line\": {\"color\": \"#2a3f5f\"}}, \"ternary\": {\"aaxis\": {\"gridcolor\": \"white\", \"linecolor\": \"white\", \"ticks\": \"\"}, \"baxis\": {\"gridcolor\": \"white\", \"linecolor\": \"white\", \"ticks\": \"\"}, \"bgcolor\": \"#E5ECF6\", \"caxis\": {\"gridcolor\": \"white\", \"linecolor\": \"white\", \"ticks\": \"\"}}, \"title\": {\"x\": 0.05}, \"xaxis\": {\"automargin\": true, \"gridcolor\": \"white\", \"linecolor\": \"white\", \"ticks\": \"\", \"title\": {\"standoff\": 15}, \"zerolinecolor\": \"white\", \"zerolinewidth\": 2}, \"yaxis\": {\"automargin\": true, \"gridcolor\": \"white\", \"linecolor\": \"white\", \"ticks\": \"\", \"title\": {\"standoff\": 15}, \"zerolinecolor\": \"white\", \"zerolinewidth\": 2}}}, \"title\": {\"font\": {\"color\": \"#4D5663\"}}, \"xaxis\": {\"gridcolor\": \"#E1E5ED\", \"showgrid\": true, \"tickfont\": {\"color\": \"#4D5663\"}, \"title\": {\"font\": {\"color\": \"#4D5663\"}, \"text\": \"\"}, \"zerolinecolor\": \"#E1E5ED\"}, \"yaxis\": {\"gridcolor\": \"#E1E5ED\", \"showgrid\": true, \"tickfont\": {\"color\": \"#4D5663\"}, \"title\": {\"font\": {\"color\": \"#4D5663\"}, \"text\": \"\"}, \"zerolinecolor\": \"#E1E5ED\"}},                        {\"showLink\": true, \"linkText\": \"Export to plot.ly\", \"plotlyServerURL\": \"https://plot.ly\", \"responsive\": true}                    ).then(function(){\n",
       "                            \n",
       "var gd = document.getElementById('4fa0e63e-320a-42ac-80f2-5d87cdd1bea8');\n",
       "var x = new MutationObserver(function (mutations, observer) {{\n",
       "        var display = window.getComputedStyle(gd).display;\n",
       "        if (!display || display === 'none') {{\n",
       "            console.log([gd, 'removed!']);\n",
       "            Plotly.purge(gd);\n",
       "            observer.disconnect();\n",
       "        }}\n",
       "}});\n",
       "\n",
       "// Listen for the removal of the full notebook cells\n",
       "var notebookContainer = gd.closest('#notebook-container');\n",
       "if (notebookContainer) {{\n",
       "    x.observe(notebookContainer, {childList: true});\n",
       "}}\n",
       "\n",
       "// Listen for the clearing of the current output cell\n",
       "var outputEl = gd.closest('.output');\n",
       "if (outputEl) {{\n",
       "    x.observe(outputEl, {childList: true});\n",
       "}}\n",
       "\n",
       "                        })                };                });            </script>        </div>"
      ]
     },
     "metadata": {},
     "output_type": "display_data"
    }
   ],
   "source": [
    "df['A'].iplot(kind='hist',bins=30)"
   ]
  },
  {
   "cell_type": "code",
   "execution_count": 14,
   "metadata": {},
   "outputs": [
    {
     "data": {
      "application/vnd.plotly.v1+json": {
       "config": {
        "linkText": "Export to plot.ly",
        "plotlyServerURL": "https://plot.ly",
        "showLink": true
       },
       "data": [
        {
         "histfunc": "count",
         "histnorm": "",
         "marker": {
          "color": "rgba(255, 153, 51, 1.0)",
          "line": {
           "color": "#4D5663",
           "width": 1.3
          }
         },
         "name": "A",
         "nbinsx": 30,
         "opacity": 0.8,
         "orientation": "v",
         "type": "histogram",
         "x": [
          0.5814571556427762,
          -0.34016265522467665,
          0.7608229670136649,
          0.23634962780341875,
          -0.5690195932744737,
          0.7850292133846033,
          -0.6583554149008526,
          0.3944922986375615,
          -0.4387524320127901,
          1.9713733609033588,
          0.45509630257207323,
          -0.15603015243070534,
          -0.6658346029342163,
          -1.005822628268352,
          -1.387854191272923,
          0.8560443967881436,
          0.43257052903188875,
          -0.25415210804276284,
          0.36732575705547343,
          -0.97460003862033,
          0.49366703383398747,
          -0.08702907497174144,
          0.8199283795062011,
          1.7340759869092164,
          -1.1345830079269872,
          -0.17380990332277035,
          -0.8882175438501388,
          1.0345119015476547,
          1.5768721528178327,
          0.9016859587724834,
          0.8097927814302945,
          -0.08270699862097433,
          0.17203597189220776,
          2.6470829945221093,
          0.04350031384553286,
          -0.5309272458708072,
          -0.05669659700493742,
          0.11187591810709026,
          1.0860163135223035,
          -0.2954587078249353,
          1.901048866414739,
          -0.6234461259175057,
          -0.09109989538781416,
          -0.39243846958261064,
          -0.08020907051771202,
          1.4608167655197872,
          -1.46378020394831,
          1.6423232115119668,
          1.0951843971773676,
          1.279234625231086,
          1.9659410583243946,
          0.21985684517341847,
          1.9985052605193554,
          0.4979530812441631,
          -0.308987366417933,
          0.9325180029236267,
          1.3920476629124232,
          1.3622976383577512,
          -0.30238983092002036,
          1.3410141338653792,
          2.994787155451245,
          -1.7636714339432809,
          -0.22571369675009115,
          0.3375938740266395,
          0.5062019262317671,
          0.33152885369247104,
          1.425582345862544,
          -0.8155309507801246,
          0.14265989706229731,
          -0.497994146015442,
          -0.13041471346401165,
          0.6939012170990064,
          1.5606149264586069,
          -0.5752596814483795,
          -0.4923349671145384,
          -0.9708201417071937,
          0.2390686852685978,
          0.7249554758497477,
          -0.22578342458495643,
          -0.5633825842851906,
          -0.34329933238769544,
          -0.6640919736839731,
          -0.30560204113453554,
          -1.3582582403189676,
          0.7094014956965748,
          -0.2093907076550368,
          0.42316753007569985,
          -0.02321867975670203,
          -0.0075452892332095985,
          -0.9086500420016864,
          -0.775850803183228,
          -1.273206908641945,
          1.2935744305543,
          1.8808273122872985,
          -1.013654865420953,
          -0.8270264542051862,
          1.152430508715945,
          -0.6519971768498141,
          0.8272857589891245,
          0.32842700367404243
         ]
        },
        {
         "histfunc": "count",
         "histnorm": "",
         "marker": {
          "color": "rgba(55, 128, 191, 1.0)",
          "line": {
           "color": "#4D5663",
           "width": 1.3
          }
         },
         "name": "B",
         "nbinsx": 30,
         "opacity": 0.8,
         "orientation": "v",
         "type": "histogram",
         "x": [
          0.9533401587105655,
          2.091723266760732,
          -1.4827236387837281,
          -0.7453210044330904,
          0.976147037935951,
          -1.3382645491440344,
          -1.1228554001259963,
          -1.892684721602183,
          -0.8769864770922279,
          -0.057645880468041796,
          -0.08422243010957327,
          0.1141639140804281,
          0.6148160679205109,
          -0.48422383944798497,
          1.300580234007003,
          -1.9814941928814958,
          -1.772369464706919,
          0.9608558594314605,
          -1.984076854709808,
          0.37136287073186103,
          -2.958225878729488,
          -0.8160176719599062,
          0.1944542663176302,
          -0.1503038696235548,
          0.02786874869445761,
          1.1966597048218333,
          0.26819610813612627,
          0.8887640966672277,
          0.18178667656347042,
          -1.233927882043602,
          0.38078239156112903,
          -1.623460622474618,
          1.5531213196227842,
          -0.8321386703712381,
          1.5112708919655362,
          -0.2686833143230795,
          0.840511868605767,
          -1.361575369897516,
          -1.6961081709846273,
          1.3841540092830757,
          -0.8560300565361012,
          0.27478056658558536,
          -1.5299593401681189,
          -0.13324709554512953,
          2.102871879301923,
          0.8131002458733625,
          -1.366316512890399,
          -0.7701937676426186,
          0.9050274640544237,
          0.4415593053903289,
          0.6857960352504486,
          0.1033302498069744,
          1.7459800965769463,
          -0.41918326330186045,
          -0.4096517636564911,
          2.4799473978100717,
          -1.0387367549666127,
          0.4865581670108559,
          -0.5669010733676906,
          1.0816871778177333,
          0.8856711015220542,
          -1.7558778548201177,
          -0.7266972035575836,
          0.29660805300068854,
          1.4167129433744943,
          -0.35551242003756767,
          -0.6943016129385802,
          -0.6788055802925402,
          0.04305789324919298,
          -0.5789966254549171,
          -0.838770095521023,
          0.7983931791596102,
          -2.124200028837287,
          0.2307969293511029,
          -1.1378862219035115,
          -0.43572667671199344,
          0.9207313667106046,
          -1.091984695593965,
          -0.8718248398623135,
          -0.6144008189132881,
          -0.9982406776434622,
          2.250210928073151,
          1.139186849739514,
          1.576623969849046,
          -1.913592765579272,
          -1.2078884184587448,
          -0.2575863264201703,
          -0.7913855408217165,
          -0.787079232323091,
          -0.8293436666057875,
          -0.05317404516292323,
          -0.08604403470516887,
          -1.3619908765128592,
          2.1073166259916833,
          -0.05806101502732169,
          1.5925589776786055,
          0.0907432529179252,
          1.180133046571225,
          -0.2147026610318892,
          0.5233768759007584
         ]
        },
        {
         "histfunc": "count",
         "histnorm": "",
         "marker": {
          "color": "rgba(50, 171, 96, 1.0)",
          "line": {
           "color": "#4D5663",
           "width": 1.3
          }
         },
         "name": "C",
         "nbinsx": 30,
         "opacity": 0.8,
         "orientation": "v",
         "type": "histogram",
         "x": [
          0.5557319993861645,
          0.1828374277253157,
          -0.8009645720511904,
          -0.8320768157052107,
          -0.020288422065441607,
          -0.36730253177357575,
          0.9921814560170455,
          -0.6654708779865882,
          -0.22368630857196792,
          -0.7967373440695221,
          0.5088666725787138,
          0.5216514984096368,
          -0.13092160599916755,
          1.119524429427184,
          -0.05444367508344427,
          0.3473584041323418,
          0.1287879632044803,
          0.8360620627422279,
          0.25547632139669935,
          -0.12449577048479445,
          0.27553847077567756,
          -0.4321680904218994,
          1.9273441729063447,
          0.4276798519687137,
          -0.48309742589512633,
          2.108952253641437,
          -1.572452982250846,
          0.2536422040092476,
          1.1857172110114704,
          -0.5675960405053632,
          1.1759496963010971,
          -0.38987774310059714,
          0.11875473107298565,
          0.030261455815181883,
          0.21749742270835432,
          0.3509275119319701,
          1.438686901726422,
          0.4947109175330057,
          -1.168604639958583,
          0.18034886327625183,
          -0.10905760323993795,
          -1.0802910671643502,
          -0.9016719839733827,
          0.6863081419381021,
          -1.5666780992567173,
          0.3305614269578976,
          -0.3660205882469431,
          -1.2935257833458378,
          -0.8232231378486875,
          -1.7280618679097415,
          0.5017496548726601,
          1.1022393578103473,
          -0.44651624617058977,
          0.2544145206694382,
          0.6802022399696622,
          0.872587667605055,
          0.8106248631334414,
          -1.380718616257654,
          -0.22231059430973843,
          -0.3613296046731151,
          -2.2287169937435007,
          0.11345855799556931,
          0.9256421583398746,
          -1.5635084502061516,
          -1.7124878068914755,
          1.5850898252213215,
          1.4398068970499398,
          0.5689365193332636,
          -0.14840785146779173,
          0.8892379498273939,
          1.5380543201500907,
          -1.7924538646426753,
          -0.3101206601533779,
          -0.20320288440668668,
          1.3373636754058669,
          -1.2415120501250512,
          0.1337783405145954,
          0.23671078063375664,
          0.19727432270633988,
          -2.1348512914536646,
          -0.09839440202465283,
          1.1056581974103197,
          -0.2754290637479296,
          -2.177042824892095,
          -1.3722472870761706,
          -0.4367346348112991,
          -0.9902663067862999,
          -0.36679180135766287,
          -0.03723886847952716,
          1.3891320369496547,
          0.7841198351009452,
          -0.48501796204836445,
          -0.006747991777044565,
          -2.133612443927106,
          0.4402688981312423,
          0.2939100526488001,
          -0.07803500362903179,
          0.2466945024654488,
          1.4734813161720817,
          -0.945899207614049
         ]
        },
        {
         "histfunc": "count",
         "histnorm": "",
         "marker": {
          "color": "rgba(128, 0, 128, 1.0)",
          "line": {
           "color": "#4D5663",
           "width": 1.3
          }
         },
         "name": "D",
         "nbinsx": 30,
         "opacity": 0.8,
         "orientation": "v",
         "type": "histogram",
         "x": [
          -0.6859935168160043,
          -0.5214664063068816,
          -1.1028134258442892,
          -0.131913066716135,
          -0.45940183933831447,
          0.6919926880722309,
          0.9075780286794678,
          1.397822627870225,
          0.19467360264544378,
          -0.3538455340577339,
          -0.17474020147371985,
          -1.3569968372931394,
          0.7483613858398965,
          0.4375588713080591,
          2.0998244987760177,
          1.4119486202577929,
          -1.1637532085272686,
          -1.0923822551734477,
          -0.11824174928884297,
          -0.11123346257063663,
          0.27832008751817033,
          0.4094669590309184,
          0.7744924525731811,
          1.2411899628431649,
          0.11899774901480853,
          -1.6207923834735576,
          -1.9159348427762515,
          -0.6237543756674884,
          0.6174403791581681,
          -0.7560362060350567,
          1.9957695286467518,
          1.2088558740635278,
          1.6750973954492006,
          0.7263984728915496,
          -1.0983803491699748,
          0.1316768485881516,
          -1.7256782546206317,
          0.8123970012455477,
          -0.01669955841894932,
          1.60412465789664,
          -0.02533552969612067,
          0.2787374573352038,
          0.08515801563008324,
          0.48888285220884214,
          0.909652057441935,
          0.8346503563391905,
          -0.6583161281619854,
          -0.14741675956350347,
          -0.3076833759894698,
          0.08615700586248698,
          -0.32198992802562787,
          -0.10753750121264424,
          1.577723163908744,
          0.12495053363994575,
          -0.5500316482984265,
          1.2910162977167663,
          1.3304309775965266,
          0.6876251999342435,
          -0.803386305444558,
          0.7605306946642321,
          1.033382837642157,
          1.3259839128487634,
          0.19552380662406602,
          0.2143665879859505,
          0.5835008345770311,
          -0.0046780513474303466,
          -0.7760882748775946,
          0.1869992429610026,
          -0.7606709074351531,
          0.11026616193892792,
          0.11100638388509816,
          1.0939446426196748,
          0.10620331016415709,
          -0.44619498250320977,
          0.3622980747734458,
          0.30678368742830203,
          -0.16709857041814064,
          1.3441520726401088,
          -0.2684874208323017,
          -1.1478848338898775,
          -0.8598748200297376,
          1.308873304729659,
          -2.0029782872462065,
          0.4328235852071794,
          -0.4596807197021317,
          0.6694860751661719,
          0.6464915168455612,
          -0.2836425765365068,
          -0.9859953008529172,
          1.7641034139923577,
          0.4423448622007691,
          -1.7123488499879846,
          0.8390517242854635,
          1.5388345706844513,
          0.13064022095450206,
          -0.14917518086302692,
          -0.7316586392537566,
          0.45208106730695863,
          2.276652696168966,
          0.23063607379980536
         ]
        }
       ],
       "layout": {
        "barmode": "overlay",
        "legend": {
         "bgcolor": "#F5F6F9",
         "font": {
          "color": "#4D5663"
         }
        },
        "paper_bgcolor": "#F5F6F9",
        "plot_bgcolor": "#F5F6F9",
        "template": {
         "data": {
          "bar": [
           {
            "error_x": {
             "color": "#2a3f5f"
            },
            "error_y": {
             "color": "#2a3f5f"
            },
            "marker": {
             "line": {
              "color": "#E5ECF6",
              "width": 0.5
             }
            },
            "type": "bar"
           }
          ],
          "barpolar": [
           {
            "marker": {
             "line": {
              "color": "#E5ECF6",
              "width": 0.5
             }
            },
            "type": "barpolar"
           }
          ],
          "carpet": [
           {
            "aaxis": {
             "endlinecolor": "#2a3f5f",
             "gridcolor": "white",
             "linecolor": "white",
             "minorgridcolor": "white",
             "startlinecolor": "#2a3f5f"
            },
            "baxis": {
             "endlinecolor": "#2a3f5f",
             "gridcolor": "white",
             "linecolor": "white",
             "minorgridcolor": "white",
             "startlinecolor": "#2a3f5f"
            },
            "type": "carpet"
           }
          ],
          "choropleth": [
           {
            "colorbar": {
             "outlinewidth": 0,
             "ticks": ""
            },
            "type": "choropleth"
           }
          ],
          "contour": [
           {
            "colorbar": {
             "outlinewidth": 0,
             "ticks": ""
            },
            "colorscale": [
             [
              0,
              "#0d0887"
             ],
             [
              0.1111111111111111,
              "#46039f"
             ],
             [
              0.2222222222222222,
              "#7201a8"
             ],
             [
              0.3333333333333333,
              "#9c179e"
             ],
             [
              0.4444444444444444,
              "#bd3786"
             ],
             [
              0.5555555555555556,
              "#d8576b"
             ],
             [
              0.6666666666666666,
              "#ed7953"
             ],
             [
              0.7777777777777778,
              "#fb9f3a"
             ],
             [
              0.8888888888888888,
              "#fdca26"
             ],
             [
              1,
              "#f0f921"
             ]
            ],
            "type": "contour"
           }
          ],
          "contourcarpet": [
           {
            "colorbar": {
             "outlinewidth": 0,
             "ticks": ""
            },
            "type": "contourcarpet"
           }
          ],
          "heatmap": [
           {
            "colorbar": {
             "outlinewidth": 0,
             "ticks": ""
            },
            "colorscale": [
             [
              0,
              "#0d0887"
             ],
             [
              0.1111111111111111,
              "#46039f"
             ],
             [
              0.2222222222222222,
              "#7201a8"
             ],
             [
              0.3333333333333333,
              "#9c179e"
             ],
             [
              0.4444444444444444,
              "#bd3786"
             ],
             [
              0.5555555555555556,
              "#d8576b"
             ],
             [
              0.6666666666666666,
              "#ed7953"
             ],
             [
              0.7777777777777778,
              "#fb9f3a"
             ],
             [
              0.8888888888888888,
              "#fdca26"
             ],
             [
              1,
              "#f0f921"
             ]
            ],
            "type": "heatmap"
           }
          ],
          "heatmapgl": [
           {
            "colorbar": {
             "outlinewidth": 0,
             "ticks": ""
            },
            "colorscale": [
             [
              0,
              "#0d0887"
             ],
             [
              0.1111111111111111,
              "#46039f"
             ],
             [
              0.2222222222222222,
              "#7201a8"
             ],
             [
              0.3333333333333333,
              "#9c179e"
             ],
             [
              0.4444444444444444,
              "#bd3786"
             ],
             [
              0.5555555555555556,
              "#d8576b"
             ],
             [
              0.6666666666666666,
              "#ed7953"
             ],
             [
              0.7777777777777778,
              "#fb9f3a"
             ],
             [
              0.8888888888888888,
              "#fdca26"
             ],
             [
              1,
              "#f0f921"
             ]
            ],
            "type": "heatmapgl"
           }
          ],
          "histogram": [
           {
            "marker": {
             "colorbar": {
              "outlinewidth": 0,
              "ticks": ""
             }
            },
            "type": "histogram"
           }
          ],
          "histogram2d": [
           {
            "colorbar": {
             "outlinewidth": 0,
             "ticks": ""
            },
            "colorscale": [
             [
              0,
              "#0d0887"
             ],
             [
              0.1111111111111111,
              "#46039f"
             ],
             [
              0.2222222222222222,
              "#7201a8"
             ],
             [
              0.3333333333333333,
              "#9c179e"
             ],
             [
              0.4444444444444444,
              "#bd3786"
             ],
             [
              0.5555555555555556,
              "#d8576b"
             ],
             [
              0.6666666666666666,
              "#ed7953"
             ],
             [
              0.7777777777777778,
              "#fb9f3a"
             ],
             [
              0.8888888888888888,
              "#fdca26"
             ],
             [
              1,
              "#f0f921"
             ]
            ],
            "type": "histogram2d"
           }
          ],
          "histogram2dcontour": [
           {
            "colorbar": {
             "outlinewidth": 0,
             "ticks": ""
            },
            "colorscale": [
             [
              0,
              "#0d0887"
             ],
             [
              0.1111111111111111,
              "#46039f"
             ],
             [
              0.2222222222222222,
              "#7201a8"
             ],
             [
              0.3333333333333333,
              "#9c179e"
             ],
             [
              0.4444444444444444,
              "#bd3786"
             ],
             [
              0.5555555555555556,
              "#d8576b"
             ],
             [
              0.6666666666666666,
              "#ed7953"
             ],
             [
              0.7777777777777778,
              "#fb9f3a"
             ],
             [
              0.8888888888888888,
              "#fdca26"
             ],
             [
              1,
              "#f0f921"
             ]
            ],
            "type": "histogram2dcontour"
           }
          ],
          "mesh3d": [
           {
            "colorbar": {
             "outlinewidth": 0,
             "ticks": ""
            },
            "type": "mesh3d"
           }
          ],
          "parcoords": [
           {
            "line": {
             "colorbar": {
              "outlinewidth": 0,
              "ticks": ""
             }
            },
            "type": "parcoords"
           }
          ],
          "pie": [
           {
            "automargin": true,
            "type": "pie"
           }
          ],
          "scatter": [
           {
            "marker": {
             "colorbar": {
              "outlinewidth": 0,
              "ticks": ""
             }
            },
            "type": "scatter"
           }
          ],
          "scatter3d": [
           {
            "line": {
             "colorbar": {
              "outlinewidth": 0,
              "ticks": ""
             }
            },
            "marker": {
             "colorbar": {
              "outlinewidth": 0,
              "ticks": ""
             }
            },
            "type": "scatter3d"
           }
          ],
          "scattercarpet": [
           {
            "marker": {
             "colorbar": {
              "outlinewidth": 0,
              "ticks": ""
             }
            },
            "type": "scattercarpet"
           }
          ],
          "scattergeo": [
           {
            "marker": {
             "colorbar": {
              "outlinewidth": 0,
              "ticks": ""
             }
            },
            "type": "scattergeo"
           }
          ],
          "scattergl": [
           {
            "marker": {
             "colorbar": {
              "outlinewidth": 0,
              "ticks": ""
             }
            },
            "type": "scattergl"
           }
          ],
          "scattermapbox": [
           {
            "marker": {
             "colorbar": {
              "outlinewidth": 0,
              "ticks": ""
             }
            },
            "type": "scattermapbox"
           }
          ],
          "scatterpolar": [
           {
            "marker": {
             "colorbar": {
              "outlinewidth": 0,
              "ticks": ""
             }
            },
            "type": "scatterpolar"
           }
          ],
          "scatterpolargl": [
           {
            "marker": {
             "colorbar": {
              "outlinewidth": 0,
              "ticks": ""
             }
            },
            "type": "scatterpolargl"
           }
          ],
          "scatterternary": [
           {
            "marker": {
             "colorbar": {
              "outlinewidth": 0,
              "ticks": ""
             }
            },
            "type": "scatterternary"
           }
          ],
          "surface": [
           {
            "colorbar": {
             "outlinewidth": 0,
             "ticks": ""
            },
            "colorscale": [
             [
              0,
              "#0d0887"
             ],
             [
              0.1111111111111111,
              "#46039f"
             ],
             [
              0.2222222222222222,
              "#7201a8"
             ],
             [
              0.3333333333333333,
              "#9c179e"
             ],
             [
              0.4444444444444444,
              "#bd3786"
             ],
             [
              0.5555555555555556,
              "#d8576b"
             ],
             [
              0.6666666666666666,
              "#ed7953"
             ],
             [
              0.7777777777777778,
              "#fb9f3a"
             ],
             [
              0.8888888888888888,
              "#fdca26"
             ],
             [
              1,
              "#f0f921"
             ]
            ],
            "type": "surface"
           }
          ],
          "table": [
           {
            "cells": {
             "fill": {
              "color": "#EBF0F8"
             },
             "line": {
              "color": "white"
             }
            },
            "header": {
             "fill": {
              "color": "#C8D4E3"
             },
             "line": {
              "color": "white"
             }
            },
            "type": "table"
           }
          ]
         },
         "layout": {
          "annotationdefaults": {
           "arrowcolor": "#2a3f5f",
           "arrowhead": 0,
           "arrowwidth": 1
          },
          "coloraxis": {
           "colorbar": {
            "outlinewidth": 0,
            "ticks": ""
           }
          },
          "colorscale": {
           "diverging": [
            [
             0,
             "#8e0152"
            ],
            [
             0.1,
             "#c51b7d"
            ],
            [
             0.2,
             "#de77ae"
            ],
            [
             0.3,
             "#f1b6da"
            ],
            [
             0.4,
             "#fde0ef"
            ],
            [
             0.5,
             "#f7f7f7"
            ],
            [
             0.6,
             "#e6f5d0"
            ],
            [
             0.7,
             "#b8e186"
            ],
            [
             0.8,
             "#7fbc41"
            ],
            [
             0.9,
             "#4d9221"
            ],
            [
             1,
             "#276419"
            ]
           ],
           "sequential": [
            [
             0,
             "#0d0887"
            ],
            [
             0.1111111111111111,
             "#46039f"
            ],
            [
             0.2222222222222222,
             "#7201a8"
            ],
            [
             0.3333333333333333,
             "#9c179e"
            ],
            [
             0.4444444444444444,
             "#bd3786"
            ],
            [
             0.5555555555555556,
             "#d8576b"
            ],
            [
             0.6666666666666666,
             "#ed7953"
            ],
            [
             0.7777777777777778,
             "#fb9f3a"
            ],
            [
             0.8888888888888888,
             "#fdca26"
            ],
            [
             1,
             "#f0f921"
            ]
           ],
           "sequentialminus": [
            [
             0,
             "#0d0887"
            ],
            [
             0.1111111111111111,
             "#46039f"
            ],
            [
             0.2222222222222222,
             "#7201a8"
            ],
            [
             0.3333333333333333,
             "#9c179e"
            ],
            [
             0.4444444444444444,
             "#bd3786"
            ],
            [
             0.5555555555555556,
             "#d8576b"
            ],
            [
             0.6666666666666666,
             "#ed7953"
            ],
            [
             0.7777777777777778,
             "#fb9f3a"
            ],
            [
             0.8888888888888888,
             "#fdca26"
            ],
            [
             1,
             "#f0f921"
            ]
           ]
          },
          "colorway": [
           "#636efa",
           "#EF553B",
           "#00cc96",
           "#ab63fa",
           "#FFA15A",
           "#19d3f3",
           "#FF6692",
           "#B6E880",
           "#FF97FF",
           "#FECB52"
          ],
          "font": {
           "color": "#2a3f5f"
          },
          "geo": {
           "bgcolor": "white",
           "lakecolor": "white",
           "landcolor": "#E5ECF6",
           "showlakes": true,
           "showland": true,
           "subunitcolor": "white"
          },
          "hoverlabel": {
           "align": "left"
          },
          "hovermode": "closest",
          "mapbox": {
           "style": "light"
          },
          "paper_bgcolor": "white",
          "plot_bgcolor": "#E5ECF6",
          "polar": {
           "angularaxis": {
            "gridcolor": "white",
            "linecolor": "white",
            "ticks": ""
           },
           "bgcolor": "#E5ECF6",
           "radialaxis": {
            "gridcolor": "white",
            "linecolor": "white",
            "ticks": ""
           }
          },
          "scene": {
           "xaxis": {
            "backgroundcolor": "#E5ECF6",
            "gridcolor": "white",
            "gridwidth": 2,
            "linecolor": "white",
            "showbackground": true,
            "ticks": "",
            "zerolinecolor": "white"
           },
           "yaxis": {
            "backgroundcolor": "#E5ECF6",
            "gridcolor": "white",
            "gridwidth": 2,
            "linecolor": "white",
            "showbackground": true,
            "ticks": "",
            "zerolinecolor": "white"
           },
           "zaxis": {
            "backgroundcolor": "#E5ECF6",
            "gridcolor": "white",
            "gridwidth": 2,
            "linecolor": "white",
            "showbackground": true,
            "ticks": "",
            "zerolinecolor": "white"
           }
          },
          "shapedefaults": {
           "line": {
            "color": "#2a3f5f"
           }
          },
          "ternary": {
           "aaxis": {
            "gridcolor": "white",
            "linecolor": "white",
            "ticks": ""
           },
           "baxis": {
            "gridcolor": "white",
            "linecolor": "white",
            "ticks": ""
           },
           "bgcolor": "#E5ECF6",
           "caxis": {
            "gridcolor": "white",
            "linecolor": "white",
            "ticks": ""
           }
          },
          "title": {
           "x": 0.05
          },
          "xaxis": {
           "automargin": true,
           "gridcolor": "white",
           "linecolor": "white",
           "ticks": "",
           "title": {
            "standoff": 15
           },
           "zerolinecolor": "white",
           "zerolinewidth": 2
          },
          "yaxis": {
           "automargin": true,
           "gridcolor": "white",
           "linecolor": "white",
           "ticks": "",
           "title": {
            "standoff": 15
           },
           "zerolinecolor": "white",
           "zerolinewidth": 2
          }
         }
        },
        "title": {
         "font": {
          "color": "#4D5663"
         }
        },
        "xaxis": {
         "gridcolor": "#E1E5ED",
         "showgrid": true,
         "tickfont": {
          "color": "#4D5663"
         },
         "title": {
          "font": {
           "color": "#4D5663"
          },
          "text": ""
         },
         "zerolinecolor": "#E1E5ED"
        },
        "yaxis": {
         "gridcolor": "#E1E5ED",
         "showgrid": true,
         "tickfont": {
          "color": "#4D5663"
         },
         "title": {
          "font": {
           "color": "#4D5663"
          },
          "text": ""
         },
         "zerolinecolor": "#E1E5ED"
        }
       }
      },
      "text/html": [
       "<div>                            <div id=\"ad0c02e5-62ac-4083-85a9-2f01bdb62ac0\" class=\"plotly-graph-div\" style=\"height:525px; width:100%;\"></div>            <script type=\"text/javascript\">                require([\"plotly\"], function(Plotly) {                    window.PLOTLYENV=window.PLOTLYENV || {};\n",
       "                    window.PLOTLYENV.BASE_URL='https://plot.ly';                                    if (document.getElementById(\"ad0c02e5-62ac-4083-85a9-2f01bdb62ac0\")) {                    Plotly.newPlot(                        \"ad0c02e5-62ac-4083-85a9-2f01bdb62ac0\",                        [{\"histfunc\": \"count\", \"histnorm\": \"\", \"marker\": {\"color\": \"rgba(255, 153, 51, 1.0)\", \"line\": {\"color\": \"#4D5663\", \"width\": 1.3}}, \"name\": \"A\", \"nbinsx\": 30, \"opacity\": 0.8, \"orientation\": \"v\", \"type\": \"histogram\", \"x\": [0.5814571556427762, -0.34016265522467665, 0.7608229670136649, 0.23634962780341875, -0.5690195932744737, 0.7850292133846033, -0.6583554149008526, 0.3944922986375615, -0.4387524320127901, 1.9713733609033588, 0.45509630257207323, -0.15603015243070534, -0.6658346029342163, -1.005822628268352, -1.387854191272923, 0.8560443967881436, 0.43257052903188875, -0.25415210804276284, 0.36732575705547343, -0.97460003862033, 0.49366703383398747, -0.08702907497174144, 0.8199283795062011, 1.7340759869092164, -1.1345830079269872, -0.17380990332277035, -0.8882175438501388, 1.0345119015476547, 1.5768721528178327, 0.9016859587724834, 0.8097927814302945, -0.08270699862097433, 0.17203597189220776, 2.6470829945221093, 0.04350031384553286, -0.5309272458708072, -0.05669659700493742, 0.11187591810709026, 1.0860163135223035, -0.2954587078249353, 1.901048866414739, -0.6234461259175057, -0.09109989538781416, -0.39243846958261064, -0.08020907051771202, 1.4608167655197872, -1.46378020394831, 1.6423232115119668, 1.0951843971773676, 1.279234625231086, 1.9659410583243946, 0.21985684517341847, 1.9985052605193554, 0.4979530812441631, -0.308987366417933, 0.9325180029236267, 1.3920476629124232, 1.3622976383577512, -0.30238983092002036, 1.3410141338653792, 2.994787155451245, -1.7636714339432809, -0.22571369675009115, 0.3375938740266395, 0.5062019262317671, 0.33152885369247104, 1.425582345862544, -0.8155309507801246, 0.14265989706229731, -0.497994146015442, -0.13041471346401165, 0.6939012170990064, 1.5606149264586069, -0.5752596814483795, -0.4923349671145384, -0.9708201417071937, 0.2390686852685978, 0.7249554758497477, -0.22578342458495643, -0.5633825842851906, -0.34329933238769544, -0.6640919736839731, -0.30560204113453554, -1.3582582403189676, 0.7094014956965748, -0.2093907076550368, 0.42316753007569985, -0.02321867975670203, -0.0075452892332095985, -0.9086500420016864, -0.775850803183228, -1.273206908641945, 1.2935744305543, 1.8808273122872985, -1.013654865420953, -0.8270264542051862, 1.152430508715945, -0.6519971768498141, 0.8272857589891245, 0.32842700367404243]}, {\"histfunc\": \"count\", \"histnorm\": \"\", \"marker\": {\"color\": \"rgba(55, 128, 191, 1.0)\", \"line\": {\"color\": \"#4D5663\", \"width\": 1.3}}, \"name\": \"B\", \"nbinsx\": 30, \"opacity\": 0.8, \"orientation\": \"v\", \"type\": \"histogram\", \"x\": [0.9533401587105655, 2.091723266760732, -1.4827236387837281, -0.7453210044330904, 0.976147037935951, -1.3382645491440344, -1.1228554001259963, -1.892684721602183, -0.8769864770922279, -0.057645880468041796, -0.08422243010957327, 0.1141639140804281, 0.6148160679205109, -0.48422383944798497, 1.300580234007003, -1.9814941928814958, -1.772369464706919, 0.9608558594314605, -1.984076854709808, 0.37136287073186103, -2.958225878729488, -0.8160176719599062, 0.1944542663176302, -0.1503038696235548, 0.02786874869445761, 1.1966597048218333, 0.26819610813612627, 0.8887640966672277, 0.18178667656347042, -1.233927882043602, 0.38078239156112903, -1.623460622474618, 1.5531213196227842, -0.8321386703712381, 1.5112708919655362, -0.2686833143230795, 0.840511868605767, -1.361575369897516, -1.6961081709846273, 1.3841540092830757, -0.8560300565361012, 0.27478056658558536, -1.5299593401681189, -0.13324709554512953, 2.102871879301923, 0.8131002458733625, -1.366316512890399, -0.7701937676426186, 0.9050274640544237, 0.4415593053903289, 0.6857960352504486, 0.1033302498069744, 1.7459800965769463, -0.41918326330186045, -0.4096517636564911, 2.4799473978100717, -1.0387367549666127, 0.4865581670108559, -0.5669010733676906, 1.0816871778177333, 0.8856711015220542, -1.7558778548201177, -0.7266972035575836, 0.29660805300068854, 1.4167129433744943, -0.35551242003756767, -0.6943016129385802, -0.6788055802925402, 0.04305789324919298, -0.5789966254549171, -0.838770095521023, 0.7983931791596102, -2.124200028837287, 0.2307969293511029, -1.1378862219035115, -0.43572667671199344, 0.9207313667106046, -1.091984695593965, -0.8718248398623135, -0.6144008189132881, -0.9982406776434622, 2.250210928073151, 1.139186849739514, 1.576623969849046, -1.913592765579272, -1.2078884184587448, -0.2575863264201703, -0.7913855408217165, -0.787079232323091, -0.8293436666057875, -0.05317404516292323, -0.08604403470516887, -1.3619908765128592, 2.1073166259916833, -0.05806101502732169, 1.5925589776786055, 0.0907432529179252, 1.180133046571225, -0.2147026610318892, 0.5233768759007584]}, {\"histfunc\": \"count\", \"histnorm\": \"\", \"marker\": {\"color\": \"rgba(50, 171, 96, 1.0)\", \"line\": {\"color\": \"#4D5663\", \"width\": 1.3}}, \"name\": \"C\", \"nbinsx\": 30, \"opacity\": 0.8, \"orientation\": \"v\", \"type\": \"histogram\", \"x\": [0.5557319993861645, 0.1828374277253157, -0.8009645720511904, -0.8320768157052107, -0.020288422065441607, -0.36730253177357575, 0.9921814560170455, -0.6654708779865882, -0.22368630857196792, -0.7967373440695221, 0.5088666725787138, 0.5216514984096368, -0.13092160599916755, 1.119524429427184, -0.05444367508344427, 0.3473584041323418, 0.1287879632044803, 0.8360620627422279, 0.25547632139669935, -0.12449577048479445, 0.27553847077567756, -0.4321680904218994, 1.9273441729063447, 0.4276798519687137, -0.48309742589512633, 2.108952253641437, -1.572452982250846, 0.2536422040092476, 1.1857172110114704, -0.5675960405053632, 1.1759496963010971, -0.38987774310059714, 0.11875473107298565, 0.030261455815181883, 0.21749742270835432, 0.3509275119319701, 1.438686901726422, 0.4947109175330057, -1.168604639958583, 0.18034886327625183, -0.10905760323993795, -1.0802910671643502, -0.9016719839733827, 0.6863081419381021, -1.5666780992567173, 0.3305614269578976, -0.3660205882469431, -1.2935257833458378, -0.8232231378486875, -1.7280618679097415, 0.5017496548726601, 1.1022393578103473, -0.44651624617058977, 0.2544145206694382, 0.6802022399696622, 0.872587667605055, 0.8106248631334414, -1.380718616257654, -0.22231059430973843, -0.3613296046731151, -2.2287169937435007, 0.11345855799556931, 0.9256421583398746, -1.5635084502061516, -1.7124878068914755, 1.5850898252213215, 1.4398068970499398, 0.5689365193332636, -0.14840785146779173, 0.8892379498273939, 1.5380543201500907, -1.7924538646426753, -0.3101206601533779, -0.20320288440668668, 1.3373636754058669, -1.2415120501250512, 0.1337783405145954, 0.23671078063375664, 0.19727432270633988, -2.1348512914536646, -0.09839440202465283, 1.1056581974103197, -0.2754290637479296, -2.177042824892095, -1.3722472870761706, -0.4367346348112991, -0.9902663067862999, -0.36679180135766287, -0.03723886847952716, 1.3891320369496547, 0.7841198351009452, -0.48501796204836445, -0.006747991777044565, -2.133612443927106, 0.4402688981312423, 0.2939100526488001, -0.07803500362903179, 0.2466945024654488, 1.4734813161720817, -0.945899207614049]}, {\"histfunc\": \"count\", \"histnorm\": \"\", \"marker\": {\"color\": \"rgba(128, 0, 128, 1.0)\", \"line\": {\"color\": \"#4D5663\", \"width\": 1.3}}, \"name\": \"D\", \"nbinsx\": 30, \"opacity\": 0.8, \"orientation\": \"v\", \"type\": \"histogram\", \"x\": [-0.6859935168160043, -0.5214664063068816, -1.1028134258442892, -0.131913066716135, -0.45940183933831447, 0.6919926880722309, 0.9075780286794678, 1.397822627870225, 0.19467360264544378, -0.3538455340577339, -0.17474020147371985, -1.3569968372931394, 0.7483613858398965, 0.4375588713080591, 2.0998244987760177, 1.4119486202577929, -1.1637532085272686, -1.0923822551734477, -0.11824174928884297, -0.11123346257063663, 0.27832008751817033, 0.4094669590309184, 0.7744924525731811, 1.2411899628431649, 0.11899774901480853, -1.6207923834735576, -1.9159348427762515, -0.6237543756674884, 0.6174403791581681, -0.7560362060350567, 1.9957695286467518, 1.2088558740635278, 1.6750973954492006, 0.7263984728915496, -1.0983803491699748, 0.1316768485881516, -1.7256782546206317, 0.8123970012455477, -0.01669955841894932, 1.60412465789664, -0.02533552969612067, 0.2787374573352038, 0.08515801563008324, 0.48888285220884214, 0.909652057441935, 0.8346503563391905, -0.6583161281619854, -0.14741675956350347, -0.3076833759894698, 0.08615700586248698, -0.32198992802562787, -0.10753750121264424, 1.577723163908744, 0.12495053363994575, -0.5500316482984265, 1.2910162977167663, 1.3304309775965266, 0.6876251999342435, -0.803386305444558, 0.7605306946642321, 1.033382837642157, 1.3259839128487634, 0.19552380662406602, 0.2143665879859505, 0.5835008345770311, -0.0046780513474303466, -0.7760882748775946, 0.1869992429610026, -0.7606709074351531, 0.11026616193892792, 0.11100638388509816, 1.0939446426196748, 0.10620331016415709, -0.44619498250320977, 0.3622980747734458, 0.30678368742830203, -0.16709857041814064, 1.3441520726401088, -0.2684874208323017, -1.1478848338898775, -0.8598748200297376, 1.308873304729659, -2.0029782872462065, 0.4328235852071794, -0.4596807197021317, 0.6694860751661719, 0.6464915168455612, -0.2836425765365068, -0.9859953008529172, 1.7641034139923577, 0.4423448622007691, -1.7123488499879846, 0.8390517242854635, 1.5388345706844513, 0.13064022095450206, -0.14917518086302692, -0.7316586392537566, 0.45208106730695863, 2.276652696168966, 0.23063607379980536]}],                        {\"barmode\": \"overlay\", \"legend\": {\"bgcolor\": \"#F5F6F9\", \"font\": {\"color\": \"#4D5663\"}}, \"paper_bgcolor\": \"#F5F6F9\", \"plot_bgcolor\": \"#F5F6F9\", \"template\": {\"data\": {\"bar\": [{\"error_x\": {\"color\": \"#2a3f5f\"}, \"error_y\": {\"color\": \"#2a3f5f\"}, \"marker\": {\"line\": {\"color\": \"#E5ECF6\", \"width\": 0.5}}, \"type\": \"bar\"}], \"barpolar\": [{\"marker\": {\"line\": {\"color\": \"#E5ECF6\", \"width\": 0.5}}, \"type\": \"barpolar\"}], \"carpet\": [{\"aaxis\": {\"endlinecolor\": \"#2a3f5f\", \"gridcolor\": \"white\", \"linecolor\": \"white\", \"minorgridcolor\": \"white\", \"startlinecolor\": \"#2a3f5f\"}, \"baxis\": {\"endlinecolor\": \"#2a3f5f\", \"gridcolor\": \"white\", \"linecolor\": \"white\", \"minorgridcolor\": \"white\", \"startlinecolor\": \"#2a3f5f\"}, \"type\": \"carpet\"}], \"choropleth\": [{\"colorbar\": {\"outlinewidth\": 0, \"ticks\": \"\"}, \"type\": \"choropleth\"}], \"contour\": [{\"colorbar\": {\"outlinewidth\": 0, \"ticks\": \"\"}, \"colorscale\": [[0.0, \"#0d0887\"], [0.1111111111111111, \"#46039f\"], [0.2222222222222222, \"#7201a8\"], [0.3333333333333333, \"#9c179e\"], [0.4444444444444444, \"#bd3786\"], [0.5555555555555556, \"#d8576b\"], [0.6666666666666666, \"#ed7953\"], [0.7777777777777778, \"#fb9f3a\"], [0.8888888888888888, \"#fdca26\"], [1.0, \"#f0f921\"]], \"type\": \"contour\"}], \"contourcarpet\": [{\"colorbar\": {\"outlinewidth\": 0, \"ticks\": \"\"}, \"type\": \"contourcarpet\"}], \"heatmap\": [{\"colorbar\": {\"outlinewidth\": 0, \"ticks\": \"\"}, \"colorscale\": [[0.0, \"#0d0887\"], [0.1111111111111111, \"#46039f\"], [0.2222222222222222, \"#7201a8\"], [0.3333333333333333, \"#9c179e\"], [0.4444444444444444, \"#bd3786\"], [0.5555555555555556, \"#d8576b\"], [0.6666666666666666, \"#ed7953\"], [0.7777777777777778, \"#fb9f3a\"], [0.8888888888888888, \"#fdca26\"], [1.0, \"#f0f921\"]], \"type\": \"heatmap\"}], \"heatmapgl\": [{\"colorbar\": {\"outlinewidth\": 0, \"ticks\": \"\"}, \"colorscale\": [[0.0, \"#0d0887\"], [0.1111111111111111, \"#46039f\"], [0.2222222222222222, \"#7201a8\"], [0.3333333333333333, \"#9c179e\"], [0.4444444444444444, \"#bd3786\"], [0.5555555555555556, \"#d8576b\"], [0.6666666666666666, \"#ed7953\"], [0.7777777777777778, \"#fb9f3a\"], [0.8888888888888888, \"#fdca26\"], [1.0, \"#f0f921\"]], \"type\": \"heatmapgl\"}], \"histogram\": [{\"marker\": {\"colorbar\": {\"outlinewidth\": 0, \"ticks\": \"\"}}, \"type\": \"histogram\"}], \"histogram2d\": [{\"colorbar\": {\"outlinewidth\": 0, \"ticks\": \"\"}, \"colorscale\": [[0.0, \"#0d0887\"], [0.1111111111111111, \"#46039f\"], [0.2222222222222222, \"#7201a8\"], [0.3333333333333333, \"#9c179e\"], [0.4444444444444444, \"#bd3786\"], [0.5555555555555556, \"#d8576b\"], [0.6666666666666666, \"#ed7953\"], [0.7777777777777778, \"#fb9f3a\"], [0.8888888888888888, \"#fdca26\"], [1.0, \"#f0f921\"]], \"type\": \"histogram2d\"}], \"histogram2dcontour\": [{\"colorbar\": {\"outlinewidth\": 0, \"ticks\": \"\"}, \"colorscale\": [[0.0, \"#0d0887\"], [0.1111111111111111, \"#46039f\"], [0.2222222222222222, \"#7201a8\"], [0.3333333333333333, \"#9c179e\"], [0.4444444444444444, \"#bd3786\"], [0.5555555555555556, \"#d8576b\"], [0.6666666666666666, \"#ed7953\"], [0.7777777777777778, \"#fb9f3a\"], [0.8888888888888888, \"#fdca26\"], [1.0, \"#f0f921\"]], \"type\": \"histogram2dcontour\"}], \"mesh3d\": [{\"colorbar\": {\"outlinewidth\": 0, \"ticks\": \"\"}, \"type\": \"mesh3d\"}], \"parcoords\": [{\"line\": {\"colorbar\": {\"outlinewidth\": 0, \"ticks\": \"\"}}, \"type\": \"parcoords\"}], \"pie\": [{\"automargin\": true, \"type\": \"pie\"}], \"scatter\": [{\"marker\": {\"colorbar\": {\"outlinewidth\": 0, \"ticks\": \"\"}}, \"type\": \"scatter\"}], \"scatter3d\": [{\"line\": {\"colorbar\": {\"outlinewidth\": 0, \"ticks\": \"\"}}, \"marker\": {\"colorbar\": {\"outlinewidth\": 0, \"ticks\": \"\"}}, \"type\": \"scatter3d\"}], \"scattercarpet\": [{\"marker\": {\"colorbar\": {\"outlinewidth\": 0, \"ticks\": \"\"}}, \"type\": \"scattercarpet\"}], \"scattergeo\": [{\"marker\": {\"colorbar\": {\"outlinewidth\": 0, \"ticks\": \"\"}}, \"type\": \"scattergeo\"}], \"scattergl\": [{\"marker\": {\"colorbar\": {\"outlinewidth\": 0, \"ticks\": \"\"}}, \"type\": \"scattergl\"}], \"scattermapbox\": [{\"marker\": {\"colorbar\": {\"outlinewidth\": 0, \"ticks\": \"\"}}, \"type\": \"scattermapbox\"}], \"scatterpolar\": [{\"marker\": {\"colorbar\": {\"outlinewidth\": 0, \"ticks\": \"\"}}, \"type\": \"scatterpolar\"}], \"scatterpolargl\": [{\"marker\": {\"colorbar\": {\"outlinewidth\": 0, \"ticks\": \"\"}}, \"type\": \"scatterpolargl\"}], \"scatterternary\": [{\"marker\": {\"colorbar\": {\"outlinewidth\": 0, \"ticks\": \"\"}}, \"type\": \"scatterternary\"}], \"surface\": [{\"colorbar\": {\"outlinewidth\": 0, \"ticks\": \"\"}, \"colorscale\": [[0.0, \"#0d0887\"], [0.1111111111111111, \"#46039f\"], [0.2222222222222222, \"#7201a8\"], [0.3333333333333333, \"#9c179e\"], [0.4444444444444444, \"#bd3786\"], [0.5555555555555556, \"#d8576b\"], [0.6666666666666666, \"#ed7953\"], [0.7777777777777778, \"#fb9f3a\"], [0.8888888888888888, \"#fdca26\"], [1.0, \"#f0f921\"]], \"type\": \"surface\"}], \"table\": [{\"cells\": {\"fill\": {\"color\": \"#EBF0F8\"}, \"line\": {\"color\": \"white\"}}, \"header\": {\"fill\": {\"color\": \"#C8D4E3\"}, \"line\": {\"color\": \"white\"}}, \"type\": \"table\"}]}, \"layout\": {\"annotationdefaults\": {\"arrowcolor\": \"#2a3f5f\", \"arrowhead\": 0, \"arrowwidth\": 1}, \"coloraxis\": {\"colorbar\": {\"outlinewidth\": 0, \"ticks\": \"\"}}, \"colorscale\": {\"diverging\": [[0, \"#8e0152\"], [0.1, \"#c51b7d\"], [0.2, \"#de77ae\"], [0.3, \"#f1b6da\"], [0.4, \"#fde0ef\"], [0.5, \"#f7f7f7\"], [0.6, \"#e6f5d0\"], [0.7, \"#b8e186\"], [0.8, \"#7fbc41\"], [0.9, \"#4d9221\"], [1, \"#276419\"]], \"sequential\": [[0.0, \"#0d0887\"], [0.1111111111111111, \"#46039f\"], [0.2222222222222222, \"#7201a8\"], [0.3333333333333333, \"#9c179e\"], [0.4444444444444444, \"#bd3786\"], [0.5555555555555556, \"#d8576b\"], [0.6666666666666666, \"#ed7953\"], [0.7777777777777778, \"#fb9f3a\"], [0.8888888888888888, \"#fdca26\"], [1.0, \"#f0f921\"]], \"sequentialminus\": [[0.0, \"#0d0887\"], [0.1111111111111111, \"#46039f\"], [0.2222222222222222, \"#7201a8\"], [0.3333333333333333, \"#9c179e\"], [0.4444444444444444, \"#bd3786\"], [0.5555555555555556, \"#d8576b\"], [0.6666666666666666, \"#ed7953\"], [0.7777777777777778, \"#fb9f3a\"], [0.8888888888888888, \"#fdca26\"], [1.0, \"#f0f921\"]]}, \"colorway\": [\"#636efa\", \"#EF553B\", \"#00cc96\", \"#ab63fa\", \"#FFA15A\", \"#19d3f3\", \"#FF6692\", \"#B6E880\", \"#FF97FF\", \"#FECB52\"], \"font\": {\"color\": \"#2a3f5f\"}, \"geo\": {\"bgcolor\": \"white\", \"lakecolor\": \"white\", \"landcolor\": \"#E5ECF6\", \"showlakes\": true, \"showland\": true, \"subunitcolor\": \"white\"}, \"hoverlabel\": {\"align\": \"left\"}, \"hovermode\": \"closest\", \"mapbox\": {\"style\": \"light\"}, \"paper_bgcolor\": \"white\", \"plot_bgcolor\": \"#E5ECF6\", \"polar\": {\"angularaxis\": {\"gridcolor\": \"white\", \"linecolor\": \"white\", \"ticks\": \"\"}, \"bgcolor\": \"#E5ECF6\", \"radialaxis\": {\"gridcolor\": \"white\", \"linecolor\": \"white\", \"ticks\": \"\"}}, \"scene\": {\"xaxis\": {\"backgroundcolor\": \"#E5ECF6\", \"gridcolor\": \"white\", \"gridwidth\": 2, \"linecolor\": \"white\", \"showbackground\": true, \"ticks\": \"\", \"zerolinecolor\": \"white\"}, \"yaxis\": {\"backgroundcolor\": \"#E5ECF6\", \"gridcolor\": \"white\", \"gridwidth\": 2, \"linecolor\": \"white\", \"showbackground\": true, \"ticks\": \"\", \"zerolinecolor\": \"white\"}, \"zaxis\": {\"backgroundcolor\": \"#E5ECF6\", \"gridcolor\": \"white\", \"gridwidth\": 2, \"linecolor\": \"white\", \"showbackground\": true, \"ticks\": \"\", \"zerolinecolor\": \"white\"}}, \"shapedefaults\": {\"line\": {\"color\": \"#2a3f5f\"}}, \"ternary\": {\"aaxis\": {\"gridcolor\": \"white\", \"linecolor\": \"white\", \"ticks\": \"\"}, \"baxis\": {\"gridcolor\": \"white\", \"linecolor\": \"white\", \"ticks\": \"\"}, \"bgcolor\": \"#E5ECF6\", \"caxis\": {\"gridcolor\": \"white\", \"linecolor\": \"white\", \"ticks\": \"\"}}, \"title\": {\"x\": 0.05}, \"xaxis\": {\"automargin\": true, \"gridcolor\": \"white\", \"linecolor\": \"white\", \"ticks\": \"\", \"title\": {\"standoff\": 15}, \"zerolinecolor\": \"white\", \"zerolinewidth\": 2}, \"yaxis\": {\"automargin\": true, \"gridcolor\": \"white\", \"linecolor\": \"white\", \"ticks\": \"\", \"title\": {\"standoff\": 15}, \"zerolinecolor\": \"white\", \"zerolinewidth\": 2}}}, \"title\": {\"font\": {\"color\": \"#4D5663\"}}, \"xaxis\": {\"gridcolor\": \"#E1E5ED\", \"showgrid\": true, \"tickfont\": {\"color\": \"#4D5663\"}, \"title\": {\"font\": {\"color\": \"#4D5663\"}, \"text\": \"\"}, \"zerolinecolor\": \"#E1E5ED\"}, \"yaxis\": {\"gridcolor\": \"#E1E5ED\", \"showgrid\": true, \"tickfont\": {\"color\": \"#4D5663\"}, \"title\": {\"font\": {\"color\": \"#4D5663\"}, \"text\": \"\"}, \"zerolinecolor\": \"#E1E5ED\"}},                        {\"showLink\": true, \"linkText\": \"Export to plot.ly\", \"plotlyServerURL\": \"https://plot.ly\", \"responsive\": true}                    ).then(function(){\n",
       "                            \n",
       "var gd = document.getElementById('ad0c02e5-62ac-4083-85a9-2f01bdb62ac0');\n",
       "var x = new MutationObserver(function (mutations, observer) {{\n",
       "        var display = window.getComputedStyle(gd).display;\n",
       "        if (!display || display === 'none') {{\n",
       "            console.log([gd, 'removed!']);\n",
       "            Plotly.purge(gd);\n",
       "            observer.disconnect();\n",
       "        }}\n",
       "}});\n",
       "\n",
       "// Listen for the removal of the full notebook cells\n",
       "var notebookContainer = gd.closest('#notebook-container');\n",
       "if (notebookContainer) {{\n",
       "    x.observe(notebookContainer, {childList: true});\n",
       "}}\n",
       "\n",
       "// Listen for the clearing of the current output cell\n",
       "var outputEl = gd.closest('.output');\n",
       "if (outputEl) {{\n",
       "    x.observe(outputEl, {childList: true});\n",
       "}}\n",
       "\n",
       "                        })                };                });            </script>        </div>"
      ]
     },
     "metadata": {},
     "output_type": "display_data"
    }
   ],
   "source": [
    "df.iplot(kind='hist',bins=30)"
   ]
  },
  {
   "cell_type": "code",
   "execution_count": 32,
   "metadata": {},
   "outputs": [
    {
     "data": {
      "text/html": [
       "<div>\n",
       "<style scoped>\n",
       "    .dataframe tbody tr th:only-of-type {\n",
       "        vertical-align: middle;\n",
       "    }\n",
       "\n",
       "    .dataframe tbody tr th {\n",
       "        vertical-align: top;\n",
       "    }\n",
       "\n",
       "    .dataframe thead th {\n",
       "        text-align: right;\n",
       "    }\n",
       "</style>\n",
       "<table border=\"1\" class=\"dataframe\">\n",
       "  <thead>\n",
       "    <tr style=\"text-align: right;\">\n",
       "      <th></th>\n",
       "      <th>A</th>\n",
       "      <th>B</th>\n",
       "    </tr>\n",
       "  </thead>\n",
       "  <tbody>\n",
       "    <tr>\n",
       "      <td>0</td>\n",
       "      <td>0.521754</td>\n",
       "      <td>-0.392614</td>\n",
       "    </tr>\n",
       "    <tr>\n",
       "      <td>1</td>\n",
       "      <td>0.330975</td>\n",
       "      <td>0.225804</td>\n",
       "    </tr>\n",
       "    <tr>\n",
       "      <td>2</td>\n",
       "      <td>-1.193877</td>\n",
       "      <td>0.254839</td>\n",
       "    </tr>\n",
       "    <tr>\n",
       "      <td>3</td>\n",
       "      <td>0.443439</td>\n",
       "      <td>0.990594</td>\n",
       "    </tr>\n",
       "    <tr>\n",
       "      <td>4</td>\n",
       "      <td>-0.189314</td>\n",
       "      <td>-0.345449</td>\n",
       "    </tr>\n",
       "    <tr>\n",
       "      <td>...</td>\n",
       "      <td>...</td>\n",
       "      <td>...</td>\n",
       "    </tr>\n",
       "    <tr>\n",
       "      <td>95</td>\n",
       "      <td>-0.010061</td>\n",
       "      <td>-0.476397</td>\n",
       "    </tr>\n",
       "    <tr>\n",
       "      <td>96</td>\n",
       "      <td>0.865886</td>\n",
       "      <td>-0.259621</td>\n",
       "    </tr>\n",
       "    <tr>\n",
       "      <td>97</td>\n",
       "      <td>1.056914</td>\n",
       "      <td>1.412921</td>\n",
       "    </tr>\n",
       "    <tr>\n",
       "      <td>98</td>\n",
       "      <td>0.862841</td>\n",
       "      <td>1.215472</td>\n",
       "    </tr>\n",
       "    <tr>\n",
       "      <td>99</td>\n",
       "      <td>0.471761</td>\n",
       "      <td>-1.051875</td>\n",
       "    </tr>\n",
       "  </tbody>\n",
       "</table>\n",
       "<p>100 rows × 2 columns</p>\n",
       "</div>"
      ],
      "text/plain": [
       "           A         B\n",
       "0   0.521754 -0.392614\n",
       "1   0.330975  0.225804\n",
       "2  -1.193877  0.254839\n",
       "3   0.443439  0.990594\n",
       "4  -0.189314 -0.345449\n",
       "..       ...       ...\n",
       "95 -0.010061 -0.476397\n",
       "96  0.865886 -0.259621\n",
       "97  1.056914  1.412921\n",
       "98  0.862841  1.215472\n",
       "99  0.471761 -1.051875\n",
       "\n",
       "[100 rows x 2 columns]"
      ]
     },
     "execution_count": 32,
     "metadata": {},
     "output_type": "execute_result"
    }
   ],
   "source": [
    "df[['A','B']]"
   ]
  },
  {
   "cell_type": "code",
   "execution_count": 34,
   "metadata": {},
   "outputs": [
    {
     "data": {
      "application/vnd.plotly.v1+json": {
       "config": {
        "linkText": "Export to plot.ly",
        "plotlyServerURL": "https://plot.ly",
        "showLink": true
       },
       "data": [
        {
         "line": {
          "color": "rgba(255, 153, 51, 1.0)",
          "dash": "solid",
          "shape": "linear",
          "width": 1.3
         },
         "mode": "lines",
         "name": "A",
         "text": "",
         "type": "scatter",
         "x": [
          0,
          1,
          2,
          3,
          4,
          5,
          6,
          7,
          8,
          9,
          10,
          11,
          12,
          13,
          14,
          15,
          16,
          17,
          18,
          19,
          20,
          21,
          22,
          23,
          24,
          25,
          26,
          27,
          28,
          29,
          30,
          31,
          32,
          33,
          34,
          35,
          36,
          37,
          38,
          39,
          40,
          41,
          42,
          43,
          44,
          45,
          46,
          47,
          48,
          49,
          50,
          51,
          52,
          53,
          54,
          55,
          56,
          57,
          58,
          59,
          60,
          61,
          62,
          63,
          64,
          65,
          66,
          67,
          68,
          69,
          70,
          71,
          72,
          73,
          74,
          75,
          76,
          77,
          78,
          79,
          80,
          81,
          82,
          83,
          84,
          85,
          86,
          87,
          88,
          89,
          90,
          91,
          92,
          93,
          94,
          95,
          96,
          97,
          98,
          99
         ],
         "y": [
          0.5217537784129974,
          0.3309749226115375,
          -1.193876709659765,
          0.44343923119185524,
          -0.18931392017075624,
          0.173205767535824,
          0.696775738847488,
          -2.014191654816539,
          -0.3260508724875542,
          1.7018734448037018,
          -0.3578297915922514,
          0.795878744012465,
          -0.6221105875227282,
          0.1795158852025101,
          -0.5263018890301373,
          -1.6579984218119408,
          1.5734505787806656,
          0.09347039337484478,
          0.22695335836177413,
          1.74135293216879,
          0.8543457987432498,
          1.6668700893834498,
          0.21509981024768562,
          0.05147367659147075,
          0.595348020727714,
          1.3425773565713435,
          0.5056396605572587,
          0.7004964136717756,
          -0.11611198442315279,
          0.7084287321300998,
          -0.7109807917845864,
          0.243838163690604,
          -0.052769434282530246,
          0.65197584784953,
          0.15111623638211763,
          -0.45994422176644884,
          -1.6377125581004068,
          1.6353164567583425,
          -0.02110823435862904,
          0.8662866086795274,
          -0.7992112511748268,
          -1.2091767689531847,
          0.615433464445986,
          -0.6918898665437458,
          -0.22088314776555945,
          -0.36616282407008444,
          1.2391168115335351,
          -0.6051262003388084,
          -1.590191148875863,
          -0.9818480747620559,
          -0.4616387767955757,
          -0.7134294894563353,
          0.07223535070388272,
          0.057558323803864345,
          -0.43681040939791793,
          0.4689372999801223,
          1.502366134331344,
          0.7308934048604777,
          -1.8445348233596541,
          -0.023749777252913405,
          0.07027259389091652,
          0.795641143639049,
          0.14650863736209424,
          -0.289159142974127,
          -1.2748625970110754,
          -0.2774290754016461,
          0.8781245042054561,
          -0.8697236584897804,
          0.07199053776509524,
          -1.757042236586087,
          0.39716974253845905,
          0.1654662688475511,
          -0.33199426676448535,
          0.7744544397767887,
          1.1793804702730013,
          -0.9462622397360114,
          0.7557618474116468,
          -0.5317089300673019,
          0.04458895563719713,
          -0.3484351357629532,
          0.9637309052261983,
          0.5769189564311794,
          0.08063722123130981,
          0.5023295174559748,
          -0.7596996515964047,
          1.4161337913043834,
          1.9283827384775984,
          -1.6721607391450544,
          0.4553713821873685,
          -0.3971879291836942,
          0.17041840171947764,
          -1.1644496531098152,
          0.15295268302093223,
          -0.18904846215760945,
          0.2400629991205869,
          -0.010061126559507024,
          0.8658858707404796,
          1.056913755398305,
          0.862841462797941,
          0.47176134545444554
         ]
        },
        {
         "line": {
          "color": "rgba(55, 128, 191, 1.0)",
          "dash": "solid",
          "shape": "linear",
          "width": 1.3
         },
         "mode": "lines",
         "name": "B",
         "text": "",
         "type": "scatter",
         "x": [
          0,
          1,
          2,
          3,
          4,
          5,
          6,
          7,
          8,
          9,
          10,
          11,
          12,
          13,
          14,
          15,
          16,
          17,
          18,
          19,
          20,
          21,
          22,
          23,
          24,
          25,
          26,
          27,
          28,
          29,
          30,
          31,
          32,
          33,
          34,
          35,
          36,
          37,
          38,
          39,
          40,
          41,
          42,
          43,
          44,
          45,
          46,
          47,
          48,
          49,
          50,
          51,
          52,
          53,
          54,
          55,
          56,
          57,
          58,
          59,
          60,
          61,
          62,
          63,
          64,
          65,
          66,
          67,
          68,
          69,
          70,
          71,
          72,
          73,
          74,
          75,
          76,
          77,
          78,
          79,
          80,
          81,
          82,
          83,
          84,
          85,
          86,
          87,
          88,
          89,
          90,
          91,
          92,
          93,
          94,
          95,
          96,
          97,
          98,
          99
         ],
         "y": [
          -0.39261445799361727,
          0.22580367056171108,
          0.25483863748102475,
          0.9905938087654146,
          -0.3454489749148752,
          0.5862541601958202,
          0.04228997696170449,
          -1.5099138219153663,
          -1.4985134831759215,
          0.09468800407249342,
          -0.6529428511506372,
          0.11140377407013143,
          0.2986561002471471,
          -0.6958738060209194,
          1.6280048100235736,
          -1.4414780265052891,
          -1.0091162361804633,
          -0.4358346913952342,
          0.9644518693267125,
          1.339378202043062,
          -1.009276170450571,
          0.355374750343669,
          2.4613393443673854,
          1.1250694379563946,
          -0.3101218143757754,
          0.21931795568428836,
          -1.1034092566915703,
          0.34792501227665257,
          0.5640927383340527,
          2.005692956097845,
          -1.3763340171658087,
          -0.5516546832432645,
          -0.4322623433505339,
          -1.4069669300676437,
          0.9925196666613212,
          -0.3174599626785784,
          -1.402277482694772,
          1.5941004088534267,
          -0.20902468508344935,
          1.7723686071566995,
          1.0255780072645866,
          0.3611684560390772,
          -0.9876425439197813,
          2.0634227790927873,
          0.5808836005391271,
          2.085501418876228,
          -0.1669861926278503,
          2.4188376530846787,
          -1.7854249534372195,
          -2.0250332266149442,
          -0.54463884665561,
          0.990855608274131,
          -1.4367068235569664,
          -0.4429595086434903,
          0.2807870731341278,
          -1.2933742820918692,
          -0.1556993337542278,
          -1.1504599947642138,
          0.6624811468344771,
          -0.9756259309342289,
          0.8167384140483486,
          -0.5345985813863435,
          -0.27727702113759906,
          0.19310545663846124,
          -1.532902312679032,
          -0.028100975887289895,
          -1.9959810670789664,
          0.2243920084584965,
          -0.6600578441118969,
          1.3352710743039025,
          -1.398424039696386,
          0.8462771387518341,
          0.11236464635976393,
          -0.15515819132980102,
          1.3302994525696428,
          -0.5868131798941717,
          1.3234568595593719,
          0.8499332074462286,
          -0.08224166207067568,
          0.6328294865034617,
          0.06679708452559546,
          -0.23350689690678816,
          -2.7527613522856362,
          0.9548230886533037,
          -0.5190830632490822,
          -0.42926880006980395,
          0.236960866081998,
          -1.9304304156678027,
          0.5350138717457857,
          -0.6962587707076815,
          -0.1957102445287146,
          -1.3072663184338325,
          -0.10554726253657928,
          0.20192027205191437,
          -0.3790196316097984,
          -0.47639675723883623,
          -0.2596209420386043,
          1.4129214345638288,
          1.215471680596547,
          -1.0518754451458192
         ]
        },
        {
         "connectgaps": false,
         "fill": "tozeroy",
         "line": {
          "color": "green",
          "dash": "solid",
          "shape": "linear",
          "width": 0.5
         },
         "mode": "lines",
         "name": "Spread",
         "showlegend": false,
         "type": "scatter",
         "x": [
          0,
          1,
          2,
          3,
          4,
          5,
          6,
          7,
          8,
          9,
          10,
          11,
          12,
          13,
          14,
          15,
          16,
          17,
          18,
          19,
          20,
          21,
          22,
          23,
          24,
          25,
          26,
          27,
          28,
          29,
          30,
          31,
          32,
          33,
          34,
          35,
          36,
          37,
          38,
          39,
          40,
          41,
          42,
          43,
          44,
          45,
          46,
          47,
          48,
          49,
          50,
          51,
          52,
          53,
          54,
          55,
          56,
          57,
          58,
          59,
          60,
          61,
          62,
          63,
          64,
          65,
          66,
          67,
          68,
          69,
          70,
          71,
          72,
          73,
          74,
          75,
          76,
          77,
          78,
          79,
          80,
          81,
          82,
          83,
          84,
          85,
          86,
          87,
          88,
          89,
          90,
          91,
          92,
          93,
          94,
          95,
          96,
          97,
          98,
          99
         ],
         "xaxis": "x2",
         "y": [
          0.9143682364066147,
          0.10517125204982641,
          "",
          "",
          0.15613505474411896,
          "",
          0.6544857618857836,
          "",
          1.1724626106883673,
          1.6071854407312085,
          0.2951130595583858,
          0.6844749699423335,
          "",
          0.8753896912234296,
          "",
          "",
          2.5825668149611287,
          0.529305084770079,
          "",
          0.40197473012572793,
          1.863621969193821,
          1.3114953390397808,
          "",
          "",
          0.9054698351034893,
          1.1232594008870551,
          1.609048917248829,
          0.35257140139512305,
          "",
          "",
          0.6653532253812223,
          0.7954928469338685,
          0.37949290906800365,
          2.058942777917174,
          "",
          "",
          "",
          0.04121604790491573,
          0.1879164507248203,
          "",
          "",
          "",
          1.6030760083657674,
          "",
          "",
          "",
          1.4061030041613853,
          "",
          0.19523380456135642,
          1.0431851518528883,
          0.08300006986003433,
          "",
          1.508942174260849,
          0.5005178324473547,
          "",
          1.7623115820719915,
          1.6580654680855718,
          1.8813533996246914,
          "",
          0.9518761536813155,
          "",
          1.3302397250253926,
          0.4237856584996933,
          "",
          0.2580397156679566,
          "",
          2.8741055712844226,
          "",
          0.7320483818769922,
          "",
          1.7955937822348451,
          "",
          "",
          0.9296126311065898,
          "",
          "",
          "",
          "",
          0.1268306177078728,
          "",
          0.8969338207006028,
          0.8104258533379676,
          2.8333985735169462,
          "",
          "",
          1.8454025913741874,
          1.6914218723956005,
          0.25826967652274835,
          "",
          0.2990708415239873,
          0.36612864624819225,
          0.14281666532401727,
          0.25849994555751155,
          "",
          0.6190826307303853,
          0.4663356306793292,
          1.125506812779084,
          "",
          "",
          1.5236367906002648
         ],
         "yaxis": "y2"
        },
        {
         "connectgaps": false,
         "fill": "tozeroy",
         "line": {
          "color": "red",
          "dash": "solid",
          "shape": "linear",
          "width": 0.5
         },
         "mode": "lines",
         "name": "Spread",
         "showlegend": false,
         "type": "scatter",
         "x": [
          0,
          1,
          2,
          3,
          4,
          5,
          6,
          7,
          8,
          9,
          10,
          11,
          12,
          13,
          14,
          15,
          16,
          17,
          18,
          19,
          20,
          21,
          22,
          23,
          24,
          25,
          26,
          27,
          28,
          29,
          30,
          31,
          32,
          33,
          34,
          35,
          36,
          37,
          38,
          39,
          40,
          41,
          42,
          43,
          44,
          45,
          46,
          47,
          48,
          49,
          50,
          51,
          52,
          53,
          54,
          55,
          56,
          57,
          58,
          59,
          60,
          61,
          62,
          63,
          64,
          65,
          66,
          67,
          68,
          69,
          70,
          71,
          72,
          73,
          74,
          75,
          76,
          77,
          78,
          79,
          80,
          81,
          82,
          83,
          84,
          85,
          86,
          87,
          88,
          89,
          90,
          91,
          92,
          93,
          94,
          95,
          96,
          97,
          98,
          99
         ],
         "xaxis": "x2",
         "y": [
          "",
          "",
          -1.4487153471407896,
          -0.5471545775735593,
          "",
          -0.4130483926599962,
          "",
          -0.5042778329011728,
          "",
          "",
          "",
          "",
          -0.9207666877698752,
          "",
          -2.154306699053711,
          -0.21652039530665168,
          "",
          "",
          -0.7374985109649383,
          "",
          "",
          "",
          -2.2462395341196997,
          -1.0735957613649239,
          "",
          "",
          "",
          "",
          -0.6802047227572054,
          -1.2972642239677454,
          "",
          "",
          "",
          "",
          -0.8414034302792035,
          -0.14248425908787044,
          -0.2354350754056349,
          "",
          "",
          -0.9060819984771721,
          -1.8247892584394134,
          -1.5703452249922618,
          "",
          -2.755312645636533,
          -0.8017667483046866,
          -2.4516642429463125,
          "",
          -3.023963853423487,
          "",
          "",
          "",
          -1.7042850977304664,
          "",
          "",
          -0.7175974825320457,
          "",
          "",
          "",
          -2.5070159701941312,
          "",
          -0.746465820157432,
          "",
          "",
          -0.4822645996125882,
          "",
          -0.2493280995143562,
          "",
          -1.094115666948277,
          "",
          -3.092313310889989,
          "",
          -0.680810869904283,
          -0.44435891312424924,
          "",
          -0.15091898229664147,
          -0.3594490598418397,
          -0.5676950121477251,
          -1.3816421375135306,
          "",
          -0.981264622266415,
          "",
          "",
          "",
          -0.4524935711973289,
          -0.24061658834732258,
          "",
          "",
          "",
          -0.07964248955841724,
          "",
          "",
          "",
          "",
          -0.3909687342095238,
          "",
          "",
          "",
          -0.3560076791655238,
          -0.35263021779860604,
          ""
         ],
         "yaxis": "y2"
        }
       ],
       "layout": {
        "hovermode": "x",
        "legend": {
         "bgcolor": "#F5F6F9",
         "font": {
          "color": "#4D5663"
         }
        },
        "paper_bgcolor": "#F5F6F9",
        "plot_bgcolor": "#F5F6F9",
        "template": {
         "data": {
          "bar": [
           {
            "error_x": {
             "color": "#2a3f5f"
            },
            "error_y": {
             "color": "#2a3f5f"
            },
            "marker": {
             "line": {
              "color": "#E5ECF6",
              "width": 0.5
             }
            },
            "type": "bar"
           }
          ],
          "barpolar": [
           {
            "marker": {
             "line": {
              "color": "#E5ECF6",
              "width": 0.5
             }
            },
            "type": "barpolar"
           }
          ],
          "carpet": [
           {
            "aaxis": {
             "endlinecolor": "#2a3f5f",
             "gridcolor": "white",
             "linecolor": "white",
             "minorgridcolor": "white",
             "startlinecolor": "#2a3f5f"
            },
            "baxis": {
             "endlinecolor": "#2a3f5f",
             "gridcolor": "white",
             "linecolor": "white",
             "minorgridcolor": "white",
             "startlinecolor": "#2a3f5f"
            },
            "type": "carpet"
           }
          ],
          "choropleth": [
           {
            "colorbar": {
             "outlinewidth": 0,
             "ticks": ""
            },
            "type": "choropleth"
           }
          ],
          "contour": [
           {
            "colorbar": {
             "outlinewidth": 0,
             "ticks": ""
            },
            "colorscale": [
             [
              0,
              "#0d0887"
             ],
             [
              0.1111111111111111,
              "#46039f"
             ],
             [
              0.2222222222222222,
              "#7201a8"
             ],
             [
              0.3333333333333333,
              "#9c179e"
             ],
             [
              0.4444444444444444,
              "#bd3786"
             ],
             [
              0.5555555555555556,
              "#d8576b"
             ],
             [
              0.6666666666666666,
              "#ed7953"
             ],
             [
              0.7777777777777778,
              "#fb9f3a"
             ],
             [
              0.8888888888888888,
              "#fdca26"
             ],
             [
              1,
              "#f0f921"
             ]
            ],
            "type": "contour"
           }
          ],
          "contourcarpet": [
           {
            "colorbar": {
             "outlinewidth": 0,
             "ticks": ""
            },
            "type": "contourcarpet"
           }
          ],
          "heatmap": [
           {
            "colorbar": {
             "outlinewidth": 0,
             "ticks": ""
            },
            "colorscale": [
             [
              0,
              "#0d0887"
             ],
             [
              0.1111111111111111,
              "#46039f"
             ],
             [
              0.2222222222222222,
              "#7201a8"
             ],
             [
              0.3333333333333333,
              "#9c179e"
             ],
             [
              0.4444444444444444,
              "#bd3786"
             ],
             [
              0.5555555555555556,
              "#d8576b"
             ],
             [
              0.6666666666666666,
              "#ed7953"
             ],
             [
              0.7777777777777778,
              "#fb9f3a"
             ],
             [
              0.8888888888888888,
              "#fdca26"
             ],
             [
              1,
              "#f0f921"
             ]
            ],
            "type": "heatmap"
           }
          ],
          "heatmapgl": [
           {
            "colorbar": {
             "outlinewidth": 0,
             "ticks": ""
            },
            "colorscale": [
             [
              0,
              "#0d0887"
             ],
             [
              0.1111111111111111,
              "#46039f"
             ],
             [
              0.2222222222222222,
              "#7201a8"
             ],
             [
              0.3333333333333333,
              "#9c179e"
             ],
             [
              0.4444444444444444,
              "#bd3786"
             ],
             [
              0.5555555555555556,
              "#d8576b"
             ],
             [
              0.6666666666666666,
              "#ed7953"
             ],
             [
              0.7777777777777778,
              "#fb9f3a"
             ],
             [
              0.8888888888888888,
              "#fdca26"
             ],
             [
              1,
              "#f0f921"
             ]
            ],
            "type": "heatmapgl"
           }
          ],
          "histogram": [
           {
            "marker": {
             "colorbar": {
              "outlinewidth": 0,
              "ticks": ""
             }
            },
            "type": "histogram"
           }
          ],
          "histogram2d": [
           {
            "colorbar": {
             "outlinewidth": 0,
             "ticks": ""
            },
            "colorscale": [
             [
              0,
              "#0d0887"
             ],
             [
              0.1111111111111111,
              "#46039f"
             ],
             [
              0.2222222222222222,
              "#7201a8"
             ],
             [
              0.3333333333333333,
              "#9c179e"
             ],
             [
              0.4444444444444444,
              "#bd3786"
             ],
             [
              0.5555555555555556,
              "#d8576b"
             ],
             [
              0.6666666666666666,
              "#ed7953"
             ],
             [
              0.7777777777777778,
              "#fb9f3a"
             ],
             [
              0.8888888888888888,
              "#fdca26"
             ],
             [
              1,
              "#f0f921"
             ]
            ],
            "type": "histogram2d"
           }
          ],
          "histogram2dcontour": [
           {
            "colorbar": {
             "outlinewidth": 0,
             "ticks": ""
            },
            "colorscale": [
             [
              0,
              "#0d0887"
             ],
             [
              0.1111111111111111,
              "#46039f"
             ],
             [
              0.2222222222222222,
              "#7201a8"
             ],
             [
              0.3333333333333333,
              "#9c179e"
             ],
             [
              0.4444444444444444,
              "#bd3786"
             ],
             [
              0.5555555555555556,
              "#d8576b"
             ],
             [
              0.6666666666666666,
              "#ed7953"
             ],
             [
              0.7777777777777778,
              "#fb9f3a"
             ],
             [
              0.8888888888888888,
              "#fdca26"
             ],
             [
              1,
              "#f0f921"
             ]
            ],
            "type": "histogram2dcontour"
           }
          ],
          "mesh3d": [
           {
            "colorbar": {
             "outlinewidth": 0,
             "ticks": ""
            },
            "type": "mesh3d"
           }
          ],
          "parcoords": [
           {
            "line": {
             "colorbar": {
              "outlinewidth": 0,
              "ticks": ""
             }
            },
            "type": "parcoords"
           }
          ],
          "pie": [
           {
            "automargin": true,
            "type": "pie"
           }
          ],
          "scatter": [
           {
            "marker": {
             "colorbar": {
              "outlinewidth": 0,
              "ticks": ""
             }
            },
            "type": "scatter"
           }
          ],
          "scatter3d": [
           {
            "line": {
             "colorbar": {
              "outlinewidth": 0,
              "ticks": ""
             }
            },
            "marker": {
             "colorbar": {
              "outlinewidth": 0,
              "ticks": ""
             }
            },
            "type": "scatter3d"
           }
          ],
          "scattercarpet": [
           {
            "marker": {
             "colorbar": {
              "outlinewidth": 0,
              "ticks": ""
             }
            },
            "type": "scattercarpet"
           }
          ],
          "scattergeo": [
           {
            "marker": {
             "colorbar": {
              "outlinewidth": 0,
              "ticks": ""
             }
            },
            "type": "scattergeo"
           }
          ],
          "scattergl": [
           {
            "marker": {
             "colorbar": {
              "outlinewidth": 0,
              "ticks": ""
             }
            },
            "type": "scattergl"
           }
          ],
          "scattermapbox": [
           {
            "marker": {
             "colorbar": {
              "outlinewidth": 0,
              "ticks": ""
             }
            },
            "type": "scattermapbox"
           }
          ],
          "scatterpolar": [
           {
            "marker": {
             "colorbar": {
              "outlinewidth": 0,
              "ticks": ""
             }
            },
            "type": "scatterpolar"
           }
          ],
          "scatterpolargl": [
           {
            "marker": {
             "colorbar": {
              "outlinewidth": 0,
              "ticks": ""
             }
            },
            "type": "scatterpolargl"
           }
          ],
          "scatterternary": [
           {
            "marker": {
             "colorbar": {
              "outlinewidth": 0,
              "ticks": ""
             }
            },
            "type": "scatterternary"
           }
          ],
          "surface": [
           {
            "colorbar": {
             "outlinewidth": 0,
             "ticks": ""
            },
            "colorscale": [
             [
              0,
              "#0d0887"
             ],
             [
              0.1111111111111111,
              "#46039f"
             ],
             [
              0.2222222222222222,
              "#7201a8"
             ],
             [
              0.3333333333333333,
              "#9c179e"
             ],
             [
              0.4444444444444444,
              "#bd3786"
             ],
             [
              0.5555555555555556,
              "#d8576b"
             ],
             [
              0.6666666666666666,
              "#ed7953"
             ],
             [
              0.7777777777777778,
              "#fb9f3a"
             ],
             [
              0.8888888888888888,
              "#fdca26"
             ],
             [
              1,
              "#f0f921"
             ]
            ],
            "type": "surface"
           }
          ],
          "table": [
           {
            "cells": {
             "fill": {
              "color": "#EBF0F8"
             },
             "line": {
              "color": "white"
             }
            },
            "header": {
             "fill": {
              "color": "#C8D4E3"
             },
             "line": {
              "color": "white"
             }
            },
            "type": "table"
           }
          ]
         },
         "layout": {
          "annotationdefaults": {
           "arrowcolor": "#2a3f5f",
           "arrowhead": 0,
           "arrowwidth": 1
          },
          "coloraxis": {
           "colorbar": {
            "outlinewidth": 0,
            "ticks": ""
           }
          },
          "colorscale": {
           "diverging": [
            [
             0,
             "#8e0152"
            ],
            [
             0.1,
             "#c51b7d"
            ],
            [
             0.2,
             "#de77ae"
            ],
            [
             0.3,
             "#f1b6da"
            ],
            [
             0.4,
             "#fde0ef"
            ],
            [
             0.5,
             "#f7f7f7"
            ],
            [
             0.6,
             "#e6f5d0"
            ],
            [
             0.7,
             "#b8e186"
            ],
            [
             0.8,
             "#7fbc41"
            ],
            [
             0.9,
             "#4d9221"
            ],
            [
             1,
             "#276419"
            ]
           ],
           "sequential": [
            [
             0,
             "#0d0887"
            ],
            [
             0.1111111111111111,
             "#46039f"
            ],
            [
             0.2222222222222222,
             "#7201a8"
            ],
            [
             0.3333333333333333,
             "#9c179e"
            ],
            [
             0.4444444444444444,
             "#bd3786"
            ],
            [
             0.5555555555555556,
             "#d8576b"
            ],
            [
             0.6666666666666666,
             "#ed7953"
            ],
            [
             0.7777777777777778,
             "#fb9f3a"
            ],
            [
             0.8888888888888888,
             "#fdca26"
            ],
            [
             1,
             "#f0f921"
            ]
           ],
           "sequentialminus": [
            [
             0,
             "#0d0887"
            ],
            [
             0.1111111111111111,
             "#46039f"
            ],
            [
             0.2222222222222222,
             "#7201a8"
            ],
            [
             0.3333333333333333,
             "#9c179e"
            ],
            [
             0.4444444444444444,
             "#bd3786"
            ],
            [
             0.5555555555555556,
             "#d8576b"
            ],
            [
             0.6666666666666666,
             "#ed7953"
            ],
            [
             0.7777777777777778,
             "#fb9f3a"
            ],
            [
             0.8888888888888888,
             "#fdca26"
            ],
            [
             1,
             "#f0f921"
            ]
           ]
          },
          "colorway": [
           "#636efa",
           "#EF553B",
           "#00cc96",
           "#ab63fa",
           "#FFA15A",
           "#19d3f3",
           "#FF6692",
           "#B6E880",
           "#FF97FF",
           "#FECB52"
          ],
          "font": {
           "color": "#2a3f5f"
          },
          "geo": {
           "bgcolor": "white",
           "lakecolor": "white",
           "landcolor": "#E5ECF6",
           "showlakes": true,
           "showland": true,
           "subunitcolor": "white"
          },
          "hoverlabel": {
           "align": "left"
          },
          "hovermode": "closest",
          "mapbox": {
           "style": "light"
          },
          "paper_bgcolor": "white",
          "plot_bgcolor": "#E5ECF6",
          "polar": {
           "angularaxis": {
            "gridcolor": "white",
            "linecolor": "white",
            "ticks": ""
           },
           "bgcolor": "#E5ECF6",
           "radialaxis": {
            "gridcolor": "white",
            "linecolor": "white",
            "ticks": ""
           }
          },
          "scene": {
           "xaxis": {
            "backgroundcolor": "#E5ECF6",
            "gridcolor": "white",
            "gridwidth": 2,
            "linecolor": "white",
            "showbackground": true,
            "ticks": "",
            "zerolinecolor": "white"
           },
           "yaxis": {
            "backgroundcolor": "#E5ECF6",
            "gridcolor": "white",
            "gridwidth": 2,
            "linecolor": "white",
            "showbackground": true,
            "ticks": "",
            "zerolinecolor": "white"
           },
           "zaxis": {
            "backgroundcolor": "#E5ECF6",
            "gridcolor": "white",
            "gridwidth": 2,
            "linecolor": "white",
            "showbackground": true,
            "ticks": "",
            "zerolinecolor": "white"
           }
          },
          "shapedefaults": {
           "line": {
            "color": "#2a3f5f"
           }
          },
          "ternary": {
           "aaxis": {
            "gridcolor": "white",
            "linecolor": "white",
            "ticks": ""
           },
           "baxis": {
            "gridcolor": "white",
            "linecolor": "white",
            "ticks": ""
           },
           "bgcolor": "#E5ECF6",
           "caxis": {
            "gridcolor": "white",
            "linecolor": "white",
            "ticks": ""
           }
          },
          "title": {
           "x": 0.05
          },
          "xaxis": {
           "automargin": true,
           "gridcolor": "white",
           "linecolor": "white",
           "ticks": "",
           "title": {
            "standoff": 15
           },
           "zerolinecolor": "white",
           "zerolinewidth": 2
          },
          "yaxis": {
           "automargin": true,
           "gridcolor": "white",
           "linecolor": "white",
           "ticks": "",
           "title": {
            "standoff": 15
           },
           "zerolinecolor": "white",
           "zerolinewidth": 2
          }
         }
        },
        "title": {
         "font": {
          "color": "#4D5663"
         }
        },
        "xaxis": {
         "gridcolor": "#E1E5ED",
         "showgrid": true,
         "tickfont": {
          "color": "#4D5663"
         },
         "title": {
          "font": {
           "color": "#4D5663"
          },
          "text": ""
         },
         "zerolinecolor": "#E1E5ED"
        },
        "xaxis2": {
         "anchor": "y2",
         "gridcolor": "#E1E5ED",
         "showgrid": true,
         "showticklabels": false,
         "tickfont": {
          "color": "#4D5663"
         },
         "title": {
          "font": {
           "color": "#4D5663"
          },
          "text": ""
         },
         "zerolinecolor": "#E1E5ED"
        },
        "yaxis": {
         "domain": [
          0.3,
          1
         ],
         "gridcolor": "#E1E5ED",
         "showgrid": true,
         "tickfont": {
          "color": "#4D5663"
         },
         "title": {
          "font": {
           "color": "#4D5663"
          },
          "text": ""
         },
         "zerolinecolor": "#E1E5ED"
        },
        "yaxis2": {
         "domain": [
          0,
          0.25
         ],
         "gridcolor": "#E1E5ED",
         "showgrid": true,
         "tickfont": {
          "color": "#4D5663"
         },
         "title": {
          "font": {
           "color": "#4D5663"
          },
          "text": "Spread"
         },
         "zerolinecolor": "#E1E5ED"
        }
       }
      },
      "text/html": [
       "<div>                            <div id=\"ed8a0c3f-59e7-4bea-8d67-a79f71b327d9\" class=\"plotly-graph-div\" style=\"height:525px; width:100%;\"></div>            <script type=\"text/javascript\">                require([\"plotly\"], function(Plotly) {                    window.PLOTLYENV=window.PLOTLYENV || {};\n",
       "                    window.PLOTLYENV.BASE_URL='https://plot.ly';                                    if (document.getElementById(\"ed8a0c3f-59e7-4bea-8d67-a79f71b327d9\")) {                    Plotly.newPlot(                        \"ed8a0c3f-59e7-4bea-8d67-a79f71b327d9\",                        [{\"line\": {\"color\": \"rgba(255, 153, 51, 1.0)\", \"dash\": \"solid\", \"shape\": \"linear\", \"width\": 1.3}, \"mode\": \"lines\", \"name\": \"A\", \"text\": \"\", \"type\": \"scatter\", \"x\": [0, 1, 2, 3, 4, 5, 6, 7, 8, 9, 10, 11, 12, 13, 14, 15, 16, 17, 18, 19, 20, 21, 22, 23, 24, 25, 26, 27, 28, 29, 30, 31, 32, 33, 34, 35, 36, 37, 38, 39, 40, 41, 42, 43, 44, 45, 46, 47, 48, 49, 50, 51, 52, 53, 54, 55, 56, 57, 58, 59, 60, 61, 62, 63, 64, 65, 66, 67, 68, 69, 70, 71, 72, 73, 74, 75, 76, 77, 78, 79, 80, 81, 82, 83, 84, 85, 86, 87, 88, 89, 90, 91, 92, 93, 94, 95, 96, 97, 98, 99], \"y\": [0.5217537784129974, 0.3309749226115375, -1.193876709659765, 0.44343923119185524, -0.18931392017075624, 0.173205767535824, 0.696775738847488, -2.014191654816539, -0.3260508724875542, 1.7018734448037018, -0.3578297915922514, 0.795878744012465, -0.6221105875227282, 0.1795158852025101, -0.5263018890301373, -1.6579984218119408, 1.5734505787806656, 0.09347039337484478, 0.22695335836177413, 1.74135293216879, 0.8543457987432498, 1.6668700893834498, 0.21509981024768562, 0.05147367659147075, 0.595348020727714, 1.3425773565713435, 0.5056396605572587, 0.7004964136717756, -0.11611198442315279, 0.7084287321300998, -0.7109807917845864, 0.243838163690604, -0.052769434282530246, 0.65197584784953, 0.15111623638211763, -0.45994422176644884, -1.6377125581004068, 1.6353164567583425, -0.02110823435862904, 0.8662866086795274, -0.7992112511748268, -1.2091767689531847, 0.615433464445986, -0.6918898665437458, -0.22088314776555945, -0.36616282407008444, 1.2391168115335351, -0.6051262003388084, -1.590191148875863, -0.9818480747620559, -0.4616387767955757, -0.7134294894563353, 0.07223535070388272, 0.057558323803864345, -0.43681040939791793, 0.4689372999801223, 1.502366134331344, 0.7308934048604777, -1.8445348233596541, -0.023749777252913405, 0.07027259389091652, 0.795641143639049, 0.14650863736209424, -0.289159142974127, -1.2748625970110754, -0.2774290754016461, 0.8781245042054561, -0.8697236584897804, 0.07199053776509524, -1.757042236586087, 0.39716974253845905, 0.1654662688475511, -0.33199426676448535, 0.7744544397767887, 1.1793804702730013, -0.9462622397360114, 0.7557618474116468, -0.5317089300673019, 0.04458895563719713, -0.3484351357629532, 0.9637309052261983, 0.5769189564311794, 0.08063722123130981, 0.5023295174559748, -0.7596996515964047, 1.4161337913043834, 1.9283827384775984, -1.6721607391450544, 0.4553713821873685, -0.3971879291836942, 0.17041840171947764, -1.1644496531098152, 0.15295268302093223, -0.18904846215760945, 0.2400629991205869, -0.010061126559507024, 0.8658858707404796, 1.056913755398305, 0.862841462797941, 0.47176134545444554]}, {\"line\": {\"color\": \"rgba(55, 128, 191, 1.0)\", \"dash\": \"solid\", \"shape\": \"linear\", \"width\": 1.3}, \"mode\": \"lines\", \"name\": \"B\", \"text\": \"\", \"type\": \"scatter\", \"x\": [0, 1, 2, 3, 4, 5, 6, 7, 8, 9, 10, 11, 12, 13, 14, 15, 16, 17, 18, 19, 20, 21, 22, 23, 24, 25, 26, 27, 28, 29, 30, 31, 32, 33, 34, 35, 36, 37, 38, 39, 40, 41, 42, 43, 44, 45, 46, 47, 48, 49, 50, 51, 52, 53, 54, 55, 56, 57, 58, 59, 60, 61, 62, 63, 64, 65, 66, 67, 68, 69, 70, 71, 72, 73, 74, 75, 76, 77, 78, 79, 80, 81, 82, 83, 84, 85, 86, 87, 88, 89, 90, 91, 92, 93, 94, 95, 96, 97, 98, 99], \"y\": [-0.39261445799361727, 0.22580367056171108, 0.25483863748102475, 0.9905938087654146, -0.3454489749148752, 0.5862541601958202, 0.04228997696170449, -1.5099138219153663, -1.4985134831759215, 0.09468800407249342, -0.6529428511506372, 0.11140377407013143, 0.2986561002471471, -0.6958738060209194, 1.6280048100235736, -1.4414780265052891, -1.0091162361804633, -0.4358346913952342, 0.9644518693267125, 1.339378202043062, -1.009276170450571, 0.355374750343669, 2.4613393443673854, 1.1250694379563946, -0.3101218143757754, 0.21931795568428836, -1.1034092566915703, 0.34792501227665257, 0.5640927383340527, 2.005692956097845, -1.3763340171658087, -0.5516546832432645, -0.4322623433505339, -1.4069669300676437, 0.9925196666613212, -0.3174599626785784, -1.402277482694772, 1.5941004088534267, -0.20902468508344935, 1.7723686071566995, 1.0255780072645866, 0.3611684560390772, -0.9876425439197813, 2.0634227790927873, 0.5808836005391271, 2.085501418876228, -0.1669861926278503, 2.4188376530846787, -1.7854249534372195, -2.0250332266149442, -0.54463884665561, 0.990855608274131, -1.4367068235569664, -0.4429595086434903, 0.2807870731341278, -1.2933742820918692, -0.1556993337542278, -1.1504599947642138, 0.6624811468344771, -0.9756259309342289, 0.8167384140483486, -0.5345985813863435, -0.27727702113759906, 0.19310545663846124, -1.532902312679032, -0.028100975887289895, -1.9959810670789664, 0.2243920084584965, -0.6600578441118969, 1.3352710743039025, -1.398424039696386, 0.8462771387518341, 0.11236464635976393, -0.15515819132980102, 1.3302994525696428, -0.5868131798941717, 1.3234568595593719, 0.8499332074462286, -0.08224166207067568, 0.6328294865034617, 0.06679708452559546, -0.23350689690678816, -2.7527613522856362, 0.9548230886533037, -0.5190830632490822, -0.42926880006980395, 0.236960866081998, -1.9304304156678027, 0.5350138717457857, -0.6962587707076815, -0.1957102445287146, -1.3072663184338325, -0.10554726253657928, 0.20192027205191437, -0.3790196316097984, -0.47639675723883623, -0.2596209420386043, 1.4129214345638288, 1.215471680596547, -1.0518754451458192]}, {\"connectgaps\": false, \"fill\": \"tozeroy\", \"line\": {\"color\": \"green\", \"dash\": \"solid\", \"shape\": \"linear\", \"width\": 0.5}, \"mode\": \"lines\", \"name\": \"Spread\", \"showlegend\": false, \"type\": \"scatter\", \"x\": [0, 1, 2, 3, 4, 5, 6, 7, 8, 9, 10, 11, 12, 13, 14, 15, 16, 17, 18, 19, 20, 21, 22, 23, 24, 25, 26, 27, 28, 29, 30, 31, 32, 33, 34, 35, 36, 37, 38, 39, 40, 41, 42, 43, 44, 45, 46, 47, 48, 49, 50, 51, 52, 53, 54, 55, 56, 57, 58, 59, 60, 61, 62, 63, 64, 65, 66, 67, 68, 69, 70, 71, 72, 73, 74, 75, 76, 77, 78, 79, 80, 81, 82, 83, 84, 85, 86, 87, 88, 89, 90, 91, 92, 93, 94, 95, 96, 97, 98, 99], \"xaxis\": \"x2\", \"y\": [0.9143682364066147, 0.10517125204982641, \"\", \"\", 0.15613505474411896, \"\", 0.6544857618857836, \"\", 1.1724626106883673, 1.6071854407312085, 0.2951130595583858, 0.6844749699423335, \"\", 0.8753896912234296, \"\", \"\", 2.5825668149611287, 0.529305084770079, \"\", 0.40197473012572793, 1.863621969193821, 1.3114953390397808, \"\", \"\", 0.9054698351034893, 1.1232594008870551, 1.609048917248829, 0.35257140139512305, \"\", \"\", 0.6653532253812223, 0.7954928469338685, 0.37949290906800365, 2.058942777917174, \"\", \"\", \"\", 0.04121604790491573, 0.1879164507248203, \"\", \"\", \"\", 1.6030760083657674, \"\", \"\", \"\", 1.4061030041613853, \"\", 0.19523380456135642, 1.0431851518528883, 0.08300006986003433, \"\", 1.508942174260849, 0.5005178324473547, \"\", 1.7623115820719915, 1.6580654680855718, 1.8813533996246914, \"\", 0.9518761536813155, \"\", 1.3302397250253926, 0.4237856584996933, \"\", 0.2580397156679566, \"\", 2.8741055712844226, \"\", 0.7320483818769922, \"\", 1.7955937822348451, \"\", \"\", 0.9296126311065898, \"\", \"\", \"\", \"\", 0.1268306177078728, \"\", 0.8969338207006028, 0.8104258533379676, 2.8333985735169462, \"\", \"\", 1.8454025913741874, 1.6914218723956005, 0.25826967652274835, \"\", 0.2990708415239873, 0.36612864624819225, 0.14281666532401727, 0.25849994555751155, \"\", 0.6190826307303853, 0.4663356306793292, 1.125506812779084, \"\", \"\", 1.5236367906002648], \"yaxis\": \"y2\"}, {\"connectgaps\": false, \"fill\": \"tozeroy\", \"line\": {\"color\": \"red\", \"dash\": \"solid\", \"shape\": \"linear\", \"width\": 0.5}, \"mode\": \"lines\", \"name\": \"Spread\", \"showlegend\": false, \"type\": \"scatter\", \"x\": [0, 1, 2, 3, 4, 5, 6, 7, 8, 9, 10, 11, 12, 13, 14, 15, 16, 17, 18, 19, 20, 21, 22, 23, 24, 25, 26, 27, 28, 29, 30, 31, 32, 33, 34, 35, 36, 37, 38, 39, 40, 41, 42, 43, 44, 45, 46, 47, 48, 49, 50, 51, 52, 53, 54, 55, 56, 57, 58, 59, 60, 61, 62, 63, 64, 65, 66, 67, 68, 69, 70, 71, 72, 73, 74, 75, 76, 77, 78, 79, 80, 81, 82, 83, 84, 85, 86, 87, 88, 89, 90, 91, 92, 93, 94, 95, 96, 97, 98, 99], \"xaxis\": \"x2\", \"y\": [\"\", \"\", -1.4487153471407896, -0.5471545775735593, \"\", -0.4130483926599962, \"\", -0.5042778329011728, \"\", \"\", \"\", \"\", -0.9207666877698752, \"\", -2.154306699053711, -0.21652039530665168, \"\", \"\", -0.7374985109649383, \"\", \"\", \"\", -2.2462395341196997, -1.0735957613649239, \"\", \"\", \"\", \"\", -0.6802047227572054, -1.2972642239677454, \"\", \"\", \"\", \"\", -0.8414034302792035, -0.14248425908787044, -0.2354350754056349, \"\", \"\", -0.9060819984771721, -1.8247892584394134, -1.5703452249922618, \"\", -2.755312645636533, -0.8017667483046866, -2.4516642429463125, \"\", -3.023963853423487, \"\", \"\", \"\", -1.7042850977304664, \"\", \"\", -0.7175974825320457, \"\", \"\", \"\", -2.5070159701941312, \"\", -0.746465820157432, \"\", \"\", -0.4822645996125882, \"\", -0.2493280995143562, \"\", -1.094115666948277, \"\", -3.092313310889989, \"\", -0.680810869904283, -0.44435891312424924, \"\", -0.15091898229664147, -0.3594490598418397, -0.5676950121477251, -1.3816421375135306, \"\", -0.981264622266415, \"\", \"\", \"\", -0.4524935711973289, -0.24061658834732258, \"\", \"\", \"\", -0.07964248955841724, \"\", \"\", \"\", \"\", -0.3909687342095238, \"\", \"\", \"\", -0.3560076791655238, -0.35263021779860604, \"\"], \"yaxis\": \"y2\"}],                        {\"hovermode\": \"x\", \"legend\": {\"bgcolor\": \"#F5F6F9\", \"font\": {\"color\": \"#4D5663\"}}, \"paper_bgcolor\": \"#F5F6F9\", \"plot_bgcolor\": \"#F5F6F9\", \"template\": {\"data\": {\"bar\": [{\"error_x\": {\"color\": \"#2a3f5f\"}, \"error_y\": {\"color\": \"#2a3f5f\"}, \"marker\": {\"line\": {\"color\": \"#E5ECF6\", \"width\": 0.5}}, \"type\": \"bar\"}], \"barpolar\": [{\"marker\": {\"line\": {\"color\": \"#E5ECF6\", \"width\": 0.5}}, \"type\": \"barpolar\"}], \"carpet\": [{\"aaxis\": {\"endlinecolor\": \"#2a3f5f\", \"gridcolor\": \"white\", \"linecolor\": \"white\", \"minorgridcolor\": \"white\", \"startlinecolor\": \"#2a3f5f\"}, \"baxis\": {\"endlinecolor\": \"#2a3f5f\", \"gridcolor\": \"white\", \"linecolor\": \"white\", \"minorgridcolor\": \"white\", \"startlinecolor\": \"#2a3f5f\"}, \"type\": \"carpet\"}], \"choropleth\": [{\"colorbar\": {\"outlinewidth\": 0, \"ticks\": \"\"}, \"type\": \"choropleth\"}], \"contour\": [{\"colorbar\": {\"outlinewidth\": 0, \"ticks\": \"\"}, \"colorscale\": [[0.0, \"#0d0887\"], [0.1111111111111111, \"#46039f\"], [0.2222222222222222, \"#7201a8\"], [0.3333333333333333, \"#9c179e\"], [0.4444444444444444, \"#bd3786\"], [0.5555555555555556, \"#d8576b\"], [0.6666666666666666, \"#ed7953\"], [0.7777777777777778, \"#fb9f3a\"], [0.8888888888888888, \"#fdca26\"], [1.0, \"#f0f921\"]], \"type\": \"contour\"}], \"contourcarpet\": [{\"colorbar\": {\"outlinewidth\": 0, \"ticks\": \"\"}, \"type\": \"contourcarpet\"}], \"heatmap\": [{\"colorbar\": {\"outlinewidth\": 0, \"ticks\": \"\"}, \"colorscale\": [[0.0, \"#0d0887\"], [0.1111111111111111, \"#46039f\"], [0.2222222222222222, \"#7201a8\"], [0.3333333333333333, \"#9c179e\"], [0.4444444444444444, \"#bd3786\"], [0.5555555555555556, \"#d8576b\"], [0.6666666666666666, \"#ed7953\"], [0.7777777777777778, \"#fb9f3a\"], [0.8888888888888888, \"#fdca26\"], [1.0, \"#f0f921\"]], \"type\": \"heatmap\"}], \"heatmapgl\": [{\"colorbar\": {\"outlinewidth\": 0, \"ticks\": \"\"}, \"colorscale\": [[0.0, \"#0d0887\"], [0.1111111111111111, \"#46039f\"], [0.2222222222222222, \"#7201a8\"], [0.3333333333333333, \"#9c179e\"], [0.4444444444444444, \"#bd3786\"], [0.5555555555555556, \"#d8576b\"], [0.6666666666666666, \"#ed7953\"], [0.7777777777777778, \"#fb9f3a\"], [0.8888888888888888, \"#fdca26\"], [1.0, \"#f0f921\"]], \"type\": \"heatmapgl\"}], \"histogram\": [{\"marker\": {\"colorbar\": {\"outlinewidth\": 0, \"ticks\": \"\"}}, \"type\": \"histogram\"}], \"histogram2d\": [{\"colorbar\": {\"outlinewidth\": 0, \"ticks\": \"\"}, \"colorscale\": [[0.0, \"#0d0887\"], [0.1111111111111111, \"#46039f\"], [0.2222222222222222, \"#7201a8\"], [0.3333333333333333, \"#9c179e\"], [0.4444444444444444, \"#bd3786\"], [0.5555555555555556, \"#d8576b\"], [0.6666666666666666, \"#ed7953\"], [0.7777777777777778, \"#fb9f3a\"], [0.8888888888888888, \"#fdca26\"], [1.0, \"#f0f921\"]], \"type\": \"histogram2d\"}], \"histogram2dcontour\": [{\"colorbar\": {\"outlinewidth\": 0, \"ticks\": \"\"}, \"colorscale\": [[0.0, \"#0d0887\"], [0.1111111111111111, \"#46039f\"], [0.2222222222222222, \"#7201a8\"], [0.3333333333333333, \"#9c179e\"], [0.4444444444444444, \"#bd3786\"], [0.5555555555555556, \"#d8576b\"], [0.6666666666666666, \"#ed7953\"], [0.7777777777777778, \"#fb9f3a\"], [0.8888888888888888, \"#fdca26\"], [1.0, \"#f0f921\"]], \"type\": \"histogram2dcontour\"}], \"mesh3d\": [{\"colorbar\": {\"outlinewidth\": 0, \"ticks\": \"\"}, \"type\": \"mesh3d\"}], \"parcoords\": [{\"line\": {\"colorbar\": {\"outlinewidth\": 0, \"ticks\": \"\"}}, \"type\": \"parcoords\"}], \"pie\": [{\"automargin\": true, \"type\": \"pie\"}], \"scatter\": [{\"marker\": {\"colorbar\": {\"outlinewidth\": 0, \"ticks\": \"\"}}, \"type\": \"scatter\"}], \"scatter3d\": [{\"line\": {\"colorbar\": {\"outlinewidth\": 0, \"ticks\": \"\"}}, \"marker\": {\"colorbar\": {\"outlinewidth\": 0, \"ticks\": \"\"}}, \"type\": \"scatter3d\"}], \"scattercarpet\": [{\"marker\": {\"colorbar\": {\"outlinewidth\": 0, \"ticks\": \"\"}}, \"type\": \"scattercarpet\"}], \"scattergeo\": [{\"marker\": {\"colorbar\": {\"outlinewidth\": 0, \"ticks\": \"\"}}, \"type\": \"scattergeo\"}], \"scattergl\": [{\"marker\": {\"colorbar\": {\"outlinewidth\": 0, \"ticks\": \"\"}}, \"type\": \"scattergl\"}], \"scattermapbox\": [{\"marker\": {\"colorbar\": {\"outlinewidth\": 0, \"ticks\": \"\"}}, \"type\": \"scattermapbox\"}], \"scatterpolar\": [{\"marker\": {\"colorbar\": {\"outlinewidth\": 0, \"ticks\": \"\"}}, \"type\": \"scatterpolar\"}], \"scatterpolargl\": [{\"marker\": {\"colorbar\": {\"outlinewidth\": 0, \"ticks\": \"\"}}, \"type\": \"scatterpolargl\"}], \"scatterternary\": [{\"marker\": {\"colorbar\": {\"outlinewidth\": 0, \"ticks\": \"\"}}, \"type\": \"scatterternary\"}], \"surface\": [{\"colorbar\": {\"outlinewidth\": 0, \"ticks\": \"\"}, \"colorscale\": [[0.0, \"#0d0887\"], [0.1111111111111111, \"#46039f\"], [0.2222222222222222, \"#7201a8\"], [0.3333333333333333, \"#9c179e\"], [0.4444444444444444, \"#bd3786\"], [0.5555555555555556, \"#d8576b\"], [0.6666666666666666, \"#ed7953\"], [0.7777777777777778, \"#fb9f3a\"], [0.8888888888888888, \"#fdca26\"], [1.0, \"#f0f921\"]], \"type\": \"surface\"}], \"table\": [{\"cells\": {\"fill\": {\"color\": \"#EBF0F8\"}, \"line\": {\"color\": \"white\"}}, \"header\": {\"fill\": {\"color\": \"#C8D4E3\"}, \"line\": {\"color\": \"white\"}}, \"type\": \"table\"}]}, \"layout\": {\"annotationdefaults\": {\"arrowcolor\": \"#2a3f5f\", \"arrowhead\": 0, \"arrowwidth\": 1}, \"coloraxis\": {\"colorbar\": {\"outlinewidth\": 0, \"ticks\": \"\"}}, \"colorscale\": {\"diverging\": [[0, \"#8e0152\"], [0.1, \"#c51b7d\"], [0.2, \"#de77ae\"], [0.3, \"#f1b6da\"], [0.4, \"#fde0ef\"], [0.5, \"#f7f7f7\"], [0.6, \"#e6f5d0\"], [0.7, \"#b8e186\"], [0.8, \"#7fbc41\"], [0.9, \"#4d9221\"], [1, \"#276419\"]], \"sequential\": [[0.0, \"#0d0887\"], [0.1111111111111111, \"#46039f\"], [0.2222222222222222, \"#7201a8\"], [0.3333333333333333, \"#9c179e\"], [0.4444444444444444, \"#bd3786\"], [0.5555555555555556, \"#d8576b\"], [0.6666666666666666, \"#ed7953\"], [0.7777777777777778, \"#fb9f3a\"], [0.8888888888888888, \"#fdca26\"], [1.0, \"#f0f921\"]], \"sequentialminus\": [[0.0, \"#0d0887\"], [0.1111111111111111, \"#46039f\"], [0.2222222222222222, \"#7201a8\"], [0.3333333333333333, \"#9c179e\"], [0.4444444444444444, \"#bd3786\"], [0.5555555555555556, \"#d8576b\"], [0.6666666666666666, \"#ed7953\"], [0.7777777777777778, \"#fb9f3a\"], [0.8888888888888888, \"#fdca26\"], [1.0, \"#f0f921\"]]}, \"colorway\": [\"#636efa\", \"#EF553B\", \"#00cc96\", \"#ab63fa\", \"#FFA15A\", \"#19d3f3\", \"#FF6692\", \"#B6E880\", \"#FF97FF\", \"#FECB52\"], \"font\": {\"color\": \"#2a3f5f\"}, \"geo\": {\"bgcolor\": \"white\", \"lakecolor\": \"white\", \"landcolor\": \"#E5ECF6\", \"showlakes\": true, \"showland\": true, \"subunitcolor\": \"white\"}, \"hoverlabel\": {\"align\": \"left\"}, \"hovermode\": \"closest\", \"mapbox\": {\"style\": \"light\"}, \"paper_bgcolor\": \"white\", \"plot_bgcolor\": \"#E5ECF6\", \"polar\": {\"angularaxis\": {\"gridcolor\": \"white\", \"linecolor\": \"white\", \"ticks\": \"\"}, \"bgcolor\": \"#E5ECF6\", \"radialaxis\": {\"gridcolor\": \"white\", \"linecolor\": \"white\", \"ticks\": \"\"}}, \"scene\": {\"xaxis\": {\"backgroundcolor\": \"#E5ECF6\", \"gridcolor\": \"white\", \"gridwidth\": 2, \"linecolor\": \"white\", \"showbackground\": true, \"ticks\": \"\", \"zerolinecolor\": \"white\"}, \"yaxis\": {\"backgroundcolor\": \"#E5ECF6\", \"gridcolor\": \"white\", \"gridwidth\": 2, \"linecolor\": \"white\", \"showbackground\": true, \"ticks\": \"\", \"zerolinecolor\": \"white\"}, \"zaxis\": {\"backgroundcolor\": \"#E5ECF6\", \"gridcolor\": \"white\", \"gridwidth\": 2, \"linecolor\": \"white\", \"showbackground\": true, \"ticks\": \"\", \"zerolinecolor\": \"white\"}}, \"shapedefaults\": {\"line\": {\"color\": \"#2a3f5f\"}}, \"ternary\": {\"aaxis\": {\"gridcolor\": \"white\", \"linecolor\": \"white\", \"ticks\": \"\"}, \"baxis\": {\"gridcolor\": \"white\", \"linecolor\": \"white\", \"ticks\": \"\"}, \"bgcolor\": \"#E5ECF6\", \"caxis\": {\"gridcolor\": \"white\", \"linecolor\": \"white\", \"ticks\": \"\"}}, \"title\": {\"x\": 0.05}, \"xaxis\": {\"automargin\": true, \"gridcolor\": \"white\", \"linecolor\": \"white\", \"ticks\": \"\", \"title\": {\"standoff\": 15}, \"zerolinecolor\": \"white\", \"zerolinewidth\": 2}, \"yaxis\": {\"automargin\": true, \"gridcolor\": \"white\", \"linecolor\": \"white\", \"ticks\": \"\", \"title\": {\"standoff\": 15}, \"zerolinecolor\": \"white\", \"zerolinewidth\": 2}}}, \"title\": {\"font\": {\"color\": \"#4D5663\"}}, \"xaxis\": {\"gridcolor\": \"#E1E5ED\", \"showgrid\": true, \"tickfont\": {\"color\": \"#4D5663\"}, \"title\": {\"font\": {\"color\": \"#4D5663\"}, \"text\": \"\"}, \"zerolinecolor\": \"#E1E5ED\"}, \"xaxis2\": {\"anchor\": \"y2\", \"gridcolor\": \"#E1E5ED\", \"showgrid\": true, \"showticklabels\": false, \"tickfont\": {\"color\": \"#4D5663\"}, \"title\": {\"font\": {\"color\": \"#4D5663\"}, \"text\": \"\"}, \"zerolinecolor\": \"#E1E5ED\"}, \"yaxis\": {\"domain\": [0.3, 1], \"gridcolor\": \"#E1E5ED\", \"showgrid\": true, \"tickfont\": {\"color\": \"#4D5663\"}, \"title\": {\"font\": {\"color\": \"#4D5663\"}, \"text\": \"\"}, \"zerolinecolor\": \"#E1E5ED\"}, \"yaxis2\": {\"domain\": [0, 0.25], \"gridcolor\": \"#E1E5ED\", \"showgrid\": true, \"tickfont\": {\"color\": \"#4D5663\"}, \"title\": {\"font\": {\"color\": \"#4D5663\"}, \"text\": \"Spread\"}, \"zerolinecolor\": \"#E1E5ED\"}},                        {\"showLink\": true, \"linkText\": \"Export to plot.ly\", \"plotlyServerURL\": \"https://plot.ly\", \"responsive\": true}                    ).then(function(){\n",
       "                            \n",
       "var gd = document.getElementById('ed8a0c3f-59e7-4bea-8d67-a79f71b327d9');\n",
       "var x = new MutationObserver(function (mutations, observer) {{\n",
       "        var display = window.getComputedStyle(gd).display;\n",
       "        if (!display || display === 'none') {{\n",
       "            console.log([gd, 'removed!']);\n",
       "            Plotly.purge(gd);\n",
       "            observer.disconnect();\n",
       "        }}\n",
       "}});\n",
       "\n",
       "// Listen for the removal of the full notebook cells\n",
       "var notebookContainer = gd.closest('#notebook-container');\n",
       "if (notebookContainer) {{\n",
       "    x.observe(notebookContainer, {childList: true});\n",
       "}}\n",
       "\n",
       "// Listen for the clearing of the current output cell\n",
       "var outputEl = gd.closest('.output');\n",
       "if (outputEl) {{\n",
       "    x.observe(outputEl, {childList: true});\n",
       "}}\n",
       "\n",
       "                        })                };                });            </script>        </div>"
      ]
     },
     "metadata": {},
     "output_type": "display_data"
    }
   ],
   "source": [
    "df[['A','B']].iplot(kind='spread')"
   ]
  },
  {
   "cell_type": "code",
   "execution_count": 35,
   "metadata": {},
   "outputs": [
    {
     "data": {
      "application/vnd.plotly.v1+json": {
       "config": {
        "linkText": "Export to plot.ly",
        "plotlyServerURL": "https://plot.ly",
        "showLink": true
       },
       "data": [
        {
         "marker": {
          "color": [
           "rgb(255, 153, 51)",
           "rgb(55, 128, 191)",
           "rgb(50, 171, 96)",
           "rgb(128, 0, 128)",
           "rgb(219, 64, 82)",
           "rgb(0, 128, 128)",
           "rgb(255, 255, 51)",
           "rgb(128, 128, 0)",
           "rgb(251, 128, 114)",
           "rgb(128, 177, 211)"
          ],
          "line": {
           "width": 1.3
          },
          "size": [
           47,
           104,
           44,
           87,
           61,
           76,
           57,
           79,
           63,
           45,
           78,
           73,
           63,
           94,
           41,
           24,
           63,
           12,
           62,
           63,
           48,
           84,
           59,
           36,
           80,
           46,
           72,
           76,
           72,
           66,
           47,
           72,
           39,
           42,
           48,
           18,
           88,
           51,
           85,
           27,
           91,
           33,
           61,
           43,
           68,
           112,
           77,
           80,
           68,
           43,
           45,
           33,
           74,
           40,
           58,
           29,
           61,
           24,
           77,
           54,
           29,
           52,
           39,
           85,
           75,
           71,
           65,
           73,
           15,
           46,
           57,
           51,
           87,
           68,
           80,
           42,
           21,
           53,
           91,
           76,
           62,
           24,
           71,
           73,
           36,
           63,
           84,
           46,
           93,
           56,
           42,
           65,
           87,
           64,
           73,
           56,
           51,
           54,
           27,
           45
          ],
          "symbol": "circle"
         },
         "mode": "markers",
         "text": "",
         "type": "scatter",
         "x": [
          0.5217537784129974,
          0.3309749226115375,
          -1.193876709659765,
          0.44343923119185524,
          -0.18931392017075624,
          0.173205767535824,
          0.696775738847488,
          -2.014191654816539,
          -0.3260508724875542,
          1.7018734448037018,
          -0.3578297915922514,
          0.795878744012465,
          -0.6221105875227282,
          0.1795158852025101,
          -0.5263018890301373,
          -1.6579984218119408,
          1.5734505787806656,
          0.09347039337484478,
          0.22695335836177413,
          1.74135293216879,
          0.8543457987432498,
          1.6668700893834498,
          0.21509981024768562,
          0.05147367659147075,
          0.595348020727714,
          1.3425773565713435,
          0.5056396605572587,
          0.7004964136717756,
          -0.11611198442315279,
          0.7084287321300998,
          -0.7109807917845864,
          0.243838163690604,
          -0.052769434282530246,
          0.65197584784953,
          0.15111623638211763,
          -0.45994422176644884,
          -1.6377125581004068,
          1.6353164567583425,
          -0.02110823435862904,
          0.8662866086795274,
          -0.7992112511748268,
          -1.2091767689531847,
          0.615433464445986,
          -0.6918898665437458,
          -0.22088314776555945,
          -0.36616282407008444,
          1.2391168115335351,
          -0.6051262003388084,
          -1.590191148875863,
          -0.9818480747620559,
          -0.4616387767955757,
          -0.7134294894563353,
          0.07223535070388272,
          0.057558323803864345,
          -0.43681040939791793,
          0.4689372999801223,
          1.502366134331344,
          0.7308934048604777,
          -1.8445348233596541,
          -0.023749777252913405,
          0.07027259389091652,
          0.795641143639049,
          0.14650863736209424,
          -0.289159142974127,
          -1.2748625970110754,
          -0.2774290754016461,
          0.8781245042054561,
          -0.8697236584897804,
          0.07199053776509524,
          -1.757042236586087,
          0.39716974253845905,
          0.1654662688475511,
          -0.33199426676448535,
          0.7744544397767887,
          1.1793804702730013,
          -0.9462622397360114,
          0.7557618474116468,
          -0.5317089300673019,
          0.04458895563719713,
          -0.3484351357629532,
          0.9637309052261983,
          0.5769189564311794,
          0.08063722123130981,
          0.5023295174559748,
          -0.7596996515964047,
          1.4161337913043834,
          1.9283827384775984,
          -1.6721607391450544,
          0.4553713821873685,
          -0.3971879291836942,
          0.17041840171947764,
          -1.1644496531098152,
          0.15295268302093223,
          -0.18904846215760945,
          0.2400629991205869,
          -0.010061126559507024,
          0.8658858707404796,
          1.056913755398305,
          0.862841462797941,
          0.47176134545444554
         ],
         "y": [
          -0.39261445799361727,
          0.22580367056171108,
          0.25483863748102475,
          0.9905938087654146,
          -0.3454489749148752,
          0.5862541601958202,
          0.04228997696170449,
          -1.5099138219153663,
          -1.4985134831759215,
          0.09468800407249342,
          -0.6529428511506372,
          0.11140377407013143,
          0.2986561002471471,
          -0.6958738060209194,
          1.6280048100235736,
          -1.4414780265052891,
          -1.0091162361804633,
          -0.4358346913952342,
          0.9644518693267125,
          1.339378202043062,
          -1.009276170450571,
          0.355374750343669,
          2.4613393443673854,
          1.1250694379563946,
          -0.3101218143757754,
          0.21931795568428836,
          -1.1034092566915703,
          0.34792501227665257,
          0.5640927383340527,
          2.005692956097845,
          -1.3763340171658087,
          -0.5516546832432645,
          -0.4322623433505339,
          -1.4069669300676437,
          0.9925196666613212,
          -0.3174599626785784,
          -1.402277482694772,
          1.5941004088534267,
          -0.20902468508344935,
          1.7723686071566995,
          1.0255780072645866,
          0.3611684560390772,
          -0.9876425439197813,
          2.0634227790927873,
          0.5808836005391271,
          2.085501418876228,
          -0.1669861926278503,
          2.4188376530846787,
          -1.7854249534372195,
          -2.0250332266149442,
          -0.54463884665561,
          0.990855608274131,
          -1.4367068235569664,
          -0.4429595086434903,
          0.2807870731341278,
          -1.2933742820918692,
          -0.1556993337542278,
          -1.1504599947642138,
          0.6624811468344771,
          -0.9756259309342289,
          0.8167384140483486,
          -0.5345985813863435,
          -0.27727702113759906,
          0.19310545663846124,
          -1.532902312679032,
          -0.028100975887289895,
          -1.9959810670789664,
          0.2243920084584965,
          -0.6600578441118969,
          1.3352710743039025,
          -1.398424039696386,
          0.8462771387518341,
          0.11236464635976393,
          -0.15515819132980102,
          1.3302994525696428,
          -0.5868131798941717,
          1.3234568595593719,
          0.8499332074462286,
          -0.08224166207067568,
          0.6328294865034617,
          0.06679708452559546,
          -0.23350689690678816,
          -2.7527613522856362,
          0.9548230886533037,
          -0.5190830632490822,
          -0.42926880006980395,
          0.236960866081998,
          -1.9304304156678027,
          0.5350138717457857,
          -0.6962587707076815,
          -0.1957102445287146,
          -1.3072663184338325,
          -0.10554726253657928,
          0.20192027205191437,
          -0.3790196316097984,
          -0.47639675723883623,
          -0.2596209420386043,
          1.4129214345638288,
          1.215471680596547,
          -1.0518754451458192
         ]
        }
       ],
       "layout": {
        "legend": {
         "bgcolor": "#F5F6F9",
         "font": {
          "color": "#4D5663"
         }
        },
        "paper_bgcolor": "#F5F6F9",
        "plot_bgcolor": "#F5F6F9",
        "template": {
         "data": {
          "bar": [
           {
            "error_x": {
             "color": "#2a3f5f"
            },
            "error_y": {
             "color": "#2a3f5f"
            },
            "marker": {
             "line": {
              "color": "#E5ECF6",
              "width": 0.5
             }
            },
            "type": "bar"
           }
          ],
          "barpolar": [
           {
            "marker": {
             "line": {
              "color": "#E5ECF6",
              "width": 0.5
             }
            },
            "type": "barpolar"
           }
          ],
          "carpet": [
           {
            "aaxis": {
             "endlinecolor": "#2a3f5f",
             "gridcolor": "white",
             "linecolor": "white",
             "minorgridcolor": "white",
             "startlinecolor": "#2a3f5f"
            },
            "baxis": {
             "endlinecolor": "#2a3f5f",
             "gridcolor": "white",
             "linecolor": "white",
             "minorgridcolor": "white",
             "startlinecolor": "#2a3f5f"
            },
            "type": "carpet"
           }
          ],
          "choropleth": [
           {
            "colorbar": {
             "outlinewidth": 0,
             "ticks": ""
            },
            "type": "choropleth"
           }
          ],
          "contour": [
           {
            "colorbar": {
             "outlinewidth": 0,
             "ticks": ""
            },
            "colorscale": [
             [
              0,
              "#0d0887"
             ],
             [
              0.1111111111111111,
              "#46039f"
             ],
             [
              0.2222222222222222,
              "#7201a8"
             ],
             [
              0.3333333333333333,
              "#9c179e"
             ],
             [
              0.4444444444444444,
              "#bd3786"
             ],
             [
              0.5555555555555556,
              "#d8576b"
             ],
             [
              0.6666666666666666,
              "#ed7953"
             ],
             [
              0.7777777777777778,
              "#fb9f3a"
             ],
             [
              0.8888888888888888,
              "#fdca26"
             ],
             [
              1,
              "#f0f921"
             ]
            ],
            "type": "contour"
           }
          ],
          "contourcarpet": [
           {
            "colorbar": {
             "outlinewidth": 0,
             "ticks": ""
            },
            "type": "contourcarpet"
           }
          ],
          "heatmap": [
           {
            "colorbar": {
             "outlinewidth": 0,
             "ticks": ""
            },
            "colorscale": [
             [
              0,
              "#0d0887"
             ],
             [
              0.1111111111111111,
              "#46039f"
             ],
             [
              0.2222222222222222,
              "#7201a8"
             ],
             [
              0.3333333333333333,
              "#9c179e"
             ],
             [
              0.4444444444444444,
              "#bd3786"
             ],
             [
              0.5555555555555556,
              "#d8576b"
             ],
             [
              0.6666666666666666,
              "#ed7953"
             ],
             [
              0.7777777777777778,
              "#fb9f3a"
             ],
             [
              0.8888888888888888,
              "#fdca26"
             ],
             [
              1,
              "#f0f921"
             ]
            ],
            "type": "heatmap"
           }
          ],
          "heatmapgl": [
           {
            "colorbar": {
             "outlinewidth": 0,
             "ticks": ""
            },
            "colorscale": [
             [
              0,
              "#0d0887"
             ],
             [
              0.1111111111111111,
              "#46039f"
             ],
             [
              0.2222222222222222,
              "#7201a8"
             ],
             [
              0.3333333333333333,
              "#9c179e"
             ],
             [
              0.4444444444444444,
              "#bd3786"
             ],
             [
              0.5555555555555556,
              "#d8576b"
             ],
             [
              0.6666666666666666,
              "#ed7953"
             ],
             [
              0.7777777777777778,
              "#fb9f3a"
             ],
             [
              0.8888888888888888,
              "#fdca26"
             ],
             [
              1,
              "#f0f921"
             ]
            ],
            "type": "heatmapgl"
           }
          ],
          "histogram": [
           {
            "marker": {
             "colorbar": {
              "outlinewidth": 0,
              "ticks": ""
             }
            },
            "type": "histogram"
           }
          ],
          "histogram2d": [
           {
            "colorbar": {
             "outlinewidth": 0,
             "ticks": ""
            },
            "colorscale": [
             [
              0,
              "#0d0887"
             ],
             [
              0.1111111111111111,
              "#46039f"
             ],
             [
              0.2222222222222222,
              "#7201a8"
             ],
             [
              0.3333333333333333,
              "#9c179e"
             ],
             [
              0.4444444444444444,
              "#bd3786"
             ],
             [
              0.5555555555555556,
              "#d8576b"
             ],
             [
              0.6666666666666666,
              "#ed7953"
             ],
             [
              0.7777777777777778,
              "#fb9f3a"
             ],
             [
              0.8888888888888888,
              "#fdca26"
             ],
             [
              1,
              "#f0f921"
             ]
            ],
            "type": "histogram2d"
           }
          ],
          "histogram2dcontour": [
           {
            "colorbar": {
             "outlinewidth": 0,
             "ticks": ""
            },
            "colorscale": [
             [
              0,
              "#0d0887"
             ],
             [
              0.1111111111111111,
              "#46039f"
             ],
             [
              0.2222222222222222,
              "#7201a8"
             ],
             [
              0.3333333333333333,
              "#9c179e"
             ],
             [
              0.4444444444444444,
              "#bd3786"
             ],
             [
              0.5555555555555556,
              "#d8576b"
             ],
             [
              0.6666666666666666,
              "#ed7953"
             ],
             [
              0.7777777777777778,
              "#fb9f3a"
             ],
             [
              0.8888888888888888,
              "#fdca26"
             ],
             [
              1,
              "#f0f921"
             ]
            ],
            "type": "histogram2dcontour"
           }
          ],
          "mesh3d": [
           {
            "colorbar": {
             "outlinewidth": 0,
             "ticks": ""
            },
            "type": "mesh3d"
           }
          ],
          "parcoords": [
           {
            "line": {
             "colorbar": {
              "outlinewidth": 0,
              "ticks": ""
             }
            },
            "type": "parcoords"
           }
          ],
          "pie": [
           {
            "automargin": true,
            "type": "pie"
           }
          ],
          "scatter": [
           {
            "marker": {
             "colorbar": {
              "outlinewidth": 0,
              "ticks": ""
             }
            },
            "type": "scatter"
           }
          ],
          "scatter3d": [
           {
            "line": {
             "colorbar": {
              "outlinewidth": 0,
              "ticks": ""
             }
            },
            "marker": {
             "colorbar": {
              "outlinewidth": 0,
              "ticks": ""
             }
            },
            "type": "scatter3d"
           }
          ],
          "scattercarpet": [
           {
            "marker": {
             "colorbar": {
              "outlinewidth": 0,
              "ticks": ""
             }
            },
            "type": "scattercarpet"
           }
          ],
          "scattergeo": [
           {
            "marker": {
             "colorbar": {
              "outlinewidth": 0,
              "ticks": ""
             }
            },
            "type": "scattergeo"
           }
          ],
          "scattergl": [
           {
            "marker": {
             "colorbar": {
              "outlinewidth": 0,
              "ticks": ""
             }
            },
            "type": "scattergl"
           }
          ],
          "scattermapbox": [
           {
            "marker": {
             "colorbar": {
              "outlinewidth": 0,
              "ticks": ""
             }
            },
            "type": "scattermapbox"
           }
          ],
          "scatterpolar": [
           {
            "marker": {
             "colorbar": {
              "outlinewidth": 0,
              "ticks": ""
             }
            },
            "type": "scatterpolar"
           }
          ],
          "scatterpolargl": [
           {
            "marker": {
             "colorbar": {
              "outlinewidth": 0,
              "ticks": ""
             }
            },
            "type": "scatterpolargl"
           }
          ],
          "scatterternary": [
           {
            "marker": {
             "colorbar": {
              "outlinewidth": 0,
              "ticks": ""
             }
            },
            "type": "scatterternary"
           }
          ],
          "surface": [
           {
            "colorbar": {
             "outlinewidth": 0,
             "ticks": ""
            },
            "colorscale": [
             [
              0,
              "#0d0887"
             ],
             [
              0.1111111111111111,
              "#46039f"
             ],
             [
              0.2222222222222222,
              "#7201a8"
             ],
             [
              0.3333333333333333,
              "#9c179e"
             ],
             [
              0.4444444444444444,
              "#bd3786"
             ],
             [
              0.5555555555555556,
              "#d8576b"
             ],
             [
              0.6666666666666666,
              "#ed7953"
             ],
             [
              0.7777777777777778,
              "#fb9f3a"
             ],
             [
              0.8888888888888888,
              "#fdca26"
             ],
             [
              1,
              "#f0f921"
             ]
            ],
            "type": "surface"
           }
          ],
          "table": [
           {
            "cells": {
             "fill": {
              "color": "#EBF0F8"
             },
             "line": {
              "color": "white"
             }
            },
            "header": {
             "fill": {
              "color": "#C8D4E3"
             },
             "line": {
              "color": "white"
             }
            },
            "type": "table"
           }
          ]
         },
         "layout": {
          "annotationdefaults": {
           "arrowcolor": "#2a3f5f",
           "arrowhead": 0,
           "arrowwidth": 1
          },
          "coloraxis": {
           "colorbar": {
            "outlinewidth": 0,
            "ticks": ""
           }
          },
          "colorscale": {
           "diverging": [
            [
             0,
             "#8e0152"
            ],
            [
             0.1,
             "#c51b7d"
            ],
            [
             0.2,
             "#de77ae"
            ],
            [
             0.3,
             "#f1b6da"
            ],
            [
             0.4,
             "#fde0ef"
            ],
            [
             0.5,
             "#f7f7f7"
            ],
            [
             0.6,
             "#e6f5d0"
            ],
            [
             0.7,
             "#b8e186"
            ],
            [
             0.8,
             "#7fbc41"
            ],
            [
             0.9,
             "#4d9221"
            ],
            [
             1,
             "#276419"
            ]
           ],
           "sequential": [
            [
             0,
             "#0d0887"
            ],
            [
             0.1111111111111111,
             "#46039f"
            ],
            [
             0.2222222222222222,
             "#7201a8"
            ],
            [
             0.3333333333333333,
             "#9c179e"
            ],
            [
             0.4444444444444444,
             "#bd3786"
            ],
            [
             0.5555555555555556,
             "#d8576b"
            ],
            [
             0.6666666666666666,
             "#ed7953"
            ],
            [
             0.7777777777777778,
             "#fb9f3a"
            ],
            [
             0.8888888888888888,
             "#fdca26"
            ],
            [
             1,
             "#f0f921"
            ]
           ],
           "sequentialminus": [
            [
             0,
             "#0d0887"
            ],
            [
             0.1111111111111111,
             "#46039f"
            ],
            [
             0.2222222222222222,
             "#7201a8"
            ],
            [
             0.3333333333333333,
             "#9c179e"
            ],
            [
             0.4444444444444444,
             "#bd3786"
            ],
            [
             0.5555555555555556,
             "#d8576b"
            ],
            [
             0.6666666666666666,
             "#ed7953"
            ],
            [
             0.7777777777777778,
             "#fb9f3a"
            ],
            [
             0.8888888888888888,
             "#fdca26"
            ],
            [
             1,
             "#f0f921"
            ]
           ]
          },
          "colorway": [
           "#636efa",
           "#EF553B",
           "#00cc96",
           "#ab63fa",
           "#FFA15A",
           "#19d3f3",
           "#FF6692",
           "#B6E880",
           "#FF97FF",
           "#FECB52"
          ],
          "font": {
           "color": "#2a3f5f"
          },
          "geo": {
           "bgcolor": "white",
           "lakecolor": "white",
           "landcolor": "#E5ECF6",
           "showlakes": true,
           "showland": true,
           "subunitcolor": "white"
          },
          "hoverlabel": {
           "align": "left"
          },
          "hovermode": "closest",
          "mapbox": {
           "style": "light"
          },
          "paper_bgcolor": "white",
          "plot_bgcolor": "#E5ECF6",
          "polar": {
           "angularaxis": {
            "gridcolor": "white",
            "linecolor": "white",
            "ticks": ""
           },
           "bgcolor": "#E5ECF6",
           "radialaxis": {
            "gridcolor": "white",
            "linecolor": "white",
            "ticks": ""
           }
          },
          "scene": {
           "xaxis": {
            "backgroundcolor": "#E5ECF6",
            "gridcolor": "white",
            "gridwidth": 2,
            "linecolor": "white",
            "showbackground": true,
            "ticks": "",
            "zerolinecolor": "white"
           },
           "yaxis": {
            "backgroundcolor": "#E5ECF6",
            "gridcolor": "white",
            "gridwidth": 2,
            "linecolor": "white",
            "showbackground": true,
            "ticks": "",
            "zerolinecolor": "white"
           },
           "zaxis": {
            "backgroundcolor": "#E5ECF6",
            "gridcolor": "white",
            "gridwidth": 2,
            "linecolor": "white",
            "showbackground": true,
            "ticks": "",
            "zerolinecolor": "white"
           }
          },
          "shapedefaults": {
           "line": {
            "color": "#2a3f5f"
           }
          },
          "ternary": {
           "aaxis": {
            "gridcolor": "white",
            "linecolor": "white",
            "ticks": ""
           },
           "baxis": {
            "gridcolor": "white",
            "linecolor": "white",
            "ticks": ""
           },
           "bgcolor": "#E5ECF6",
           "caxis": {
            "gridcolor": "white",
            "linecolor": "white",
            "ticks": ""
           }
          },
          "title": {
           "x": 0.05
          },
          "xaxis": {
           "automargin": true,
           "gridcolor": "white",
           "linecolor": "white",
           "ticks": "",
           "title": {
            "standoff": 15
           },
           "zerolinecolor": "white",
           "zerolinewidth": 2
          },
          "yaxis": {
           "automargin": true,
           "gridcolor": "white",
           "linecolor": "white",
           "ticks": "",
           "title": {
            "standoff": 15
           },
           "zerolinecolor": "white",
           "zerolinewidth": 2
          }
         }
        },
        "title": {
         "font": {
          "color": "#4D5663"
         }
        },
        "xaxis": {
         "gridcolor": "#E1E5ED",
         "showgrid": true,
         "tickfont": {
          "color": "#4D5663"
         },
         "title": {
          "font": {
           "color": "#4D5663"
          },
          "text": ""
         },
         "zerolinecolor": "#E1E5ED"
        },
        "yaxis": {
         "gridcolor": "#E1E5ED",
         "showgrid": true,
         "tickfont": {
          "color": "#4D5663"
         },
         "title": {
          "font": {
           "color": "#4D5663"
          },
          "text": ""
         },
         "zerolinecolor": "#E1E5ED"
        }
       }
      },
      "text/html": [
       "<div>                            <div id=\"a622d882-da59-4826-9911-26eba5e68379\" class=\"plotly-graph-div\" style=\"height:525px; width:100%;\"></div>            <script type=\"text/javascript\">                require([\"plotly\"], function(Plotly) {                    window.PLOTLYENV=window.PLOTLYENV || {};\n",
       "                    window.PLOTLYENV.BASE_URL='https://plot.ly';                                    if (document.getElementById(\"a622d882-da59-4826-9911-26eba5e68379\")) {                    Plotly.newPlot(                        \"a622d882-da59-4826-9911-26eba5e68379\",                        [{\"marker\": {\"color\": [\"rgb(255, 153, 51)\", \"rgb(55, 128, 191)\", \"rgb(50, 171, 96)\", \"rgb(128, 0, 128)\", \"rgb(219, 64, 82)\", \"rgb(0, 128, 128)\", \"rgb(255, 255, 51)\", \"rgb(128, 128, 0)\", \"rgb(251, 128, 114)\", \"rgb(128, 177, 211)\"], \"line\": {\"width\": 1.3}, \"size\": [47, 104, 44, 87, 61, 76, 57, 79, 63, 45, 78, 73, 63, 94, 41, 24, 63, 12, 62, 63, 48, 84, 59, 36, 80, 46, 72, 76, 72, 66, 47, 72, 39, 42, 48, 18, 88, 51, 85, 27, 91, 33, 61, 43, 68, 112, 77, 80, 68, 43, 45, 33, 74, 40, 58, 29, 61, 24, 77, 54, 29, 52, 39, 85, 75, 71, 65, 73, 15, 46, 57, 51, 87, 68, 80, 42, 21, 53, 91, 76, 62, 24, 71, 73, 36, 63, 84, 46, 93, 56, 42, 65, 87, 64, 73, 56, 51, 54, 27, 45], \"symbol\": \"circle\"}, \"mode\": \"markers\", \"text\": \"\", \"type\": \"scatter\", \"x\": [0.5217537784129974, 0.3309749226115375, -1.193876709659765, 0.44343923119185524, -0.18931392017075624, 0.173205767535824, 0.696775738847488, -2.014191654816539, -0.3260508724875542, 1.7018734448037018, -0.3578297915922514, 0.795878744012465, -0.6221105875227282, 0.1795158852025101, -0.5263018890301373, -1.6579984218119408, 1.5734505787806656, 0.09347039337484478, 0.22695335836177413, 1.74135293216879, 0.8543457987432498, 1.6668700893834498, 0.21509981024768562, 0.05147367659147075, 0.595348020727714, 1.3425773565713435, 0.5056396605572587, 0.7004964136717756, -0.11611198442315279, 0.7084287321300998, -0.7109807917845864, 0.243838163690604, -0.052769434282530246, 0.65197584784953, 0.15111623638211763, -0.45994422176644884, -1.6377125581004068, 1.6353164567583425, -0.02110823435862904, 0.8662866086795274, -0.7992112511748268, -1.2091767689531847, 0.615433464445986, -0.6918898665437458, -0.22088314776555945, -0.36616282407008444, 1.2391168115335351, -0.6051262003388084, -1.590191148875863, -0.9818480747620559, -0.4616387767955757, -0.7134294894563353, 0.07223535070388272, 0.057558323803864345, -0.43681040939791793, 0.4689372999801223, 1.502366134331344, 0.7308934048604777, -1.8445348233596541, -0.023749777252913405, 0.07027259389091652, 0.795641143639049, 0.14650863736209424, -0.289159142974127, -1.2748625970110754, -0.2774290754016461, 0.8781245042054561, -0.8697236584897804, 0.07199053776509524, -1.757042236586087, 0.39716974253845905, 0.1654662688475511, -0.33199426676448535, 0.7744544397767887, 1.1793804702730013, -0.9462622397360114, 0.7557618474116468, -0.5317089300673019, 0.04458895563719713, -0.3484351357629532, 0.9637309052261983, 0.5769189564311794, 0.08063722123130981, 0.5023295174559748, -0.7596996515964047, 1.4161337913043834, 1.9283827384775984, -1.6721607391450544, 0.4553713821873685, -0.3971879291836942, 0.17041840171947764, -1.1644496531098152, 0.15295268302093223, -0.18904846215760945, 0.2400629991205869, -0.010061126559507024, 0.8658858707404796, 1.056913755398305, 0.862841462797941, 0.47176134545444554], \"y\": [-0.39261445799361727, 0.22580367056171108, 0.25483863748102475, 0.9905938087654146, -0.3454489749148752, 0.5862541601958202, 0.04228997696170449, -1.5099138219153663, -1.4985134831759215, 0.09468800407249342, -0.6529428511506372, 0.11140377407013143, 0.2986561002471471, -0.6958738060209194, 1.6280048100235736, -1.4414780265052891, -1.0091162361804633, -0.4358346913952342, 0.9644518693267125, 1.339378202043062, -1.009276170450571, 0.355374750343669, 2.4613393443673854, 1.1250694379563946, -0.3101218143757754, 0.21931795568428836, -1.1034092566915703, 0.34792501227665257, 0.5640927383340527, 2.005692956097845, -1.3763340171658087, -0.5516546832432645, -0.4322623433505339, -1.4069669300676437, 0.9925196666613212, -0.3174599626785784, -1.402277482694772, 1.5941004088534267, -0.20902468508344935, 1.7723686071566995, 1.0255780072645866, 0.3611684560390772, -0.9876425439197813, 2.0634227790927873, 0.5808836005391271, 2.085501418876228, -0.1669861926278503, 2.4188376530846787, -1.7854249534372195, -2.0250332266149442, -0.54463884665561, 0.990855608274131, -1.4367068235569664, -0.4429595086434903, 0.2807870731341278, -1.2933742820918692, -0.1556993337542278, -1.1504599947642138, 0.6624811468344771, -0.9756259309342289, 0.8167384140483486, -0.5345985813863435, -0.27727702113759906, 0.19310545663846124, -1.532902312679032, -0.028100975887289895, -1.9959810670789664, 0.2243920084584965, -0.6600578441118969, 1.3352710743039025, -1.398424039696386, 0.8462771387518341, 0.11236464635976393, -0.15515819132980102, 1.3302994525696428, -0.5868131798941717, 1.3234568595593719, 0.8499332074462286, -0.08224166207067568, 0.6328294865034617, 0.06679708452559546, -0.23350689690678816, -2.7527613522856362, 0.9548230886533037, -0.5190830632490822, -0.42926880006980395, 0.236960866081998, -1.9304304156678027, 0.5350138717457857, -0.6962587707076815, -0.1957102445287146, -1.3072663184338325, -0.10554726253657928, 0.20192027205191437, -0.3790196316097984, -0.47639675723883623, -0.2596209420386043, 1.4129214345638288, 1.215471680596547, -1.0518754451458192]}],                        {\"legend\": {\"bgcolor\": \"#F5F6F9\", \"font\": {\"color\": \"#4D5663\"}}, \"paper_bgcolor\": \"#F5F6F9\", \"plot_bgcolor\": \"#F5F6F9\", \"template\": {\"data\": {\"bar\": [{\"error_x\": {\"color\": \"#2a3f5f\"}, \"error_y\": {\"color\": \"#2a3f5f\"}, \"marker\": {\"line\": {\"color\": \"#E5ECF6\", \"width\": 0.5}}, \"type\": \"bar\"}], \"barpolar\": [{\"marker\": {\"line\": {\"color\": \"#E5ECF6\", \"width\": 0.5}}, \"type\": \"barpolar\"}], \"carpet\": [{\"aaxis\": {\"endlinecolor\": \"#2a3f5f\", \"gridcolor\": \"white\", \"linecolor\": \"white\", \"minorgridcolor\": \"white\", \"startlinecolor\": \"#2a3f5f\"}, \"baxis\": {\"endlinecolor\": \"#2a3f5f\", \"gridcolor\": \"white\", \"linecolor\": \"white\", \"minorgridcolor\": \"white\", \"startlinecolor\": \"#2a3f5f\"}, \"type\": \"carpet\"}], \"choropleth\": [{\"colorbar\": {\"outlinewidth\": 0, \"ticks\": \"\"}, \"type\": \"choropleth\"}], \"contour\": [{\"colorbar\": {\"outlinewidth\": 0, \"ticks\": \"\"}, \"colorscale\": [[0.0, \"#0d0887\"], [0.1111111111111111, \"#46039f\"], [0.2222222222222222, \"#7201a8\"], [0.3333333333333333, \"#9c179e\"], [0.4444444444444444, \"#bd3786\"], [0.5555555555555556, \"#d8576b\"], [0.6666666666666666, \"#ed7953\"], [0.7777777777777778, \"#fb9f3a\"], [0.8888888888888888, \"#fdca26\"], [1.0, \"#f0f921\"]], \"type\": \"contour\"}], \"contourcarpet\": [{\"colorbar\": {\"outlinewidth\": 0, \"ticks\": \"\"}, \"type\": \"contourcarpet\"}], \"heatmap\": [{\"colorbar\": {\"outlinewidth\": 0, \"ticks\": \"\"}, \"colorscale\": [[0.0, \"#0d0887\"], [0.1111111111111111, \"#46039f\"], [0.2222222222222222, \"#7201a8\"], [0.3333333333333333, \"#9c179e\"], [0.4444444444444444, \"#bd3786\"], [0.5555555555555556, \"#d8576b\"], [0.6666666666666666, \"#ed7953\"], [0.7777777777777778, \"#fb9f3a\"], [0.8888888888888888, \"#fdca26\"], [1.0, \"#f0f921\"]], \"type\": \"heatmap\"}], \"heatmapgl\": [{\"colorbar\": {\"outlinewidth\": 0, \"ticks\": \"\"}, \"colorscale\": [[0.0, \"#0d0887\"], [0.1111111111111111, \"#46039f\"], [0.2222222222222222, \"#7201a8\"], [0.3333333333333333, \"#9c179e\"], [0.4444444444444444, \"#bd3786\"], [0.5555555555555556, \"#d8576b\"], [0.6666666666666666, \"#ed7953\"], [0.7777777777777778, \"#fb9f3a\"], [0.8888888888888888, \"#fdca26\"], [1.0, \"#f0f921\"]], \"type\": \"heatmapgl\"}], \"histogram\": [{\"marker\": {\"colorbar\": {\"outlinewidth\": 0, \"ticks\": \"\"}}, \"type\": \"histogram\"}], \"histogram2d\": [{\"colorbar\": {\"outlinewidth\": 0, \"ticks\": \"\"}, \"colorscale\": [[0.0, \"#0d0887\"], [0.1111111111111111, \"#46039f\"], [0.2222222222222222, \"#7201a8\"], [0.3333333333333333, \"#9c179e\"], [0.4444444444444444, \"#bd3786\"], [0.5555555555555556, \"#d8576b\"], [0.6666666666666666, \"#ed7953\"], [0.7777777777777778, \"#fb9f3a\"], [0.8888888888888888, \"#fdca26\"], [1.0, \"#f0f921\"]], \"type\": \"histogram2d\"}], \"histogram2dcontour\": [{\"colorbar\": {\"outlinewidth\": 0, \"ticks\": \"\"}, \"colorscale\": [[0.0, \"#0d0887\"], [0.1111111111111111, \"#46039f\"], [0.2222222222222222, \"#7201a8\"], [0.3333333333333333, \"#9c179e\"], [0.4444444444444444, \"#bd3786\"], [0.5555555555555556, \"#d8576b\"], [0.6666666666666666, \"#ed7953\"], [0.7777777777777778, \"#fb9f3a\"], [0.8888888888888888, \"#fdca26\"], [1.0, \"#f0f921\"]], \"type\": \"histogram2dcontour\"}], \"mesh3d\": [{\"colorbar\": {\"outlinewidth\": 0, \"ticks\": \"\"}, \"type\": \"mesh3d\"}], \"parcoords\": [{\"line\": {\"colorbar\": {\"outlinewidth\": 0, \"ticks\": \"\"}}, \"type\": \"parcoords\"}], \"pie\": [{\"automargin\": true, \"type\": \"pie\"}], \"scatter\": [{\"marker\": {\"colorbar\": {\"outlinewidth\": 0, \"ticks\": \"\"}}, \"type\": \"scatter\"}], \"scatter3d\": [{\"line\": {\"colorbar\": {\"outlinewidth\": 0, \"ticks\": \"\"}}, \"marker\": {\"colorbar\": {\"outlinewidth\": 0, \"ticks\": \"\"}}, \"type\": \"scatter3d\"}], \"scattercarpet\": [{\"marker\": {\"colorbar\": {\"outlinewidth\": 0, \"ticks\": \"\"}}, \"type\": \"scattercarpet\"}], \"scattergeo\": [{\"marker\": {\"colorbar\": {\"outlinewidth\": 0, \"ticks\": \"\"}}, \"type\": \"scattergeo\"}], \"scattergl\": [{\"marker\": {\"colorbar\": {\"outlinewidth\": 0, \"ticks\": \"\"}}, \"type\": \"scattergl\"}], \"scattermapbox\": [{\"marker\": {\"colorbar\": {\"outlinewidth\": 0, \"ticks\": \"\"}}, \"type\": \"scattermapbox\"}], \"scatterpolar\": [{\"marker\": {\"colorbar\": {\"outlinewidth\": 0, \"ticks\": \"\"}}, \"type\": \"scatterpolar\"}], \"scatterpolargl\": [{\"marker\": {\"colorbar\": {\"outlinewidth\": 0, \"ticks\": \"\"}}, \"type\": \"scatterpolargl\"}], \"scatterternary\": [{\"marker\": {\"colorbar\": {\"outlinewidth\": 0, \"ticks\": \"\"}}, \"type\": \"scatterternary\"}], \"surface\": [{\"colorbar\": {\"outlinewidth\": 0, \"ticks\": \"\"}, \"colorscale\": [[0.0, \"#0d0887\"], [0.1111111111111111, \"#46039f\"], [0.2222222222222222, \"#7201a8\"], [0.3333333333333333, \"#9c179e\"], [0.4444444444444444, \"#bd3786\"], [0.5555555555555556, \"#d8576b\"], [0.6666666666666666, \"#ed7953\"], [0.7777777777777778, \"#fb9f3a\"], [0.8888888888888888, \"#fdca26\"], [1.0, \"#f0f921\"]], \"type\": \"surface\"}], \"table\": [{\"cells\": {\"fill\": {\"color\": \"#EBF0F8\"}, \"line\": {\"color\": \"white\"}}, \"header\": {\"fill\": {\"color\": \"#C8D4E3\"}, \"line\": {\"color\": \"white\"}}, \"type\": \"table\"}]}, \"layout\": {\"annotationdefaults\": {\"arrowcolor\": \"#2a3f5f\", \"arrowhead\": 0, \"arrowwidth\": 1}, \"coloraxis\": {\"colorbar\": {\"outlinewidth\": 0, \"ticks\": \"\"}}, \"colorscale\": {\"diverging\": [[0, \"#8e0152\"], [0.1, \"#c51b7d\"], [0.2, \"#de77ae\"], [0.3, \"#f1b6da\"], [0.4, \"#fde0ef\"], [0.5, \"#f7f7f7\"], [0.6, \"#e6f5d0\"], [0.7, \"#b8e186\"], [0.8, \"#7fbc41\"], [0.9, \"#4d9221\"], [1, \"#276419\"]], \"sequential\": [[0.0, \"#0d0887\"], [0.1111111111111111, \"#46039f\"], [0.2222222222222222, \"#7201a8\"], [0.3333333333333333, \"#9c179e\"], [0.4444444444444444, \"#bd3786\"], [0.5555555555555556, \"#d8576b\"], [0.6666666666666666, \"#ed7953\"], [0.7777777777777778, \"#fb9f3a\"], [0.8888888888888888, \"#fdca26\"], [1.0, \"#f0f921\"]], \"sequentialminus\": [[0.0, \"#0d0887\"], [0.1111111111111111, \"#46039f\"], [0.2222222222222222, \"#7201a8\"], [0.3333333333333333, \"#9c179e\"], [0.4444444444444444, \"#bd3786\"], [0.5555555555555556, \"#d8576b\"], [0.6666666666666666, \"#ed7953\"], [0.7777777777777778, \"#fb9f3a\"], [0.8888888888888888, \"#fdca26\"], [1.0, \"#f0f921\"]]}, \"colorway\": [\"#636efa\", \"#EF553B\", \"#00cc96\", \"#ab63fa\", \"#FFA15A\", \"#19d3f3\", \"#FF6692\", \"#B6E880\", \"#FF97FF\", \"#FECB52\"], \"font\": {\"color\": \"#2a3f5f\"}, \"geo\": {\"bgcolor\": \"white\", \"lakecolor\": \"white\", \"landcolor\": \"#E5ECF6\", \"showlakes\": true, \"showland\": true, \"subunitcolor\": \"white\"}, \"hoverlabel\": {\"align\": \"left\"}, \"hovermode\": \"closest\", \"mapbox\": {\"style\": \"light\"}, \"paper_bgcolor\": \"white\", \"plot_bgcolor\": \"#E5ECF6\", \"polar\": {\"angularaxis\": {\"gridcolor\": \"white\", \"linecolor\": \"white\", \"ticks\": \"\"}, \"bgcolor\": \"#E5ECF6\", \"radialaxis\": {\"gridcolor\": \"white\", \"linecolor\": \"white\", \"ticks\": \"\"}}, \"scene\": {\"xaxis\": {\"backgroundcolor\": \"#E5ECF6\", \"gridcolor\": \"white\", \"gridwidth\": 2, \"linecolor\": \"white\", \"showbackground\": true, \"ticks\": \"\", \"zerolinecolor\": \"white\"}, \"yaxis\": {\"backgroundcolor\": \"#E5ECF6\", \"gridcolor\": \"white\", \"gridwidth\": 2, \"linecolor\": \"white\", \"showbackground\": true, \"ticks\": \"\", \"zerolinecolor\": \"white\"}, \"zaxis\": {\"backgroundcolor\": \"#E5ECF6\", \"gridcolor\": \"white\", \"gridwidth\": 2, \"linecolor\": \"white\", \"showbackground\": true, \"ticks\": \"\", \"zerolinecolor\": \"white\"}}, \"shapedefaults\": {\"line\": {\"color\": \"#2a3f5f\"}}, \"ternary\": {\"aaxis\": {\"gridcolor\": \"white\", \"linecolor\": \"white\", \"ticks\": \"\"}, \"baxis\": {\"gridcolor\": \"white\", \"linecolor\": \"white\", \"ticks\": \"\"}, \"bgcolor\": \"#E5ECF6\", \"caxis\": {\"gridcolor\": \"white\", \"linecolor\": \"white\", \"ticks\": \"\"}}, \"title\": {\"x\": 0.05}, \"xaxis\": {\"automargin\": true, \"gridcolor\": \"white\", \"linecolor\": \"white\", \"ticks\": \"\", \"title\": {\"standoff\": 15}, \"zerolinecolor\": \"white\", \"zerolinewidth\": 2}, \"yaxis\": {\"automargin\": true, \"gridcolor\": \"white\", \"linecolor\": \"white\", \"ticks\": \"\", \"title\": {\"standoff\": 15}, \"zerolinecolor\": \"white\", \"zerolinewidth\": 2}}}, \"title\": {\"font\": {\"color\": \"#4D5663\"}}, \"xaxis\": {\"gridcolor\": \"#E1E5ED\", \"showgrid\": true, \"tickfont\": {\"color\": \"#4D5663\"}, \"title\": {\"font\": {\"color\": \"#4D5663\"}, \"text\": \"\"}, \"zerolinecolor\": \"#E1E5ED\"}, \"yaxis\": {\"gridcolor\": \"#E1E5ED\", \"showgrid\": true, \"tickfont\": {\"color\": \"#4D5663\"}, \"title\": {\"font\": {\"color\": \"#4D5663\"}, \"text\": \"\"}, \"zerolinecolor\": \"#E1E5ED\"}},                        {\"showLink\": true, \"linkText\": \"Export to plot.ly\", \"plotlyServerURL\": \"https://plot.ly\", \"responsive\": true}                    ).then(function(){\n",
       "                            \n",
       "var gd = document.getElementById('a622d882-da59-4826-9911-26eba5e68379');\n",
       "var x = new MutationObserver(function (mutations, observer) {{\n",
       "        var display = window.getComputedStyle(gd).display;\n",
       "        if (!display || display === 'none') {{\n",
       "            console.log([gd, 'removed!']);\n",
       "            Plotly.purge(gd);\n",
       "            observer.disconnect();\n",
       "        }}\n",
       "}});\n",
       "\n",
       "// Listen for the removal of the full notebook cells\n",
       "var notebookContainer = gd.closest('#notebook-container');\n",
       "if (notebookContainer) {{\n",
       "    x.observe(notebookContainer, {childList: true});\n",
       "}}\n",
       "\n",
       "// Listen for the clearing of the current output cell\n",
       "var outputEl = gd.closest('.output');\n",
       "if (outputEl) {{\n",
       "    x.observe(outputEl, {childList: true});\n",
       "}}\n",
       "\n",
       "                        })                };                });            </script>        </div>"
      ]
     },
     "metadata": {},
     "output_type": "display_data"
    }
   ],
   "source": [
    "df.iplot(kind='bubble',x='A',y='B',size='C')"
   ]
  },
  {
   "cell_type": "code",
   "execution_count": 36,
   "metadata": {},
   "outputs": [
    {
     "data": {
      "application/vnd.plotly.v1+json": {
       "config": {
        "linkText": "Export to plot.ly",
        "plotlyServerURL": "https://plot.ly",
        "showLink": true
       },
       "data": [
        {
         "histfunc": "count",
         "histnorm": "",
         "marker": {
          "color": "rgba(255, 153, 51, 1.0)",
          "line": {
           "color": "#4D5663",
           "width": 1.3
          }
         },
         "name": "A",
         "nbinsx": 10,
         "opacity": 0.8,
         "orientation": "v",
         "type": "histogram",
         "x": [
          0.5217537784129974,
          0.3309749226115375,
          -1.193876709659765,
          0.44343923119185524,
          -0.18931392017075624,
          0.173205767535824,
          0.696775738847488,
          -2.014191654816539,
          -0.3260508724875542,
          1.7018734448037018,
          -0.3578297915922514,
          0.795878744012465,
          -0.6221105875227282,
          0.1795158852025101,
          -0.5263018890301373,
          -1.6579984218119408,
          1.5734505787806656,
          0.09347039337484478,
          0.22695335836177413,
          1.74135293216879,
          0.8543457987432498,
          1.6668700893834498,
          0.21509981024768562,
          0.05147367659147075,
          0.595348020727714,
          1.3425773565713435,
          0.5056396605572587,
          0.7004964136717756,
          -0.11611198442315279,
          0.7084287321300998,
          -0.7109807917845864,
          0.243838163690604,
          -0.052769434282530246,
          0.65197584784953,
          0.15111623638211763,
          -0.45994422176644884,
          -1.6377125581004068,
          1.6353164567583425,
          -0.02110823435862904,
          0.8662866086795274,
          -0.7992112511748268,
          -1.2091767689531847,
          0.615433464445986,
          -0.6918898665437458,
          -0.22088314776555945,
          -0.36616282407008444,
          1.2391168115335351,
          -0.6051262003388084,
          -1.590191148875863,
          -0.9818480747620559,
          -0.4616387767955757,
          -0.7134294894563353,
          0.07223535070388272,
          0.057558323803864345,
          -0.43681040939791793,
          0.4689372999801223,
          1.502366134331344,
          0.7308934048604777,
          -1.8445348233596541,
          -0.023749777252913405,
          0.07027259389091652,
          0.795641143639049,
          0.14650863736209424,
          -0.289159142974127,
          -1.2748625970110754,
          -0.2774290754016461,
          0.8781245042054561,
          -0.8697236584897804,
          0.07199053776509524,
          -1.757042236586087,
          0.39716974253845905,
          0.1654662688475511,
          -0.33199426676448535,
          0.7744544397767887,
          1.1793804702730013,
          -0.9462622397360114,
          0.7557618474116468,
          -0.5317089300673019,
          0.04458895563719713,
          -0.3484351357629532,
          0.9637309052261983,
          0.5769189564311794,
          0.08063722123130981,
          0.5023295174559748,
          -0.7596996515964047,
          1.4161337913043834,
          1.9283827384775984,
          -1.6721607391450544,
          0.4553713821873685,
          -0.3971879291836942,
          0.17041840171947764,
          -1.1644496531098152,
          0.15295268302093223,
          -0.18904846215760945,
          0.2400629991205869,
          -0.010061126559507024,
          0.8658858707404796,
          1.056913755398305,
          0.862841462797941,
          0.47176134545444554
         ],
         "xaxis": "x",
         "yaxis": "y"
        },
        {
         "line": {
          "color": "rgba(128, 128, 128, 1.0)",
          "dash": "solid",
          "shape": "linear",
          "width": 1.3
         },
         "marker": {
          "size": 2,
          "symbol": "circle"
         },
         "mode": "markers",
         "name": "A",
         "text": "",
         "type": "scatter",
         "x": [
          -0.39261445799361727,
          0.22580367056171108,
          0.25483863748102475,
          0.9905938087654146,
          -0.3454489749148752,
          0.5862541601958202,
          0.04228997696170449,
          -1.5099138219153663,
          -1.4985134831759215,
          0.09468800407249342,
          -0.6529428511506372,
          0.11140377407013143,
          0.2986561002471471,
          -0.6958738060209194,
          1.6280048100235736,
          -1.4414780265052891,
          -1.0091162361804633,
          -0.4358346913952342,
          0.9644518693267125,
          1.339378202043062,
          -1.009276170450571,
          0.355374750343669,
          2.4613393443673854,
          1.1250694379563946,
          -0.3101218143757754,
          0.21931795568428836,
          -1.1034092566915703,
          0.34792501227665257,
          0.5640927383340527,
          2.005692956097845,
          -1.3763340171658087,
          -0.5516546832432645,
          -0.4322623433505339,
          -1.4069669300676437,
          0.9925196666613212,
          -0.3174599626785784,
          -1.402277482694772,
          1.5941004088534267,
          -0.20902468508344935,
          1.7723686071566995,
          1.0255780072645866,
          0.3611684560390772,
          -0.9876425439197813,
          2.0634227790927873,
          0.5808836005391271,
          2.085501418876228,
          -0.1669861926278503,
          2.4188376530846787,
          -1.7854249534372195,
          -2.0250332266149442,
          -0.54463884665561,
          0.990855608274131,
          -1.4367068235569664,
          -0.4429595086434903,
          0.2807870731341278,
          -1.2933742820918692,
          -0.1556993337542278,
          -1.1504599947642138,
          0.6624811468344771,
          -0.9756259309342289,
          0.8167384140483486,
          -0.5345985813863435,
          -0.27727702113759906,
          0.19310545663846124,
          -1.532902312679032,
          -0.028100975887289895,
          -1.9959810670789664,
          0.2243920084584965,
          -0.6600578441118969,
          1.3352710743039025,
          -1.398424039696386,
          0.8462771387518341,
          0.11236464635976393,
          -0.15515819132980102,
          1.3302994525696428,
          -0.5868131798941717,
          1.3234568595593719,
          0.8499332074462286,
          -0.08224166207067568,
          0.6328294865034617,
          0.06679708452559546,
          -0.23350689690678816,
          -2.7527613522856362,
          0.9548230886533037,
          -0.5190830632490822,
          -0.42926880006980395,
          0.236960866081998,
          -1.9304304156678027,
          0.5350138717457857,
          -0.6962587707076815,
          -0.1957102445287146,
          -1.3072663184338325,
          -0.10554726253657928,
          0.20192027205191437,
          -0.3790196316097984,
          -0.47639675723883623,
          -0.2596209420386043,
          1.4129214345638288,
          1.215471680596547,
          -1.0518754451458192
         ],
         "xaxis": "x2",
         "y": [
          0.5217537784129974,
          0.3309749226115375,
          -1.193876709659765,
          0.44343923119185524,
          -0.18931392017075624,
          0.173205767535824,
          0.696775738847488,
          -2.014191654816539,
          -0.3260508724875542,
          1.7018734448037018,
          -0.3578297915922514,
          0.795878744012465,
          -0.6221105875227282,
          0.1795158852025101,
          -0.5263018890301373,
          -1.6579984218119408,
          1.5734505787806656,
          0.09347039337484478,
          0.22695335836177413,
          1.74135293216879,
          0.8543457987432498,
          1.6668700893834498,
          0.21509981024768562,
          0.05147367659147075,
          0.595348020727714,
          1.3425773565713435,
          0.5056396605572587,
          0.7004964136717756,
          -0.11611198442315279,
          0.7084287321300998,
          -0.7109807917845864,
          0.243838163690604,
          -0.052769434282530246,
          0.65197584784953,
          0.15111623638211763,
          -0.45994422176644884,
          -1.6377125581004068,
          1.6353164567583425,
          -0.02110823435862904,
          0.8662866086795274,
          -0.7992112511748268,
          -1.2091767689531847,
          0.615433464445986,
          -0.6918898665437458,
          -0.22088314776555945,
          -0.36616282407008444,
          1.2391168115335351,
          -0.6051262003388084,
          -1.590191148875863,
          -0.9818480747620559,
          -0.4616387767955757,
          -0.7134294894563353,
          0.07223535070388272,
          0.057558323803864345,
          -0.43681040939791793,
          0.4689372999801223,
          1.502366134331344,
          0.7308934048604777,
          -1.8445348233596541,
          -0.023749777252913405,
          0.07027259389091652,
          0.795641143639049,
          0.14650863736209424,
          -0.289159142974127,
          -1.2748625970110754,
          -0.2774290754016461,
          0.8781245042054561,
          -0.8697236584897804,
          0.07199053776509524,
          -1.757042236586087,
          0.39716974253845905,
          0.1654662688475511,
          -0.33199426676448535,
          0.7744544397767887,
          1.1793804702730013,
          -0.9462622397360114,
          0.7557618474116468,
          -0.5317089300673019,
          0.04458895563719713,
          -0.3484351357629532,
          0.9637309052261983,
          0.5769189564311794,
          0.08063722123130981,
          0.5023295174559748,
          -0.7596996515964047,
          1.4161337913043834,
          1.9283827384775984,
          -1.6721607391450544,
          0.4553713821873685,
          -0.3971879291836942,
          0.17041840171947764,
          -1.1644496531098152,
          0.15295268302093223,
          -0.18904846215760945,
          0.2400629991205869,
          -0.010061126559507024,
          0.8658858707404796,
          1.056913755398305,
          0.862841462797941,
          0.47176134545444554
         ],
         "yaxis": "y2"
        },
        {
         "line": {
          "color": "rgba(128, 128, 128, 1.0)",
          "dash": "solid",
          "shape": "linear",
          "width": 1.3
         },
         "marker": {
          "size": 2,
          "symbol": "circle"
         },
         "mode": "markers",
         "name": "A",
         "text": "",
         "type": "scatter",
         "x": [
          -0.5314652877495902,
          2.2186474760330563,
          -0.6389682720126716,
          1.3793555469949645,
          0.1645065101816152,
          0.8429482043939898,
          -0.020441894851906117,
          1.0039693363469748,
          0.2644494966560863,
          -0.6277884709802357,
          0.9396227469133503,
          0.7169980627028582,
          0.23737090856245152,
          1.7462968082547403,
          -0.8154127844004201,
          -1.5939071468516273,
          0.2653426342888696,
          -2.2057132597745017,
          0.18843501983927433,
          0.2533201514329437,
          -0.481776439793337,
          1.2604071475703236,
          0.03342545347522977,
          -1.0255820892293614,
          1.049403871745054,
          -0.5449269397249219,
          0.6927506838105815,
          0.8569045690829772,
          0.6960801094805269,
          0.41228120735289325,
          -0.5347954717069701,
          0.6525900328951344,
          -0.9031621695336286,
          -0.7771738316054332,
          -0.4608559749506431,
          -1.873812720261879,
          1.451550493126228,
          -0.3464470009976206,
          1.2972655948243323,
          -1.462934082674206,
          1.5889668475082657,
          -1.1804747958493478,
          0.14736945716833635,
          -0.7217551180817706,
          0.486407896985243,
          2.5557679354654517,
          0.9266858465700915,
          1.047813987372427,
          0.46411143353768314,
          -0.7232162319933524,
          -0.6289775250999133,
          -1.1645792924981966,
          0.75643643351788,
          -0.8594027664490006,
          0.0008668968465360472,
          -1.3856077357804701,
          0.14448886537292585,
          -1.6025002278390523,
          0.9195575608631161,
          -0.17469686289299635,
          -1.367049261635498,
          -0.27590249827233715,
          -0.9119076275662321,
          1.3073348052081717,
          0.8198468187216309,
          0.6346908590004512,
          0.35686053181505784,
          0.706366878137112,
          -2.060526063616883,
          -0.5532522643764815,
          -0.04314602830520446,
          -0.30337006507846476,
          1.3711763571046398,
          0.4965487424074641,
          1.0483377991076952,
          -0.7306042704368239,
          -1.767726526012954,
          -0.22378833249331728,
          1.601121309317086,
          0.8828103257648692,
          0.1826898270480904,
          -1.5991846579476228,
          0.6064089004607497,
          0.7304265150271423,
          -1.0517525399387608,
          0.2511415655874058,
          1.2509386690441953,
          -0.5627840069345255,
          1.6852116648377633,
          -0.11024553099954161,
          -0.7630707594050132,
          0.3296679782933773,
          1.3684849781430115,
          0.27698460569843913,
          0.7056148743119981,
          -0.10728295357837499,
          -0.3259299468930852,
          -0.18231346193029901,
          -1.4556732879652434,
          -0.6220954124482995
         ],
         "xaxis": "x3",
         "y": [
          0.5217537784129974,
          0.3309749226115375,
          -1.193876709659765,
          0.44343923119185524,
          -0.18931392017075624,
          0.173205767535824,
          0.696775738847488,
          -2.014191654816539,
          -0.3260508724875542,
          1.7018734448037018,
          -0.3578297915922514,
          0.795878744012465,
          -0.6221105875227282,
          0.1795158852025101,
          -0.5263018890301373,
          -1.6579984218119408,
          1.5734505787806656,
          0.09347039337484478,
          0.22695335836177413,
          1.74135293216879,
          0.8543457987432498,
          1.6668700893834498,
          0.21509981024768562,
          0.05147367659147075,
          0.595348020727714,
          1.3425773565713435,
          0.5056396605572587,
          0.7004964136717756,
          -0.11611198442315279,
          0.7084287321300998,
          -0.7109807917845864,
          0.243838163690604,
          -0.052769434282530246,
          0.65197584784953,
          0.15111623638211763,
          -0.45994422176644884,
          -1.6377125581004068,
          1.6353164567583425,
          -0.02110823435862904,
          0.8662866086795274,
          -0.7992112511748268,
          -1.2091767689531847,
          0.615433464445986,
          -0.6918898665437458,
          -0.22088314776555945,
          -0.36616282407008444,
          1.2391168115335351,
          -0.6051262003388084,
          -1.590191148875863,
          -0.9818480747620559,
          -0.4616387767955757,
          -0.7134294894563353,
          0.07223535070388272,
          0.057558323803864345,
          -0.43681040939791793,
          0.4689372999801223,
          1.502366134331344,
          0.7308934048604777,
          -1.8445348233596541,
          -0.023749777252913405,
          0.07027259389091652,
          0.795641143639049,
          0.14650863736209424,
          -0.289159142974127,
          -1.2748625970110754,
          -0.2774290754016461,
          0.8781245042054561,
          -0.8697236584897804,
          0.07199053776509524,
          -1.757042236586087,
          0.39716974253845905,
          0.1654662688475511,
          -0.33199426676448535,
          0.7744544397767887,
          1.1793804702730013,
          -0.9462622397360114,
          0.7557618474116468,
          -0.5317089300673019,
          0.04458895563719713,
          -0.3484351357629532,
          0.9637309052261983,
          0.5769189564311794,
          0.08063722123130981,
          0.5023295174559748,
          -0.7596996515964047,
          1.4161337913043834,
          1.9283827384775984,
          -1.6721607391450544,
          0.4553713821873685,
          -0.3971879291836942,
          0.17041840171947764,
          -1.1644496531098152,
          0.15295268302093223,
          -0.18904846215760945,
          0.2400629991205869,
          -0.010061126559507024,
          0.8658858707404796,
          1.056913755398305,
          0.862841462797941,
          0.47176134545444554
         ],
         "yaxis": "y3"
        },
        {
         "line": {
          "color": "rgba(128, 128, 128, 1.0)",
          "dash": "solid",
          "shape": "linear",
          "width": 1.3
         },
         "marker": {
          "size": 2,
          "symbol": "circle"
         },
         "mode": "markers",
         "name": "A",
         "text": "",
         "type": "scatter",
         "x": [
          0.6778729725043644,
          1.8059030764379598,
          -0.8427894394917019,
          0.7028364071414452,
          0.825571631036336,
          1.2051120547600316,
          0.7244139364195797,
          -1.3559348657071273,
          0.308024975632527,
          1.5983724409903277,
          -0.6576379587296303,
          0.7993403925019309,
          -2.053115218099911,
          0.2646019343945171,
          0.08754753975747707,
          -1.2427612499539613,
          1.4754629908026846,
          -1.4811321630576677,
          -0.7594373064233083,
          -0.12750497178924067,
          -0.9268168563442297,
          0.5974046066257698,
          -0.24292065362520213,
          -0.9649714681828205,
          -0.8750636064485101,
          0.9197750708901921,
          -0.7480168853760317,
          -0.21328878614093316,
          -0.07067969844926104,
          -0.27659078776879303,
          -0.1539470600069913,
          -1.4364152652969937,
          0.6215680045149821,
          -0.48656860575540056,
          0.5860063525576973,
          1.9532791720799327,
          -0.3104503972645789,
          -1.3654328722807976,
          -1.849019483939876,
          -0.09336559614620331,
          0.13796389663084496,
          -2.3368087222436547,
          -0.6740237740011111,
          -0.38813886664316555,
          -1.9610870166233894,
          1.3395529043070529,
          -1.250301608200872,
          -0.9509762415784829,
          0.4956869652378916,
          -1.652979492017329,
          0.7965335618604886,
          0.15634707733563813,
          -0.19479389896442964,
          -1.227555406619242,
          -0.5148957417108884,
          0.40242052930592775,
          -0.6158801987936839,
          1.177784819208276,
          0.11262827876844117,
          -0.4843349673116165,
          0.2945782550901206,
          -0.934384920930522,
          1.3574266011483518,
          -0.7294098196699667,
          0.7694541209231814,
          -0.3072129719491864,
          -0.6898730900175366,
          0.5616101475751268,
          1.0608130901361357,
          0.3365113202896197,
          0.802895786173727,
          1.1807526832244597,
          1.4797589854368138,
          -1.6835543921364118,
          -2.3973178545282576,
          -0.07729738106454107,
          -1.4423464202587457,
          -0.8575416103465401,
          -0.39840166643721536,
          -0.06541299297405546,
          -0.07624090039277232,
          -0.24922141663777242,
          1.9727778289235816,
          -0.3232704694600576,
          -0.6814286088775799,
          0.46580194086213295,
          0.9803989561322469,
          -1.4079738707164426,
          0.8443446110505288,
          -1.5775361603642126,
          -0.4947820803002275,
          0.70008140358095,
          -0.8521409087449835,
          0.35206004338908614,
          0.11794839018660937,
          -1.8289443292834922,
          -0.4425082344438239,
          -1.220386257042587,
          -0.23203980086744277,
          1.2682405988455958
         ],
         "xaxis": "x4",
         "y": [
          0.5217537784129974,
          0.3309749226115375,
          -1.193876709659765,
          0.44343923119185524,
          -0.18931392017075624,
          0.173205767535824,
          0.696775738847488,
          -2.014191654816539,
          -0.3260508724875542,
          1.7018734448037018,
          -0.3578297915922514,
          0.795878744012465,
          -0.6221105875227282,
          0.1795158852025101,
          -0.5263018890301373,
          -1.6579984218119408,
          1.5734505787806656,
          0.09347039337484478,
          0.22695335836177413,
          1.74135293216879,
          0.8543457987432498,
          1.6668700893834498,
          0.21509981024768562,
          0.05147367659147075,
          0.595348020727714,
          1.3425773565713435,
          0.5056396605572587,
          0.7004964136717756,
          -0.11611198442315279,
          0.7084287321300998,
          -0.7109807917845864,
          0.243838163690604,
          -0.052769434282530246,
          0.65197584784953,
          0.15111623638211763,
          -0.45994422176644884,
          -1.6377125581004068,
          1.6353164567583425,
          -0.02110823435862904,
          0.8662866086795274,
          -0.7992112511748268,
          -1.2091767689531847,
          0.615433464445986,
          -0.6918898665437458,
          -0.22088314776555945,
          -0.36616282407008444,
          1.2391168115335351,
          -0.6051262003388084,
          -1.590191148875863,
          -0.9818480747620559,
          -0.4616387767955757,
          -0.7134294894563353,
          0.07223535070388272,
          0.057558323803864345,
          -0.43681040939791793,
          0.4689372999801223,
          1.502366134331344,
          0.7308934048604777,
          -1.8445348233596541,
          -0.023749777252913405,
          0.07027259389091652,
          0.795641143639049,
          0.14650863736209424,
          -0.289159142974127,
          -1.2748625970110754,
          -0.2774290754016461,
          0.8781245042054561,
          -0.8697236584897804,
          0.07199053776509524,
          -1.757042236586087,
          0.39716974253845905,
          0.1654662688475511,
          -0.33199426676448535,
          0.7744544397767887,
          1.1793804702730013,
          -0.9462622397360114,
          0.7557618474116468,
          -0.5317089300673019,
          0.04458895563719713,
          -0.3484351357629532,
          0.9637309052261983,
          0.5769189564311794,
          0.08063722123130981,
          0.5023295174559748,
          -0.7596996515964047,
          1.4161337913043834,
          1.9283827384775984,
          -1.6721607391450544,
          0.4553713821873685,
          -0.3971879291836942,
          0.17041840171947764,
          -1.1644496531098152,
          0.15295268302093223,
          -0.18904846215760945,
          0.2400629991205869,
          -0.010061126559507024,
          0.8658858707404796,
          1.056913755398305,
          0.862841462797941,
          0.47176134545444554
         ],
         "yaxis": "y4"
        },
        {
         "line": {
          "color": "rgba(128, 128, 128, 1.0)",
          "dash": "solid",
          "shape": "linear",
          "width": 1.3
         },
         "marker": {
          "size": 2,
          "symbol": "circle"
         },
         "mode": "markers",
         "name": "B",
         "text": "",
         "type": "scatter",
         "x": [
          0.5217537784129974,
          0.3309749226115375,
          -1.193876709659765,
          0.44343923119185524,
          -0.18931392017075624,
          0.173205767535824,
          0.696775738847488,
          -2.014191654816539,
          -0.3260508724875542,
          1.7018734448037018,
          -0.3578297915922514,
          0.795878744012465,
          -0.6221105875227282,
          0.1795158852025101,
          -0.5263018890301373,
          -1.6579984218119408,
          1.5734505787806656,
          0.09347039337484478,
          0.22695335836177413,
          1.74135293216879,
          0.8543457987432498,
          1.6668700893834498,
          0.21509981024768562,
          0.05147367659147075,
          0.595348020727714,
          1.3425773565713435,
          0.5056396605572587,
          0.7004964136717756,
          -0.11611198442315279,
          0.7084287321300998,
          -0.7109807917845864,
          0.243838163690604,
          -0.052769434282530246,
          0.65197584784953,
          0.15111623638211763,
          -0.45994422176644884,
          -1.6377125581004068,
          1.6353164567583425,
          -0.02110823435862904,
          0.8662866086795274,
          -0.7992112511748268,
          -1.2091767689531847,
          0.615433464445986,
          -0.6918898665437458,
          -0.22088314776555945,
          -0.36616282407008444,
          1.2391168115335351,
          -0.6051262003388084,
          -1.590191148875863,
          -0.9818480747620559,
          -0.4616387767955757,
          -0.7134294894563353,
          0.07223535070388272,
          0.057558323803864345,
          -0.43681040939791793,
          0.4689372999801223,
          1.502366134331344,
          0.7308934048604777,
          -1.8445348233596541,
          -0.023749777252913405,
          0.07027259389091652,
          0.795641143639049,
          0.14650863736209424,
          -0.289159142974127,
          -1.2748625970110754,
          -0.2774290754016461,
          0.8781245042054561,
          -0.8697236584897804,
          0.07199053776509524,
          -1.757042236586087,
          0.39716974253845905,
          0.1654662688475511,
          -0.33199426676448535,
          0.7744544397767887,
          1.1793804702730013,
          -0.9462622397360114,
          0.7557618474116468,
          -0.5317089300673019,
          0.04458895563719713,
          -0.3484351357629532,
          0.9637309052261983,
          0.5769189564311794,
          0.08063722123130981,
          0.5023295174559748,
          -0.7596996515964047,
          1.4161337913043834,
          1.9283827384775984,
          -1.6721607391450544,
          0.4553713821873685,
          -0.3971879291836942,
          0.17041840171947764,
          -1.1644496531098152,
          0.15295268302093223,
          -0.18904846215760945,
          0.2400629991205869,
          -0.010061126559507024,
          0.8658858707404796,
          1.056913755398305,
          0.862841462797941,
          0.47176134545444554
         ],
         "xaxis": "x5",
         "y": [
          -0.39261445799361727,
          0.22580367056171108,
          0.25483863748102475,
          0.9905938087654146,
          -0.3454489749148752,
          0.5862541601958202,
          0.04228997696170449,
          -1.5099138219153663,
          -1.4985134831759215,
          0.09468800407249342,
          -0.6529428511506372,
          0.11140377407013143,
          0.2986561002471471,
          -0.6958738060209194,
          1.6280048100235736,
          -1.4414780265052891,
          -1.0091162361804633,
          -0.4358346913952342,
          0.9644518693267125,
          1.339378202043062,
          -1.009276170450571,
          0.355374750343669,
          2.4613393443673854,
          1.1250694379563946,
          -0.3101218143757754,
          0.21931795568428836,
          -1.1034092566915703,
          0.34792501227665257,
          0.5640927383340527,
          2.005692956097845,
          -1.3763340171658087,
          -0.5516546832432645,
          -0.4322623433505339,
          -1.4069669300676437,
          0.9925196666613212,
          -0.3174599626785784,
          -1.402277482694772,
          1.5941004088534267,
          -0.20902468508344935,
          1.7723686071566995,
          1.0255780072645866,
          0.3611684560390772,
          -0.9876425439197813,
          2.0634227790927873,
          0.5808836005391271,
          2.085501418876228,
          -0.1669861926278503,
          2.4188376530846787,
          -1.7854249534372195,
          -2.0250332266149442,
          -0.54463884665561,
          0.990855608274131,
          -1.4367068235569664,
          -0.4429595086434903,
          0.2807870731341278,
          -1.2933742820918692,
          -0.1556993337542278,
          -1.1504599947642138,
          0.6624811468344771,
          -0.9756259309342289,
          0.8167384140483486,
          -0.5345985813863435,
          -0.27727702113759906,
          0.19310545663846124,
          -1.532902312679032,
          -0.028100975887289895,
          -1.9959810670789664,
          0.2243920084584965,
          -0.6600578441118969,
          1.3352710743039025,
          -1.398424039696386,
          0.8462771387518341,
          0.11236464635976393,
          -0.15515819132980102,
          1.3302994525696428,
          -0.5868131798941717,
          1.3234568595593719,
          0.8499332074462286,
          -0.08224166207067568,
          0.6328294865034617,
          0.06679708452559546,
          -0.23350689690678816,
          -2.7527613522856362,
          0.9548230886533037,
          -0.5190830632490822,
          -0.42926880006980395,
          0.236960866081998,
          -1.9304304156678027,
          0.5350138717457857,
          -0.6962587707076815,
          -0.1957102445287146,
          -1.3072663184338325,
          -0.10554726253657928,
          0.20192027205191437,
          -0.3790196316097984,
          -0.47639675723883623,
          -0.2596209420386043,
          1.4129214345638288,
          1.215471680596547,
          -1.0518754451458192
         ],
         "yaxis": "y5"
        },
        {
         "histfunc": "count",
         "histnorm": "",
         "marker": {
          "color": "rgba(55, 128, 191, 1.0)",
          "line": {
           "color": "#4D5663",
           "width": 1.3
          }
         },
         "name": "B",
         "nbinsx": 10,
         "opacity": 0.8,
         "orientation": "v",
         "type": "histogram",
         "x": [
          -0.39261445799361727,
          0.22580367056171108,
          0.25483863748102475,
          0.9905938087654146,
          -0.3454489749148752,
          0.5862541601958202,
          0.04228997696170449,
          -1.5099138219153663,
          -1.4985134831759215,
          0.09468800407249342,
          -0.6529428511506372,
          0.11140377407013143,
          0.2986561002471471,
          -0.6958738060209194,
          1.6280048100235736,
          -1.4414780265052891,
          -1.0091162361804633,
          -0.4358346913952342,
          0.9644518693267125,
          1.339378202043062,
          -1.009276170450571,
          0.355374750343669,
          2.4613393443673854,
          1.1250694379563946,
          -0.3101218143757754,
          0.21931795568428836,
          -1.1034092566915703,
          0.34792501227665257,
          0.5640927383340527,
          2.005692956097845,
          -1.3763340171658087,
          -0.5516546832432645,
          -0.4322623433505339,
          -1.4069669300676437,
          0.9925196666613212,
          -0.3174599626785784,
          -1.402277482694772,
          1.5941004088534267,
          -0.20902468508344935,
          1.7723686071566995,
          1.0255780072645866,
          0.3611684560390772,
          -0.9876425439197813,
          2.0634227790927873,
          0.5808836005391271,
          2.085501418876228,
          -0.1669861926278503,
          2.4188376530846787,
          -1.7854249534372195,
          -2.0250332266149442,
          -0.54463884665561,
          0.990855608274131,
          -1.4367068235569664,
          -0.4429595086434903,
          0.2807870731341278,
          -1.2933742820918692,
          -0.1556993337542278,
          -1.1504599947642138,
          0.6624811468344771,
          -0.9756259309342289,
          0.8167384140483486,
          -0.5345985813863435,
          -0.27727702113759906,
          0.19310545663846124,
          -1.532902312679032,
          -0.028100975887289895,
          -1.9959810670789664,
          0.2243920084584965,
          -0.6600578441118969,
          1.3352710743039025,
          -1.398424039696386,
          0.8462771387518341,
          0.11236464635976393,
          -0.15515819132980102,
          1.3302994525696428,
          -0.5868131798941717,
          1.3234568595593719,
          0.8499332074462286,
          -0.08224166207067568,
          0.6328294865034617,
          0.06679708452559546,
          -0.23350689690678816,
          -2.7527613522856362,
          0.9548230886533037,
          -0.5190830632490822,
          -0.42926880006980395,
          0.236960866081998,
          -1.9304304156678027,
          0.5350138717457857,
          -0.6962587707076815,
          -0.1957102445287146,
          -1.3072663184338325,
          -0.10554726253657928,
          0.20192027205191437,
          -0.3790196316097984,
          -0.47639675723883623,
          -0.2596209420386043,
          1.4129214345638288,
          1.215471680596547,
          -1.0518754451458192
         ],
         "xaxis": "x6",
         "yaxis": "y6"
        },
        {
         "line": {
          "color": "rgba(128, 128, 128, 1.0)",
          "dash": "solid",
          "shape": "linear",
          "width": 1.3
         },
         "marker": {
          "size": 2,
          "symbol": "circle"
         },
         "mode": "markers",
         "name": "B",
         "text": "",
         "type": "scatter",
         "x": [
          -0.5314652877495902,
          2.2186474760330563,
          -0.6389682720126716,
          1.3793555469949645,
          0.1645065101816152,
          0.8429482043939898,
          -0.020441894851906117,
          1.0039693363469748,
          0.2644494966560863,
          -0.6277884709802357,
          0.9396227469133503,
          0.7169980627028582,
          0.23737090856245152,
          1.7462968082547403,
          -0.8154127844004201,
          -1.5939071468516273,
          0.2653426342888696,
          -2.2057132597745017,
          0.18843501983927433,
          0.2533201514329437,
          -0.481776439793337,
          1.2604071475703236,
          0.03342545347522977,
          -1.0255820892293614,
          1.049403871745054,
          -0.5449269397249219,
          0.6927506838105815,
          0.8569045690829772,
          0.6960801094805269,
          0.41228120735289325,
          -0.5347954717069701,
          0.6525900328951344,
          -0.9031621695336286,
          -0.7771738316054332,
          -0.4608559749506431,
          -1.873812720261879,
          1.451550493126228,
          -0.3464470009976206,
          1.2972655948243323,
          -1.462934082674206,
          1.5889668475082657,
          -1.1804747958493478,
          0.14736945716833635,
          -0.7217551180817706,
          0.486407896985243,
          2.5557679354654517,
          0.9266858465700915,
          1.047813987372427,
          0.46411143353768314,
          -0.7232162319933524,
          -0.6289775250999133,
          -1.1645792924981966,
          0.75643643351788,
          -0.8594027664490006,
          0.0008668968465360472,
          -1.3856077357804701,
          0.14448886537292585,
          -1.6025002278390523,
          0.9195575608631161,
          -0.17469686289299635,
          -1.367049261635498,
          -0.27590249827233715,
          -0.9119076275662321,
          1.3073348052081717,
          0.8198468187216309,
          0.6346908590004512,
          0.35686053181505784,
          0.706366878137112,
          -2.060526063616883,
          -0.5532522643764815,
          -0.04314602830520446,
          -0.30337006507846476,
          1.3711763571046398,
          0.4965487424074641,
          1.0483377991076952,
          -0.7306042704368239,
          -1.767726526012954,
          -0.22378833249331728,
          1.601121309317086,
          0.8828103257648692,
          0.1826898270480904,
          -1.5991846579476228,
          0.6064089004607497,
          0.7304265150271423,
          -1.0517525399387608,
          0.2511415655874058,
          1.2509386690441953,
          -0.5627840069345255,
          1.6852116648377633,
          -0.11024553099954161,
          -0.7630707594050132,
          0.3296679782933773,
          1.3684849781430115,
          0.27698460569843913,
          0.7056148743119981,
          -0.10728295357837499,
          -0.3259299468930852,
          -0.18231346193029901,
          -1.4556732879652434,
          -0.6220954124482995
         ],
         "xaxis": "x7",
         "y": [
          -0.39261445799361727,
          0.22580367056171108,
          0.25483863748102475,
          0.9905938087654146,
          -0.3454489749148752,
          0.5862541601958202,
          0.04228997696170449,
          -1.5099138219153663,
          -1.4985134831759215,
          0.09468800407249342,
          -0.6529428511506372,
          0.11140377407013143,
          0.2986561002471471,
          -0.6958738060209194,
          1.6280048100235736,
          -1.4414780265052891,
          -1.0091162361804633,
          -0.4358346913952342,
          0.9644518693267125,
          1.339378202043062,
          -1.009276170450571,
          0.355374750343669,
          2.4613393443673854,
          1.1250694379563946,
          -0.3101218143757754,
          0.21931795568428836,
          -1.1034092566915703,
          0.34792501227665257,
          0.5640927383340527,
          2.005692956097845,
          -1.3763340171658087,
          -0.5516546832432645,
          -0.4322623433505339,
          -1.4069669300676437,
          0.9925196666613212,
          -0.3174599626785784,
          -1.402277482694772,
          1.5941004088534267,
          -0.20902468508344935,
          1.7723686071566995,
          1.0255780072645866,
          0.3611684560390772,
          -0.9876425439197813,
          2.0634227790927873,
          0.5808836005391271,
          2.085501418876228,
          -0.1669861926278503,
          2.4188376530846787,
          -1.7854249534372195,
          -2.0250332266149442,
          -0.54463884665561,
          0.990855608274131,
          -1.4367068235569664,
          -0.4429595086434903,
          0.2807870731341278,
          -1.2933742820918692,
          -0.1556993337542278,
          -1.1504599947642138,
          0.6624811468344771,
          -0.9756259309342289,
          0.8167384140483486,
          -0.5345985813863435,
          -0.27727702113759906,
          0.19310545663846124,
          -1.532902312679032,
          -0.028100975887289895,
          -1.9959810670789664,
          0.2243920084584965,
          -0.6600578441118969,
          1.3352710743039025,
          -1.398424039696386,
          0.8462771387518341,
          0.11236464635976393,
          -0.15515819132980102,
          1.3302994525696428,
          -0.5868131798941717,
          1.3234568595593719,
          0.8499332074462286,
          -0.08224166207067568,
          0.6328294865034617,
          0.06679708452559546,
          -0.23350689690678816,
          -2.7527613522856362,
          0.9548230886533037,
          -0.5190830632490822,
          -0.42926880006980395,
          0.236960866081998,
          -1.9304304156678027,
          0.5350138717457857,
          -0.6962587707076815,
          -0.1957102445287146,
          -1.3072663184338325,
          -0.10554726253657928,
          0.20192027205191437,
          -0.3790196316097984,
          -0.47639675723883623,
          -0.2596209420386043,
          1.4129214345638288,
          1.215471680596547,
          -1.0518754451458192
         ],
         "yaxis": "y7"
        },
        {
         "line": {
          "color": "rgba(128, 128, 128, 1.0)",
          "dash": "solid",
          "shape": "linear",
          "width": 1.3
         },
         "marker": {
          "size": 2,
          "symbol": "circle"
         },
         "mode": "markers",
         "name": "B",
         "text": "",
         "type": "scatter",
         "x": [
          0.6778729725043644,
          1.8059030764379598,
          -0.8427894394917019,
          0.7028364071414452,
          0.825571631036336,
          1.2051120547600316,
          0.7244139364195797,
          -1.3559348657071273,
          0.308024975632527,
          1.5983724409903277,
          -0.6576379587296303,
          0.7993403925019309,
          -2.053115218099911,
          0.2646019343945171,
          0.08754753975747707,
          -1.2427612499539613,
          1.4754629908026846,
          -1.4811321630576677,
          -0.7594373064233083,
          -0.12750497178924067,
          -0.9268168563442297,
          0.5974046066257698,
          -0.24292065362520213,
          -0.9649714681828205,
          -0.8750636064485101,
          0.9197750708901921,
          -0.7480168853760317,
          -0.21328878614093316,
          -0.07067969844926104,
          -0.27659078776879303,
          -0.1539470600069913,
          -1.4364152652969937,
          0.6215680045149821,
          -0.48656860575540056,
          0.5860063525576973,
          1.9532791720799327,
          -0.3104503972645789,
          -1.3654328722807976,
          -1.849019483939876,
          -0.09336559614620331,
          0.13796389663084496,
          -2.3368087222436547,
          -0.6740237740011111,
          -0.38813886664316555,
          -1.9610870166233894,
          1.3395529043070529,
          -1.250301608200872,
          -0.9509762415784829,
          0.4956869652378916,
          -1.652979492017329,
          0.7965335618604886,
          0.15634707733563813,
          -0.19479389896442964,
          -1.227555406619242,
          -0.5148957417108884,
          0.40242052930592775,
          -0.6158801987936839,
          1.177784819208276,
          0.11262827876844117,
          -0.4843349673116165,
          0.2945782550901206,
          -0.934384920930522,
          1.3574266011483518,
          -0.7294098196699667,
          0.7694541209231814,
          -0.3072129719491864,
          -0.6898730900175366,
          0.5616101475751268,
          1.0608130901361357,
          0.3365113202896197,
          0.802895786173727,
          1.1807526832244597,
          1.4797589854368138,
          -1.6835543921364118,
          -2.3973178545282576,
          -0.07729738106454107,
          -1.4423464202587457,
          -0.8575416103465401,
          -0.39840166643721536,
          -0.06541299297405546,
          -0.07624090039277232,
          -0.24922141663777242,
          1.9727778289235816,
          -0.3232704694600576,
          -0.6814286088775799,
          0.46580194086213295,
          0.9803989561322469,
          -1.4079738707164426,
          0.8443446110505288,
          -1.5775361603642126,
          -0.4947820803002275,
          0.70008140358095,
          -0.8521409087449835,
          0.35206004338908614,
          0.11794839018660937,
          -1.8289443292834922,
          -0.4425082344438239,
          -1.220386257042587,
          -0.23203980086744277,
          1.2682405988455958
         ],
         "xaxis": "x8",
         "y": [
          -0.39261445799361727,
          0.22580367056171108,
          0.25483863748102475,
          0.9905938087654146,
          -0.3454489749148752,
          0.5862541601958202,
          0.04228997696170449,
          -1.5099138219153663,
          -1.4985134831759215,
          0.09468800407249342,
          -0.6529428511506372,
          0.11140377407013143,
          0.2986561002471471,
          -0.6958738060209194,
          1.6280048100235736,
          -1.4414780265052891,
          -1.0091162361804633,
          -0.4358346913952342,
          0.9644518693267125,
          1.339378202043062,
          -1.009276170450571,
          0.355374750343669,
          2.4613393443673854,
          1.1250694379563946,
          -0.3101218143757754,
          0.21931795568428836,
          -1.1034092566915703,
          0.34792501227665257,
          0.5640927383340527,
          2.005692956097845,
          -1.3763340171658087,
          -0.5516546832432645,
          -0.4322623433505339,
          -1.4069669300676437,
          0.9925196666613212,
          -0.3174599626785784,
          -1.402277482694772,
          1.5941004088534267,
          -0.20902468508344935,
          1.7723686071566995,
          1.0255780072645866,
          0.3611684560390772,
          -0.9876425439197813,
          2.0634227790927873,
          0.5808836005391271,
          2.085501418876228,
          -0.1669861926278503,
          2.4188376530846787,
          -1.7854249534372195,
          -2.0250332266149442,
          -0.54463884665561,
          0.990855608274131,
          -1.4367068235569664,
          -0.4429595086434903,
          0.2807870731341278,
          -1.2933742820918692,
          -0.1556993337542278,
          -1.1504599947642138,
          0.6624811468344771,
          -0.9756259309342289,
          0.8167384140483486,
          -0.5345985813863435,
          -0.27727702113759906,
          0.19310545663846124,
          -1.532902312679032,
          -0.028100975887289895,
          -1.9959810670789664,
          0.2243920084584965,
          -0.6600578441118969,
          1.3352710743039025,
          -1.398424039696386,
          0.8462771387518341,
          0.11236464635976393,
          -0.15515819132980102,
          1.3302994525696428,
          -0.5868131798941717,
          1.3234568595593719,
          0.8499332074462286,
          -0.08224166207067568,
          0.6328294865034617,
          0.06679708452559546,
          -0.23350689690678816,
          -2.7527613522856362,
          0.9548230886533037,
          -0.5190830632490822,
          -0.42926880006980395,
          0.236960866081998,
          -1.9304304156678027,
          0.5350138717457857,
          -0.6962587707076815,
          -0.1957102445287146,
          -1.3072663184338325,
          -0.10554726253657928,
          0.20192027205191437,
          -0.3790196316097984,
          -0.47639675723883623,
          -0.2596209420386043,
          1.4129214345638288,
          1.215471680596547,
          -1.0518754451458192
         ],
         "yaxis": "y8"
        },
        {
         "line": {
          "color": "rgba(128, 128, 128, 1.0)",
          "dash": "solid",
          "shape": "linear",
          "width": 1.3
         },
         "marker": {
          "size": 2,
          "symbol": "circle"
         },
         "mode": "markers",
         "name": "C",
         "text": "",
         "type": "scatter",
         "x": [
          0.5217537784129974,
          0.3309749226115375,
          -1.193876709659765,
          0.44343923119185524,
          -0.18931392017075624,
          0.173205767535824,
          0.696775738847488,
          -2.014191654816539,
          -0.3260508724875542,
          1.7018734448037018,
          -0.3578297915922514,
          0.795878744012465,
          -0.6221105875227282,
          0.1795158852025101,
          -0.5263018890301373,
          -1.6579984218119408,
          1.5734505787806656,
          0.09347039337484478,
          0.22695335836177413,
          1.74135293216879,
          0.8543457987432498,
          1.6668700893834498,
          0.21509981024768562,
          0.05147367659147075,
          0.595348020727714,
          1.3425773565713435,
          0.5056396605572587,
          0.7004964136717756,
          -0.11611198442315279,
          0.7084287321300998,
          -0.7109807917845864,
          0.243838163690604,
          -0.052769434282530246,
          0.65197584784953,
          0.15111623638211763,
          -0.45994422176644884,
          -1.6377125581004068,
          1.6353164567583425,
          -0.02110823435862904,
          0.8662866086795274,
          -0.7992112511748268,
          -1.2091767689531847,
          0.615433464445986,
          -0.6918898665437458,
          -0.22088314776555945,
          -0.36616282407008444,
          1.2391168115335351,
          -0.6051262003388084,
          -1.590191148875863,
          -0.9818480747620559,
          -0.4616387767955757,
          -0.7134294894563353,
          0.07223535070388272,
          0.057558323803864345,
          -0.43681040939791793,
          0.4689372999801223,
          1.502366134331344,
          0.7308934048604777,
          -1.8445348233596541,
          -0.023749777252913405,
          0.07027259389091652,
          0.795641143639049,
          0.14650863736209424,
          -0.289159142974127,
          -1.2748625970110754,
          -0.2774290754016461,
          0.8781245042054561,
          -0.8697236584897804,
          0.07199053776509524,
          -1.757042236586087,
          0.39716974253845905,
          0.1654662688475511,
          -0.33199426676448535,
          0.7744544397767887,
          1.1793804702730013,
          -0.9462622397360114,
          0.7557618474116468,
          -0.5317089300673019,
          0.04458895563719713,
          -0.3484351357629532,
          0.9637309052261983,
          0.5769189564311794,
          0.08063722123130981,
          0.5023295174559748,
          -0.7596996515964047,
          1.4161337913043834,
          1.9283827384775984,
          -1.6721607391450544,
          0.4553713821873685,
          -0.3971879291836942,
          0.17041840171947764,
          -1.1644496531098152,
          0.15295268302093223,
          -0.18904846215760945,
          0.2400629991205869,
          -0.010061126559507024,
          0.8658858707404796,
          1.056913755398305,
          0.862841462797941,
          0.47176134545444554
         ],
         "xaxis": "x9",
         "y": [
          -0.5314652877495902,
          2.2186474760330563,
          -0.6389682720126716,
          1.3793555469949645,
          0.1645065101816152,
          0.8429482043939898,
          -0.020441894851906117,
          1.0039693363469748,
          0.2644494966560863,
          -0.6277884709802357,
          0.9396227469133503,
          0.7169980627028582,
          0.23737090856245152,
          1.7462968082547403,
          -0.8154127844004201,
          -1.5939071468516273,
          0.2653426342888696,
          -2.2057132597745017,
          0.18843501983927433,
          0.2533201514329437,
          -0.481776439793337,
          1.2604071475703236,
          0.03342545347522977,
          -1.0255820892293614,
          1.049403871745054,
          -0.5449269397249219,
          0.6927506838105815,
          0.8569045690829772,
          0.6960801094805269,
          0.41228120735289325,
          -0.5347954717069701,
          0.6525900328951344,
          -0.9031621695336286,
          -0.7771738316054332,
          -0.4608559749506431,
          -1.873812720261879,
          1.451550493126228,
          -0.3464470009976206,
          1.2972655948243323,
          -1.462934082674206,
          1.5889668475082657,
          -1.1804747958493478,
          0.14736945716833635,
          -0.7217551180817706,
          0.486407896985243,
          2.5557679354654517,
          0.9266858465700915,
          1.047813987372427,
          0.46411143353768314,
          -0.7232162319933524,
          -0.6289775250999133,
          -1.1645792924981966,
          0.75643643351788,
          -0.8594027664490006,
          0.0008668968465360472,
          -1.3856077357804701,
          0.14448886537292585,
          -1.6025002278390523,
          0.9195575608631161,
          -0.17469686289299635,
          -1.367049261635498,
          -0.27590249827233715,
          -0.9119076275662321,
          1.3073348052081717,
          0.8198468187216309,
          0.6346908590004512,
          0.35686053181505784,
          0.706366878137112,
          -2.060526063616883,
          -0.5532522643764815,
          -0.04314602830520446,
          -0.30337006507846476,
          1.3711763571046398,
          0.4965487424074641,
          1.0483377991076952,
          -0.7306042704368239,
          -1.767726526012954,
          -0.22378833249331728,
          1.601121309317086,
          0.8828103257648692,
          0.1826898270480904,
          -1.5991846579476228,
          0.6064089004607497,
          0.7304265150271423,
          -1.0517525399387608,
          0.2511415655874058,
          1.2509386690441953,
          -0.5627840069345255,
          1.6852116648377633,
          -0.11024553099954161,
          -0.7630707594050132,
          0.3296679782933773,
          1.3684849781430115,
          0.27698460569843913,
          0.7056148743119981,
          -0.10728295357837499,
          -0.3259299468930852,
          -0.18231346193029901,
          -1.4556732879652434,
          -0.6220954124482995
         ],
         "yaxis": "y9"
        },
        {
         "line": {
          "color": "rgba(128, 128, 128, 1.0)",
          "dash": "solid",
          "shape": "linear",
          "width": 1.3
         },
         "marker": {
          "size": 2,
          "symbol": "circle"
         },
         "mode": "markers",
         "name": "C",
         "text": "",
         "type": "scatter",
         "x": [
          -0.39261445799361727,
          0.22580367056171108,
          0.25483863748102475,
          0.9905938087654146,
          -0.3454489749148752,
          0.5862541601958202,
          0.04228997696170449,
          -1.5099138219153663,
          -1.4985134831759215,
          0.09468800407249342,
          -0.6529428511506372,
          0.11140377407013143,
          0.2986561002471471,
          -0.6958738060209194,
          1.6280048100235736,
          -1.4414780265052891,
          -1.0091162361804633,
          -0.4358346913952342,
          0.9644518693267125,
          1.339378202043062,
          -1.009276170450571,
          0.355374750343669,
          2.4613393443673854,
          1.1250694379563946,
          -0.3101218143757754,
          0.21931795568428836,
          -1.1034092566915703,
          0.34792501227665257,
          0.5640927383340527,
          2.005692956097845,
          -1.3763340171658087,
          -0.5516546832432645,
          -0.4322623433505339,
          -1.4069669300676437,
          0.9925196666613212,
          -0.3174599626785784,
          -1.402277482694772,
          1.5941004088534267,
          -0.20902468508344935,
          1.7723686071566995,
          1.0255780072645866,
          0.3611684560390772,
          -0.9876425439197813,
          2.0634227790927873,
          0.5808836005391271,
          2.085501418876228,
          -0.1669861926278503,
          2.4188376530846787,
          -1.7854249534372195,
          -2.0250332266149442,
          -0.54463884665561,
          0.990855608274131,
          -1.4367068235569664,
          -0.4429595086434903,
          0.2807870731341278,
          -1.2933742820918692,
          -0.1556993337542278,
          -1.1504599947642138,
          0.6624811468344771,
          -0.9756259309342289,
          0.8167384140483486,
          -0.5345985813863435,
          -0.27727702113759906,
          0.19310545663846124,
          -1.532902312679032,
          -0.028100975887289895,
          -1.9959810670789664,
          0.2243920084584965,
          -0.6600578441118969,
          1.3352710743039025,
          -1.398424039696386,
          0.8462771387518341,
          0.11236464635976393,
          -0.15515819132980102,
          1.3302994525696428,
          -0.5868131798941717,
          1.3234568595593719,
          0.8499332074462286,
          -0.08224166207067568,
          0.6328294865034617,
          0.06679708452559546,
          -0.23350689690678816,
          -2.7527613522856362,
          0.9548230886533037,
          -0.5190830632490822,
          -0.42926880006980395,
          0.236960866081998,
          -1.9304304156678027,
          0.5350138717457857,
          -0.6962587707076815,
          -0.1957102445287146,
          -1.3072663184338325,
          -0.10554726253657928,
          0.20192027205191437,
          -0.3790196316097984,
          -0.47639675723883623,
          -0.2596209420386043,
          1.4129214345638288,
          1.215471680596547,
          -1.0518754451458192
         ],
         "xaxis": "x10",
         "y": [
          -0.5314652877495902,
          2.2186474760330563,
          -0.6389682720126716,
          1.3793555469949645,
          0.1645065101816152,
          0.8429482043939898,
          -0.020441894851906117,
          1.0039693363469748,
          0.2644494966560863,
          -0.6277884709802357,
          0.9396227469133503,
          0.7169980627028582,
          0.23737090856245152,
          1.7462968082547403,
          -0.8154127844004201,
          -1.5939071468516273,
          0.2653426342888696,
          -2.2057132597745017,
          0.18843501983927433,
          0.2533201514329437,
          -0.481776439793337,
          1.2604071475703236,
          0.03342545347522977,
          -1.0255820892293614,
          1.049403871745054,
          -0.5449269397249219,
          0.6927506838105815,
          0.8569045690829772,
          0.6960801094805269,
          0.41228120735289325,
          -0.5347954717069701,
          0.6525900328951344,
          -0.9031621695336286,
          -0.7771738316054332,
          -0.4608559749506431,
          -1.873812720261879,
          1.451550493126228,
          -0.3464470009976206,
          1.2972655948243323,
          -1.462934082674206,
          1.5889668475082657,
          -1.1804747958493478,
          0.14736945716833635,
          -0.7217551180817706,
          0.486407896985243,
          2.5557679354654517,
          0.9266858465700915,
          1.047813987372427,
          0.46411143353768314,
          -0.7232162319933524,
          -0.6289775250999133,
          -1.1645792924981966,
          0.75643643351788,
          -0.8594027664490006,
          0.0008668968465360472,
          -1.3856077357804701,
          0.14448886537292585,
          -1.6025002278390523,
          0.9195575608631161,
          -0.17469686289299635,
          -1.367049261635498,
          -0.27590249827233715,
          -0.9119076275662321,
          1.3073348052081717,
          0.8198468187216309,
          0.6346908590004512,
          0.35686053181505784,
          0.706366878137112,
          -2.060526063616883,
          -0.5532522643764815,
          -0.04314602830520446,
          -0.30337006507846476,
          1.3711763571046398,
          0.4965487424074641,
          1.0483377991076952,
          -0.7306042704368239,
          -1.767726526012954,
          -0.22378833249331728,
          1.601121309317086,
          0.8828103257648692,
          0.1826898270480904,
          -1.5991846579476228,
          0.6064089004607497,
          0.7304265150271423,
          -1.0517525399387608,
          0.2511415655874058,
          1.2509386690441953,
          -0.5627840069345255,
          1.6852116648377633,
          -0.11024553099954161,
          -0.7630707594050132,
          0.3296679782933773,
          1.3684849781430115,
          0.27698460569843913,
          0.7056148743119981,
          -0.10728295357837499,
          -0.3259299468930852,
          -0.18231346193029901,
          -1.4556732879652434,
          -0.6220954124482995
         ],
         "yaxis": "y10"
        },
        {
         "histfunc": "count",
         "histnorm": "",
         "marker": {
          "color": "rgba(50, 171, 96, 1.0)",
          "line": {
           "color": "#4D5663",
           "width": 1.3
          }
         },
         "name": "C",
         "nbinsx": 10,
         "opacity": 0.8,
         "orientation": "v",
         "type": "histogram",
         "x": [
          -0.5314652877495902,
          2.2186474760330563,
          -0.6389682720126716,
          1.3793555469949645,
          0.1645065101816152,
          0.8429482043939898,
          -0.020441894851906117,
          1.0039693363469748,
          0.2644494966560863,
          -0.6277884709802357,
          0.9396227469133503,
          0.7169980627028582,
          0.23737090856245152,
          1.7462968082547403,
          -0.8154127844004201,
          -1.5939071468516273,
          0.2653426342888696,
          -2.2057132597745017,
          0.18843501983927433,
          0.2533201514329437,
          -0.481776439793337,
          1.2604071475703236,
          0.03342545347522977,
          -1.0255820892293614,
          1.049403871745054,
          -0.5449269397249219,
          0.6927506838105815,
          0.8569045690829772,
          0.6960801094805269,
          0.41228120735289325,
          -0.5347954717069701,
          0.6525900328951344,
          -0.9031621695336286,
          -0.7771738316054332,
          -0.4608559749506431,
          -1.873812720261879,
          1.451550493126228,
          -0.3464470009976206,
          1.2972655948243323,
          -1.462934082674206,
          1.5889668475082657,
          -1.1804747958493478,
          0.14736945716833635,
          -0.7217551180817706,
          0.486407896985243,
          2.5557679354654517,
          0.9266858465700915,
          1.047813987372427,
          0.46411143353768314,
          -0.7232162319933524,
          -0.6289775250999133,
          -1.1645792924981966,
          0.75643643351788,
          -0.8594027664490006,
          0.0008668968465360472,
          -1.3856077357804701,
          0.14448886537292585,
          -1.6025002278390523,
          0.9195575608631161,
          -0.17469686289299635,
          -1.367049261635498,
          -0.27590249827233715,
          -0.9119076275662321,
          1.3073348052081717,
          0.8198468187216309,
          0.6346908590004512,
          0.35686053181505784,
          0.706366878137112,
          -2.060526063616883,
          -0.5532522643764815,
          -0.04314602830520446,
          -0.30337006507846476,
          1.3711763571046398,
          0.4965487424074641,
          1.0483377991076952,
          -0.7306042704368239,
          -1.767726526012954,
          -0.22378833249331728,
          1.601121309317086,
          0.8828103257648692,
          0.1826898270480904,
          -1.5991846579476228,
          0.6064089004607497,
          0.7304265150271423,
          -1.0517525399387608,
          0.2511415655874058,
          1.2509386690441953,
          -0.5627840069345255,
          1.6852116648377633,
          -0.11024553099954161,
          -0.7630707594050132,
          0.3296679782933773,
          1.3684849781430115,
          0.27698460569843913,
          0.7056148743119981,
          -0.10728295357837499,
          -0.3259299468930852,
          -0.18231346193029901,
          -1.4556732879652434,
          -0.6220954124482995
         ],
         "xaxis": "x11",
         "yaxis": "y11"
        },
        {
         "line": {
          "color": "rgba(128, 128, 128, 1.0)",
          "dash": "solid",
          "shape": "linear",
          "width": 1.3
         },
         "marker": {
          "size": 2,
          "symbol": "circle"
         },
         "mode": "markers",
         "name": "C",
         "text": "",
         "type": "scatter",
         "x": [
          0.6778729725043644,
          1.8059030764379598,
          -0.8427894394917019,
          0.7028364071414452,
          0.825571631036336,
          1.2051120547600316,
          0.7244139364195797,
          -1.3559348657071273,
          0.308024975632527,
          1.5983724409903277,
          -0.6576379587296303,
          0.7993403925019309,
          -2.053115218099911,
          0.2646019343945171,
          0.08754753975747707,
          -1.2427612499539613,
          1.4754629908026846,
          -1.4811321630576677,
          -0.7594373064233083,
          -0.12750497178924067,
          -0.9268168563442297,
          0.5974046066257698,
          -0.24292065362520213,
          -0.9649714681828205,
          -0.8750636064485101,
          0.9197750708901921,
          -0.7480168853760317,
          -0.21328878614093316,
          -0.07067969844926104,
          -0.27659078776879303,
          -0.1539470600069913,
          -1.4364152652969937,
          0.6215680045149821,
          -0.48656860575540056,
          0.5860063525576973,
          1.9532791720799327,
          -0.3104503972645789,
          -1.3654328722807976,
          -1.849019483939876,
          -0.09336559614620331,
          0.13796389663084496,
          -2.3368087222436547,
          -0.6740237740011111,
          -0.38813886664316555,
          -1.9610870166233894,
          1.3395529043070529,
          -1.250301608200872,
          -0.9509762415784829,
          0.4956869652378916,
          -1.652979492017329,
          0.7965335618604886,
          0.15634707733563813,
          -0.19479389896442964,
          -1.227555406619242,
          -0.5148957417108884,
          0.40242052930592775,
          -0.6158801987936839,
          1.177784819208276,
          0.11262827876844117,
          -0.4843349673116165,
          0.2945782550901206,
          -0.934384920930522,
          1.3574266011483518,
          -0.7294098196699667,
          0.7694541209231814,
          -0.3072129719491864,
          -0.6898730900175366,
          0.5616101475751268,
          1.0608130901361357,
          0.3365113202896197,
          0.802895786173727,
          1.1807526832244597,
          1.4797589854368138,
          -1.6835543921364118,
          -2.3973178545282576,
          -0.07729738106454107,
          -1.4423464202587457,
          -0.8575416103465401,
          -0.39840166643721536,
          -0.06541299297405546,
          -0.07624090039277232,
          -0.24922141663777242,
          1.9727778289235816,
          -0.3232704694600576,
          -0.6814286088775799,
          0.46580194086213295,
          0.9803989561322469,
          -1.4079738707164426,
          0.8443446110505288,
          -1.5775361603642126,
          -0.4947820803002275,
          0.70008140358095,
          -0.8521409087449835,
          0.35206004338908614,
          0.11794839018660937,
          -1.8289443292834922,
          -0.4425082344438239,
          -1.220386257042587,
          -0.23203980086744277,
          1.2682405988455958
         ],
         "xaxis": "x12",
         "y": [
          -0.5314652877495902,
          2.2186474760330563,
          -0.6389682720126716,
          1.3793555469949645,
          0.1645065101816152,
          0.8429482043939898,
          -0.020441894851906117,
          1.0039693363469748,
          0.2644494966560863,
          -0.6277884709802357,
          0.9396227469133503,
          0.7169980627028582,
          0.23737090856245152,
          1.7462968082547403,
          -0.8154127844004201,
          -1.5939071468516273,
          0.2653426342888696,
          -2.2057132597745017,
          0.18843501983927433,
          0.2533201514329437,
          -0.481776439793337,
          1.2604071475703236,
          0.03342545347522977,
          -1.0255820892293614,
          1.049403871745054,
          -0.5449269397249219,
          0.6927506838105815,
          0.8569045690829772,
          0.6960801094805269,
          0.41228120735289325,
          -0.5347954717069701,
          0.6525900328951344,
          -0.9031621695336286,
          -0.7771738316054332,
          -0.4608559749506431,
          -1.873812720261879,
          1.451550493126228,
          -0.3464470009976206,
          1.2972655948243323,
          -1.462934082674206,
          1.5889668475082657,
          -1.1804747958493478,
          0.14736945716833635,
          -0.7217551180817706,
          0.486407896985243,
          2.5557679354654517,
          0.9266858465700915,
          1.047813987372427,
          0.46411143353768314,
          -0.7232162319933524,
          -0.6289775250999133,
          -1.1645792924981966,
          0.75643643351788,
          -0.8594027664490006,
          0.0008668968465360472,
          -1.3856077357804701,
          0.14448886537292585,
          -1.6025002278390523,
          0.9195575608631161,
          -0.17469686289299635,
          -1.367049261635498,
          -0.27590249827233715,
          -0.9119076275662321,
          1.3073348052081717,
          0.8198468187216309,
          0.6346908590004512,
          0.35686053181505784,
          0.706366878137112,
          -2.060526063616883,
          -0.5532522643764815,
          -0.04314602830520446,
          -0.30337006507846476,
          1.3711763571046398,
          0.4965487424074641,
          1.0483377991076952,
          -0.7306042704368239,
          -1.767726526012954,
          -0.22378833249331728,
          1.601121309317086,
          0.8828103257648692,
          0.1826898270480904,
          -1.5991846579476228,
          0.6064089004607497,
          0.7304265150271423,
          -1.0517525399387608,
          0.2511415655874058,
          1.2509386690441953,
          -0.5627840069345255,
          1.6852116648377633,
          -0.11024553099954161,
          -0.7630707594050132,
          0.3296679782933773,
          1.3684849781430115,
          0.27698460569843913,
          0.7056148743119981,
          -0.10728295357837499,
          -0.3259299468930852,
          -0.18231346193029901,
          -1.4556732879652434,
          -0.6220954124482995
         ],
         "yaxis": "y12"
        },
        {
         "line": {
          "color": "rgba(128, 128, 128, 1.0)",
          "dash": "solid",
          "shape": "linear",
          "width": 1.3
         },
         "marker": {
          "size": 2,
          "symbol": "circle"
         },
         "mode": "markers",
         "name": "D",
         "text": "",
         "type": "scatter",
         "x": [
          0.5217537784129974,
          0.3309749226115375,
          -1.193876709659765,
          0.44343923119185524,
          -0.18931392017075624,
          0.173205767535824,
          0.696775738847488,
          -2.014191654816539,
          -0.3260508724875542,
          1.7018734448037018,
          -0.3578297915922514,
          0.795878744012465,
          -0.6221105875227282,
          0.1795158852025101,
          -0.5263018890301373,
          -1.6579984218119408,
          1.5734505787806656,
          0.09347039337484478,
          0.22695335836177413,
          1.74135293216879,
          0.8543457987432498,
          1.6668700893834498,
          0.21509981024768562,
          0.05147367659147075,
          0.595348020727714,
          1.3425773565713435,
          0.5056396605572587,
          0.7004964136717756,
          -0.11611198442315279,
          0.7084287321300998,
          -0.7109807917845864,
          0.243838163690604,
          -0.052769434282530246,
          0.65197584784953,
          0.15111623638211763,
          -0.45994422176644884,
          -1.6377125581004068,
          1.6353164567583425,
          -0.02110823435862904,
          0.8662866086795274,
          -0.7992112511748268,
          -1.2091767689531847,
          0.615433464445986,
          -0.6918898665437458,
          -0.22088314776555945,
          -0.36616282407008444,
          1.2391168115335351,
          -0.6051262003388084,
          -1.590191148875863,
          -0.9818480747620559,
          -0.4616387767955757,
          -0.7134294894563353,
          0.07223535070388272,
          0.057558323803864345,
          -0.43681040939791793,
          0.4689372999801223,
          1.502366134331344,
          0.7308934048604777,
          -1.8445348233596541,
          -0.023749777252913405,
          0.07027259389091652,
          0.795641143639049,
          0.14650863736209424,
          -0.289159142974127,
          -1.2748625970110754,
          -0.2774290754016461,
          0.8781245042054561,
          -0.8697236584897804,
          0.07199053776509524,
          -1.757042236586087,
          0.39716974253845905,
          0.1654662688475511,
          -0.33199426676448535,
          0.7744544397767887,
          1.1793804702730013,
          -0.9462622397360114,
          0.7557618474116468,
          -0.5317089300673019,
          0.04458895563719713,
          -0.3484351357629532,
          0.9637309052261983,
          0.5769189564311794,
          0.08063722123130981,
          0.5023295174559748,
          -0.7596996515964047,
          1.4161337913043834,
          1.9283827384775984,
          -1.6721607391450544,
          0.4553713821873685,
          -0.3971879291836942,
          0.17041840171947764,
          -1.1644496531098152,
          0.15295268302093223,
          -0.18904846215760945,
          0.2400629991205869,
          -0.010061126559507024,
          0.8658858707404796,
          1.056913755398305,
          0.862841462797941,
          0.47176134545444554
         ],
         "xaxis": "x13",
         "y": [
          0.6778729725043644,
          1.8059030764379598,
          -0.8427894394917019,
          0.7028364071414452,
          0.825571631036336,
          1.2051120547600316,
          0.7244139364195797,
          -1.3559348657071273,
          0.308024975632527,
          1.5983724409903277,
          -0.6576379587296303,
          0.7993403925019309,
          -2.053115218099911,
          0.2646019343945171,
          0.08754753975747707,
          -1.2427612499539613,
          1.4754629908026846,
          -1.4811321630576677,
          -0.7594373064233083,
          -0.12750497178924067,
          -0.9268168563442297,
          0.5974046066257698,
          -0.24292065362520213,
          -0.9649714681828205,
          -0.8750636064485101,
          0.9197750708901921,
          -0.7480168853760317,
          -0.21328878614093316,
          -0.07067969844926104,
          -0.27659078776879303,
          -0.1539470600069913,
          -1.4364152652969937,
          0.6215680045149821,
          -0.48656860575540056,
          0.5860063525576973,
          1.9532791720799327,
          -0.3104503972645789,
          -1.3654328722807976,
          -1.849019483939876,
          -0.09336559614620331,
          0.13796389663084496,
          -2.3368087222436547,
          -0.6740237740011111,
          -0.38813886664316555,
          -1.9610870166233894,
          1.3395529043070529,
          -1.250301608200872,
          -0.9509762415784829,
          0.4956869652378916,
          -1.652979492017329,
          0.7965335618604886,
          0.15634707733563813,
          -0.19479389896442964,
          -1.227555406619242,
          -0.5148957417108884,
          0.40242052930592775,
          -0.6158801987936839,
          1.177784819208276,
          0.11262827876844117,
          -0.4843349673116165,
          0.2945782550901206,
          -0.934384920930522,
          1.3574266011483518,
          -0.7294098196699667,
          0.7694541209231814,
          -0.3072129719491864,
          -0.6898730900175366,
          0.5616101475751268,
          1.0608130901361357,
          0.3365113202896197,
          0.802895786173727,
          1.1807526832244597,
          1.4797589854368138,
          -1.6835543921364118,
          -2.3973178545282576,
          -0.07729738106454107,
          -1.4423464202587457,
          -0.8575416103465401,
          -0.39840166643721536,
          -0.06541299297405546,
          -0.07624090039277232,
          -0.24922141663777242,
          1.9727778289235816,
          -0.3232704694600576,
          -0.6814286088775799,
          0.46580194086213295,
          0.9803989561322469,
          -1.4079738707164426,
          0.8443446110505288,
          -1.5775361603642126,
          -0.4947820803002275,
          0.70008140358095,
          -0.8521409087449835,
          0.35206004338908614,
          0.11794839018660937,
          -1.8289443292834922,
          -0.4425082344438239,
          -1.220386257042587,
          -0.23203980086744277,
          1.2682405988455958
         ],
         "yaxis": "y13"
        },
        {
         "line": {
          "color": "rgba(128, 128, 128, 1.0)",
          "dash": "solid",
          "shape": "linear",
          "width": 1.3
         },
         "marker": {
          "size": 2,
          "symbol": "circle"
         },
         "mode": "markers",
         "name": "D",
         "text": "",
         "type": "scatter",
         "x": [
          -0.39261445799361727,
          0.22580367056171108,
          0.25483863748102475,
          0.9905938087654146,
          -0.3454489749148752,
          0.5862541601958202,
          0.04228997696170449,
          -1.5099138219153663,
          -1.4985134831759215,
          0.09468800407249342,
          -0.6529428511506372,
          0.11140377407013143,
          0.2986561002471471,
          -0.6958738060209194,
          1.6280048100235736,
          -1.4414780265052891,
          -1.0091162361804633,
          -0.4358346913952342,
          0.9644518693267125,
          1.339378202043062,
          -1.009276170450571,
          0.355374750343669,
          2.4613393443673854,
          1.1250694379563946,
          -0.3101218143757754,
          0.21931795568428836,
          -1.1034092566915703,
          0.34792501227665257,
          0.5640927383340527,
          2.005692956097845,
          -1.3763340171658087,
          -0.5516546832432645,
          -0.4322623433505339,
          -1.4069669300676437,
          0.9925196666613212,
          -0.3174599626785784,
          -1.402277482694772,
          1.5941004088534267,
          -0.20902468508344935,
          1.7723686071566995,
          1.0255780072645866,
          0.3611684560390772,
          -0.9876425439197813,
          2.0634227790927873,
          0.5808836005391271,
          2.085501418876228,
          -0.1669861926278503,
          2.4188376530846787,
          -1.7854249534372195,
          -2.0250332266149442,
          -0.54463884665561,
          0.990855608274131,
          -1.4367068235569664,
          -0.4429595086434903,
          0.2807870731341278,
          -1.2933742820918692,
          -0.1556993337542278,
          -1.1504599947642138,
          0.6624811468344771,
          -0.9756259309342289,
          0.8167384140483486,
          -0.5345985813863435,
          -0.27727702113759906,
          0.19310545663846124,
          -1.532902312679032,
          -0.028100975887289895,
          -1.9959810670789664,
          0.2243920084584965,
          -0.6600578441118969,
          1.3352710743039025,
          -1.398424039696386,
          0.8462771387518341,
          0.11236464635976393,
          -0.15515819132980102,
          1.3302994525696428,
          -0.5868131798941717,
          1.3234568595593719,
          0.8499332074462286,
          -0.08224166207067568,
          0.6328294865034617,
          0.06679708452559546,
          -0.23350689690678816,
          -2.7527613522856362,
          0.9548230886533037,
          -0.5190830632490822,
          -0.42926880006980395,
          0.236960866081998,
          -1.9304304156678027,
          0.5350138717457857,
          -0.6962587707076815,
          -0.1957102445287146,
          -1.3072663184338325,
          -0.10554726253657928,
          0.20192027205191437,
          -0.3790196316097984,
          -0.47639675723883623,
          -0.2596209420386043,
          1.4129214345638288,
          1.215471680596547,
          -1.0518754451458192
         ],
         "xaxis": "x14",
         "y": [
          0.6778729725043644,
          1.8059030764379598,
          -0.8427894394917019,
          0.7028364071414452,
          0.825571631036336,
          1.2051120547600316,
          0.7244139364195797,
          -1.3559348657071273,
          0.308024975632527,
          1.5983724409903277,
          -0.6576379587296303,
          0.7993403925019309,
          -2.053115218099911,
          0.2646019343945171,
          0.08754753975747707,
          -1.2427612499539613,
          1.4754629908026846,
          -1.4811321630576677,
          -0.7594373064233083,
          -0.12750497178924067,
          -0.9268168563442297,
          0.5974046066257698,
          -0.24292065362520213,
          -0.9649714681828205,
          -0.8750636064485101,
          0.9197750708901921,
          -0.7480168853760317,
          -0.21328878614093316,
          -0.07067969844926104,
          -0.27659078776879303,
          -0.1539470600069913,
          -1.4364152652969937,
          0.6215680045149821,
          -0.48656860575540056,
          0.5860063525576973,
          1.9532791720799327,
          -0.3104503972645789,
          -1.3654328722807976,
          -1.849019483939876,
          -0.09336559614620331,
          0.13796389663084496,
          -2.3368087222436547,
          -0.6740237740011111,
          -0.38813886664316555,
          -1.9610870166233894,
          1.3395529043070529,
          -1.250301608200872,
          -0.9509762415784829,
          0.4956869652378916,
          -1.652979492017329,
          0.7965335618604886,
          0.15634707733563813,
          -0.19479389896442964,
          -1.227555406619242,
          -0.5148957417108884,
          0.40242052930592775,
          -0.6158801987936839,
          1.177784819208276,
          0.11262827876844117,
          -0.4843349673116165,
          0.2945782550901206,
          -0.934384920930522,
          1.3574266011483518,
          -0.7294098196699667,
          0.7694541209231814,
          -0.3072129719491864,
          -0.6898730900175366,
          0.5616101475751268,
          1.0608130901361357,
          0.3365113202896197,
          0.802895786173727,
          1.1807526832244597,
          1.4797589854368138,
          -1.6835543921364118,
          -2.3973178545282576,
          -0.07729738106454107,
          -1.4423464202587457,
          -0.8575416103465401,
          -0.39840166643721536,
          -0.06541299297405546,
          -0.07624090039277232,
          -0.24922141663777242,
          1.9727778289235816,
          -0.3232704694600576,
          -0.6814286088775799,
          0.46580194086213295,
          0.9803989561322469,
          -1.4079738707164426,
          0.8443446110505288,
          -1.5775361603642126,
          -0.4947820803002275,
          0.70008140358095,
          -0.8521409087449835,
          0.35206004338908614,
          0.11794839018660937,
          -1.8289443292834922,
          -0.4425082344438239,
          -1.220386257042587,
          -0.23203980086744277,
          1.2682405988455958
         ],
         "yaxis": "y14"
        },
        {
         "line": {
          "color": "rgba(128, 128, 128, 1.0)",
          "dash": "solid",
          "shape": "linear",
          "width": 1.3
         },
         "marker": {
          "size": 2,
          "symbol": "circle"
         },
         "mode": "markers",
         "name": "D",
         "text": "",
         "type": "scatter",
         "x": [
          -0.5314652877495902,
          2.2186474760330563,
          -0.6389682720126716,
          1.3793555469949645,
          0.1645065101816152,
          0.8429482043939898,
          -0.020441894851906117,
          1.0039693363469748,
          0.2644494966560863,
          -0.6277884709802357,
          0.9396227469133503,
          0.7169980627028582,
          0.23737090856245152,
          1.7462968082547403,
          -0.8154127844004201,
          -1.5939071468516273,
          0.2653426342888696,
          -2.2057132597745017,
          0.18843501983927433,
          0.2533201514329437,
          -0.481776439793337,
          1.2604071475703236,
          0.03342545347522977,
          -1.0255820892293614,
          1.049403871745054,
          -0.5449269397249219,
          0.6927506838105815,
          0.8569045690829772,
          0.6960801094805269,
          0.41228120735289325,
          -0.5347954717069701,
          0.6525900328951344,
          -0.9031621695336286,
          -0.7771738316054332,
          -0.4608559749506431,
          -1.873812720261879,
          1.451550493126228,
          -0.3464470009976206,
          1.2972655948243323,
          -1.462934082674206,
          1.5889668475082657,
          -1.1804747958493478,
          0.14736945716833635,
          -0.7217551180817706,
          0.486407896985243,
          2.5557679354654517,
          0.9266858465700915,
          1.047813987372427,
          0.46411143353768314,
          -0.7232162319933524,
          -0.6289775250999133,
          -1.1645792924981966,
          0.75643643351788,
          -0.8594027664490006,
          0.0008668968465360472,
          -1.3856077357804701,
          0.14448886537292585,
          -1.6025002278390523,
          0.9195575608631161,
          -0.17469686289299635,
          -1.367049261635498,
          -0.27590249827233715,
          -0.9119076275662321,
          1.3073348052081717,
          0.8198468187216309,
          0.6346908590004512,
          0.35686053181505784,
          0.706366878137112,
          -2.060526063616883,
          -0.5532522643764815,
          -0.04314602830520446,
          -0.30337006507846476,
          1.3711763571046398,
          0.4965487424074641,
          1.0483377991076952,
          -0.7306042704368239,
          -1.767726526012954,
          -0.22378833249331728,
          1.601121309317086,
          0.8828103257648692,
          0.1826898270480904,
          -1.5991846579476228,
          0.6064089004607497,
          0.7304265150271423,
          -1.0517525399387608,
          0.2511415655874058,
          1.2509386690441953,
          -0.5627840069345255,
          1.6852116648377633,
          -0.11024553099954161,
          -0.7630707594050132,
          0.3296679782933773,
          1.3684849781430115,
          0.27698460569843913,
          0.7056148743119981,
          -0.10728295357837499,
          -0.3259299468930852,
          -0.18231346193029901,
          -1.4556732879652434,
          -0.6220954124482995
         ],
         "xaxis": "x15",
         "y": [
          0.6778729725043644,
          1.8059030764379598,
          -0.8427894394917019,
          0.7028364071414452,
          0.825571631036336,
          1.2051120547600316,
          0.7244139364195797,
          -1.3559348657071273,
          0.308024975632527,
          1.5983724409903277,
          -0.6576379587296303,
          0.7993403925019309,
          -2.053115218099911,
          0.2646019343945171,
          0.08754753975747707,
          -1.2427612499539613,
          1.4754629908026846,
          -1.4811321630576677,
          -0.7594373064233083,
          -0.12750497178924067,
          -0.9268168563442297,
          0.5974046066257698,
          -0.24292065362520213,
          -0.9649714681828205,
          -0.8750636064485101,
          0.9197750708901921,
          -0.7480168853760317,
          -0.21328878614093316,
          -0.07067969844926104,
          -0.27659078776879303,
          -0.1539470600069913,
          -1.4364152652969937,
          0.6215680045149821,
          -0.48656860575540056,
          0.5860063525576973,
          1.9532791720799327,
          -0.3104503972645789,
          -1.3654328722807976,
          -1.849019483939876,
          -0.09336559614620331,
          0.13796389663084496,
          -2.3368087222436547,
          -0.6740237740011111,
          -0.38813886664316555,
          -1.9610870166233894,
          1.3395529043070529,
          -1.250301608200872,
          -0.9509762415784829,
          0.4956869652378916,
          -1.652979492017329,
          0.7965335618604886,
          0.15634707733563813,
          -0.19479389896442964,
          -1.227555406619242,
          -0.5148957417108884,
          0.40242052930592775,
          -0.6158801987936839,
          1.177784819208276,
          0.11262827876844117,
          -0.4843349673116165,
          0.2945782550901206,
          -0.934384920930522,
          1.3574266011483518,
          -0.7294098196699667,
          0.7694541209231814,
          -0.3072129719491864,
          -0.6898730900175366,
          0.5616101475751268,
          1.0608130901361357,
          0.3365113202896197,
          0.802895786173727,
          1.1807526832244597,
          1.4797589854368138,
          -1.6835543921364118,
          -2.3973178545282576,
          -0.07729738106454107,
          -1.4423464202587457,
          -0.8575416103465401,
          -0.39840166643721536,
          -0.06541299297405546,
          -0.07624090039277232,
          -0.24922141663777242,
          1.9727778289235816,
          -0.3232704694600576,
          -0.6814286088775799,
          0.46580194086213295,
          0.9803989561322469,
          -1.4079738707164426,
          0.8443446110505288,
          -1.5775361603642126,
          -0.4947820803002275,
          0.70008140358095,
          -0.8521409087449835,
          0.35206004338908614,
          0.11794839018660937,
          -1.8289443292834922,
          -0.4425082344438239,
          -1.220386257042587,
          -0.23203980086744277,
          1.2682405988455958
         ],
         "yaxis": "y15"
        },
        {
         "histfunc": "count",
         "histnorm": "",
         "marker": {
          "color": "rgba(128, 0, 128, 1.0)",
          "line": {
           "color": "#4D5663",
           "width": 1.3
          }
         },
         "name": "D",
         "nbinsx": 10,
         "opacity": 0.8,
         "orientation": "v",
         "type": "histogram",
         "x": [
          0.6778729725043644,
          1.8059030764379598,
          -0.8427894394917019,
          0.7028364071414452,
          0.825571631036336,
          1.2051120547600316,
          0.7244139364195797,
          -1.3559348657071273,
          0.308024975632527,
          1.5983724409903277,
          -0.6576379587296303,
          0.7993403925019309,
          -2.053115218099911,
          0.2646019343945171,
          0.08754753975747707,
          -1.2427612499539613,
          1.4754629908026846,
          -1.4811321630576677,
          -0.7594373064233083,
          -0.12750497178924067,
          -0.9268168563442297,
          0.5974046066257698,
          -0.24292065362520213,
          -0.9649714681828205,
          -0.8750636064485101,
          0.9197750708901921,
          -0.7480168853760317,
          -0.21328878614093316,
          -0.07067969844926104,
          -0.27659078776879303,
          -0.1539470600069913,
          -1.4364152652969937,
          0.6215680045149821,
          -0.48656860575540056,
          0.5860063525576973,
          1.9532791720799327,
          -0.3104503972645789,
          -1.3654328722807976,
          -1.849019483939876,
          -0.09336559614620331,
          0.13796389663084496,
          -2.3368087222436547,
          -0.6740237740011111,
          -0.38813886664316555,
          -1.9610870166233894,
          1.3395529043070529,
          -1.250301608200872,
          -0.9509762415784829,
          0.4956869652378916,
          -1.652979492017329,
          0.7965335618604886,
          0.15634707733563813,
          -0.19479389896442964,
          -1.227555406619242,
          -0.5148957417108884,
          0.40242052930592775,
          -0.6158801987936839,
          1.177784819208276,
          0.11262827876844117,
          -0.4843349673116165,
          0.2945782550901206,
          -0.934384920930522,
          1.3574266011483518,
          -0.7294098196699667,
          0.7694541209231814,
          -0.3072129719491864,
          -0.6898730900175366,
          0.5616101475751268,
          1.0608130901361357,
          0.3365113202896197,
          0.802895786173727,
          1.1807526832244597,
          1.4797589854368138,
          -1.6835543921364118,
          -2.3973178545282576,
          -0.07729738106454107,
          -1.4423464202587457,
          -0.8575416103465401,
          -0.39840166643721536,
          -0.06541299297405546,
          -0.07624090039277232,
          -0.24922141663777242,
          1.9727778289235816,
          -0.3232704694600576,
          -0.6814286088775799,
          0.46580194086213295,
          0.9803989561322469,
          -1.4079738707164426,
          0.8443446110505288,
          -1.5775361603642126,
          -0.4947820803002275,
          0.70008140358095,
          -0.8521409087449835,
          0.35206004338908614,
          0.11794839018660937,
          -1.8289443292834922,
          -0.4425082344438239,
          -1.220386257042587,
          -0.23203980086744277,
          1.2682405988455958
         ],
         "xaxis": "x16",
         "yaxis": "y16"
        }
       ],
       "layout": {
        "bargap": 0.02,
        "legend": {
         "bgcolor": "#F5F6F9",
         "font": {
          "color": "#4D5663"
         }
        },
        "paper_bgcolor": "#F5F6F9",
        "plot_bgcolor": "#F5F6F9",
        "showlegend": false,
        "template": {
         "data": {
          "bar": [
           {
            "error_x": {
             "color": "#2a3f5f"
            },
            "error_y": {
             "color": "#2a3f5f"
            },
            "marker": {
             "line": {
              "color": "#E5ECF6",
              "width": 0.5
             }
            },
            "type": "bar"
           }
          ],
          "barpolar": [
           {
            "marker": {
             "line": {
              "color": "#E5ECF6",
              "width": 0.5
             }
            },
            "type": "barpolar"
           }
          ],
          "carpet": [
           {
            "aaxis": {
             "endlinecolor": "#2a3f5f",
             "gridcolor": "white",
             "linecolor": "white",
             "minorgridcolor": "white",
             "startlinecolor": "#2a3f5f"
            },
            "baxis": {
             "endlinecolor": "#2a3f5f",
             "gridcolor": "white",
             "linecolor": "white",
             "minorgridcolor": "white",
             "startlinecolor": "#2a3f5f"
            },
            "type": "carpet"
           }
          ],
          "choropleth": [
           {
            "colorbar": {
             "outlinewidth": 0,
             "ticks": ""
            },
            "type": "choropleth"
           }
          ],
          "contour": [
           {
            "colorbar": {
             "outlinewidth": 0,
             "ticks": ""
            },
            "colorscale": [
             [
              0,
              "#0d0887"
             ],
             [
              0.1111111111111111,
              "#46039f"
             ],
             [
              0.2222222222222222,
              "#7201a8"
             ],
             [
              0.3333333333333333,
              "#9c179e"
             ],
             [
              0.4444444444444444,
              "#bd3786"
             ],
             [
              0.5555555555555556,
              "#d8576b"
             ],
             [
              0.6666666666666666,
              "#ed7953"
             ],
             [
              0.7777777777777778,
              "#fb9f3a"
             ],
             [
              0.8888888888888888,
              "#fdca26"
             ],
             [
              1,
              "#f0f921"
             ]
            ],
            "type": "contour"
           }
          ],
          "contourcarpet": [
           {
            "colorbar": {
             "outlinewidth": 0,
             "ticks": ""
            },
            "type": "contourcarpet"
           }
          ],
          "heatmap": [
           {
            "colorbar": {
             "outlinewidth": 0,
             "ticks": ""
            },
            "colorscale": [
             [
              0,
              "#0d0887"
             ],
             [
              0.1111111111111111,
              "#46039f"
             ],
             [
              0.2222222222222222,
              "#7201a8"
             ],
             [
              0.3333333333333333,
              "#9c179e"
             ],
             [
              0.4444444444444444,
              "#bd3786"
             ],
             [
              0.5555555555555556,
              "#d8576b"
             ],
             [
              0.6666666666666666,
              "#ed7953"
             ],
             [
              0.7777777777777778,
              "#fb9f3a"
             ],
             [
              0.8888888888888888,
              "#fdca26"
             ],
             [
              1,
              "#f0f921"
             ]
            ],
            "type": "heatmap"
           }
          ],
          "heatmapgl": [
           {
            "colorbar": {
             "outlinewidth": 0,
             "ticks": ""
            },
            "colorscale": [
             [
              0,
              "#0d0887"
             ],
             [
              0.1111111111111111,
              "#46039f"
             ],
             [
              0.2222222222222222,
              "#7201a8"
             ],
             [
              0.3333333333333333,
              "#9c179e"
             ],
             [
              0.4444444444444444,
              "#bd3786"
             ],
             [
              0.5555555555555556,
              "#d8576b"
             ],
             [
              0.6666666666666666,
              "#ed7953"
             ],
             [
              0.7777777777777778,
              "#fb9f3a"
             ],
             [
              0.8888888888888888,
              "#fdca26"
             ],
             [
              1,
              "#f0f921"
             ]
            ],
            "type": "heatmapgl"
           }
          ],
          "histogram": [
           {
            "marker": {
             "colorbar": {
              "outlinewidth": 0,
              "ticks": ""
             }
            },
            "type": "histogram"
           }
          ],
          "histogram2d": [
           {
            "colorbar": {
             "outlinewidth": 0,
             "ticks": ""
            },
            "colorscale": [
             [
              0,
              "#0d0887"
             ],
             [
              0.1111111111111111,
              "#46039f"
             ],
             [
              0.2222222222222222,
              "#7201a8"
             ],
             [
              0.3333333333333333,
              "#9c179e"
             ],
             [
              0.4444444444444444,
              "#bd3786"
             ],
             [
              0.5555555555555556,
              "#d8576b"
             ],
             [
              0.6666666666666666,
              "#ed7953"
             ],
             [
              0.7777777777777778,
              "#fb9f3a"
             ],
             [
              0.8888888888888888,
              "#fdca26"
             ],
             [
              1,
              "#f0f921"
             ]
            ],
            "type": "histogram2d"
           }
          ],
          "histogram2dcontour": [
           {
            "colorbar": {
             "outlinewidth": 0,
             "ticks": ""
            },
            "colorscale": [
             [
              0,
              "#0d0887"
             ],
             [
              0.1111111111111111,
              "#46039f"
             ],
             [
              0.2222222222222222,
              "#7201a8"
             ],
             [
              0.3333333333333333,
              "#9c179e"
             ],
             [
              0.4444444444444444,
              "#bd3786"
             ],
             [
              0.5555555555555556,
              "#d8576b"
             ],
             [
              0.6666666666666666,
              "#ed7953"
             ],
             [
              0.7777777777777778,
              "#fb9f3a"
             ],
             [
              0.8888888888888888,
              "#fdca26"
             ],
             [
              1,
              "#f0f921"
             ]
            ],
            "type": "histogram2dcontour"
           }
          ],
          "mesh3d": [
           {
            "colorbar": {
             "outlinewidth": 0,
             "ticks": ""
            },
            "type": "mesh3d"
           }
          ],
          "parcoords": [
           {
            "line": {
             "colorbar": {
              "outlinewidth": 0,
              "ticks": ""
             }
            },
            "type": "parcoords"
           }
          ],
          "pie": [
           {
            "automargin": true,
            "type": "pie"
           }
          ],
          "scatter": [
           {
            "marker": {
             "colorbar": {
              "outlinewidth": 0,
              "ticks": ""
             }
            },
            "type": "scatter"
           }
          ],
          "scatter3d": [
           {
            "line": {
             "colorbar": {
              "outlinewidth": 0,
              "ticks": ""
             }
            },
            "marker": {
             "colorbar": {
              "outlinewidth": 0,
              "ticks": ""
             }
            },
            "type": "scatter3d"
           }
          ],
          "scattercarpet": [
           {
            "marker": {
             "colorbar": {
              "outlinewidth": 0,
              "ticks": ""
             }
            },
            "type": "scattercarpet"
           }
          ],
          "scattergeo": [
           {
            "marker": {
             "colorbar": {
              "outlinewidth": 0,
              "ticks": ""
             }
            },
            "type": "scattergeo"
           }
          ],
          "scattergl": [
           {
            "marker": {
             "colorbar": {
              "outlinewidth": 0,
              "ticks": ""
             }
            },
            "type": "scattergl"
           }
          ],
          "scattermapbox": [
           {
            "marker": {
             "colorbar": {
              "outlinewidth": 0,
              "ticks": ""
             }
            },
            "type": "scattermapbox"
           }
          ],
          "scatterpolar": [
           {
            "marker": {
             "colorbar": {
              "outlinewidth": 0,
              "ticks": ""
             }
            },
            "type": "scatterpolar"
           }
          ],
          "scatterpolargl": [
           {
            "marker": {
             "colorbar": {
              "outlinewidth": 0,
              "ticks": ""
             }
            },
            "type": "scatterpolargl"
           }
          ],
          "scatterternary": [
           {
            "marker": {
             "colorbar": {
              "outlinewidth": 0,
              "ticks": ""
             }
            },
            "type": "scatterternary"
           }
          ],
          "surface": [
           {
            "colorbar": {
             "outlinewidth": 0,
             "ticks": ""
            },
            "colorscale": [
             [
              0,
              "#0d0887"
             ],
             [
              0.1111111111111111,
              "#46039f"
             ],
             [
              0.2222222222222222,
              "#7201a8"
             ],
             [
              0.3333333333333333,
              "#9c179e"
             ],
             [
              0.4444444444444444,
              "#bd3786"
             ],
             [
              0.5555555555555556,
              "#d8576b"
             ],
             [
              0.6666666666666666,
              "#ed7953"
             ],
             [
              0.7777777777777778,
              "#fb9f3a"
             ],
             [
              0.8888888888888888,
              "#fdca26"
             ],
             [
              1,
              "#f0f921"
             ]
            ],
            "type": "surface"
           }
          ],
          "table": [
           {
            "cells": {
             "fill": {
              "color": "#EBF0F8"
             },
             "line": {
              "color": "white"
             }
            },
            "header": {
             "fill": {
              "color": "#C8D4E3"
             },
             "line": {
              "color": "white"
             }
            },
            "type": "table"
           }
          ]
         },
         "layout": {
          "annotationdefaults": {
           "arrowcolor": "#2a3f5f",
           "arrowhead": 0,
           "arrowwidth": 1
          },
          "coloraxis": {
           "colorbar": {
            "outlinewidth": 0,
            "ticks": ""
           }
          },
          "colorscale": {
           "diverging": [
            [
             0,
             "#8e0152"
            ],
            [
             0.1,
             "#c51b7d"
            ],
            [
             0.2,
             "#de77ae"
            ],
            [
             0.3,
             "#f1b6da"
            ],
            [
             0.4,
             "#fde0ef"
            ],
            [
             0.5,
             "#f7f7f7"
            ],
            [
             0.6,
             "#e6f5d0"
            ],
            [
             0.7,
             "#b8e186"
            ],
            [
             0.8,
             "#7fbc41"
            ],
            [
             0.9,
             "#4d9221"
            ],
            [
             1,
             "#276419"
            ]
           ],
           "sequential": [
            [
             0,
             "#0d0887"
            ],
            [
             0.1111111111111111,
             "#46039f"
            ],
            [
             0.2222222222222222,
             "#7201a8"
            ],
            [
             0.3333333333333333,
             "#9c179e"
            ],
            [
             0.4444444444444444,
             "#bd3786"
            ],
            [
             0.5555555555555556,
             "#d8576b"
            ],
            [
             0.6666666666666666,
             "#ed7953"
            ],
            [
             0.7777777777777778,
             "#fb9f3a"
            ],
            [
             0.8888888888888888,
             "#fdca26"
            ],
            [
             1,
             "#f0f921"
            ]
           ],
           "sequentialminus": [
            [
             0,
             "#0d0887"
            ],
            [
             0.1111111111111111,
             "#46039f"
            ],
            [
             0.2222222222222222,
             "#7201a8"
            ],
            [
             0.3333333333333333,
             "#9c179e"
            ],
            [
             0.4444444444444444,
             "#bd3786"
            ],
            [
             0.5555555555555556,
             "#d8576b"
            ],
            [
             0.6666666666666666,
             "#ed7953"
            ],
            [
             0.7777777777777778,
             "#fb9f3a"
            ],
            [
             0.8888888888888888,
             "#fdca26"
            ],
            [
             1,
             "#f0f921"
            ]
           ]
          },
          "colorway": [
           "#636efa",
           "#EF553B",
           "#00cc96",
           "#ab63fa",
           "#FFA15A",
           "#19d3f3",
           "#FF6692",
           "#B6E880",
           "#FF97FF",
           "#FECB52"
          ],
          "font": {
           "color": "#2a3f5f"
          },
          "geo": {
           "bgcolor": "white",
           "lakecolor": "white",
           "landcolor": "#E5ECF6",
           "showlakes": true,
           "showland": true,
           "subunitcolor": "white"
          },
          "hoverlabel": {
           "align": "left"
          },
          "hovermode": "closest",
          "mapbox": {
           "style": "light"
          },
          "paper_bgcolor": "white",
          "plot_bgcolor": "#E5ECF6",
          "polar": {
           "angularaxis": {
            "gridcolor": "white",
            "linecolor": "white",
            "ticks": ""
           },
           "bgcolor": "#E5ECF6",
           "radialaxis": {
            "gridcolor": "white",
            "linecolor": "white",
            "ticks": ""
           }
          },
          "scene": {
           "xaxis": {
            "backgroundcolor": "#E5ECF6",
            "gridcolor": "white",
            "gridwidth": 2,
            "linecolor": "white",
            "showbackground": true,
            "ticks": "",
            "zerolinecolor": "white"
           },
           "yaxis": {
            "backgroundcolor": "#E5ECF6",
            "gridcolor": "white",
            "gridwidth": 2,
            "linecolor": "white",
            "showbackground": true,
            "ticks": "",
            "zerolinecolor": "white"
           },
           "zaxis": {
            "backgroundcolor": "#E5ECF6",
            "gridcolor": "white",
            "gridwidth": 2,
            "linecolor": "white",
            "showbackground": true,
            "ticks": "",
            "zerolinecolor": "white"
           }
          },
          "shapedefaults": {
           "line": {
            "color": "#2a3f5f"
           }
          },
          "ternary": {
           "aaxis": {
            "gridcolor": "white",
            "linecolor": "white",
            "ticks": ""
           },
           "baxis": {
            "gridcolor": "white",
            "linecolor": "white",
            "ticks": ""
           },
           "bgcolor": "#E5ECF6",
           "caxis": {
            "gridcolor": "white",
            "linecolor": "white",
            "ticks": ""
           }
          },
          "title": {
           "x": 0.05
          },
          "xaxis": {
           "automargin": true,
           "gridcolor": "white",
           "linecolor": "white",
           "ticks": "",
           "title": {
            "standoff": 15
           },
           "zerolinecolor": "white",
           "zerolinewidth": 2
          },
          "yaxis": {
           "automargin": true,
           "gridcolor": "white",
           "linecolor": "white",
           "ticks": "",
           "title": {
            "standoff": 15
           },
           "zerolinecolor": "white",
           "zerolinewidth": 2
          }
         }
        },
        "title": {
         "font": {
          "color": "#4D5663"
         }
        },
        "xaxis": {
         "anchor": "y",
         "domain": [
          0,
          0.2125
         ],
         "gridcolor": "#E1E5ED",
         "showgrid": false,
         "tickfont": {
          "color": "#4D5663"
         },
         "title": {
          "font": {
           "color": "#4D5663"
          },
          "text": ""
         },
         "zerolinecolor": "#E1E5ED"
        },
        "xaxis10": {
         "anchor": "y10",
         "domain": [
          0.2625,
          0.475
         ],
         "gridcolor": "#E1E5ED",
         "showgrid": false,
         "tickfont": {
          "color": "#4D5663"
         },
         "title": {
          "font": {
           "color": "#4D5663"
          },
          "text": ""
         },
         "zerolinecolor": "#E1E5ED"
        },
        "xaxis11": {
         "anchor": "y11",
         "domain": [
          0.525,
          0.7375
         ],
         "gridcolor": "#E1E5ED",
         "showgrid": false,
         "tickfont": {
          "color": "#4D5663"
         },
         "title": {
          "font": {
           "color": "#4D5663"
          },
          "text": ""
         },
         "zerolinecolor": "#E1E5ED"
        },
        "xaxis12": {
         "anchor": "y12",
         "domain": [
          0.7875,
          1
         ],
         "gridcolor": "#E1E5ED",
         "showgrid": false,
         "tickfont": {
          "color": "#4D5663"
         },
         "title": {
          "font": {
           "color": "#4D5663"
          },
          "text": ""
         },
         "zerolinecolor": "#E1E5ED"
        },
        "xaxis13": {
         "anchor": "y13",
         "domain": [
          0,
          0.2125
         ],
         "gridcolor": "#E1E5ED",
         "showgrid": false,
         "tickfont": {
          "color": "#4D5663"
         },
         "title": {
          "font": {
           "color": "#4D5663"
          },
          "text": ""
         },
         "zerolinecolor": "#E1E5ED"
        },
        "xaxis14": {
         "anchor": "y14",
         "domain": [
          0.2625,
          0.475
         ],
         "gridcolor": "#E1E5ED",
         "showgrid": false,
         "tickfont": {
          "color": "#4D5663"
         },
         "title": {
          "font": {
           "color": "#4D5663"
          },
          "text": ""
         },
         "zerolinecolor": "#E1E5ED"
        },
        "xaxis15": {
         "anchor": "y15",
         "domain": [
          0.525,
          0.7375
         ],
         "gridcolor": "#E1E5ED",
         "showgrid": false,
         "tickfont": {
          "color": "#4D5663"
         },
         "title": {
          "font": {
           "color": "#4D5663"
          },
          "text": ""
         },
         "zerolinecolor": "#E1E5ED"
        },
        "xaxis16": {
         "anchor": "y16",
         "domain": [
          0.7875,
          1
         ],
         "gridcolor": "#E1E5ED",
         "showgrid": false,
         "tickfont": {
          "color": "#4D5663"
         },
         "title": {
          "font": {
           "color": "#4D5663"
          },
          "text": ""
         },
         "zerolinecolor": "#E1E5ED"
        },
        "xaxis2": {
         "anchor": "y2",
         "domain": [
          0.2625,
          0.475
         ],
         "gridcolor": "#E1E5ED",
         "showgrid": false,
         "tickfont": {
          "color": "#4D5663"
         },
         "title": {
          "font": {
           "color": "#4D5663"
          },
          "text": ""
         },
         "zerolinecolor": "#E1E5ED"
        },
        "xaxis3": {
         "anchor": "y3",
         "domain": [
          0.525,
          0.7375
         ],
         "gridcolor": "#E1E5ED",
         "showgrid": false,
         "tickfont": {
          "color": "#4D5663"
         },
         "title": {
          "font": {
           "color": "#4D5663"
          },
          "text": ""
         },
         "zerolinecolor": "#E1E5ED"
        },
        "xaxis4": {
         "anchor": "y4",
         "domain": [
          0.7875,
          1
         ],
         "gridcolor": "#E1E5ED",
         "showgrid": false,
         "tickfont": {
          "color": "#4D5663"
         },
         "title": {
          "font": {
           "color": "#4D5663"
          },
          "text": ""
         },
         "zerolinecolor": "#E1E5ED"
        },
        "xaxis5": {
         "anchor": "y5",
         "domain": [
          0,
          0.2125
         ],
         "gridcolor": "#E1E5ED",
         "showgrid": false,
         "tickfont": {
          "color": "#4D5663"
         },
         "title": {
          "font": {
           "color": "#4D5663"
          },
          "text": ""
         },
         "zerolinecolor": "#E1E5ED"
        },
        "xaxis6": {
         "anchor": "y6",
         "domain": [
          0.2625,
          0.475
         ],
         "gridcolor": "#E1E5ED",
         "showgrid": false,
         "tickfont": {
          "color": "#4D5663"
         },
         "title": {
          "font": {
           "color": "#4D5663"
          },
          "text": ""
         },
         "zerolinecolor": "#E1E5ED"
        },
        "xaxis7": {
         "anchor": "y7",
         "domain": [
          0.525,
          0.7375
         ],
         "gridcolor": "#E1E5ED",
         "showgrid": false,
         "tickfont": {
          "color": "#4D5663"
         },
         "title": {
          "font": {
           "color": "#4D5663"
          },
          "text": ""
         },
         "zerolinecolor": "#E1E5ED"
        },
        "xaxis8": {
         "anchor": "y8",
         "domain": [
          0.7875,
          1
         ],
         "gridcolor": "#E1E5ED",
         "showgrid": false,
         "tickfont": {
          "color": "#4D5663"
         },
         "title": {
          "font": {
           "color": "#4D5663"
          },
          "text": ""
         },
         "zerolinecolor": "#E1E5ED"
        },
        "xaxis9": {
         "anchor": "y9",
         "domain": [
          0,
          0.2125
         ],
         "gridcolor": "#E1E5ED",
         "showgrid": false,
         "tickfont": {
          "color": "#4D5663"
         },
         "title": {
          "font": {
           "color": "#4D5663"
          },
          "text": ""
         },
         "zerolinecolor": "#E1E5ED"
        },
        "yaxis": {
         "anchor": "x",
         "domain": [
          0.8025,
          1
         ],
         "gridcolor": "#E1E5ED",
         "showgrid": false,
         "tickfont": {
          "color": "#4D5663"
         },
         "title": {
          "font": {
           "color": "#4D5663"
          },
          "text": ""
         },
         "zerolinecolor": "#E1E5ED"
        },
        "yaxis10": {
         "anchor": "x10",
         "domain": [
          0.2675,
          0.465
         ],
         "gridcolor": "#E1E5ED",
         "showgrid": false,
         "tickfont": {
          "color": "#4D5663"
         },
         "title": {
          "font": {
           "color": "#4D5663"
          },
          "text": ""
         },
         "zerolinecolor": "#E1E5ED"
        },
        "yaxis11": {
         "anchor": "x11",
         "domain": [
          0.2675,
          0.465
         ],
         "gridcolor": "#E1E5ED",
         "showgrid": false,
         "tickfont": {
          "color": "#4D5663"
         },
         "title": {
          "font": {
           "color": "#4D5663"
          },
          "text": ""
         },
         "zerolinecolor": "#E1E5ED"
        },
        "yaxis12": {
         "anchor": "x12",
         "domain": [
          0.2675,
          0.465
         ],
         "gridcolor": "#E1E5ED",
         "showgrid": false,
         "tickfont": {
          "color": "#4D5663"
         },
         "title": {
          "font": {
           "color": "#4D5663"
          },
          "text": ""
         },
         "zerolinecolor": "#E1E5ED"
        },
        "yaxis13": {
         "anchor": "x13",
         "domain": [
          0,
          0.1975
         ],
         "gridcolor": "#E1E5ED",
         "showgrid": false,
         "tickfont": {
          "color": "#4D5663"
         },
         "title": {
          "font": {
           "color": "#4D5663"
          },
          "text": ""
         },
         "zerolinecolor": "#E1E5ED"
        },
        "yaxis14": {
         "anchor": "x14",
         "domain": [
          0,
          0.1975
         ],
         "gridcolor": "#E1E5ED",
         "showgrid": false,
         "tickfont": {
          "color": "#4D5663"
         },
         "title": {
          "font": {
           "color": "#4D5663"
          },
          "text": ""
         },
         "zerolinecolor": "#E1E5ED"
        },
        "yaxis15": {
         "anchor": "x15",
         "domain": [
          0,
          0.1975
         ],
         "gridcolor": "#E1E5ED",
         "showgrid": false,
         "tickfont": {
          "color": "#4D5663"
         },
         "title": {
          "font": {
           "color": "#4D5663"
          },
          "text": ""
         },
         "zerolinecolor": "#E1E5ED"
        },
        "yaxis16": {
         "anchor": "x16",
         "domain": [
          0,
          0.1975
         ],
         "gridcolor": "#E1E5ED",
         "showgrid": false,
         "tickfont": {
          "color": "#4D5663"
         },
         "title": {
          "font": {
           "color": "#4D5663"
          },
          "text": ""
         },
         "zerolinecolor": "#E1E5ED"
        },
        "yaxis2": {
         "anchor": "x2",
         "domain": [
          0.8025,
          1
         ],
         "gridcolor": "#E1E5ED",
         "showgrid": false,
         "tickfont": {
          "color": "#4D5663"
         },
         "title": {
          "font": {
           "color": "#4D5663"
          },
          "text": ""
         },
         "zerolinecolor": "#E1E5ED"
        },
        "yaxis3": {
         "anchor": "x3",
         "domain": [
          0.8025,
          1
         ],
         "gridcolor": "#E1E5ED",
         "showgrid": false,
         "tickfont": {
          "color": "#4D5663"
         },
         "title": {
          "font": {
           "color": "#4D5663"
          },
          "text": ""
         },
         "zerolinecolor": "#E1E5ED"
        },
        "yaxis4": {
         "anchor": "x4",
         "domain": [
          0.8025,
          1
         ],
         "gridcolor": "#E1E5ED",
         "showgrid": false,
         "tickfont": {
          "color": "#4D5663"
         },
         "title": {
          "font": {
           "color": "#4D5663"
          },
          "text": ""
         },
         "zerolinecolor": "#E1E5ED"
        },
        "yaxis5": {
         "anchor": "x5",
         "domain": [
          0.535,
          0.7325
         ],
         "gridcolor": "#E1E5ED",
         "showgrid": false,
         "tickfont": {
          "color": "#4D5663"
         },
         "title": {
          "font": {
           "color": "#4D5663"
          },
          "text": ""
         },
         "zerolinecolor": "#E1E5ED"
        },
        "yaxis6": {
         "anchor": "x6",
         "domain": [
          0.535,
          0.7325
         ],
         "gridcolor": "#E1E5ED",
         "showgrid": false,
         "tickfont": {
          "color": "#4D5663"
         },
         "title": {
          "font": {
           "color": "#4D5663"
          },
          "text": ""
         },
         "zerolinecolor": "#E1E5ED"
        },
        "yaxis7": {
         "anchor": "x7",
         "domain": [
          0.535,
          0.7325
         ],
         "gridcolor": "#E1E5ED",
         "showgrid": false,
         "tickfont": {
          "color": "#4D5663"
         },
         "title": {
          "font": {
           "color": "#4D5663"
          },
          "text": ""
         },
         "zerolinecolor": "#E1E5ED"
        },
        "yaxis8": {
         "anchor": "x8",
         "domain": [
          0.535,
          0.7325
         ],
         "gridcolor": "#E1E5ED",
         "showgrid": false,
         "tickfont": {
          "color": "#4D5663"
         },
         "title": {
          "font": {
           "color": "#4D5663"
          },
          "text": ""
         },
         "zerolinecolor": "#E1E5ED"
        },
        "yaxis9": {
         "anchor": "x9",
         "domain": [
          0.2675,
          0.465
         ],
         "gridcolor": "#E1E5ED",
         "showgrid": false,
         "tickfont": {
          "color": "#4D5663"
         },
         "title": {
          "font": {
           "color": "#4D5663"
          },
          "text": ""
         },
         "zerolinecolor": "#E1E5ED"
        }
       }
      },
      "text/html": [
       "<div>                            <div id=\"9d3e8160-4d9f-49a8-8d66-e8862361a6c7\" class=\"plotly-graph-div\" style=\"height:525px; width:100%;\"></div>            <script type=\"text/javascript\">                require([\"plotly\"], function(Plotly) {                    window.PLOTLYENV=window.PLOTLYENV || {};\n",
       "                    window.PLOTLYENV.BASE_URL='https://plot.ly';                                    if (document.getElementById(\"9d3e8160-4d9f-49a8-8d66-e8862361a6c7\")) {                    Plotly.newPlot(                        \"9d3e8160-4d9f-49a8-8d66-e8862361a6c7\",                        [{\"histfunc\": \"count\", \"histnorm\": \"\", \"marker\": {\"color\": \"rgba(255, 153, 51, 1.0)\", \"line\": {\"color\": \"#4D5663\", \"width\": 1.3}}, \"name\": \"A\", \"nbinsx\": 10, \"opacity\": 0.8, \"orientation\": \"v\", \"type\": \"histogram\", \"x\": [0.5217537784129974, 0.3309749226115375, -1.193876709659765, 0.44343923119185524, -0.18931392017075624, 0.173205767535824, 0.696775738847488, -2.014191654816539, -0.3260508724875542, 1.7018734448037018, -0.3578297915922514, 0.795878744012465, -0.6221105875227282, 0.1795158852025101, -0.5263018890301373, -1.6579984218119408, 1.5734505787806656, 0.09347039337484478, 0.22695335836177413, 1.74135293216879, 0.8543457987432498, 1.6668700893834498, 0.21509981024768562, 0.05147367659147075, 0.595348020727714, 1.3425773565713435, 0.5056396605572587, 0.7004964136717756, -0.11611198442315279, 0.7084287321300998, -0.7109807917845864, 0.243838163690604, -0.052769434282530246, 0.65197584784953, 0.15111623638211763, -0.45994422176644884, -1.6377125581004068, 1.6353164567583425, -0.02110823435862904, 0.8662866086795274, -0.7992112511748268, -1.2091767689531847, 0.615433464445986, -0.6918898665437458, -0.22088314776555945, -0.36616282407008444, 1.2391168115335351, -0.6051262003388084, -1.590191148875863, -0.9818480747620559, -0.4616387767955757, -0.7134294894563353, 0.07223535070388272, 0.057558323803864345, -0.43681040939791793, 0.4689372999801223, 1.502366134331344, 0.7308934048604777, -1.8445348233596541, -0.023749777252913405, 0.07027259389091652, 0.795641143639049, 0.14650863736209424, -0.289159142974127, -1.2748625970110754, -0.2774290754016461, 0.8781245042054561, -0.8697236584897804, 0.07199053776509524, -1.757042236586087, 0.39716974253845905, 0.1654662688475511, -0.33199426676448535, 0.7744544397767887, 1.1793804702730013, -0.9462622397360114, 0.7557618474116468, -0.5317089300673019, 0.04458895563719713, -0.3484351357629532, 0.9637309052261983, 0.5769189564311794, 0.08063722123130981, 0.5023295174559748, -0.7596996515964047, 1.4161337913043834, 1.9283827384775984, -1.6721607391450544, 0.4553713821873685, -0.3971879291836942, 0.17041840171947764, -1.1644496531098152, 0.15295268302093223, -0.18904846215760945, 0.2400629991205869, -0.010061126559507024, 0.8658858707404796, 1.056913755398305, 0.862841462797941, 0.47176134545444554], \"xaxis\": \"x\", \"yaxis\": \"y\"}, {\"line\": {\"color\": \"rgba(128, 128, 128, 1.0)\", \"dash\": \"solid\", \"shape\": \"linear\", \"width\": 1.3}, \"marker\": {\"size\": 2, \"symbol\": \"circle\"}, \"mode\": \"markers\", \"name\": \"A\", \"text\": \"\", \"type\": \"scatter\", \"x\": [-0.39261445799361727, 0.22580367056171108, 0.25483863748102475, 0.9905938087654146, -0.3454489749148752, 0.5862541601958202, 0.04228997696170449, -1.5099138219153663, -1.4985134831759215, 0.09468800407249342, -0.6529428511506372, 0.11140377407013143, 0.2986561002471471, -0.6958738060209194, 1.6280048100235736, -1.4414780265052891, -1.0091162361804633, -0.4358346913952342, 0.9644518693267125, 1.339378202043062, -1.009276170450571, 0.355374750343669, 2.4613393443673854, 1.1250694379563946, -0.3101218143757754, 0.21931795568428836, -1.1034092566915703, 0.34792501227665257, 0.5640927383340527, 2.005692956097845, -1.3763340171658087, -0.5516546832432645, -0.4322623433505339, -1.4069669300676437, 0.9925196666613212, -0.3174599626785784, -1.402277482694772, 1.5941004088534267, -0.20902468508344935, 1.7723686071566995, 1.0255780072645866, 0.3611684560390772, -0.9876425439197813, 2.0634227790927873, 0.5808836005391271, 2.085501418876228, -0.1669861926278503, 2.4188376530846787, -1.7854249534372195, -2.0250332266149442, -0.54463884665561, 0.990855608274131, -1.4367068235569664, -0.4429595086434903, 0.2807870731341278, -1.2933742820918692, -0.1556993337542278, -1.1504599947642138, 0.6624811468344771, -0.9756259309342289, 0.8167384140483486, -0.5345985813863435, -0.27727702113759906, 0.19310545663846124, -1.532902312679032, -0.028100975887289895, -1.9959810670789664, 0.2243920084584965, -0.6600578441118969, 1.3352710743039025, -1.398424039696386, 0.8462771387518341, 0.11236464635976393, -0.15515819132980102, 1.3302994525696428, -0.5868131798941717, 1.3234568595593719, 0.8499332074462286, -0.08224166207067568, 0.6328294865034617, 0.06679708452559546, -0.23350689690678816, -2.7527613522856362, 0.9548230886533037, -0.5190830632490822, -0.42926880006980395, 0.236960866081998, -1.9304304156678027, 0.5350138717457857, -0.6962587707076815, -0.1957102445287146, -1.3072663184338325, -0.10554726253657928, 0.20192027205191437, -0.3790196316097984, -0.47639675723883623, -0.2596209420386043, 1.4129214345638288, 1.215471680596547, -1.0518754451458192], \"xaxis\": \"x2\", \"y\": [0.5217537784129974, 0.3309749226115375, -1.193876709659765, 0.44343923119185524, -0.18931392017075624, 0.173205767535824, 0.696775738847488, -2.014191654816539, -0.3260508724875542, 1.7018734448037018, -0.3578297915922514, 0.795878744012465, -0.6221105875227282, 0.1795158852025101, -0.5263018890301373, -1.6579984218119408, 1.5734505787806656, 0.09347039337484478, 0.22695335836177413, 1.74135293216879, 0.8543457987432498, 1.6668700893834498, 0.21509981024768562, 0.05147367659147075, 0.595348020727714, 1.3425773565713435, 0.5056396605572587, 0.7004964136717756, -0.11611198442315279, 0.7084287321300998, -0.7109807917845864, 0.243838163690604, -0.052769434282530246, 0.65197584784953, 0.15111623638211763, -0.45994422176644884, -1.6377125581004068, 1.6353164567583425, -0.02110823435862904, 0.8662866086795274, -0.7992112511748268, -1.2091767689531847, 0.615433464445986, -0.6918898665437458, -0.22088314776555945, -0.36616282407008444, 1.2391168115335351, -0.6051262003388084, -1.590191148875863, -0.9818480747620559, -0.4616387767955757, -0.7134294894563353, 0.07223535070388272, 0.057558323803864345, -0.43681040939791793, 0.4689372999801223, 1.502366134331344, 0.7308934048604777, -1.8445348233596541, -0.023749777252913405, 0.07027259389091652, 0.795641143639049, 0.14650863736209424, -0.289159142974127, -1.2748625970110754, -0.2774290754016461, 0.8781245042054561, -0.8697236584897804, 0.07199053776509524, -1.757042236586087, 0.39716974253845905, 0.1654662688475511, -0.33199426676448535, 0.7744544397767887, 1.1793804702730013, -0.9462622397360114, 0.7557618474116468, -0.5317089300673019, 0.04458895563719713, -0.3484351357629532, 0.9637309052261983, 0.5769189564311794, 0.08063722123130981, 0.5023295174559748, -0.7596996515964047, 1.4161337913043834, 1.9283827384775984, -1.6721607391450544, 0.4553713821873685, -0.3971879291836942, 0.17041840171947764, -1.1644496531098152, 0.15295268302093223, -0.18904846215760945, 0.2400629991205869, -0.010061126559507024, 0.8658858707404796, 1.056913755398305, 0.862841462797941, 0.47176134545444554], \"yaxis\": \"y2\"}, {\"line\": {\"color\": \"rgba(128, 128, 128, 1.0)\", \"dash\": \"solid\", \"shape\": \"linear\", \"width\": 1.3}, \"marker\": {\"size\": 2, \"symbol\": \"circle\"}, \"mode\": \"markers\", \"name\": \"A\", \"text\": \"\", \"type\": \"scatter\", \"x\": [-0.5314652877495902, 2.2186474760330563, -0.6389682720126716, 1.3793555469949645, 0.1645065101816152, 0.8429482043939898, -0.020441894851906117, 1.0039693363469748, 0.2644494966560863, -0.6277884709802357, 0.9396227469133503, 0.7169980627028582, 0.23737090856245152, 1.7462968082547403, -0.8154127844004201, -1.5939071468516273, 0.2653426342888696, -2.2057132597745017, 0.18843501983927433, 0.2533201514329437, -0.481776439793337, 1.2604071475703236, 0.03342545347522977, -1.0255820892293614, 1.049403871745054, -0.5449269397249219, 0.6927506838105815, 0.8569045690829772, 0.6960801094805269, 0.41228120735289325, -0.5347954717069701, 0.6525900328951344, -0.9031621695336286, -0.7771738316054332, -0.4608559749506431, -1.873812720261879, 1.451550493126228, -0.3464470009976206, 1.2972655948243323, -1.462934082674206, 1.5889668475082657, -1.1804747958493478, 0.14736945716833635, -0.7217551180817706, 0.486407896985243, 2.5557679354654517, 0.9266858465700915, 1.047813987372427, 0.46411143353768314, -0.7232162319933524, -0.6289775250999133, -1.1645792924981966, 0.75643643351788, -0.8594027664490006, 0.0008668968465360472, -1.3856077357804701, 0.14448886537292585, -1.6025002278390523, 0.9195575608631161, -0.17469686289299635, -1.367049261635498, -0.27590249827233715, -0.9119076275662321, 1.3073348052081717, 0.8198468187216309, 0.6346908590004512, 0.35686053181505784, 0.706366878137112, -2.060526063616883, -0.5532522643764815, -0.04314602830520446, -0.30337006507846476, 1.3711763571046398, 0.4965487424074641, 1.0483377991076952, -0.7306042704368239, -1.767726526012954, -0.22378833249331728, 1.601121309317086, 0.8828103257648692, 0.1826898270480904, -1.5991846579476228, 0.6064089004607497, 0.7304265150271423, -1.0517525399387608, 0.2511415655874058, 1.2509386690441953, -0.5627840069345255, 1.6852116648377633, -0.11024553099954161, -0.7630707594050132, 0.3296679782933773, 1.3684849781430115, 0.27698460569843913, 0.7056148743119981, -0.10728295357837499, -0.3259299468930852, -0.18231346193029901, -1.4556732879652434, -0.6220954124482995], \"xaxis\": \"x3\", \"y\": [0.5217537784129974, 0.3309749226115375, -1.193876709659765, 0.44343923119185524, -0.18931392017075624, 0.173205767535824, 0.696775738847488, -2.014191654816539, -0.3260508724875542, 1.7018734448037018, -0.3578297915922514, 0.795878744012465, -0.6221105875227282, 0.1795158852025101, -0.5263018890301373, -1.6579984218119408, 1.5734505787806656, 0.09347039337484478, 0.22695335836177413, 1.74135293216879, 0.8543457987432498, 1.6668700893834498, 0.21509981024768562, 0.05147367659147075, 0.595348020727714, 1.3425773565713435, 0.5056396605572587, 0.7004964136717756, -0.11611198442315279, 0.7084287321300998, -0.7109807917845864, 0.243838163690604, -0.052769434282530246, 0.65197584784953, 0.15111623638211763, -0.45994422176644884, -1.6377125581004068, 1.6353164567583425, -0.02110823435862904, 0.8662866086795274, -0.7992112511748268, -1.2091767689531847, 0.615433464445986, -0.6918898665437458, -0.22088314776555945, -0.36616282407008444, 1.2391168115335351, -0.6051262003388084, -1.590191148875863, -0.9818480747620559, -0.4616387767955757, -0.7134294894563353, 0.07223535070388272, 0.057558323803864345, -0.43681040939791793, 0.4689372999801223, 1.502366134331344, 0.7308934048604777, -1.8445348233596541, -0.023749777252913405, 0.07027259389091652, 0.795641143639049, 0.14650863736209424, -0.289159142974127, -1.2748625970110754, -0.2774290754016461, 0.8781245042054561, -0.8697236584897804, 0.07199053776509524, -1.757042236586087, 0.39716974253845905, 0.1654662688475511, -0.33199426676448535, 0.7744544397767887, 1.1793804702730013, -0.9462622397360114, 0.7557618474116468, -0.5317089300673019, 0.04458895563719713, -0.3484351357629532, 0.9637309052261983, 0.5769189564311794, 0.08063722123130981, 0.5023295174559748, -0.7596996515964047, 1.4161337913043834, 1.9283827384775984, -1.6721607391450544, 0.4553713821873685, -0.3971879291836942, 0.17041840171947764, -1.1644496531098152, 0.15295268302093223, -0.18904846215760945, 0.2400629991205869, -0.010061126559507024, 0.8658858707404796, 1.056913755398305, 0.862841462797941, 0.47176134545444554], \"yaxis\": \"y3\"}, {\"line\": {\"color\": \"rgba(128, 128, 128, 1.0)\", \"dash\": \"solid\", \"shape\": \"linear\", \"width\": 1.3}, \"marker\": {\"size\": 2, \"symbol\": \"circle\"}, \"mode\": \"markers\", \"name\": \"A\", \"text\": \"\", \"type\": \"scatter\", \"x\": [0.6778729725043644, 1.8059030764379598, -0.8427894394917019, 0.7028364071414452, 0.825571631036336, 1.2051120547600316, 0.7244139364195797, -1.3559348657071273, 0.308024975632527, 1.5983724409903277, -0.6576379587296303, 0.7993403925019309, -2.053115218099911, 0.2646019343945171, 0.08754753975747707, -1.2427612499539613, 1.4754629908026846, -1.4811321630576677, -0.7594373064233083, -0.12750497178924067, -0.9268168563442297, 0.5974046066257698, -0.24292065362520213, -0.9649714681828205, -0.8750636064485101, 0.9197750708901921, -0.7480168853760317, -0.21328878614093316, -0.07067969844926104, -0.27659078776879303, -0.1539470600069913, -1.4364152652969937, 0.6215680045149821, -0.48656860575540056, 0.5860063525576973, 1.9532791720799327, -0.3104503972645789, -1.3654328722807976, -1.849019483939876, -0.09336559614620331, 0.13796389663084496, -2.3368087222436547, -0.6740237740011111, -0.38813886664316555, -1.9610870166233894, 1.3395529043070529, -1.250301608200872, -0.9509762415784829, 0.4956869652378916, -1.652979492017329, 0.7965335618604886, 0.15634707733563813, -0.19479389896442964, -1.227555406619242, -0.5148957417108884, 0.40242052930592775, -0.6158801987936839, 1.177784819208276, 0.11262827876844117, -0.4843349673116165, 0.2945782550901206, -0.934384920930522, 1.3574266011483518, -0.7294098196699667, 0.7694541209231814, -0.3072129719491864, -0.6898730900175366, 0.5616101475751268, 1.0608130901361357, 0.3365113202896197, 0.802895786173727, 1.1807526832244597, 1.4797589854368138, -1.6835543921364118, -2.3973178545282576, -0.07729738106454107, -1.4423464202587457, -0.8575416103465401, -0.39840166643721536, -0.06541299297405546, -0.07624090039277232, -0.24922141663777242, 1.9727778289235816, -0.3232704694600576, -0.6814286088775799, 0.46580194086213295, 0.9803989561322469, -1.4079738707164426, 0.8443446110505288, -1.5775361603642126, -0.4947820803002275, 0.70008140358095, -0.8521409087449835, 0.35206004338908614, 0.11794839018660937, -1.8289443292834922, -0.4425082344438239, -1.220386257042587, -0.23203980086744277, 1.2682405988455958], \"xaxis\": \"x4\", \"y\": [0.5217537784129974, 0.3309749226115375, -1.193876709659765, 0.44343923119185524, -0.18931392017075624, 0.173205767535824, 0.696775738847488, -2.014191654816539, -0.3260508724875542, 1.7018734448037018, -0.3578297915922514, 0.795878744012465, -0.6221105875227282, 0.1795158852025101, -0.5263018890301373, -1.6579984218119408, 1.5734505787806656, 0.09347039337484478, 0.22695335836177413, 1.74135293216879, 0.8543457987432498, 1.6668700893834498, 0.21509981024768562, 0.05147367659147075, 0.595348020727714, 1.3425773565713435, 0.5056396605572587, 0.7004964136717756, -0.11611198442315279, 0.7084287321300998, -0.7109807917845864, 0.243838163690604, -0.052769434282530246, 0.65197584784953, 0.15111623638211763, -0.45994422176644884, -1.6377125581004068, 1.6353164567583425, -0.02110823435862904, 0.8662866086795274, -0.7992112511748268, -1.2091767689531847, 0.615433464445986, -0.6918898665437458, -0.22088314776555945, -0.36616282407008444, 1.2391168115335351, -0.6051262003388084, -1.590191148875863, -0.9818480747620559, -0.4616387767955757, -0.7134294894563353, 0.07223535070388272, 0.057558323803864345, -0.43681040939791793, 0.4689372999801223, 1.502366134331344, 0.7308934048604777, -1.8445348233596541, -0.023749777252913405, 0.07027259389091652, 0.795641143639049, 0.14650863736209424, -0.289159142974127, -1.2748625970110754, -0.2774290754016461, 0.8781245042054561, -0.8697236584897804, 0.07199053776509524, -1.757042236586087, 0.39716974253845905, 0.1654662688475511, -0.33199426676448535, 0.7744544397767887, 1.1793804702730013, -0.9462622397360114, 0.7557618474116468, -0.5317089300673019, 0.04458895563719713, -0.3484351357629532, 0.9637309052261983, 0.5769189564311794, 0.08063722123130981, 0.5023295174559748, -0.7596996515964047, 1.4161337913043834, 1.9283827384775984, -1.6721607391450544, 0.4553713821873685, -0.3971879291836942, 0.17041840171947764, -1.1644496531098152, 0.15295268302093223, -0.18904846215760945, 0.2400629991205869, -0.010061126559507024, 0.8658858707404796, 1.056913755398305, 0.862841462797941, 0.47176134545444554], \"yaxis\": \"y4\"}, {\"line\": {\"color\": \"rgba(128, 128, 128, 1.0)\", \"dash\": \"solid\", \"shape\": \"linear\", \"width\": 1.3}, \"marker\": {\"size\": 2, \"symbol\": \"circle\"}, \"mode\": \"markers\", \"name\": \"B\", \"text\": \"\", \"type\": \"scatter\", \"x\": [0.5217537784129974, 0.3309749226115375, -1.193876709659765, 0.44343923119185524, -0.18931392017075624, 0.173205767535824, 0.696775738847488, -2.014191654816539, -0.3260508724875542, 1.7018734448037018, -0.3578297915922514, 0.795878744012465, -0.6221105875227282, 0.1795158852025101, -0.5263018890301373, -1.6579984218119408, 1.5734505787806656, 0.09347039337484478, 0.22695335836177413, 1.74135293216879, 0.8543457987432498, 1.6668700893834498, 0.21509981024768562, 0.05147367659147075, 0.595348020727714, 1.3425773565713435, 0.5056396605572587, 0.7004964136717756, -0.11611198442315279, 0.7084287321300998, -0.7109807917845864, 0.243838163690604, -0.052769434282530246, 0.65197584784953, 0.15111623638211763, -0.45994422176644884, -1.6377125581004068, 1.6353164567583425, -0.02110823435862904, 0.8662866086795274, -0.7992112511748268, -1.2091767689531847, 0.615433464445986, -0.6918898665437458, -0.22088314776555945, -0.36616282407008444, 1.2391168115335351, -0.6051262003388084, -1.590191148875863, -0.9818480747620559, -0.4616387767955757, -0.7134294894563353, 0.07223535070388272, 0.057558323803864345, -0.43681040939791793, 0.4689372999801223, 1.502366134331344, 0.7308934048604777, -1.8445348233596541, -0.023749777252913405, 0.07027259389091652, 0.795641143639049, 0.14650863736209424, -0.289159142974127, -1.2748625970110754, -0.2774290754016461, 0.8781245042054561, -0.8697236584897804, 0.07199053776509524, -1.757042236586087, 0.39716974253845905, 0.1654662688475511, -0.33199426676448535, 0.7744544397767887, 1.1793804702730013, -0.9462622397360114, 0.7557618474116468, -0.5317089300673019, 0.04458895563719713, -0.3484351357629532, 0.9637309052261983, 0.5769189564311794, 0.08063722123130981, 0.5023295174559748, -0.7596996515964047, 1.4161337913043834, 1.9283827384775984, -1.6721607391450544, 0.4553713821873685, -0.3971879291836942, 0.17041840171947764, -1.1644496531098152, 0.15295268302093223, -0.18904846215760945, 0.2400629991205869, -0.010061126559507024, 0.8658858707404796, 1.056913755398305, 0.862841462797941, 0.47176134545444554], \"xaxis\": \"x5\", \"y\": [-0.39261445799361727, 0.22580367056171108, 0.25483863748102475, 0.9905938087654146, -0.3454489749148752, 0.5862541601958202, 0.04228997696170449, -1.5099138219153663, -1.4985134831759215, 0.09468800407249342, -0.6529428511506372, 0.11140377407013143, 0.2986561002471471, -0.6958738060209194, 1.6280048100235736, -1.4414780265052891, -1.0091162361804633, -0.4358346913952342, 0.9644518693267125, 1.339378202043062, -1.009276170450571, 0.355374750343669, 2.4613393443673854, 1.1250694379563946, -0.3101218143757754, 0.21931795568428836, -1.1034092566915703, 0.34792501227665257, 0.5640927383340527, 2.005692956097845, -1.3763340171658087, -0.5516546832432645, -0.4322623433505339, -1.4069669300676437, 0.9925196666613212, -0.3174599626785784, -1.402277482694772, 1.5941004088534267, -0.20902468508344935, 1.7723686071566995, 1.0255780072645866, 0.3611684560390772, -0.9876425439197813, 2.0634227790927873, 0.5808836005391271, 2.085501418876228, -0.1669861926278503, 2.4188376530846787, -1.7854249534372195, -2.0250332266149442, -0.54463884665561, 0.990855608274131, -1.4367068235569664, -0.4429595086434903, 0.2807870731341278, -1.2933742820918692, -0.1556993337542278, -1.1504599947642138, 0.6624811468344771, -0.9756259309342289, 0.8167384140483486, -0.5345985813863435, -0.27727702113759906, 0.19310545663846124, -1.532902312679032, -0.028100975887289895, -1.9959810670789664, 0.2243920084584965, -0.6600578441118969, 1.3352710743039025, -1.398424039696386, 0.8462771387518341, 0.11236464635976393, -0.15515819132980102, 1.3302994525696428, -0.5868131798941717, 1.3234568595593719, 0.8499332074462286, -0.08224166207067568, 0.6328294865034617, 0.06679708452559546, -0.23350689690678816, -2.7527613522856362, 0.9548230886533037, -0.5190830632490822, -0.42926880006980395, 0.236960866081998, -1.9304304156678027, 0.5350138717457857, -0.6962587707076815, -0.1957102445287146, -1.3072663184338325, -0.10554726253657928, 0.20192027205191437, -0.3790196316097984, -0.47639675723883623, -0.2596209420386043, 1.4129214345638288, 1.215471680596547, -1.0518754451458192], \"yaxis\": \"y5\"}, {\"histfunc\": \"count\", \"histnorm\": \"\", \"marker\": {\"color\": \"rgba(55, 128, 191, 1.0)\", \"line\": {\"color\": \"#4D5663\", \"width\": 1.3}}, \"name\": \"B\", \"nbinsx\": 10, \"opacity\": 0.8, \"orientation\": \"v\", \"type\": \"histogram\", \"x\": [-0.39261445799361727, 0.22580367056171108, 0.25483863748102475, 0.9905938087654146, -0.3454489749148752, 0.5862541601958202, 0.04228997696170449, -1.5099138219153663, -1.4985134831759215, 0.09468800407249342, -0.6529428511506372, 0.11140377407013143, 0.2986561002471471, -0.6958738060209194, 1.6280048100235736, -1.4414780265052891, -1.0091162361804633, -0.4358346913952342, 0.9644518693267125, 1.339378202043062, -1.009276170450571, 0.355374750343669, 2.4613393443673854, 1.1250694379563946, -0.3101218143757754, 0.21931795568428836, -1.1034092566915703, 0.34792501227665257, 0.5640927383340527, 2.005692956097845, -1.3763340171658087, -0.5516546832432645, -0.4322623433505339, -1.4069669300676437, 0.9925196666613212, -0.3174599626785784, -1.402277482694772, 1.5941004088534267, -0.20902468508344935, 1.7723686071566995, 1.0255780072645866, 0.3611684560390772, -0.9876425439197813, 2.0634227790927873, 0.5808836005391271, 2.085501418876228, -0.1669861926278503, 2.4188376530846787, -1.7854249534372195, -2.0250332266149442, -0.54463884665561, 0.990855608274131, -1.4367068235569664, -0.4429595086434903, 0.2807870731341278, -1.2933742820918692, -0.1556993337542278, -1.1504599947642138, 0.6624811468344771, -0.9756259309342289, 0.8167384140483486, -0.5345985813863435, -0.27727702113759906, 0.19310545663846124, -1.532902312679032, -0.028100975887289895, -1.9959810670789664, 0.2243920084584965, -0.6600578441118969, 1.3352710743039025, -1.398424039696386, 0.8462771387518341, 0.11236464635976393, -0.15515819132980102, 1.3302994525696428, -0.5868131798941717, 1.3234568595593719, 0.8499332074462286, -0.08224166207067568, 0.6328294865034617, 0.06679708452559546, -0.23350689690678816, -2.7527613522856362, 0.9548230886533037, -0.5190830632490822, -0.42926880006980395, 0.236960866081998, -1.9304304156678027, 0.5350138717457857, -0.6962587707076815, -0.1957102445287146, -1.3072663184338325, -0.10554726253657928, 0.20192027205191437, -0.3790196316097984, -0.47639675723883623, -0.2596209420386043, 1.4129214345638288, 1.215471680596547, -1.0518754451458192], \"xaxis\": \"x6\", \"yaxis\": \"y6\"}, {\"line\": {\"color\": \"rgba(128, 128, 128, 1.0)\", \"dash\": \"solid\", \"shape\": \"linear\", \"width\": 1.3}, \"marker\": {\"size\": 2, \"symbol\": \"circle\"}, \"mode\": \"markers\", \"name\": \"B\", \"text\": \"\", \"type\": \"scatter\", \"x\": [-0.5314652877495902, 2.2186474760330563, -0.6389682720126716, 1.3793555469949645, 0.1645065101816152, 0.8429482043939898, -0.020441894851906117, 1.0039693363469748, 0.2644494966560863, -0.6277884709802357, 0.9396227469133503, 0.7169980627028582, 0.23737090856245152, 1.7462968082547403, -0.8154127844004201, -1.5939071468516273, 0.2653426342888696, -2.2057132597745017, 0.18843501983927433, 0.2533201514329437, -0.481776439793337, 1.2604071475703236, 0.03342545347522977, -1.0255820892293614, 1.049403871745054, -0.5449269397249219, 0.6927506838105815, 0.8569045690829772, 0.6960801094805269, 0.41228120735289325, -0.5347954717069701, 0.6525900328951344, -0.9031621695336286, -0.7771738316054332, -0.4608559749506431, -1.873812720261879, 1.451550493126228, -0.3464470009976206, 1.2972655948243323, -1.462934082674206, 1.5889668475082657, -1.1804747958493478, 0.14736945716833635, -0.7217551180817706, 0.486407896985243, 2.5557679354654517, 0.9266858465700915, 1.047813987372427, 0.46411143353768314, -0.7232162319933524, -0.6289775250999133, -1.1645792924981966, 0.75643643351788, -0.8594027664490006, 0.0008668968465360472, -1.3856077357804701, 0.14448886537292585, -1.6025002278390523, 0.9195575608631161, -0.17469686289299635, -1.367049261635498, -0.27590249827233715, -0.9119076275662321, 1.3073348052081717, 0.8198468187216309, 0.6346908590004512, 0.35686053181505784, 0.706366878137112, -2.060526063616883, -0.5532522643764815, -0.04314602830520446, -0.30337006507846476, 1.3711763571046398, 0.4965487424074641, 1.0483377991076952, -0.7306042704368239, -1.767726526012954, -0.22378833249331728, 1.601121309317086, 0.8828103257648692, 0.1826898270480904, -1.5991846579476228, 0.6064089004607497, 0.7304265150271423, -1.0517525399387608, 0.2511415655874058, 1.2509386690441953, -0.5627840069345255, 1.6852116648377633, -0.11024553099954161, -0.7630707594050132, 0.3296679782933773, 1.3684849781430115, 0.27698460569843913, 0.7056148743119981, -0.10728295357837499, -0.3259299468930852, -0.18231346193029901, -1.4556732879652434, -0.6220954124482995], \"xaxis\": \"x7\", \"y\": [-0.39261445799361727, 0.22580367056171108, 0.25483863748102475, 0.9905938087654146, -0.3454489749148752, 0.5862541601958202, 0.04228997696170449, -1.5099138219153663, -1.4985134831759215, 0.09468800407249342, -0.6529428511506372, 0.11140377407013143, 0.2986561002471471, -0.6958738060209194, 1.6280048100235736, -1.4414780265052891, -1.0091162361804633, -0.4358346913952342, 0.9644518693267125, 1.339378202043062, -1.009276170450571, 0.355374750343669, 2.4613393443673854, 1.1250694379563946, -0.3101218143757754, 0.21931795568428836, -1.1034092566915703, 0.34792501227665257, 0.5640927383340527, 2.005692956097845, -1.3763340171658087, -0.5516546832432645, -0.4322623433505339, -1.4069669300676437, 0.9925196666613212, -0.3174599626785784, -1.402277482694772, 1.5941004088534267, -0.20902468508344935, 1.7723686071566995, 1.0255780072645866, 0.3611684560390772, -0.9876425439197813, 2.0634227790927873, 0.5808836005391271, 2.085501418876228, -0.1669861926278503, 2.4188376530846787, -1.7854249534372195, -2.0250332266149442, -0.54463884665561, 0.990855608274131, -1.4367068235569664, -0.4429595086434903, 0.2807870731341278, -1.2933742820918692, -0.1556993337542278, -1.1504599947642138, 0.6624811468344771, -0.9756259309342289, 0.8167384140483486, -0.5345985813863435, -0.27727702113759906, 0.19310545663846124, -1.532902312679032, -0.028100975887289895, -1.9959810670789664, 0.2243920084584965, -0.6600578441118969, 1.3352710743039025, -1.398424039696386, 0.8462771387518341, 0.11236464635976393, -0.15515819132980102, 1.3302994525696428, -0.5868131798941717, 1.3234568595593719, 0.8499332074462286, -0.08224166207067568, 0.6328294865034617, 0.06679708452559546, -0.23350689690678816, -2.7527613522856362, 0.9548230886533037, -0.5190830632490822, -0.42926880006980395, 0.236960866081998, -1.9304304156678027, 0.5350138717457857, -0.6962587707076815, -0.1957102445287146, -1.3072663184338325, -0.10554726253657928, 0.20192027205191437, -0.3790196316097984, -0.47639675723883623, -0.2596209420386043, 1.4129214345638288, 1.215471680596547, -1.0518754451458192], \"yaxis\": \"y7\"}, {\"line\": {\"color\": \"rgba(128, 128, 128, 1.0)\", \"dash\": \"solid\", \"shape\": \"linear\", \"width\": 1.3}, \"marker\": {\"size\": 2, \"symbol\": \"circle\"}, \"mode\": \"markers\", \"name\": \"B\", \"text\": \"\", \"type\": \"scatter\", \"x\": [0.6778729725043644, 1.8059030764379598, -0.8427894394917019, 0.7028364071414452, 0.825571631036336, 1.2051120547600316, 0.7244139364195797, -1.3559348657071273, 0.308024975632527, 1.5983724409903277, -0.6576379587296303, 0.7993403925019309, -2.053115218099911, 0.2646019343945171, 0.08754753975747707, -1.2427612499539613, 1.4754629908026846, -1.4811321630576677, -0.7594373064233083, -0.12750497178924067, -0.9268168563442297, 0.5974046066257698, -0.24292065362520213, -0.9649714681828205, -0.8750636064485101, 0.9197750708901921, -0.7480168853760317, -0.21328878614093316, -0.07067969844926104, -0.27659078776879303, -0.1539470600069913, -1.4364152652969937, 0.6215680045149821, -0.48656860575540056, 0.5860063525576973, 1.9532791720799327, -0.3104503972645789, -1.3654328722807976, -1.849019483939876, -0.09336559614620331, 0.13796389663084496, -2.3368087222436547, -0.6740237740011111, -0.38813886664316555, -1.9610870166233894, 1.3395529043070529, -1.250301608200872, -0.9509762415784829, 0.4956869652378916, -1.652979492017329, 0.7965335618604886, 0.15634707733563813, -0.19479389896442964, -1.227555406619242, -0.5148957417108884, 0.40242052930592775, -0.6158801987936839, 1.177784819208276, 0.11262827876844117, -0.4843349673116165, 0.2945782550901206, -0.934384920930522, 1.3574266011483518, -0.7294098196699667, 0.7694541209231814, -0.3072129719491864, -0.6898730900175366, 0.5616101475751268, 1.0608130901361357, 0.3365113202896197, 0.802895786173727, 1.1807526832244597, 1.4797589854368138, -1.6835543921364118, -2.3973178545282576, -0.07729738106454107, -1.4423464202587457, -0.8575416103465401, -0.39840166643721536, -0.06541299297405546, -0.07624090039277232, -0.24922141663777242, 1.9727778289235816, -0.3232704694600576, -0.6814286088775799, 0.46580194086213295, 0.9803989561322469, -1.4079738707164426, 0.8443446110505288, -1.5775361603642126, -0.4947820803002275, 0.70008140358095, -0.8521409087449835, 0.35206004338908614, 0.11794839018660937, -1.8289443292834922, -0.4425082344438239, -1.220386257042587, -0.23203980086744277, 1.2682405988455958], \"xaxis\": \"x8\", \"y\": [-0.39261445799361727, 0.22580367056171108, 0.25483863748102475, 0.9905938087654146, -0.3454489749148752, 0.5862541601958202, 0.04228997696170449, -1.5099138219153663, -1.4985134831759215, 0.09468800407249342, -0.6529428511506372, 0.11140377407013143, 0.2986561002471471, -0.6958738060209194, 1.6280048100235736, -1.4414780265052891, -1.0091162361804633, -0.4358346913952342, 0.9644518693267125, 1.339378202043062, -1.009276170450571, 0.355374750343669, 2.4613393443673854, 1.1250694379563946, -0.3101218143757754, 0.21931795568428836, -1.1034092566915703, 0.34792501227665257, 0.5640927383340527, 2.005692956097845, -1.3763340171658087, -0.5516546832432645, -0.4322623433505339, -1.4069669300676437, 0.9925196666613212, -0.3174599626785784, -1.402277482694772, 1.5941004088534267, -0.20902468508344935, 1.7723686071566995, 1.0255780072645866, 0.3611684560390772, -0.9876425439197813, 2.0634227790927873, 0.5808836005391271, 2.085501418876228, -0.1669861926278503, 2.4188376530846787, -1.7854249534372195, -2.0250332266149442, -0.54463884665561, 0.990855608274131, -1.4367068235569664, -0.4429595086434903, 0.2807870731341278, -1.2933742820918692, -0.1556993337542278, -1.1504599947642138, 0.6624811468344771, -0.9756259309342289, 0.8167384140483486, -0.5345985813863435, -0.27727702113759906, 0.19310545663846124, -1.532902312679032, -0.028100975887289895, -1.9959810670789664, 0.2243920084584965, -0.6600578441118969, 1.3352710743039025, -1.398424039696386, 0.8462771387518341, 0.11236464635976393, -0.15515819132980102, 1.3302994525696428, -0.5868131798941717, 1.3234568595593719, 0.8499332074462286, -0.08224166207067568, 0.6328294865034617, 0.06679708452559546, -0.23350689690678816, -2.7527613522856362, 0.9548230886533037, -0.5190830632490822, -0.42926880006980395, 0.236960866081998, -1.9304304156678027, 0.5350138717457857, -0.6962587707076815, -0.1957102445287146, -1.3072663184338325, -0.10554726253657928, 0.20192027205191437, -0.3790196316097984, -0.47639675723883623, -0.2596209420386043, 1.4129214345638288, 1.215471680596547, -1.0518754451458192], \"yaxis\": \"y8\"}, {\"line\": {\"color\": \"rgba(128, 128, 128, 1.0)\", \"dash\": \"solid\", \"shape\": \"linear\", \"width\": 1.3}, \"marker\": {\"size\": 2, \"symbol\": \"circle\"}, \"mode\": \"markers\", \"name\": \"C\", \"text\": \"\", \"type\": \"scatter\", \"x\": [0.5217537784129974, 0.3309749226115375, -1.193876709659765, 0.44343923119185524, -0.18931392017075624, 0.173205767535824, 0.696775738847488, -2.014191654816539, -0.3260508724875542, 1.7018734448037018, -0.3578297915922514, 0.795878744012465, -0.6221105875227282, 0.1795158852025101, -0.5263018890301373, -1.6579984218119408, 1.5734505787806656, 0.09347039337484478, 0.22695335836177413, 1.74135293216879, 0.8543457987432498, 1.6668700893834498, 0.21509981024768562, 0.05147367659147075, 0.595348020727714, 1.3425773565713435, 0.5056396605572587, 0.7004964136717756, -0.11611198442315279, 0.7084287321300998, -0.7109807917845864, 0.243838163690604, -0.052769434282530246, 0.65197584784953, 0.15111623638211763, -0.45994422176644884, -1.6377125581004068, 1.6353164567583425, -0.02110823435862904, 0.8662866086795274, -0.7992112511748268, -1.2091767689531847, 0.615433464445986, -0.6918898665437458, -0.22088314776555945, -0.36616282407008444, 1.2391168115335351, -0.6051262003388084, -1.590191148875863, -0.9818480747620559, -0.4616387767955757, -0.7134294894563353, 0.07223535070388272, 0.057558323803864345, -0.43681040939791793, 0.4689372999801223, 1.502366134331344, 0.7308934048604777, -1.8445348233596541, -0.023749777252913405, 0.07027259389091652, 0.795641143639049, 0.14650863736209424, -0.289159142974127, -1.2748625970110754, -0.2774290754016461, 0.8781245042054561, -0.8697236584897804, 0.07199053776509524, -1.757042236586087, 0.39716974253845905, 0.1654662688475511, -0.33199426676448535, 0.7744544397767887, 1.1793804702730013, -0.9462622397360114, 0.7557618474116468, -0.5317089300673019, 0.04458895563719713, -0.3484351357629532, 0.9637309052261983, 0.5769189564311794, 0.08063722123130981, 0.5023295174559748, -0.7596996515964047, 1.4161337913043834, 1.9283827384775984, -1.6721607391450544, 0.4553713821873685, -0.3971879291836942, 0.17041840171947764, -1.1644496531098152, 0.15295268302093223, -0.18904846215760945, 0.2400629991205869, -0.010061126559507024, 0.8658858707404796, 1.056913755398305, 0.862841462797941, 0.47176134545444554], \"xaxis\": \"x9\", \"y\": [-0.5314652877495902, 2.2186474760330563, -0.6389682720126716, 1.3793555469949645, 0.1645065101816152, 0.8429482043939898, -0.020441894851906117, 1.0039693363469748, 0.2644494966560863, -0.6277884709802357, 0.9396227469133503, 0.7169980627028582, 0.23737090856245152, 1.7462968082547403, -0.8154127844004201, -1.5939071468516273, 0.2653426342888696, -2.2057132597745017, 0.18843501983927433, 0.2533201514329437, -0.481776439793337, 1.2604071475703236, 0.03342545347522977, -1.0255820892293614, 1.049403871745054, -0.5449269397249219, 0.6927506838105815, 0.8569045690829772, 0.6960801094805269, 0.41228120735289325, -0.5347954717069701, 0.6525900328951344, -0.9031621695336286, -0.7771738316054332, -0.4608559749506431, -1.873812720261879, 1.451550493126228, -0.3464470009976206, 1.2972655948243323, -1.462934082674206, 1.5889668475082657, -1.1804747958493478, 0.14736945716833635, -0.7217551180817706, 0.486407896985243, 2.5557679354654517, 0.9266858465700915, 1.047813987372427, 0.46411143353768314, -0.7232162319933524, -0.6289775250999133, -1.1645792924981966, 0.75643643351788, -0.8594027664490006, 0.0008668968465360472, -1.3856077357804701, 0.14448886537292585, -1.6025002278390523, 0.9195575608631161, -0.17469686289299635, -1.367049261635498, -0.27590249827233715, -0.9119076275662321, 1.3073348052081717, 0.8198468187216309, 0.6346908590004512, 0.35686053181505784, 0.706366878137112, -2.060526063616883, -0.5532522643764815, -0.04314602830520446, -0.30337006507846476, 1.3711763571046398, 0.4965487424074641, 1.0483377991076952, -0.7306042704368239, -1.767726526012954, -0.22378833249331728, 1.601121309317086, 0.8828103257648692, 0.1826898270480904, -1.5991846579476228, 0.6064089004607497, 0.7304265150271423, -1.0517525399387608, 0.2511415655874058, 1.2509386690441953, -0.5627840069345255, 1.6852116648377633, -0.11024553099954161, -0.7630707594050132, 0.3296679782933773, 1.3684849781430115, 0.27698460569843913, 0.7056148743119981, -0.10728295357837499, -0.3259299468930852, -0.18231346193029901, -1.4556732879652434, -0.6220954124482995], \"yaxis\": \"y9\"}, {\"line\": {\"color\": \"rgba(128, 128, 128, 1.0)\", \"dash\": \"solid\", \"shape\": \"linear\", \"width\": 1.3}, \"marker\": {\"size\": 2, \"symbol\": \"circle\"}, \"mode\": \"markers\", \"name\": \"C\", \"text\": \"\", \"type\": \"scatter\", \"x\": [-0.39261445799361727, 0.22580367056171108, 0.25483863748102475, 0.9905938087654146, -0.3454489749148752, 0.5862541601958202, 0.04228997696170449, -1.5099138219153663, -1.4985134831759215, 0.09468800407249342, -0.6529428511506372, 0.11140377407013143, 0.2986561002471471, -0.6958738060209194, 1.6280048100235736, -1.4414780265052891, -1.0091162361804633, -0.4358346913952342, 0.9644518693267125, 1.339378202043062, -1.009276170450571, 0.355374750343669, 2.4613393443673854, 1.1250694379563946, -0.3101218143757754, 0.21931795568428836, -1.1034092566915703, 0.34792501227665257, 0.5640927383340527, 2.005692956097845, -1.3763340171658087, -0.5516546832432645, -0.4322623433505339, -1.4069669300676437, 0.9925196666613212, -0.3174599626785784, -1.402277482694772, 1.5941004088534267, -0.20902468508344935, 1.7723686071566995, 1.0255780072645866, 0.3611684560390772, -0.9876425439197813, 2.0634227790927873, 0.5808836005391271, 2.085501418876228, -0.1669861926278503, 2.4188376530846787, -1.7854249534372195, -2.0250332266149442, -0.54463884665561, 0.990855608274131, -1.4367068235569664, -0.4429595086434903, 0.2807870731341278, -1.2933742820918692, -0.1556993337542278, -1.1504599947642138, 0.6624811468344771, -0.9756259309342289, 0.8167384140483486, -0.5345985813863435, -0.27727702113759906, 0.19310545663846124, -1.532902312679032, -0.028100975887289895, -1.9959810670789664, 0.2243920084584965, -0.6600578441118969, 1.3352710743039025, -1.398424039696386, 0.8462771387518341, 0.11236464635976393, -0.15515819132980102, 1.3302994525696428, -0.5868131798941717, 1.3234568595593719, 0.8499332074462286, -0.08224166207067568, 0.6328294865034617, 0.06679708452559546, -0.23350689690678816, -2.7527613522856362, 0.9548230886533037, -0.5190830632490822, -0.42926880006980395, 0.236960866081998, -1.9304304156678027, 0.5350138717457857, -0.6962587707076815, -0.1957102445287146, -1.3072663184338325, -0.10554726253657928, 0.20192027205191437, -0.3790196316097984, -0.47639675723883623, -0.2596209420386043, 1.4129214345638288, 1.215471680596547, -1.0518754451458192], \"xaxis\": \"x10\", \"y\": [-0.5314652877495902, 2.2186474760330563, -0.6389682720126716, 1.3793555469949645, 0.1645065101816152, 0.8429482043939898, -0.020441894851906117, 1.0039693363469748, 0.2644494966560863, -0.6277884709802357, 0.9396227469133503, 0.7169980627028582, 0.23737090856245152, 1.7462968082547403, -0.8154127844004201, -1.5939071468516273, 0.2653426342888696, -2.2057132597745017, 0.18843501983927433, 0.2533201514329437, -0.481776439793337, 1.2604071475703236, 0.03342545347522977, -1.0255820892293614, 1.049403871745054, -0.5449269397249219, 0.6927506838105815, 0.8569045690829772, 0.6960801094805269, 0.41228120735289325, -0.5347954717069701, 0.6525900328951344, -0.9031621695336286, -0.7771738316054332, -0.4608559749506431, -1.873812720261879, 1.451550493126228, -0.3464470009976206, 1.2972655948243323, -1.462934082674206, 1.5889668475082657, -1.1804747958493478, 0.14736945716833635, -0.7217551180817706, 0.486407896985243, 2.5557679354654517, 0.9266858465700915, 1.047813987372427, 0.46411143353768314, -0.7232162319933524, -0.6289775250999133, -1.1645792924981966, 0.75643643351788, -0.8594027664490006, 0.0008668968465360472, -1.3856077357804701, 0.14448886537292585, -1.6025002278390523, 0.9195575608631161, -0.17469686289299635, -1.367049261635498, -0.27590249827233715, -0.9119076275662321, 1.3073348052081717, 0.8198468187216309, 0.6346908590004512, 0.35686053181505784, 0.706366878137112, -2.060526063616883, -0.5532522643764815, -0.04314602830520446, -0.30337006507846476, 1.3711763571046398, 0.4965487424074641, 1.0483377991076952, -0.7306042704368239, -1.767726526012954, -0.22378833249331728, 1.601121309317086, 0.8828103257648692, 0.1826898270480904, -1.5991846579476228, 0.6064089004607497, 0.7304265150271423, -1.0517525399387608, 0.2511415655874058, 1.2509386690441953, -0.5627840069345255, 1.6852116648377633, -0.11024553099954161, -0.7630707594050132, 0.3296679782933773, 1.3684849781430115, 0.27698460569843913, 0.7056148743119981, -0.10728295357837499, -0.3259299468930852, -0.18231346193029901, -1.4556732879652434, -0.6220954124482995], \"yaxis\": \"y10\"}, {\"histfunc\": \"count\", \"histnorm\": \"\", \"marker\": {\"color\": \"rgba(50, 171, 96, 1.0)\", \"line\": {\"color\": \"#4D5663\", \"width\": 1.3}}, \"name\": \"C\", \"nbinsx\": 10, \"opacity\": 0.8, \"orientation\": \"v\", \"type\": \"histogram\", \"x\": [-0.5314652877495902, 2.2186474760330563, -0.6389682720126716, 1.3793555469949645, 0.1645065101816152, 0.8429482043939898, -0.020441894851906117, 1.0039693363469748, 0.2644494966560863, -0.6277884709802357, 0.9396227469133503, 0.7169980627028582, 0.23737090856245152, 1.7462968082547403, -0.8154127844004201, -1.5939071468516273, 0.2653426342888696, -2.2057132597745017, 0.18843501983927433, 0.2533201514329437, -0.481776439793337, 1.2604071475703236, 0.03342545347522977, -1.0255820892293614, 1.049403871745054, -0.5449269397249219, 0.6927506838105815, 0.8569045690829772, 0.6960801094805269, 0.41228120735289325, -0.5347954717069701, 0.6525900328951344, -0.9031621695336286, -0.7771738316054332, -0.4608559749506431, -1.873812720261879, 1.451550493126228, -0.3464470009976206, 1.2972655948243323, -1.462934082674206, 1.5889668475082657, -1.1804747958493478, 0.14736945716833635, -0.7217551180817706, 0.486407896985243, 2.5557679354654517, 0.9266858465700915, 1.047813987372427, 0.46411143353768314, -0.7232162319933524, -0.6289775250999133, -1.1645792924981966, 0.75643643351788, -0.8594027664490006, 0.0008668968465360472, -1.3856077357804701, 0.14448886537292585, -1.6025002278390523, 0.9195575608631161, -0.17469686289299635, -1.367049261635498, -0.27590249827233715, -0.9119076275662321, 1.3073348052081717, 0.8198468187216309, 0.6346908590004512, 0.35686053181505784, 0.706366878137112, -2.060526063616883, -0.5532522643764815, -0.04314602830520446, -0.30337006507846476, 1.3711763571046398, 0.4965487424074641, 1.0483377991076952, -0.7306042704368239, -1.767726526012954, -0.22378833249331728, 1.601121309317086, 0.8828103257648692, 0.1826898270480904, -1.5991846579476228, 0.6064089004607497, 0.7304265150271423, -1.0517525399387608, 0.2511415655874058, 1.2509386690441953, -0.5627840069345255, 1.6852116648377633, -0.11024553099954161, -0.7630707594050132, 0.3296679782933773, 1.3684849781430115, 0.27698460569843913, 0.7056148743119981, -0.10728295357837499, -0.3259299468930852, -0.18231346193029901, -1.4556732879652434, -0.6220954124482995], \"xaxis\": \"x11\", \"yaxis\": \"y11\"}, {\"line\": {\"color\": \"rgba(128, 128, 128, 1.0)\", \"dash\": \"solid\", \"shape\": \"linear\", \"width\": 1.3}, \"marker\": {\"size\": 2, \"symbol\": \"circle\"}, \"mode\": \"markers\", \"name\": \"C\", \"text\": \"\", \"type\": \"scatter\", \"x\": [0.6778729725043644, 1.8059030764379598, -0.8427894394917019, 0.7028364071414452, 0.825571631036336, 1.2051120547600316, 0.7244139364195797, -1.3559348657071273, 0.308024975632527, 1.5983724409903277, -0.6576379587296303, 0.7993403925019309, -2.053115218099911, 0.2646019343945171, 0.08754753975747707, -1.2427612499539613, 1.4754629908026846, -1.4811321630576677, -0.7594373064233083, -0.12750497178924067, -0.9268168563442297, 0.5974046066257698, -0.24292065362520213, -0.9649714681828205, -0.8750636064485101, 0.9197750708901921, -0.7480168853760317, -0.21328878614093316, -0.07067969844926104, -0.27659078776879303, -0.1539470600069913, -1.4364152652969937, 0.6215680045149821, -0.48656860575540056, 0.5860063525576973, 1.9532791720799327, -0.3104503972645789, -1.3654328722807976, -1.849019483939876, -0.09336559614620331, 0.13796389663084496, -2.3368087222436547, -0.6740237740011111, -0.38813886664316555, -1.9610870166233894, 1.3395529043070529, -1.250301608200872, -0.9509762415784829, 0.4956869652378916, -1.652979492017329, 0.7965335618604886, 0.15634707733563813, -0.19479389896442964, -1.227555406619242, -0.5148957417108884, 0.40242052930592775, -0.6158801987936839, 1.177784819208276, 0.11262827876844117, -0.4843349673116165, 0.2945782550901206, -0.934384920930522, 1.3574266011483518, -0.7294098196699667, 0.7694541209231814, -0.3072129719491864, -0.6898730900175366, 0.5616101475751268, 1.0608130901361357, 0.3365113202896197, 0.802895786173727, 1.1807526832244597, 1.4797589854368138, -1.6835543921364118, -2.3973178545282576, -0.07729738106454107, -1.4423464202587457, -0.8575416103465401, -0.39840166643721536, -0.06541299297405546, -0.07624090039277232, -0.24922141663777242, 1.9727778289235816, -0.3232704694600576, -0.6814286088775799, 0.46580194086213295, 0.9803989561322469, -1.4079738707164426, 0.8443446110505288, -1.5775361603642126, -0.4947820803002275, 0.70008140358095, -0.8521409087449835, 0.35206004338908614, 0.11794839018660937, -1.8289443292834922, -0.4425082344438239, -1.220386257042587, -0.23203980086744277, 1.2682405988455958], \"xaxis\": \"x12\", \"y\": [-0.5314652877495902, 2.2186474760330563, -0.6389682720126716, 1.3793555469949645, 0.1645065101816152, 0.8429482043939898, -0.020441894851906117, 1.0039693363469748, 0.2644494966560863, -0.6277884709802357, 0.9396227469133503, 0.7169980627028582, 0.23737090856245152, 1.7462968082547403, -0.8154127844004201, -1.5939071468516273, 0.2653426342888696, -2.2057132597745017, 0.18843501983927433, 0.2533201514329437, -0.481776439793337, 1.2604071475703236, 0.03342545347522977, -1.0255820892293614, 1.049403871745054, -0.5449269397249219, 0.6927506838105815, 0.8569045690829772, 0.6960801094805269, 0.41228120735289325, -0.5347954717069701, 0.6525900328951344, -0.9031621695336286, -0.7771738316054332, -0.4608559749506431, -1.873812720261879, 1.451550493126228, -0.3464470009976206, 1.2972655948243323, -1.462934082674206, 1.5889668475082657, -1.1804747958493478, 0.14736945716833635, -0.7217551180817706, 0.486407896985243, 2.5557679354654517, 0.9266858465700915, 1.047813987372427, 0.46411143353768314, -0.7232162319933524, -0.6289775250999133, -1.1645792924981966, 0.75643643351788, -0.8594027664490006, 0.0008668968465360472, -1.3856077357804701, 0.14448886537292585, -1.6025002278390523, 0.9195575608631161, -0.17469686289299635, -1.367049261635498, -0.27590249827233715, -0.9119076275662321, 1.3073348052081717, 0.8198468187216309, 0.6346908590004512, 0.35686053181505784, 0.706366878137112, -2.060526063616883, -0.5532522643764815, -0.04314602830520446, -0.30337006507846476, 1.3711763571046398, 0.4965487424074641, 1.0483377991076952, -0.7306042704368239, -1.767726526012954, -0.22378833249331728, 1.601121309317086, 0.8828103257648692, 0.1826898270480904, -1.5991846579476228, 0.6064089004607497, 0.7304265150271423, -1.0517525399387608, 0.2511415655874058, 1.2509386690441953, -0.5627840069345255, 1.6852116648377633, -0.11024553099954161, -0.7630707594050132, 0.3296679782933773, 1.3684849781430115, 0.27698460569843913, 0.7056148743119981, -0.10728295357837499, -0.3259299468930852, -0.18231346193029901, -1.4556732879652434, -0.6220954124482995], \"yaxis\": \"y12\"}, {\"line\": {\"color\": \"rgba(128, 128, 128, 1.0)\", \"dash\": \"solid\", \"shape\": \"linear\", \"width\": 1.3}, \"marker\": {\"size\": 2, \"symbol\": \"circle\"}, \"mode\": \"markers\", \"name\": \"D\", \"text\": \"\", \"type\": \"scatter\", \"x\": [0.5217537784129974, 0.3309749226115375, -1.193876709659765, 0.44343923119185524, -0.18931392017075624, 0.173205767535824, 0.696775738847488, -2.014191654816539, -0.3260508724875542, 1.7018734448037018, -0.3578297915922514, 0.795878744012465, -0.6221105875227282, 0.1795158852025101, -0.5263018890301373, -1.6579984218119408, 1.5734505787806656, 0.09347039337484478, 0.22695335836177413, 1.74135293216879, 0.8543457987432498, 1.6668700893834498, 0.21509981024768562, 0.05147367659147075, 0.595348020727714, 1.3425773565713435, 0.5056396605572587, 0.7004964136717756, -0.11611198442315279, 0.7084287321300998, -0.7109807917845864, 0.243838163690604, -0.052769434282530246, 0.65197584784953, 0.15111623638211763, -0.45994422176644884, -1.6377125581004068, 1.6353164567583425, -0.02110823435862904, 0.8662866086795274, -0.7992112511748268, -1.2091767689531847, 0.615433464445986, -0.6918898665437458, -0.22088314776555945, -0.36616282407008444, 1.2391168115335351, -0.6051262003388084, -1.590191148875863, -0.9818480747620559, -0.4616387767955757, -0.7134294894563353, 0.07223535070388272, 0.057558323803864345, -0.43681040939791793, 0.4689372999801223, 1.502366134331344, 0.7308934048604777, -1.8445348233596541, -0.023749777252913405, 0.07027259389091652, 0.795641143639049, 0.14650863736209424, -0.289159142974127, -1.2748625970110754, -0.2774290754016461, 0.8781245042054561, -0.8697236584897804, 0.07199053776509524, -1.757042236586087, 0.39716974253845905, 0.1654662688475511, -0.33199426676448535, 0.7744544397767887, 1.1793804702730013, -0.9462622397360114, 0.7557618474116468, -0.5317089300673019, 0.04458895563719713, -0.3484351357629532, 0.9637309052261983, 0.5769189564311794, 0.08063722123130981, 0.5023295174559748, -0.7596996515964047, 1.4161337913043834, 1.9283827384775984, -1.6721607391450544, 0.4553713821873685, -0.3971879291836942, 0.17041840171947764, -1.1644496531098152, 0.15295268302093223, -0.18904846215760945, 0.2400629991205869, -0.010061126559507024, 0.8658858707404796, 1.056913755398305, 0.862841462797941, 0.47176134545444554], \"xaxis\": \"x13\", \"y\": [0.6778729725043644, 1.8059030764379598, -0.8427894394917019, 0.7028364071414452, 0.825571631036336, 1.2051120547600316, 0.7244139364195797, -1.3559348657071273, 0.308024975632527, 1.5983724409903277, -0.6576379587296303, 0.7993403925019309, -2.053115218099911, 0.2646019343945171, 0.08754753975747707, -1.2427612499539613, 1.4754629908026846, -1.4811321630576677, -0.7594373064233083, -0.12750497178924067, -0.9268168563442297, 0.5974046066257698, -0.24292065362520213, -0.9649714681828205, -0.8750636064485101, 0.9197750708901921, -0.7480168853760317, -0.21328878614093316, -0.07067969844926104, -0.27659078776879303, -0.1539470600069913, -1.4364152652969937, 0.6215680045149821, -0.48656860575540056, 0.5860063525576973, 1.9532791720799327, -0.3104503972645789, -1.3654328722807976, -1.849019483939876, -0.09336559614620331, 0.13796389663084496, -2.3368087222436547, -0.6740237740011111, -0.38813886664316555, -1.9610870166233894, 1.3395529043070529, -1.250301608200872, -0.9509762415784829, 0.4956869652378916, -1.652979492017329, 0.7965335618604886, 0.15634707733563813, -0.19479389896442964, -1.227555406619242, -0.5148957417108884, 0.40242052930592775, -0.6158801987936839, 1.177784819208276, 0.11262827876844117, -0.4843349673116165, 0.2945782550901206, -0.934384920930522, 1.3574266011483518, -0.7294098196699667, 0.7694541209231814, -0.3072129719491864, -0.6898730900175366, 0.5616101475751268, 1.0608130901361357, 0.3365113202896197, 0.802895786173727, 1.1807526832244597, 1.4797589854368138, -1.6835543921364118, -2.3973178545282576, -0.07729738106454107, -1.4423464202587457, -0.8575416103465401, -0.39840166643721536, -0.06541299297405546, -0.07624090039277232, -0.24922141663777242, 1.9727778289235816, -0.3232704694600576, -0.6814286088775799, 0.46580194086213295, 0.9803989561322469, -1.4079738707164426, 0.8443446110505288, -1.5775361603642126, -0.4947820803002275, 0.70008140358095, -0.8521409087449835, 0.35206004338908614, 0.11794839018660937, -1.8289443292834922, -0.4425082344438239, -1.220386257042587, -0.23203980086744277, 1.2682405988455958], \"yaxis\": \"y13\"}, {\"line\": {\"color\": \"rgba(128, 128, 128, 1.0)\", \"dash\": \"solid\", \"shape\": \"linear\", \"width\": 1.3}, \"marker\": {\"size\": 2, \"symbol\": \"circle\"}, \"mode\": \"markers\", \"name\": \"D\", \"text\": \"\", \"type\": \"scatter\", \"x\": [-0.39261445799361727, 0.22580367056171108, 0.25483863748102475, 0.9905938087654146, -0.3454489749148752, 0.5862541601958202, 0.04228997696170449, -1.5099138219153663, -1.4985134831759215, 0.09468800407249342, -0.6529428511506372, 0.11140377407013143, 0.2986561002471471, -0.6958738060209194, 1.6280048100235736, -1.4414780265052891, -1.0091162361804633, -0.4358346913952342, 0.9644518693267125, 1.339378202043062, -1.009276170450571, 0.355374750343669, 2.4613393443673854, 1.1250694379563946, -0.3101218143757754, 0.21931795568428836, -1.1034092566915703, 0.34792501227665257, 0.5640927383340527, 2.005692956097845, -1.3763340171658087, -0.5516546832432645, -0.4322623433505339, -1.4069669300676437, 0.9925196666613212, -0.3174599626785784, -1.402277482694772, 1.5941004088534267, -0.20902468508344935, 1.7723686071566995, 1.0255780072645866, 0.3611684560390772, -0.9876425439197813, 2.0634227790927873, 0.5808836005391271, 2.085501418876228, -0.1669861926278503, 2.4188376530846787, -1.7854249534372195, -2.0250332266149442, -0.54463884665561, 0.990855608274131, -1.4367068235569664, -0.4429595086434903, 0.2807870731341278, -1.2933742820918692, -0.1556993337542278, -1.1504599947642138, 0.6624811468344771, -0.9756259309342289, 0.8167384140483486, -0.5345985813863435, -0.27727702113759906, 0.19310545663846124, -1.532902312679032, -0.028100975887289895, -1.9959810670789664, 0.2243920084584965, -0.6600578441118969, 1.3352710743039025, -1.398424039696386, 0.8462771387518341, 0.11236464635976393, -0.15515819132980102, 1.3302994525696428, -0.5868131798941717, 1.3234568595593719, 0.8499332074462286, -0.08224166207067568, 0.6328294865034617, 0.06679708452559546, -0.23350689690678816, -2.7527613522856362, 0.9548230886533037, -0.5190830632490822, -0.42926880006980395, 0.236960866081998, -1.9304304156678027, 0.5350138717457857, -0.6962587707076815, -0.1957102445287146, -1.3072663184338325, -0.10554726253657928, 0.20192027205191437, -0.3790196316097984, -0.47639675723883623, -0.2596209420386043, 1.4129214345638288, 1.215471680596547, -1.0518754451458192], \"xaxis\": \"x14\", \"y\": [0.6778729725043644, 1.8059030764379598, -0.8427894394917019, 0.7028364071414452, 0.825571631036336, 1.2051120547600316, 0.7244139364195797, -1.3559348657071273, 0.308024975632527, 1.5983724409903277, -0.6576379587296303, 0.7993403925019309, -2.053115218099911, 0.2646019343945171, 0.08754753975747707, -1.2427612499539613, 1.4754629908026846, -1.4811321630576677, -0.7594373064233083, -0.12750497178924067, -0.9268168563442297, 0.5974046066257698, -0.24292065362520213, -0.9649714681828205, -0.8750636064485101, 0.9197750708901921, -0.7480168853760317, -0.21328878614093316, -0.07067969844926104, -0.27659078776879303, -0.1539470600069913, -1.4364152652969937, 0.6215680045149821, -0.48656860575540056, 0.5860063525576973, 1.9532791720799327, -0.3104503972645789, -1.3654328722807976, -1.849019483939876, -0.09336559614620331, 0.13796389663084496, -2.3368087222436547, -0.6740237740011111, -0.38813886664316555, -1.9610870166233894, 1.3395529043070529, -1.250301608200872, -0.9509762415784829, 0.4956869652378916, -1.652979492017329, 0.7965335618604886, 0.15634707733563813, -0.19479389896442964, -1.227555406619242, -0.5148957417108884, 0.40242052930592775, -0.6158801987936839, 1.177784819208276, 0.11262827876844117, -0.4843349673116165, 0.2945782550901206, -0.934384920930522, 1.3574266011483518, -0.7294098196699667, 0.7694541209231814, -0.3072129719491864, -0.6898730900175366, 0.5616101475751268, 1.0608130901361357, 0.3365113202896197, 0.802895786173727, 1.1807526832244597, 1.4797589854368138, -1.6835543921364118, -2.3973178545282576, -0.07729738106454107, -1.4423464202587457, -0.8575416103465401, -0.39840166643721536, -0.06541299297405546, -0.07624090039277232, -0.24922141663777242, 1.9727778289235816, -0.3232704694600576, -0.6814286088775799, 0.46580194086213295, 0.9803989561322469, -1.4079738707164426, 0.8443446110505288, -1.5775361603642126, -0.4947820803002275, 0.70008140358095, -0.8521409087449835, 0.35206004338908614, 0.11794839018660937, -1.8289443292834922, -0.4425082344438239, -1.220386257042587, -0.23203980086744277, 1.2682405988455958], \"yaxis\": \"y14\"}, {\"line\": {\"color\": \"rgba(128, 128, 128, 1.0)\", \"dash\": \"solid\", \"shape\": \"linear\", \"width\": 1.3}, \"marker\": {\"size\": 2, \"symbol\": \"circle\"}, \"mode\": \"markers\", \"name\": \"D\", \"text\": \"\", \"type\": \"scatter\", \"x\": [-0.5314652877495902, 2.2186474760330563, -0.6389682720126716, 1.3793555469949645, 0.1645065101816152, 0.8429482043939898, -0.020441894851906117, 1.0039693363469748, 0.2644494966560863, -0.6277884709802357, 0.9396227469133503, 0.7169980627028582, 0.23737090856245152, 1.7462968082547403, -0.8154127844004201, -1.5939071468516273, 0.2653426342888696, -2.2057132597745017, 0.18843501983927433, 0.2533201514329437, -0.481776439793337, 1.2604071475703236, 0.03342545347522977, -1.0255820892293614, 1.049403871745054, -0.5449269397249219, 0.6927506838105815, 0.8569045690829772, 0.6960801094805269, 0.41228120735289325, -0.5347954717069701, 0.6525900328951344, -0.9031621695336286, -0.7771738316054332, -0.4608559749506431, -1.873812720261879, 1.451550493126228, -0.3464470009976206, 1.2972655948243323, -1.462934082674206, 1.5889668475082657, -1.1804747958493478, 0.14736945716833635, -0.7217551180817706, 0.486407896985243, 2.5557679354654517, 0.9266858465700915, 1.047813987372427, 0.46411143353768314, -0.7232162319933524, -0.6289775250999133, -1.1645792924981966, 0.75643643351788, -0.8594027664490006, 0.0008668968465360472, -1.3856077357804701, 0.14448886537292585, -1.6025002278390523, 0.9195575608631161, -0.17469686289299635, -1.367049261635498, -0.27590249827233715, -0.9119076275662321, 1.3073348052081717, 0.8198468187216309, 0.6346908590004512, 0.35686053181505784, 0.706366878137112, -2.060526063616883, -0.5532522643764815, -0.04314602830520446, -0.30337006507846476, 1.3711763571046398, 0.4965487424074641, 1.0483377991076952, -0.7306042704368239, -1.767726526012954, -0.22378833249331728, 1.601121309317086, 0.8828103257648692, 0.1826898270480904, -1.5991846579476228, 0.6064089004607497, 0.7304265150271423, -1.0517525399387608, 0.2511415655874058, 1.2509386690441953, -0.5627840069345255, 1.6852116648377633, -0.11024553099954161, -0.7630707594050132, 0.3296679782933773, 1.3684849781430115, 0.27698460569843913, 0.7056148743119981, -0.10728295357837499, -0.3259299468930852, -0.18231346193029901, -1.4556732879652434, -0.6220954124482995], \"xaxis\": \"x15\", \"y\": [0.6778729725043644, 1.8059030764379598, -0.8427894394917019, 0.7028364071414452, 0.825571631036336, 1.2051120547600316, 0.7244139364195797, -1.3559348657071273, 0.308024975632527, 1.5983724409903277, -0.6576379587296303, 0.7993403925019309, -2.053115218099911, 0.2646019343945171, 0.08754753975747707, -1.2427612499539613, 1.4754629908026846, -1.4811321630576677, -0.7594373064233083, -0.12750497178924067, -0.9268168563442297, 0.5974046066257698, -0.24292065362520213, -0.9649714681828205, -0.8750636064485101, 0.9197750708901921, -0.7480168853760317, -0.21328878614093316, -0.07067969844926104, -0.27659078776879303, -0.1539470600069913, -1.4364152652969937, 0.6215680045149821, -0.48656860575540056, 0.5860063525576973, 1.9532791720799327, -0.3104503972645789, -1.3654328722807976, -1.849019483939876, -0.09336559614620331, 0.13796389663084496, -2.3368087222436547, -0.6740237740011111, -0.38813886664316555, -1.9610870166233894, 1.3395529043070529, -1.250301608200872, -0.9509762415784829, 0.4956869652378916, -1.652979492017329, 0.7965335618604886, 0.15634707733563813, -0.19479389896442964, -1.227555406619242, -0.5148957417108884, 0.40242052930592775, -0.6158801987936839, 1.177784819208276, 0.11262827876844117, -0.4843349673116165, 0.2945782550901206, -0.934384920930522, 1.3574266011483518, -0.7294098196699667, 0.7694541209231814, -0.3072129719491864, -0.6898730900175366, 0.5616101475751268, 1.0608130901361357, 0.3365113202896197, 0.802895786173727, 1.1807526832244597, 1.4797589854368138, -1.6835543921364118, -2.3973178545282576, -0.07729738106454107, -1.4423464202587457, -0.8575416103465401, -0.39840166643721536, -0.06541299297405546, -0.07624090039277232, -0.24922141663777242, 1.9727778289235816, -0.3232704694600576, -0.6814286088775799, 0.46580194086213295, 0.9803989561322469, -1.4079738707164426, 0.8443446110505288, -1.5775361603642126, -0.4947820803002275, 0.70008140358095, -0.8521409087449835, 0.35206004338908614, 0.11794839018660937, -1.8289443292834922, -0.4425082344438239, -1.220386257042587, -0.23203980086744277, 1.2682405988455958], \"yaxis\": \"y15\"}, {\"histfunc\": \"count\", \"histnorm\": \"\", \"marker\": {\"color\": \"rgba(128, 0, 128, 1.0)\", \"line\": {\"color\": \"#4D5663\", \"width\": 1.3}}, \"name\": \"D\", \"nbinsx\": 10, \"opacity\": 0.8, \"orientation\": \"v\", \"type\": \"histogram\", \"x\": [0.6778729725043644, 1.8059030764379598, -0.8427894394917019, 0.7028364071414452, 0.825571631036336, 1.2051120547600316, 0.7244139364195797, -1.3559348657071273, 0.308024975632527, 1.5983724409903277, -0.6576379587296303, 0.7993403925019309, -2.053115218099911, 0.2646019343945171, 0.08754753975747707, -1.2427612499539613, 1.4754629908026846, -1.4811321630576677, -0.7594373064233083, -0.12750497178924067, -0.9268168563442297, 0.5974046066257698, -0.24292065362520213, -0.9649714681828205, -0.8750636064485101, 0.9197750708901921, -0.7480168853760317, -0.21328878614093316, -0.07067969844926104, -0.27659078776879303, -0.1539470600069913, -1.4364152652969937, 0.6215680045149821, -0.48656860575540056, 0.5860063525576973, 1.9532791720799327, -0.3104503972645789, -1.3654328722807976, -1.849019483939876, -0.09336559614620331, 0.13796389663084496, -2.3368087222436547, -0.6740237740011111, -0.38813886664316555, -1.9610870166233894, 1.3395529043070529, -1.250301608200872, -0.9509762415784829, 0.4956869652378916, -1.652979492017329, 0.7965335618604886, 0.15634707733563813, -0.19479389896442964, -1.227555406619242, -0.5148957417108884, 0.40242052930592775, -0.6158801987936839, 1.177784819208276, 0.11262827876844117, -0.4843349673116165, 0.2945782550901206, -0.934384920930522, 1.3574266011483518, -0.7294098196699667, 0.7694541209231814, -0.3072129719491864, -0.6898730900175366, 0.5616101475751268, 1.0608130901361357, 0.3365113202896197, 0.802895786173727, 1.1807526832244597, 1.4797589854368138, -1.6835543921364118, -2.3973178545282576, -0.07729738106454107, -1.4423464202587457, -0.8575416103465401, -0.39840166643721536, -0.06541299297405546, -0.07624090039277232, -0.24922141663777242, 1.9727778289235816, -0.3232704694600576, -0.6814286088775799, 0.46580194086213295, 0.9803989561322469, -1.4079738707164426, 0.8443446110505288, -1.5775361603642126, -0.4947820803002275, 0.70008140358095, -0.8521409087449835, 0.35206004338908614, 0.11794839018660937, -1.8289443292834922, -0.4425082344438239, -1.220386257042587, -0.23203980086744277, 1.2682405988455958], \"xaxis\": \"x16\", \"yaxis\": \"y16\"}],                        {\"bargap\": 0.02, \"legend\": {\"bgcolor\": \"#F5F6F9\", \"font\": {\"color\": \"#4D5663\"}}, \"paper_bgcolor\": \"#F5F6F9\", \"plot_bgcolor\": \"#F5F6F9\", \"showlegend\": false, \"template\": {\"data\": {\"bar\": [{\"error_x\": {\"color\": \"#2a3f5f\"}, \"error_y\": {\"color\": \"#2a3f5f\"}, \"marker\": {\"line\": {\"color\": \"#E5ECF6\", \"width\": 0.5}}, \"type\": \"bar\"}], \"barpolar\": [{\"marker\": {\"line\": {\"color\": \"#E5ECF6\", \"width\": 0.5}}, \"type\": \"barpolar\"}], \"carpet\": [{\"aaxis\": {\"endlinecolor\": \"#2a3f5f\", \"gridcolor\": \"white\", \"linecolor\": \"white\", \"minorgridcolor\": \"white\", \"startlinecolor\": \"#2a3f5f\"}, \"baxis\": {\"endlinecolor\": \"#2a3f5f\", \"gridcolor\": \"white\", \"linecolor\": \"white\", \"minorgridcolor\": \"white\", \"startlinecolor\": \"#2a3f5f\"}, \"type\": \"carpet\"}], \"choropleth\": [{\"colorbar\": {\"outlinewidth\": 0, \"ticks\": \"\"}, \"type\": \"choropleth\"}], \"contour\": [{\"colorbar\": {\"outlinewidth\": 0, \"ticks\": \"\"}, \"colorscale\": [[0.0, \"#0d0887\"], [0.1111111111111111, \"#46039f\"], [0.2222222222222222, \"#7201a8\"], [0.3333333333333333, \"#9c179e\"], [0.4444444444444444, \"#bd3786\"], [0.5555555555555556, \"#d8576b\"], [0.6666666666666666, \"#ed7953\"], [0.7777777777777778, \"#fb9f3a\"], [0.8888888888888888, \"#fdca26\"], [1.0, \"#f0f921\"]], \"type\": \"contour\"}], \"contourcarpet\": [{\"colorbar\": {\"outlinewidth\": 0, \"ticks\": \"\"}, \"type\": \"contourcarpet\"}], \"heatmap\": [{\"colorbar\": {\"outlinewidth\": 0, \"ticks\": \"\"}, \"colorscale\": [[0.0, \"#0d0887\"], [0.1111111111111111, \"#46039f\"], [0.2222222222222222, \"#7201a8\"], [0.3333333333333333, \"#9c179e\"], [0.4444444444444444, \"#bd3786\"], [0.5555555555555556, \"#d8576b\"], [0.6666666666666666, \"#ed7953\"], [0.7777777777777778, \"#fb9f3a\"], [0.8888888888888888, \"#fdca26\"], [1.0, \"#f0f921\"]], \"type\": \"heatmap\"}], \"heatmapgl\": [{\"colorbar\": {\"outlinewidth\": 0, \"ticks\": \"\"}, \"colorscale\": [[0.0, \"#0d0887\"], [0.1111111111111111, \"#46039f\"], [0.2222222222222222, \"#7201a8\"], [0.3333333333333333, \"#9c179e\"], [0.4444444444444444, \"#bd3786\"], [0.5555555555555556, \"#d8576b\"], [0.6666666666666666, \"#ed7953\"], [0.7777777777777778, \"#fb9f3a\"], [0.8888888888888888, \"#fdca26\"], [1.0, \"#f0f921\"]], \"type\": \"heatmapgl\"}], \"histogram\": [{\"marker\": {\"colorbar\": {\"outlinewidth\": 0, \"ticks\": \"\"}}, \"type\": \"histogram\"}], \"histogram2d\": [{\"colorbar\": {\"outlinewidth\": 0, \"ticks\": \"\"}, \"colorscale\": [[0.0, \"#0d0887\"], [0.1111111111111111, \"#46039f\"], [0.2222222222222222, \"#7201a8\"], [0.3333333333333333, \"#9c179e\"], [0.4444444444444444, \"#bd3786\"], [0.5555555555555556, \"#d8576b\"], [0.6666666666666666, \"#ed7953\"], [0.7777777777777778, \"#fb9f3a\"], [0.8888888888888888, \"#fdca26\"], [1.0, \"#f0f921\"]], \"type\": \"histogram2d\"}], \"histogram2dcontour\": [{\"colorbar\": {\"outlinewidth\": 0, \"ticks\": \"\"}, \"colorscale\": [[0.0, \"#0d0887\"], [0.1111111111111111, \"#46039f\"], [0.2222222222222222, \"#7201a8\"], [0.3333333333333333, \"#9c179e\"], [0.4444444444444444, \"#bd3786\"], [0.5555555555555556, \"#d8576b\"], [0.6666666666666666, \"#ed7953\"], [0.7777777777777778, \"#fb9f3a\"], [0.8888888888888888, \"#fdca26\"], [1.0, \"#f0f921\"]], \"type\": \"histogram2dcontour\"}], \"mesh3d\": [{\"colorbar\": {\"outlinewidth\": 0, \"ticks\": \"\"}, \"type\": \"mesh3d\"}], \"parcoords\": [{\"line\": {\"colorbar\": {\"outlinewidth\": 0, \"ticks\": \"\"}}, \"type\": \"parcoords\"}], \"pie\": [{\"automargin\": true, \"type\": \"pie\"}], \"scatter\": [{\"marker\": {\"colorbar\": {\"outlinewidth\": 0, \"ticks\": \"\"}}, \"type\": \"scatter\"}], \"scatter3d\": [{\"line\": {\"colorbar\": {\"outlinewidth\": 0, \"ticks\": \"\"}}, \"marker\": {\"colorbar\": {\"outlinewidth\": 0, \"ticks\": \"\"}}, \"type\": \"scatter3d\"}], \"scattercarpet\": [{\"marker\": {\"colorbar\": {\"outlinewidth\": 0, \"ticks\": \"\"}}, \"type\": \"scattercarpet\"}], \"scattergeo\": [{\"marker\": {\"colorbar\": {\"outlinewidth\": 0, \"ticks\": \"\"}}, \"type\": \"scattergeo\"}], \"scattergl\": [{\"marker\": {\"colorbar\": {\"outlinewidth\": 0, \"ticks\": \"\"}}, \"type\": \"scattergl\"}], \"scattermapbox\": [{\"marker\": {\"colorbar\": {\"outlinewidth\": 0, \"ticks\": \"\"}}, \"type\": \"scattermapbox\"}], \"scatterpolar\": [{\"marker\": {\"colorbar\": {\"outlinewidth\": 0, \"ticks\": \"\"}}, \"type\": \"scatterpolar\"}], \"scatterpolargl\": [{\"marker\": {\"colorbar\": {\"outlinewidth\": 0, \"ticks\": \"\"}}, \"type\": \"scatterpolargl\"}], \"scatterternary\": [{\"marker\": {\"colorbar\": {\"outlinewidth\": 0, \"ticks\": \"\"}}, \"type\": \"scatterternary\"}], \"surface\": [{\"colorbar\": {\"outlinewidth\": 0, \"ticks\": \"\"}, \"colorscale\": [[0.0, \"#0d0887\"], [0.1111111111111111, \"#46039f\"], [0.2222222222222222, \"#7201a8\"], [0.3333333333333333, \"#9c179e\"], [0.4444444444444444, \"#bd3786\"], [0.5555555555555556, \"#d8576b\"], [0.6666666666666666, \"#ed7953\"], [0.7777777777777778, \"#fb9f3a\"], [0.8888888888888888, \"#fdca26\"], [1.0, \"#f0f921\"]], \"type\": \"surface\"}], \"table\": [{\"cells\": {\"fill\": {\"color\": \"#EBF0F8\"}, \"line\": {\"color\": \"white\"}}, \"header\": {\"fill\": {\"color\": \"#C8D4E3\"}, \"line\": {\"color\": \"white\"}}, \"type\": \"table\"}]}, \"layout\": {\"annotationdefaults\": {\"arrowcolor\": \"#2a3f5f\", \"arrowhead\": 0, \"arrowwidth\": 1}, \"coloraxis\": {\"colorbar\": {\"outlinewidth\": 0, \"ticks\": \"\"}}, \"colorscale\": {\"diverging\": [[0, \"#8e0152\"], [0.1, \"#c51b7d\"], [0.2, \"#de77ae\"], [0.3, \"#f1b6da\"], [0.4, \"#fde0ef\"], [0.5, \"#f7f7f7\"], [0.6, \"#e6f5d0\"], [0.7, \"#b8e186\"], [0.8, \"#7fbc41\"], [0.9, \"#4d9221\"], [1, \"#276419\"]], \"sequential\": [[0.0, \"#0d0887\"], [0.1111111111111111, \"#46039f\"], [0.2222222222222222, \"#7201a8\"], [0.3333333333333333, \"#9c179e\"], [0.4444444444444444, \"#bd3786\"], [0.5555555555555556, \"#d8576b\"], [0.6666666666666666, \"#ed7953\"], [0.7777777777777778, \"#fb9f3a\"], [0.8888888888888888, \"#fdca26\"], [1.0, \"#f0f921\"]], \"sequentialminus\": [[0.0, \"#0d0887\"], [0.1111111111111111, \"#46039f\"], [0.2222222222222222, \"#7201a8\"], [0.3333333333333333, \"#9c179e\"], [0.4444444444444444, \"#bd3786\"], [0.5555555555555556, \"#d8576b\"], [0.6666666666666666, \"#ed7953\"], [0.7777777777777778, \"#fb9f3a\"], [0.8888888888888888, \"#fdca26\"], [1.0, \"#f0f921\"]]}, \"colorway\": [\"#636efa\", \"#EF553B\", \"#00cc96\", \"#ab63fa\", \"#FFA15A\", \"#19d3f3\", \"#FF6692\", \"#B6E880\", \"#FF97FF\", \"#FECB52\"], \"font\": {\"color\": \"#2a3f5f\"}, \"geo\": {\"bgcolor\": \"white\", \"lakecolor\": \"white\", \"landcolor\": \"#E5ECF6\", \"showlakes\": true, \"showland\": true, \"subunitcolor\": \"white\"}, \"hoverlabel\": {\"align\": \"left\"}, \"hovermode\": \"closest\", \"mapbox\": {\"style\": \"light\"}, \"paper_bgcolor\": \"white\", \"plot_bgcolor\": \"#E5ECF6\", \"polar\": {\"angularaxis\": {\"gridcolor\": \"white\", \"linecolor\": \"white\", \"ticks\": \"\"}, \"bgcolor\": \"#E5ECF6\", \"radialaxis\": {\"gridcolor\": \"white\", \"linecolor\": \"white\", \"ticks\": \"\"}}, \"scene\": {\"xaxis\": {\"backgroundcolor\": \"#E5ECF6\", \"gridcolor\": \"white\", \"gridwidth\": 2, \"linecolor\": \"white\", \"showbackground\": true, \"ticks\": \"\", \"zerolinecolor\": \"white\"}, \"yaxis\": {\"backgroundcolor\": \"#E5ECF6\", \"gridcolor\": \"white\", \"gridwidth\": 2, \"linecolor\": \"white\", \"showbackground\": true, \"ticks\": \"\", \"zerolinecolor\": \"white\"}, \"zaxis\": {\"backgroundcolor\": \"#E5ECF6\", \"gridcolor\": \"white\", \"gridwidth\": 2, \"linecolor\": \"white\", \"showbackground\": true, \"ticks\": \"\", \"zerolinecolor\": \"white\"}}, \"shapedefaults\": {\"line\": {\"color\": \"#2a3f5f\"}}, \"ternary\": {\"aaxis\": {\"gridcolor\": \"white\", \"linecolor\": \"white\", \"ticks\": \"\"}, \"baxis\": {\"gridcolor\": \"white\", \"linecolor\": \"white\", \"ticks\": \"\"}, \"bgcolor\": \"#E5ECF6\", \"caxis\": {\"gridcolor\": \"white\", \"linecolor\": \"white\", \"ticks\": \"\"}}, \"title\": {\"x\": 0.05}, \"xaxis\": {\"automargin\": true, \"gridcolor\": \"white\", \"linecolor\": \"white\", \"ticks\": \"\", \"title\": {\"standoff\": 15}, \"zerolinecolor\": \"white\", \"zerolinewidth\": 2}, \"yaxis\": {\"automargin\": true, \"gridcolor\": \"white\", \"linecolor\": \"white\", \"ticks\": \"\", \"title\": {\"standoff\": 15}, \"zerolinecolor\": \"white\", \"zerolinewidth\": 2}}}, \"title\": {\"font\": {\"color\": \"#4D5663\"}}, \"xaxis\": {\"anchor\": \"y\", \"domain\": [0.0, 0.2125], \"gridcolor\": \"#E1E5ED\", \"showgrid\": false, \"tickfont\": {\"color\": \"#4D5663\"}, \"title\": {\"font\": {\"color\": \"#4D5663\"}, \"text\": \"\"}, \"zerolinecolor\": \"#E1E5ED\"}, \"xaxis10\": {\"anchor\": \"y10\", \"domain\": [0.2625, 0.475], \"gridcolor\": \"#E1E5ED\", \"showgrid\": false, \"tickfont\": {\"color\": \"#4D5663\"}, \"title\": {\"font\": {\"color\": \"#4D5663\"}, \"text\": \"\"}, \"zerolinecolor\": \"#E1E5ED\"}, \"xaxis11\": {\"anchor\": \"y11\", \"domain\": [0.525, 0.7375], \"gridcolor\": \"#E1E5ED\", \"showgrid\": false, \"tickfont\": {\"color\": \"#4D5663\"}, \"title\": {\"font\": {\"color\": \"#4D5663\"}, \"text\": \"\"}, \"zerolinecolor\": \"#E1E5ED\"}, \"xaxis12\": {\"anchor\": \"y12\", \"domain\": [0.7875, 1.0], \"gridcolor\": \"#E1E5ED\", \"showgrid\": false, \"tickfont\": {\"color\": \"#4D5663\"}, \"title\": {\"font\": {\"color\": \"#4D5663\"}, \"text\": \"\"}, \"zerolinecolor\": \"#E1E5ED\"}, \"xaxis13\": {\"anchor\": \"y13\", \"domain\": [0.0, 0.2125], \"gridcolor\": \"#E1E5ED\", \"showgrid\": false, \"tickfont\": {\"color\": \"#4D5663\"}, \"title\": {\"font\": {\"color\": \"#4D5663\"}, \"text\": \"\"}, \"zerolinecolor\": \"#E1E5ED\"}, \"xaxis14\": {\"anchor\": \"y14\", \"domain\": [0.2625, 0.475], \"gridcolor\": \"#E1E5ED\", \"showgrid\": false, \"tickfont\": {\"color\": \"#4D5663\"}, \"title\": {\"font\": {\"color\": \"#4D5663\"}, \"text\": \"\"}, \"zerolinecolor\": \"#E1E5ED\"}, \"xaxis15\": {\"anchor\": \"y15\", \"domain\": [0.525, 0.7375], \"gridcolor\": \"#E1E5ED\", \"showgrid\": false, \"tickfont\": {\"color\": \"#4D5663\"}, \"title\": {\"font\": {\"color\": \"#4D5663\"}, \"text\": \"\"}, \"zerolinecolor\": \"#E1E5ED\"}, \"xaxis16\": {\"anchor\": \"y16\", \"domain\": [0.7875, 1.0], \"gridcolor\": \"#E1E5ED\", \"showgrid\": false, \"tickfont\": {\"color\": \"#4D5663\"}, \"title\": {\"font\": {\"color\": \"#4D5663\"}, \"text\": \"\"}, \"zerolinecolor\": \"#E1E5ED\"}, \"xaxis2\": {\"anchor\": \"y2\", \"domain\": [0.2625, 0.475], \"gridcolor\": \"#E1E5ED\", \"showgrid\": false, \"tickfont\": {\"color\": \"#4D5663\"}, \"title\": {\"font\": {\"color\": \"#4D5663\"}, \"text\": \"\"}, \"zerolinecolor\": \"#E1E5ED\"}, \"xaxis3\": {\"anchor\": \"y3\", \"domain\": [0.525, 0.7375], \"gridcolor\": \"#E1E5ED\", \"showgrid\": false, \"tickfont\": {\"color\": \"#4D5663\"}, \"title\": {\"font\": {\"color\": \"#4D5663\"}, \"text\": \"\"}, \"zerolinecolor\": \"#E1E5ED\"}, \"xaxis4\": {\"anchor\": \"y4\", \"domain\": [0.7875, 1.0], \"gridcolor\": \"#E1E5ED\", \"showgrid\": false, \"tickfont\": {\"color\": \"#4D5663\"}, \"title\": {\"font\": {\"color\": \"#4D5663\"}, \"text\": \"\"}, \"zerolinecolor\": \"#E1E5ED\"}, \"xaxis5\": {\"anchor\": \"y5\", \"domain\": [0.0, 0.2125], \"gridcolor\": \"#E1E5ED\", \"showgrid\": false, \"tickfont\": {\"color\": \"#4D5663\"}, \"title\": {\"font\": {\"color\": \"#4D5663\"}, \"text\": \"\"}, \"zerolinecolor\": \"#E1E5ED\"}, \"xaxis6\": {\"anchor\": \"y6\", \"domain\": [0.2625, 0.475], \"gridcolor\": \"#E1E5ED\", \"showgrid\": false, \"tickfont\": {\"color\": \"#4D5663\"}, \"title\": {\"font\": {\"color\": \"#4D5663\"}, \"text\": \"\"}, \"zerolinecolor\": \"#E1E5ED\"}, \"xaxis7\": {\"anchor\": \"y7\", \"domain\": [0.525, 0.7375], \"gridcolor\": \"#E1E5ED\", \"showgrid\": false, \"tickfont\": {\"color\": \"#4D5663\"}, \"title\": {\"font\": {\"color\": \"#4D5663\"}, \"text\": \"\"}, \"zerolinecolor\": \"#E1E5ED\"}, \"xaxis8\": {\"anchor\": \"y8\", \"domain\": [0.7875, 1.0], \"gridcolor\": \"#E1E5ED\", \"showgrid\": false, \"tickfont\": {\"color\": \"#4D5663\"}, \"title\": {\"font\": {\"color\": \"#4D5663\"}, \"text\": \"\"}, \"zerolinecolor\": \"#E1E5ED\"}, \"xaxis9\": {\"anchor\": \"y9\", \"domain\": [0.0, 0.2125], \"gridcolor\": \"#E1E5ED\", \"showgrid\": false, \"tickfont\": {\"color\": \"#4D5663\"}, \"title\": {\"font\": {\"color\": \"#4D5663\"}, \"text\": \"\"}, \"zerolinecolor\": \"#E1E5ED\"}, \"yaxis\": {\"anchor\": \"x\", \"domain\": [0.8025, 1.0], \"gridcolor\": \"#E1E5ED\", \"showgrid\": false, \"tickfont\": {\"color\": \"#4D5663\"}, \"title\": {\"font\": {\"color\": \"#4D5663\"}, \"text\": \"\"}, \"zerolinecolor\": \"#E1E5ED\"}, \"yaxis10\": {\"anchor\": \"x10\", \"domain\": [0.2675, 0.465], \"gridcolor\": \"#E1E5ED\", \"showgrid\": false, \"tickfont\": {\"color\": \"#4D5663\"}, \"title\": {\"font\": {\"color\": \"#4D5663\"}, \"text\": \"\"}, \"zerolinecolor\": \"#E1E5ED\"}, \"yaxis11\": {\"anchor\": \"x11\", \"domain\": [0.2675, 0.465], \"gridcolor\": \"#E1E5ED\", \"showgrid\": false, \"tickfont\": {\"color\": \"#4D5663\"}, \"title\": {\"font\": {\"color\": \"#4D5663\"}, \"text\": \"\"}, \"zerolinecolor\": \"#E1E5ED\"}, \"yaxis12\": {\"anchor\": \"x12\", \"domain\": [0.2675, 0.465], \"gridcolor\": \"#E1E5ED\", \"showgrid\": false, \"tickfont\": {\"color\": \"#4D5663\"}, \"title\": {\"font\": {\"color\": \"#4D5663\"}, \"text\": \"\"}, \"zerolinecolor\": \"#E1E5ED\"}, \"yaxis13\": {\"anchor\": \"x13\", \"domain\": [0.0, 0.1975], \"gridcolor\": \"#E1E5ED\", \"showgrid\": false, \"tickfont\": {\"color\": \"#4D5663\"}, \"title\": {\"font\": {\"color\": \"#4D5663\"}, \"text\": \"\"}, \"zerolinecolor\": \"#E1E5ED\"}, \"yaxis14\": {\"anchor\": \"x14\", \"domain\": [0.0, 0.1975], \"gridcolor\": \"#E1E5ED\", \"showgrid\": false, \"tickfont\": {\"color\": \"#4D5663\"}, \"title\": {\"font\": {\"color\": \"#4D5663\"}, \"text\": \"\"}, \"zerolinecolor\": \"#E1E5ED\"}, \"yaxis15\": {\"anchor\": \"x15\", \"domain\": [0.0, 0.1975], \"gridcolor\": \"#E1E5ED\", \"showgrid\": false, \"tickfont\": {\"color\": \"#4D5663\"}, \"title\": {\"font\": {\"color\": \"#4D5663\"}, \"text\": \"\"}, \"zerolinecolor\": \"#E1E5ED\"}, \"yaxis16\": {\"anchor\": \"x16\", \"domain\": [0.0, 0.1975], \"gridcolor\": \"#E1E5ED\", \"showgrid\": false, \"tickfont\": {\"color\": \"#4D5663\"}, \"title\": {\"font\": {\"color\": \"#4D5663\"}, \"text\": \"\"}, \"zerolinecolor\": \"#E1E5ED\"}, \"yaxis2\": {\"anchor\": \"x2\", \"domain\": [0.8025, 1.0], \"gridcolor\": \"#E1E5ED\", \"showgrid\": false, \"tickfont\": {\"color\": \"#4D5663\"}, \"title\": {\"font\": {\"color\": \"#4D5663\"}, \"text\": \"\"}, \"zerolinecolor\": \"#E1E5ED\"}, \"yaxis3\": {\"anchor\": \"x3\", \"domain\": [0.8025, 1.0], \"gridcolor\": \"#E1E5ED\", \"showgrid\": false, \"tickfont\": {\"color\": \"#4D5663\"}, \"title\": {\"font\": {\"color\": \"#4D5663\"}, \"text\": \"\"}, \"zerolinecolor\": \"#E1E5ED\"}, \"yaxis4\": {\"anchor\": \"x4\", \"domain\": [0.8025, 1.0], \"gridcolor\": \"#E1E5ED\", \"showgrid\": false, \"tickfont\": {\"color\": \"#4D5663\"}, \"title\": {\"font\": {\"color\": \"#4D5663\"}, \"text\": \"\"}, \"zerolinecolor\": \"#E1E5ED\"}, \"yaxis5\": {\"anchor\": \"x5\", \"domain\": [0.535, 0.7325], \"gridcolor\": \"#E1E5ED\", \"showgrid\": false, \"tickfont\": {\"color\": \"#4D5663\"}, \"title\": {\"font\": {\"color\": \"#4D5663\"}, \"text\": \"\"}, \"zerolinecolor\": \"#E1E5ED\"}, \"yaxis6\": {\"anchor\": \"x6\", \"domain\": [0.535, 0.7325], \"gridcolor\": \"#E1E5ED\", \"showgrid\": false, \"tickfont\": {\"color\": \"#4D5663\"}, \"title\": {\"font\": {\"color\": \"#4D5663\"}, \"text\": \"\"}, \"zerolinecolor\": \"#E1E5ED\"}, \"yaxis7\": {\"anchor\": \"x7\", \"domain\": [0.535, 0.7325], \"gridcolor\": \"#E1E5ED\", \"showgrid\": false, \"tickfont\": {\"color\": \"#4D5663\"}, \"title\": {\"font\": {\"color\": \"#4D5663\"}, \"text\": \"\"}, \"zerolinecolor\": \"#E1E5ED\"}, \"yaxis8\": {\"anchor\": \"x8\", \"domain\": [0.535, 0.7325], \"gridcolor\": \"#E1E5ED\", \"showgrid\": false, \"tickfont\": {\"color\": \"#4D5663\"}, \"title\": {\"font\": {\"color\": \"#4D5663\"}, \"text\": \"\"}, \"zerolinecolor\": \"#E1E5ED\"}, \"yaxis9\": {\"anchor\": \"x9\", \"domain\": [0.2675, 0.465], \"gridcolor\": \"#E1E5ED\", \"showgrid\": false, \"tickfont\": {\"color\": \"#4D5663\"}, \"title\": {\"font\": {\"color\": \"#4D5663\"}, \"text\": \"\"}, \"zerolinecolor\": \"#E1E5ED\"}},                        {\"showLink\": true, \"linkText\": \"Export to plot.ly\", \"plotlyServerURL\": \"https://plot.ly\", \"responsive\": true}                    ).then(function(){\n",
       "                            \n",
       "var gd = document.getElementById('9d3e8160-4d9f-49a8-8d66-e8862361a6c7');\n",
       "var x = new MutationObserver(function (mutations, observer) {{\n",
       "        var display = window.getComputedStyle(gd).display;\n",
       "        if (!display || display === 'none') {{\n",
       "            console.log([gd, 'removed!']);\n",
       "            Plotly.purge(gd);\n",
       "            observer.disconnect();\n",
       "        }}\n",
       "}});\n",
       "\n",
       "// Listen for the removal of the full notebook cells\n",
       "var notebookContainer = gd.closest('#notebook-container');\n",
       "if (notebookContainer) {{\n",
       "    x.observe(notebookContainer, {childList: true});\n",
       "}}\n",
       "\n",
       "// Listen for the clearing of the current output cell\n",
       "var outputEl = gd.closest('.output');\n",
       "if (outputEl) {{\n",
       "    x.observe(outputEl, {childList: true});\n",
       "}}\n",
       "\n",
       "                        })                };                });            </script>        </div>"
      ]
     },
     "metadata": {},
     "output_type": "display_data"
    }
   ],
   "source": [
    "df.scatter_matrix()"
   ]
  },
  {
   "cell_type": "code",
   "execution_count": null,
   "metadata": {},
   "outputs": [],
   "source": []
  }
 ],
 "metadata": {
  "kernelspec": {
   "display_name": "Python 3",
   "language": "python",
   "name": "python3"
  },
  "language_info": {
   "codemirror_mode": {
    "name": "ipython",
    "version": 3
   },
   "file_extension": ".py",
   "mimetype": "text/x-python",
   "name": "python",
   "nbconvert_exporter": "python",
   "pygments_lexer": "ipython3",
   "version": "3.7.4"
  }
 },
 "nbformat": 4,
 "nbformat_minor": 2
}
